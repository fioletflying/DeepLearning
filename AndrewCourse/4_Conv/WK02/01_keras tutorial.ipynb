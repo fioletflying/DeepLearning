{
 "cells": [
  {
   "cell_type": "markdown",
   "metadata": {},
   "source": [
    "## keras 构建一个简单的模型\n",
    "\n",
    "### 需要导入的库以及模型介绍\n",
    "\n",
    "这里的模型用来检测是否为你朋友是否为笑脸，也就是Happy.\n",
    "![](imgs/1.jpg)\n",
    "\n",
    "该模型需要导入的库如下："
   ]
  },
  {
   "cell_type": "code",
   "execution_count": 1,
   "metadata": {},
   "outputs": [
    {
     "name": "stderr",
     "output_type": "stream",
     "text": [
      "Using TensorFlow backend.\n"
     ]
    }
   ],
   "source": [
    "import numpy as np\n",
    "from keras import layers\n",
    "from keras.layers import Input, Dense, Activation, ZeroPadding2D, BatchNormalization, Flatten, Conv2D\n",
    "from keras.layers import AveragePooling2D, MaxPooling2D, Dropout, GlobalMaxPooling2D, GlobalAveragePooling2D\n",
    "from keras.models import Model\n",
    "from keras.preprocessing import image\n",
    "from keras.utils import layer_utils\n",
    "from keras.utils.data_utils import get_file\n",
    "from keras.applications.imagenet_utils import preprocess_input\n",
    "import pydot\n",
    "from IPython.display import SVG\n",
    "from keras.utils.vis_utils import model_to_dot\n",
    "from keras.utils import plot_model\n",
    "from kt_utils import *\n",
    "\n",
    "import keras.backend as K\n",
    "K.set_image_data_format('channels_last')\n",
    "import matplotlib.pyplot as plt\n",
    "from matplotlib.pyplot import imshow\n",
    "\n",
    "%matplotlib inline"
   ]
  },
  {
   "cell_type": "code",
   "execution_count": 4,
   "metadata": {},
   "outputs": [
    {
     "name": "stdout",
     "output_type": "stream",
     "text": [
      "number of training examples = 600\n",
      "number of test examples = 150\n",
      "X_train shape: (600, 64, 64, 3)\n",
      "Y_train shape: (600, 1)\n",
      "X_test shape: (150, 64, 64, 3)\n",
      "Y_test shape: (150, 1)\n"
     ]
    }
   ],
   "source": [
    "X_train_orig, Y_train_orig, X_test_orig, Y_test_orig, classes = load_dataset()\n",
    "\n",
    "# 归一化\n",
    "X_train = X_train_orig/255.\n",
    "X_test = X_test_orig/255.\n",
    "\n",
    "# reshape\n",
    "Y_train = Y_train_orig.T\n",
    "Y_test = Y_test_orig.T\n",
    "\n",
    "print (\"number of training examples = \" + str(X_train.shape[0]))\n",
    "print (\"number of test examples = \" + str(X_test.shape[0]))\n",
    "print (\"X_train shape: \" + str(X_train.shape))\n",
    "print (\"Y_train shape: \" + str(Y_train.shape))\n",
    "print (\"X_test shape: \" + str(X_test.shape))\n",
    "print (\"Y_test shape: \" + str(Y_test.shape))"
   ]
  },
  {
   "cell_type": "markdown",
   "metadata": {},
   "source": [
    "### 使用keras构建模型的过程\n",
    "\n",
    "#### 构建一个model\n",
    "\n",
    "利用keras可以快速的实现模型的构建，我们来看案例：\n",
    "\n",
    "下面的案例中发现，我们很轻松就定义好了一个模型，不像tensorflow 那样还要考虑各种变量，这里只要一个变量`X`，这个变量一直在随着网络的深入不断的传递。\n"
   ]
  },
  {
   "cell_type": "code",
   "execution_count": 5,
   "metadata": {},
   "outputs": [],
   "source": [
    "def model(input_shape):\n",
    "    \n",
    "    # 创建一个placehodler 的张量的输入集\n",
    "    X_input = Input(input_shape)\n",
    "    \n",
    "    # 对图片进行padding\n",
    "    X = ZeroPadding2D((3,3))(X_input)\n",
    "    \n",
    "    # 卷积运算：CONV->BN->Relu\n",
    "    X = Conv2D(32,(7,7),strides=(1,1),name='conv0')(X)\n",
    "    X = BatchNormalization(axis=3,name='bn0')(X)\n",
    "    X = Activation('relu')(X)\n",
    "    \n",
    "    # maxpooling\n",
    "    X = MaxPooling2D((2,2),name='max_pool')(X)\n",
    "    \n",
    "    # 拉伸成1D + 全连接层\n",
    "    X = Flatten()(X)\n",
    "    X = Dense(1,activation='sigmoid',name='fc')(X)\n",
    "    \n",
    "    # 创建一个模型，keras会对模型进行初始化\n",
    "    model = Model(inputs=X_input,outputs=X,name=\"HappyModel\")"
   ]
  },
  {
   "cell_type": "code",
   "execution_count": 16,
   "metadata": {},
   "outputs": [],
   "source": [
    "def HappyModel(input_shape):\n",
    "    \n",
    "    # 创建一个placehodler 的张量的输入集\n",
    "    X_input = Input(input_shape)\n",
    "    \n",
    "    # 对图片进行padding\n",
    "    X = ZeroPadding2D((3,3))(X_input)\n",
    "    \n",
    "    # 卷积运算：CONV->BN->Relu\n",
    "    X = Conv2D(32,(7,7),strides=(1,1),name='conv0')(X)\n",
    "    X = BatchNormalization(axis=3,name='bn0')(X)\n",
    "    X = Activation('relu')(X)\n",
    "    \n",
    "    # maxpooling\n",
    "    X = MaxPooling2D((2,2),name='max_pool')(X)\n",
    "    \n",
    "    # 拉伸成1D + 全连接层\n",
    "    X = Flatten()(X)\n",
    "    X = Dense(1,activation='sigmoid',name='fc')(X)\n",
    "    \n",
    "    # 创建一个模型，keras会对模型进行初始化\n",
    "    model = Model(inputs=X_input,outputs=X,name=\"HappyModel\")\n",
    "    \n",
    "    return model"
   ]
  },
  {
   "cell_type": "markdown",
   "metadata": {},
   "source": [
    "#### 训练模型与测试\n",
    "\n",
    "上面的只是构建了一个模型，我们还要几个重要的过程需要完善。\n",
    "从上面我们可以认为该模型的前向过程我们都定义完成了，下面我需要做的就是选择优化函数，定义损失函数，然后就是开始训练模型。在keras这里都是非常简单的。  \n",
    "下面我们重新理清楚整个流程：\n",
    "- 创建模型，如上一小节\n",
    "- 编译模型：也就是定义损失函数与优化器\n",
    "    - `model.compile(optimizer = \"...\", loss = \"...\", metrics = [\"accuracy\"]) `\n",
    "- 训练模型：需要导入数据集\n",
    "    - `model.fit(x = ..., y = ..., epochs = ..., batch_size = ...) `\n",
    "- 测试模型\n",
    "    - model.evaluate(x = ..., y = ...)\n",
    " "
   ]
  },
  {
   "cell_type": "code",
   "execution_count": 18,
   "metadata": {},
   "outputs": [],
   "source": [
    "# 第一步： 创建模型\n",
    "happyModel = HappyModel(X_train.shape[1:])"
   ]
  },
  {
   "cell_type": "code",
   "execution_count": 20,
   "metadata": {},
   "outputs": [],
   "source": [
    "# 第二步：编译模型\n",
    "happyModel.compile(optimizer = \"Adam\",   # 选择优化器\n",
    "                   loss = \"binary_crossentropy\",   #选择损失函数\n",
    "                   metrics = [\"acc\"])  # 模型评估"
   ]
  },
  {
   "cell_type": "code",
   "execution_count": 21,
   "metadata": {},
   "outputs": [
    {
     "name": "stdout",
     "output_type": "stream",
     "text": [
      "Epoch 1/10\n",
      "600/600 [==============================] - 16s 27ms/step - loss: 2.3883 - acc: 0.5933\n",
      "Epoch 2/10\n",
      "600/600 [==============================] - 15s 25ms/step - loss: 0.4891 - acc: 0.8100\n",
      "Epoch 3/10\n",
      "600/600 [==============================] - 15s 25ms/step - loss: 0.2149 - acc: 0.9100\n",
      "Epoch 4/10\n",
      "600/600 [==============================] - 16s 26ms/step - loss: 0.1417 - acc: 0.9483\n",
      "Epoch 5/10\n",
      "600/600 [==============================] - 16s 26ms/step - loss: 0.1092 - acc: 0.9567\n",
      "Epoch 6/10\n",
      "600/600 [==============================] - 16s 27ms/step - loss: 0.1232 - acc: 0.9483\n",
      "Epoch 7/10\n",
      "600/600 [==============================] - 15s 26ms/step - loss: 0.1065 - acc: 0.9650\n",
      "Epoch 8/10\n",
      "600/600 [==============================] - 17s 28ms/step - loss: 0.0954 - acc: 0.9600\n",
      "Epoch 9/10\n",
      "600/600 [==============================] - 16s 27ms/step - loss: 0.0739 - acc: 0.9750\n",
      "Epoch 10/10\n",
      "600/600 [==============================] - 17s 28ms/step - loss: 0.0514 - acc: 0.9900\n"
     ]
    },
    {
     "data": {
      "text/plain": [
       "<keras.callbacks.History at 0x20f6d5db710>"
      ]
     },
     "execution_count": 21,
     "metadata": {},
     "output_type": "execute_result"
    }
   ],
   "source": [
    "# 第三步：训练模型\n",
    "happyModel.fit(x=X_train,y=Y_train, # 数据集\n",
    "               epochs=10, # 迭代的步数\n",
    "               batch_size=32) # mini-batch"
   ]
  },
  {
   "cell_type": "code",
   "execution_count": 23,
   "metadata": {},
   "outputs": [
    {
     "name": "stdout",
     "output_type": "stream",
     "text": [
      "150/150 [==============================] - 1s 9ms/step\n",
      "--------------------\n",
      "Loss = 0.16578867236773173\n",
      "Test Accuracy = 0.940000003973643\n"
     ]
    }
   ],
   "source": [
    "# 第四步：测试模型精度\n",
    "preds = happyModel.evaluate(X_test, Y_test)\n",
    "print(\"--------------------\")\n",
    "print (\"Loss = \" + str(preds[0]))\n",
    "print (\"Test Accuracy = \" + str(preds[1]))"
   ]
  },
  {
   "cell_type": "markdown",
   "metadata": {},
   "source": [
    "### 测试实际的图片\n",
    "\n",
    "使用API函数来了测试实际的图片：\n",
    "- `predict(x)`\n",
    "- 需要注意的时候这里的X是需要经过处理的\n",
    "    - keras.preprocessing.image 导入图片\n",
    "    - image.img_to_array 将图片改成相应的shape\n",
    "    - np.expand_dims() 扩展成矩阵的形式\n",
    "    - preprocess_input 处理成keras标准的输入格式\n",
    "    "
   ]
  },
  {
   "cell_type": "code",
   "execution_count": 25,
   "metadata": {},
   "outputs": [
    {
     "name": "stdout",
     "output_type": "stream",
     "text": [
      "[[0.]]\n"
     ]
    },
    {
     "data": {
      "image/png": "[encoded data removed]",
      "text/plain": [
       "<Figure size 432x288 with 1 Axes>"
      ]
     },
     "metadata": {
      "needs_background": "light"
     },
     "output_type": "display_data"
    }
   ],
   "source": [
    "\n",
    "img_path = 'test1.jpg'\n",
    "# keras.preprocessing.image API来加载图片\n",
    "# target_size：指定图片的大小\n",
    "img = image.load_img(img_path, target_size=(64, 64))\n",
    "imshow(img)\n",
    "\n",
    "# 将图片向量化\n",
    "x = image.img_to_array(img)\n",
    "x = np.expand_dims(x, axis=0)\n",
    "x = preprocess_input(x)\n",
    "\n",
    "print(happyModel.predict(x))"
   ]
  },
  {
   "cell_type": "markdown",
   "metadata": {},
   "source": [
    "### 模型的打印\n",
    "\n",
    "使用model.summary()将模型打印成表格的形式，"
   ]
  },
  {
   "cell_type": "code",
   "execution_count": 26,
   "metadata": {},
   "outputs": [
    {
     "name": "stdout",
     "output_type": "stream",
     "text": [
      "_________________________________________________________________\n",
      "Layer (type)                 Output Shape              Param #   \n",
      "=================================================================\n",
      "input_3 (InputLayer)         (None, 64, 64, 3)         0         \n",
      "_________________________________________________________________\n",
      "zero_padding2d_3 (ZeroPaddin (None, 70, 70, 3)         0         \n",
      "_________________________________________________________________\n",
      "conv0 (Conv2D)               (None, 64, 64, 32)        4736      \n",
      "_________________________________________________________________\n",
      "bn0 (BatchNormalization)     (None, 64, 64, 32)        128       \n",
      "_________________________________________________________________\n",
      "activation_3 (Activation)    (None, 64, 64, 32)        0         \n",
      "_________________________________________________________________\n",
      "max_pool (MaxPooling2D)      (None, 32, 32, 32)        0         \n",
      "_________________________________________________________________\n",
      "flatten_3 (Flatten)          (None, 32768)             0         \n",
      "_________________________________________________________________\n",
      "fc (Dense)                   (None, 1)                 32769     \n",
      "=================================================================\n",
      "Total params: 37,633\n",
      "Trainable params: 37,569\n",
      "Non-trainable params: 64\n",
      "_________________________________________________________________\n"
     ]
    }
   ],
   "source": [
    "happyModel.summary()"
   ]
  },
  {
   "cell_type": "code",
   "execution_count": 28,
   "metadata": {},
   "outputs": [],
   "source": [
    "# plot_model(happyModel, to_file='HappyModel.png')\n",
    "# SVG(model_to_dot(happyModel).create(prog='dot', format='svg'))"
   ]
  }
 ],
 "metadata": {
  "kernelspec": {
   "display_name": "Python 3",
   "language": "python",
   "name": "python3"
  },
  "language_info": {
   "codemirror_mode": {
    "name": "ipython",
    "version": 3
   },
   "file_extension": ".py",
   "mimetype": "text/x-python",
   "name": "python",
   "nbconvert_exporter": "python",
   "pygments_lexer": "ipython3",
   "version": "3.5.3"
  },
  "toc": {
   "base_numbering": 1,
   "nav_menu": {},
   "number_sections": true,
   "sideBar": true,
   "skip_h1_title": false,
   "title_cell": "Table of Contents",
   "title_sidebar": "Contents",
   "toc_cell": false,
   "toc_position": {},
   "toc_section_display": true,
   "toc_window_display": false
  }
 },
 "nbformat": 4,
 "nbformat_minor": 2
}
