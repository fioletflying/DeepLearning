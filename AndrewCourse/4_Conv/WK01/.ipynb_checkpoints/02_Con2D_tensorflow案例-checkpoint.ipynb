{
 "cells": [
  {
   "cell_type": "markdown",
   "metadata": {},
   "source": [
    "## 利用tensorflow 构建卷积神经网络模型\n",
    "\n",
    "### 案例介绍以及需要导入的类\n",
    "\n",
    "tensorflow 构建模型其实很简单：两个大步骤\n",
    "- 构建计算图\n",
    "- 运行计算图\n",
    "\n",
    "下面来介绍以下该案例：\n",
    "\n",
    "构建一个神经网络模型来实现对手势的识别，需要识别如下图所示的几种手势类型：\n",
    "![](imgs/5.jpg)\n",
    "\n",
    "- 训练数据1080张，(64x64),代表了从0-5，每个数字有180张\n",
    "- 测试数据120张,(64x64)\n",
    "\n",
    "\n",
    "需要导入如下库："
   ]
  },
  {
   "cell_type": "code",
   "execution_count": 1,
   "metadata": {},
   "outputs": [],
   "source": [
    "import math\n",
    "import numpy as np\n",
    "import h5py\n",
    "import matplotlib.pyplot as plt\n",
    "import tensorflow as tf\n",
    "from tensorflow.python.framework import ops\n",
    "from tf_utils import load_dataset, random_mini_batches, convert_to_one_hot, predict\n",
    "\n",
    "%matplotlib inline\n",
    "np.random.seed(1)"
   ]
  },
  {
   "cell_type": "code",
   "execution_count": 13,
   "metadata": {},
   "outputs": [],
   "source": [
    "# 数据集的导入与预处理\n",
    "X_train_orig, Y_train_orig, X_test_orig, Y_test_orig, classes = load_dataset()\n",
    "\n",
    "# X_train_flat = X_train_orig.reshape(X_train_orig.shape[0],-1).T\n",
    "# X_test_flat = X_test_orig.reshape(X_test_orig.shape[0],-1).T\n",
    "\n",
    "# 归一化\n",
    "X_train = X_train_orig/255.\n",
    "X_test  = X_test_orig/255.\n",
    "\n",
    "\n",
    "#将标签数据转换成one_hot的形式\n",
    "Y_train = convert_to_one_hot(Y_train_orig, 6).T\n",
    "Y_test = convert_to_one_hot(Y_test_orig, 6).T\n",
    "\n",
    "conv_layers = {}\n"
   ]
  },
  {
   "cell_type": "code",
   "execution_count": 19,
   "metadata": {
    "scrolled": false
   },
   "outputs": [
    {
     "name": "stdout",
     "output_type": "stream",
     "text": [
      "(1080, 64, 64, 3)\n",
      "(1, 1080)\n",
      "(120, 64, 64, 3)\n",
      "(1, 120)\n",
      "(6, 120)\n",
      "Class:5\n"
     ]
    },
    {
     "data": {
      "image/png": "[encoded data removed]",
      "text/plain": [
       "<Figure size 432x288 with 1 Axes>"
      ]
     },
     "metadata": {
      "needs_background": "light"
     },
     "output_type": "display_data"
    }
   ],
   "source": [
    "print(X_train_orig.shape)\n",
    "print(Y_train_orig.shape)\n",
    "print(X_test_orig.shape)\n",
    "print(Y_test_orig.shape)\n",
    "print(Y_test.shape)\n",
    "index = 12\n",
    "plt.imshow(X_train_orig[index])\n",
    "print(\"Class:\"+str(np.squeeze(Y_train_orig[:,index])))"
   ]
  },
  {
   "cell_type": "markdown",
   "metadata": {},
   "source": [
    "### 利用placeholder 准备输入数据集\n",
    "\n",
    "这里输入的数据集不是像以前ANN网络中的一个由列组成数据集，而是一个多维数组构成的数据集。像这里我们输入的数据就是一个RGB图片构成的3D矩阵图，\n",
    "\n",
    "- 输入的训练数据集是： shape:(None, 64, 64,3)： \n",
    "     - 不知道每次需要输入多少个，这里需要使用placeholder 中的None来代替\n",
    "- 输入的标签数据集： shape:(None,6)\n",
    "\n",
    "所以具体的coding如下：\n"
   ]
  },
  {
   "cell_type": "code",
   "execution_count": 3,
   "metadata": {},
   "outputs": [],
   "source": [
    "def create_placeholders(n_H0, n_W0, n_C0, n_y):\n",
    "    \"\"\"\n",
    "    参数：\n",
    "    - n_H0：输入图像的H\n",
    "    - n_W0：输入图像的W\n",
    "    - n_C0：输入图像的通道数\n",
    "    - n_y：标签的数据样本的数量\n",
    "    \n",
    "    \"\"\"\n",
    "    \n",
    "    \n",
    "    X = tf.placeholder(tf.float32,shape=[None,n_H0,n_W0,n_C0])\n",
    "    Y = tf.placeholder(tf.float32,shape=[None,n_y])\n",
    "    \n",
    "    return X,Y"
   ]
  },
  {
   "cell_type": "code",
   "execution_count": 22,
   "metadata": {},
   "outputs": [
    {
     "name": "stdout",
     "output_type": "stream",
     "text": [
      "X = Tensor(\"Placeholder:0\", shape=(?, 64, 64, 3), dtype=float32)\n",
      "Y = Tensor(\"Placeholder_1:0\", shape=(?, 6), dtype=float32)\n"
     ]
    }
   ],
   "source": [
    "X, Y = create_placeholders(64, 64, 3, 6)\n",
    "print (\"X = \" + str(X))\n",
    "print (\"Y = \" + str(Y))"
   ]
  },
  {
   "cell_type": "markdown",
   "metadata": {},
   "source": [
    "### 参数的初始化\n",
    "\n",
    "对于参数的初始化，这里我们先要定义参数shape形式，然后再选择初始化参数的定义方式。\n",
    "\n",
    "这里的参数W与之前ANN参数定义的W有一定的不同，这里的参数W其实就是不同的filter,需要定义的fliter的如下：\n",
    "- fxf:表示fliter的大小（H x W）\n",
    "- n_C_prev: 前一层的通道数\n",
    "- n_C: 有多少个fliter\n",
    "- shape:(f,f,n_C_prev,n_C)\n",
    "\n",
    "其实这里定义好了filter后，基本上该模的框架大部分已经定义好了，这里我们使用两次卷积网络:\n",
    "- W1 : [4, 4, 3, 8]\n",
    "- W2 : [2, 2, 8, 16]\n",
    "\n",
    "关于初始化的方案选择：\n",
    "- 利用Xavier的方法来初始化权重参数\n",
    "    - tf.contrib.layers.xavier_initializer()\n",
    "    \n",
    "- 使用get_variable：实现共享参数变量\n",
    "                       \n",
    "                       \n",
    " 所以参数初始化定义如下："
   ]
  },
  {
   "cell_type": "code",
   "execution_count": 4,
   "metadata": {},
   "outputs": [],
   "source": [
    "def initialize_parameters():\n",
    "    \"\"\"\n",
    "    - W1 : [4, 4, 3, 8]\n",
    "    - W2 : [2, 2, 8, 16]\n",
    "    \"\"\"\n",
    "    \n",
    "    tf.set_random_seed(1)   \n",
    "    \n",
    "    W1 = tf.get_variable(\"W1\",[4,4,3,8],initializer = tf.contrib.layers.xavier_initializer())\n",
    "    W2 = tf.get_variable(\"W2\",[2,2,8,16],initializer = tf.contrib.layers.xavier_initializer())\n",
    "    \n",
    "    parameters = {\"W1\": W1,\n",
    "                  \"W2\": W2}\n",
    "\n",
    "    return parameters"
   ]
  },
  {
   "cell_type": "code",
   "execution_count": 35,
   "metadata": {},
   "outputs": [
    {
     "name": "stdout",
     "output_type": "stream",
     "text": [
      "WARNING:tensorflow:From D:\\Anaconda3\\envs\\tfgpu\\lib\\site-packages\\tensorflow\\python\\framework\\op_def_library.py:263: colocate_with (from tensorflow.python.framework.ops) is deprecated and will be removed in a future version.\n",
      "Instructions for updating:\n",
      "Colocations handled automatically by placer.\n",
      "W1 = [-0.10982134 -0.04528439 -0.16595875 -0.05680124  0.02659403 -0.15367725\n",
      " -0.02849472 -0.16291417]\n",
      "W2 = [ 0.16150516 -0.14620095 -0.16909415  0.10602599  0.17003363 -0.17434233\n",
      "  0.11556172 -0.17598087 -0.23907608 -0.22057557 -0.08024383 -0.00466585\n",
      " -0.23150104  0.13131642  0.21789265 -0.0962196 ]\n"
     ]
    }
   ],
   "source": [
    "tf.reset_default_graph()\n",
    "with tf.Session() as sess_test:\n",
    "    parameters = initialize_parameters()\n",
    "    init = tf.global_variables_initializer()\n",
    "    sess_test.run(init)\n",
    "    print(\"W1 = \" + str(parameters[\"W1\"].eval()[1,1,1]))\n",
    "    print(\"W2 = \" + str(parameters[\"W2\"].eval()[1,1,1]))"
   ]
  },
  {
   "cell_type": "markdown",
   "metadata": {},
   "source": [
    "### 前向传播\n",
    "\n",
    "这里也就是构建模型的前向传播，也就模型全部的框架结构，这里我就需要涉及到模型的方方面面：\n",
    "- 卷积网络：\n",
    "    - tf.nn.conv2d(X,W1, strides = [1,s,s,1], padding = ‘SAME’)\n",
    "- relu激活函数\n",
    "    - tf.nn.relu(Z1)\n",
    "- pooling\n",
    "    - tf.nn.max_pool(A, ksize = [1,f,f,1], strides = [1,s,s,1], padding = ‘SAME’)\n",
    "- flatten：将数据转换成1D的模式\n",
    "    - tf.contrib.layers.flatten(P)\n",
    "- 全连接层：转换成ANN网络的形式\n",
    "    - tf.contrib.layers.fully_connected(F, num_outputs)\n",
    "    \n",
    "  该案例选择的模型如下：\n",
    "  CONV2D -> RELU -> MAXPOOL -> CONV2D -> RELU -> MAXPOOL -> FLATTEN -> FULLYCONNECTED\n",
    "  \n",
    "  具体过程如下coding\n"
   ]
  },
  {
   "cell_type": "code",
   "execution_count": 11,
   "metadata": {},
   "outputs": [],
   "source": [
    "def forward_propagation(X, parameters):\n",
    "    \n",
    "    W1 = parameters['W1']\n",
    "    W2 = parameters['W2']\n",
    "    \n",
    "    # 做卷积运算，W1 [4, 4, 3, 8] 输出一个channel为8的图像，size不变\n",
    "    Z1 = tf.nn.conv2d(X,W1,strides=[1,1,1,1],padding='SAME')\n",
    "    # relu激活\n",
    "    A1 = tf.nn.relu(Z1)\n",
    "    # 使用一个窗口8x8的数据做池化运算\n",
    "    P1 = tf.nn.max_pool(A1,ksize=[1,8,8,1],strides=[1,8,8,1],padding='SAME')\n",
    "    \n",
    "    # 做卷积运算，W2 [2,2,8,16] 输出一个channel为8的图像，size不变\n",
    "    Z2 = tf.nn.conv2d(P1,W2,strides=[1,1,1,1],padding='SAME')\n",
    "    # relu激活\n",
    "    A2 = tf.nn.relu(Z2)\n",
    "    # 使用一个窗口4x4的数据做池化运算\n",
    "    P2 = tf.nn.max_pool(A2,ksize=[1,4,4,1],strides=[1,4,4,1],padding='SAME')\n",
    "    \n",
    "    # 拉伸数据到1D模式，为全连接层做准备\n",
    "    P2 = tf.contrib.layers.flatten(P2)\n",
    "    # 全连接层，最后输出6个数据,这里设置激活函数为None,因为在这里loss函数中会计算激活函数\n",
    "    Z3 = tf.contrib.layers.fully_connected(P2, 6, activation_fn=None)\n",
    "    \n",
    "    return Z3\n",
    "    \n",
    "    "
   ]
  },
  {
   "cell_type": "code",
   "execution_count": 41,
   "metadata": {},
   "outputs": [
    {
     "name": "stdout",
     "output_type": "stream",
     "text": [
      "Z3 = [[ 1.2690868   0.12602156  5.5375357  -1.0369862  -1.5073516   1.3820962 ]\n",
      " [ 1.2368345   0.09943223  5.844031   -0.6103776  -1.5759741   1.4153875 ]]\n"
     ]
    }
   ],
   "source": [
    "tf.reset_default_graph()\n",
    "\n",
    "with tf.Session() as sess:\n",
    "    np.random.seed(1)\n",
    "    X, Y = create_placeholders(64, 64, 3, 6)\n",
    "    parameters = initialize_parameters()\n",
    "    Z3 = forward_propagation(X, parameters)\n",
    "    init = tf.global_variables_initializer()\n",
    "    sess.run(init)\n",
    "    a = sess.run(Z3, {X: np.random.randn(2,64,64,3), Y: np.random.randn(2,6)})\n",
    "    print(\"Z3 = \" + str(a))"
   ]
  },
  {
   "cell_type": "markdown",
   "metadata": {},
   "source": [
    "### loss 函数\n",
    "\n",
    "这里跟前面使用的loss 函数一样的，使用softmax交叉熵函数：\n",
    "- tf.nn.softmax_cross_entropy_with_logits(logits,labels)\n",
    "    - logits : Z3,因为上面的函数会自动计算A3的值。\n",
    "    - labels: Y\n",
    "- tf.reduce_mean \n",
    "    - reduce_xxx:表示对张量进行降维，具体沿着那个方向降维呢，这里就需要根据axis的值来定。\n",
    "        - axis = 0 :按列降维\n",
    "        - axis = 1 :按行降维\n",
    "    - reduce_mean:求平均值\n",
    "    - reduce_sum:求和\n",
    "    - reduce_min/max:求最大最小值"
   ]
  },
  {
   "cell_type": "code",
   "execution_count": 6,
   "metadata": {},
   "outputs": [],
   "source": [
    "def compute_cost(Z3, Y):\n",
    "    \n",
    "    cost = tf.reduce_mean(tf.nn.softmax_cross_entropy_with_logits(logits = Z3, labels = Y))\n",
    "    \n",
    "    return cost"
   ]
  },
  {
   "cell_type": "markdown",
   "metadata": {},
   "source": [
    "### 模型构建\n",
    "\n",
    "构建模型的过程和之前ANN一样的步骤：\n",
    "\n",
    "- 创建placeholder 输入数据\n",
    "- 初始化参数\n",
    "- 前向传播\n",
    "- 损失值的计算\n",
    "- 创建优化器\n",
    "- 开始训练数据和更新权重\n",
    "\n",
    "实践的coding 如下：\n"
   ]
  },
  {
   "cell_type": "code",
   "execution_count": 9,
   "metadata": {},
   "outputs": [],
   "source": [
    "def model(X_train, Y_train, X_test, Y_test, learning_rate = 0.009,\n",
    "          num_epochs = 100, minibatch_size = 64, print_cost = True):\n",
    "    \n",
    "    # 将图初始化\n",
    "    ops.reset_default_graph() \n",
    "    tf.set_random_seed(1)\n",
    "    seed = 3 \n",
    "    (m, n_H0, n_W0, n_C0) = X_train.shape\n",
    "    n_y = Y_train.shape[1]                            \n",
    "    costs = []   \n",
    "    \n",
    "    # 创建placeholder 输入数据\n",
    "    X,Y = create_placeholders(n_H0, n_W0, n_C0, n_y)\n",
    "    \n",
    "    # 初始化参数\n",
    "    parameters = initialize_parameters()\n",
    "    \n",
    "    # 前向传播\n",
    "    Z3 = forward_propagation(X, parameters)\n",
    "    \n",
    "    # 损失值的计算\n",
    "    cost = compute_cost(Z3, Y)\n",
    "    \n",
    "    # 创建优化器\n",
    "    optimizer = tf.train.AdamOptimizer(learning_rate).minimize(cost)\n",
    "    \n",
    "    # 变量初始化\n",
    "    init = tf.global_variables_initializer()\n",
    "    \n",
    "    with tf.Session() as sess:\n",
    "\n",
    "        # Run the initialization\n",
    "        sess.run(init)\n",
    "\n",
    "        # Do the training loop\n",
    "        for epoch in range(num_epochs):\n",
    "\n",
    "            minibatch_cost = 0.\n",
    "            num_minibatches = int(m / minibatch_size) # number of minibatches of size minibatch_size in the train set\n",
    "            seed = seed + 1\n",
    "            minibatches = random_mini_batches(X_train, Y_train, minibatch_size, seed)\n",
    "\n",
    "            for minibatch in minibatches:\n",
    "                \n",
    "                (minibatch_X, minibatch_Y) = minibatch\n",
    "                _ , temp_cost = sess.run([optimizer, cost], feed_dict={X: minibatch_X, Y: minibatch_Y})\n",
    "                \n",
    "\n",
    "                minibatch_cost += temp_cost / num_minibatches\n",
    "\n",
    "\n",
    "            # Print the cost every epoch\n",
    "            if print_cost == True and epoch % 5 == 0:\n",
    "                print (\"Cost after epoch %i: %f\" % (epoch, minibatch_cost))\n",
    "            if print_cost == True and epoch % 1 == 0:\n",
    "                costs.append(minibatch_cost)\n",
    "                \n",
    "     # plot the cost\n",
    "        plt.plot(np.squeeze(costs))\n",
    "        plt.ylabel('cost')\n",
    "        plt.xlabel('iterations (per tens)')\n",
    "        plt.title(\"Learning rate =\" + str(learning_rate))\n",
    "        plt.show()\n",
    "\n",
    "        # Calculate the correct predictions\n",
    "        predict_op = tf.argmax(Z3, 1)\n",
    "        correct_prediction = tf.equal(predict_op, tf.argmax(Y, 1))\n",
    "\n",
    "        # Calculate accuracy on the test set\n",
    "        accuracy = tf.reduce_mean(tf.cast(correct_prediction, \"float\"))\n",
    "        print(accuracy)\n",
    "        train_accuracy = accuracy.eval({X: X_train, Y: Y_train})\n",
    "        test_accuracy = accuracy.eval({X: X_test, Y: Y_test})\n",
    "        print(\"Train Accuracy:\", train_accuracy)\n",
    "        print(\"Test Accuracy:\", test_accuracy)\n",
    "\n",
    "        return train_accuracy, test_accuracy, parameters\n",
    "    "
   ]
  },
  {
   "cell_type": "code",
   "execution_count": 14,
   "metadata": {},
   "outputs": [
    {
     "ename": "IndexError",
     "evalue": "index 48 is out of bounds for axis 1 with size 6",
     "output_type": "error",
     "traceback": [
      "\u001b[1;31m---------------------------------------------------------------------------\u001b[0m",
      "\u001b[1;31mIndexError\u001b[0m                                Traceback (most recent call last)",
      "\u001b[1;32m<ipython-input-14-93cbe85471b0>\u001b[0m in \u001b[0;36m<module>\u001b[1;34m\u001b[0m\n\u001b[0;32m      1\u001b[0m \u001b[0mtf\u001b[0m\u001b[1;33m.\u001b[0m\u001b[0mreset_default_graph\u001b[0m\u001b[1;33m(\u001b[0m\u001b[1;33m)\u001b[0m\u001b[1;33m\u001b[0m\u001b[1;33m\u001b[0m\u001b[0m\n\u001b[1;32m----> 2\u001b[1;33m \u001b[0m_\u001b[0m\u001b[1;33m,\u001b[0m \u001b[0m_\u001b[0m\u001b[1;33m,\u001b[0m \u001b[0mparameters\u001b[0m \u001b[1;33m=\u001b[0m \u001b[0mmodel\u001b[0m\u001b[1;33m(\u001b[0m\u001b[0mX_train\u001b[0m\u001b[1;33m,\u001b[0m \u001b[0mY_train\u001b[0m\u001b[1;33m,\u001b[0m \u001b[0mX_test\u001b[0m\u001b[1;33m,\u001b[0m \u001b[0mY_test\u001b[0m\u001b[1;33m)\u001b[0m\u001b[1;33m\u001b[0m\u001b[1;33m\u001b[0m\u001b[0m\n\u001b[0m",
      "\u001b[1;32m<ipython-input-9-efd8289304f8>\u001b[0m in \u001b[0;36mmodel\u001b[1;34m(X_train, Y_train, X_test, Y_test, learning_rate, num_epochs, minibatch_size, print_cost)\u001b[0m\n\u001b[0;32m     39\u001b[0m             \u001b[0mnum_minibatches\u001b[0m \u001b[1;33m=\u001b[0m \u001b[0mint\u001b[0m\u001b[1;33m(\u001b[0m\u001b[0mm\u001b[0m \u001b[1;33m/\u001b[0m \u001b[0mminibatch_size\u001b[0m\u001b[1;33m)\u001b[0m \u001b[1;31m# number of minibatches of size minibatch_size in the train set\u001b[0m\u001b[1;33m\u001b[0m\u001b[1;33m\u001b[0m\u001b[0m\n\u001b[0;32m     40\u001b[0m             \u001b[0mseed\u001b[0m \u001b[1;33m=\u001b[0m \u001b[0mseed\u001b[0m \u001b[1;33m+\u001b[0m \u001b[1;36m1\u001b[0m\u001b[1;33m\u001b[0m\u001b[1;33m\u001b[0m\u001b[0m\n\u001b[1;32m---> 41\u001b[1;33m             \u001b[0mminibatches\u001b[0m \u001b[1;33m=\u001b[0m \u001b[0mrandom_mini_batches\u001b[0m\u001b[1;33m(\u001b[0m\u001b[0mX_train\u001b[0m\u001b[1;33m,\u001b[0m \u001b[0mY_train\u001b[0m\u001b[1;33m,\u001b[0m \u001b[0mminibatch_size\u001b[0m\u001b[1;33m,\u001b[0m \u001b[0mseed\u001b[0m\u001b[1;33m)\u001b[0m\u001b[1;33m\u001b[0m\u001b[1;33m\u001b[0m\u001b[0m\n\u001b[0m\u001b[0;32m     42\u001b[0m \u001b[1;33m\u001b[0m\u001b[0m\n\u001b[0;32m     43\u001b[0m             \u001b[1;32mfor\u001b[0m \u001b[0mminibatch\u001b[0m \u001b[1;32min\u001b[0m \u001b[0mminibatches\u001b[0m\u001b[1;33m:\u001b[0m\u001b[1;33m\u001b[0m\u001b[1;33m\u001b[0m\u001b[0m\n",
      "\u001b[1;32mF:\\Study\\DeepLearning\\AndrewCourse\\4_Conv\\WK01\\tf_utils.py\u001b[0m in \u001b[0;36mrandom_mini_batches\u001b[1;34m(X, Y, mini_batch_size, seed)\u001b[0m\n\u001b[0;32m     42\u001b[0m     \u001b[0mpermutation\u001b[0m \u001b[1;33m=\u001b[0m \u001b[0mlist\u001b[0m\u001b[1;33m(\u001b[0m\u001b[0mnp\u001b[0m\u001b[1;33m.\u001b[0m\u001b[0mrandom\u001b[0m\u001b[1;33m.\u001b[0m\u001b[0mpermutation\u001b[0m\u001b[1;33m(\u001b[0m\u001b[0mm\u001b[0m\u001b[1;33m)\u001b[0m\u001b[1;33m)\u001b[0m\u001b[1;33m\u001b[0m\u001b[1;33m\u001b[0m\u001b[0m\n\u001b[0;32m     43\u001b[0m     \u001b[0mshuffled_X\u001b[0m \u001b[1;33m=\u001b[0m \u001b[0mX\u001b[0m\u001b[1;33m[\u001b[0m\u001b[1;33m:\u001b[0m\u001b[1;33m,\u001b[0m \u001b[0mpermutation\u001b[0m\u001b[1;33m]\u001b[0m\u001b[1;33m\u001b[0m\u001b[1;33m\u001b[0m\u001b[0m\n\u001b[1;32m---> 44\u001b[1;33m     \u001b[0mshuffled_Y\u001b[0m \u001b[1;33m=\u001b[0m \u001b[0mY\u001b[0m\u001b[1;33m[\u001b[0m\u001b[1;33m:\u001b[0m\u001b[1;33m,\u001b[0m \u001b[0mpermutation\u001b[0m\u001b[1;33m]\u001b[0m\u001b[1;33m.\u001b[0m\u001b[0mreshape\u001b[0m\u001b[1;33m(\u001b[0m\u001b[1;33m(\u001b[0m\u001b[0mY\u001b[0m\u001b[1;33m.\u001b[0m\u001b[0mshape\u001b[0m\u001b[1;33m[\u001b[0m\u001b[1;36m0\u001b[0m\u001b[1;33m]\u001b[0m\u001b[1;33m,\u001b[0m\u001b[0mm\u001b[0m\u001b[1;33m)\u001b[0m\u001b[1;33m)\u001b[0m\u001b[1;33m\u001b[0m\u001b[1;33m\u001b[0m\u001b[0m\n\u001b[0m\u001b[0;32m     45\u001b[0m \u001b[1;33m\u001b[0m\u001b[0m\n\u001b[0;32m     46\u001b[0m     \u001b[1;31m# Step 2: Partition (shuffled_X, shuffled_Y). Minus the end case.\u001b[0m\u001b[1;33m\u001b[0m\u001b[1;33m\u001b[0m\u001b[1;33m\u001b[0m\u001b[0m\n",
      "\u001b[1;31mIndexError\u001b[0m: index 48 is out of bounds for axis 1 with size 6"
     ]
    }
   ],
   "source": [
    "  tf.reset_default_graph()\n",
    "_, _, parameters = model(X_train, Y_train, X_test, Y_test)"
   ]
  }
 ],
 "metadata": {
  "kernelspec": {
   "display_name": "Python 3",
   "language": "python",
   "name": "python3"
  },
  "language_info": {
   "codemirror_mode": {
    "name": "ipython",
    "version": 3
   },
   "file_extension": ".py",
   "mimetype": "text/x-python",
   "name": "python",
   "nbconvert_exporter": "python",
   "pygments_lexer": "ipython3",
   "version": "3.6.8"
  }
 },
 "nbformat": 4,
 "nbformat_minor": 2
}
