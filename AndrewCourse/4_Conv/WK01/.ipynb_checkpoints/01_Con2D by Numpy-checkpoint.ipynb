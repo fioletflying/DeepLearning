{
 "cells": [
  {
   "cell_type": "markdown",
   "metadata": {},
   "source": [
    "## 利用numpy来实现卷积神经网络\n",
    "\n",
    "### 简介\n",
    "\n",
    "需要利用nunpy完成如下任务：\n",
    "\n",
    "- 实现CONV\n",
    "    - 零填充\n",
    "    - 卷积窗口\n",
    "    - 卷积前向传播\n",
    "    - 卷积反向传播\n",
    "- 实现Pooling\n",
    "    - 池化前向传播\n",
    "    - 创建模板\n",
    "    - 分散值\n",
    "    - 池化反向传播\n",
    "\n",
    "下面来看看关于使用的符合说明：\n",
    "\n",
    "![](imgs/1.jpg)\n",
    "\n",
    "需要导入如下库："
   ]
  },
  {
   "cell_type": "code",
   "execution_count": 6,
   "metadata": {},
   "outputs": [],
   "source": [
    "import numpy as np\n",
    "import h5py\n",
    "import matplotlib.pyplot as plt\n",
    "\n",
    "%matplotlib inline\n",
    "plt.rcParams['figure.figsize'] = (5.0, 4.0) # set default size of plots\n",
    "plt.rcParams['image.interpolation'] = 'nearest'\n",
    "plt.rcParams['image.cmap'] = 'gray'\n",
    "\n",
    "%load_ext autoreload\n",
    "%autoreload 2\n",
    "\n",
    "np.random.seed(1)"
   ]
  },
  {
   "cell_type": "markdown",
   "metadata": {},
   "source": [
    "### 卷积神经网络\n",
    "\n",
    "我们需要理解卷积神经网络的每一个过程，如何从一个size输入经过卷积后怎么变成另外一个size的输出.\n",
    "\n",
    "![](imgs/2.jpg)\n",
    "\n",
    "#### 零填充\n",
    "\n",
    "就是将0填充到图像外围边界\n",
    "\n",
    "![](imgs/3.jpg)\n",
    "\n",
    "为什么需要做填充呢？\n",
    "\n",
    "- 为了保持图像的大小经过卷积后被缩小，这样可以创建更加深的网络。\n",
    "- 可以让更多的边缘信息利用起来。\n",
    "\n",
    "这里我们需要使用np.pad函数来实现填充。\n",
    "\n",
    "> `numpy.pad(array, pad_width, mode='constant', **kwargs)`\n",
    "第一个参数是待填充数组\n",
    "第二个参数是填充的形状，（2，3）表示前面两个，后面三个\n",
    "第三个参数是填充的方法\n",
    "\n"
   ]
  },
  {
   "cell_type": "code",
   "execution_count": 2,
   "metadata": {},
   "outputs": [
    {
     "name": "stdout",
     "output_type": "stream",
     "text": [
      "array [[1 1]\n",
      " [2 2]]\n",
      "ndarray= [[0 0 0 0 3 3]\n",
      " [0 0 1 1 3 3]\n",
      " [0 0 2 2 3 3]\n",
      " [0 0 3 3 3 3]]\n"
     ]
    }
   ],
   "source": [
    "# np.pad案例\n",
    "import numpy as np\n",
    "array = np.array([[1, 1],[2,2]])\n",
    "\n",
    "\"\"\"\n",
    "((1,1),(2,2))表示在二维数组array第一维（此处便是行）前面填充1行，最后面填充1行；\n",
    "                 在二维数组array第二维（此处便是列）前面填充2列，最后面填充2列\n",
    "constant_values=(0,3) 表示第一维填充0，第二维填充3\n",
    "\"\"\"\n",
    "ndarray=np.pad(array,((1,1),(2,2)),'constant', constant_values=(0,3)) \n",
    "\n",
    "print(\"array\",array)\n",
    "print(\"ndarray=\",ndarray)\n"
   ]
  },
  {
   "cell_type": "code",
   "execution_count": 3,
   "metadata": {},
   "outputs": [],
   "source": [
    "def zero_pad(X,pad):\n",
    "    \n",
    "    \"\"\"\n",
    "    参数：\n",
    "    X: 表示输入的shape为(m,n_H,n_W,n_C)\n",
    "    pad:需要填充的数量\n",
    "    \"\"\"\n",
    "    \n",
    "    X_pad = np.pad(X,((0,0),(pad,pad),(pad,pad),(0,0)),'constant')\n",
    "    \n",
    "    return X_pad"
   ]
  },
  {
   "cell_type": "code",
   "execution_count": 4,
   "metadata": {},
   "outputs": [
    {
     "name": "stdout",
     "output_type": "stream",
     "text": [
      "x.shape = (4, 3, 3, 2)\n",
      "x_pad.shape = (4, 7, 7, 2)\n",
      "x[1,1] = [[ 0.90085595 -0.68372786]\n",
      " [-0.12289023 -0.93576943]\n",
      " [-0.26788808  0.53035547]]\n",
      "x_pad[1,1] = [[0. 0.]\n",
      " [0. 0.]\n",
      " [0. 0.]\n",
      " [0. 0.]\n",
      " [0. 0.]\n",
      " [0. 0.]\n",
      " [0. 0.]]\n"
     ]
    },
    {
     "data": {
      "text/plain": [
       "<matplotlib.image.AxesImage at 0x214ada1d2b0>"
      ]
     },
     "execution_count": 4,
     "metadata": {},
     "output_type": "execute_result"
    },
    {
     "data": {
      "image/png": "[encoded data removed]",
      "text/plain": [
       "<Figure size 432x288 with 2 Axes>"
      ]
     },
     "metadata": {
      "needs_background": "light"
     },
     "output_type": "display_data"
    }
   ],
   "source": [
    "np.random.seed(1)\n",
    "x = np.random.randn(4, 3, 3, 2)\n",
    "x_pad = zero_pad(x, 2)\n",
    "print (\"x.shape =\", x.shape)\n",
    "print (\"x_pad.shape =\", x_pad.shape)\n",
    "print (\"x[1,1] =\", x[1,1])\n",
    "print (\"x_pad[1,1] =\", x_pad[1,1])\n",
    "\n",
    "fig, axarr = plt.subplots(1, 2)\n",
    "axarr[0].set_title('x')\n",
    "axarr[0].imshow(x[0,:,:,0])\n",
    "axarr[1].set_title('x_pad')\n",
    "axarr[1].imshow(x_pad[0,:,:,0])"
   ]
  },
  {
   "cell_type": "markdown",
   "metadata": {},
   "source": [
    "#### 单步卷积网络的实现\n",
    "\n",
    "这里我们仅仅来实现一步卷积网络，也就对一个位置做一次卷积。其实全部位置的卷积过程如下：\n",
    "\n",
    "![](imgs/4.gif)\n",
    "\n",
    "实现单个卷积思路如下:\n",
    "\n",
    "- 对输入的片段 与 W做元素相乘\n",
    "- 对上一步的结果求和\n",
    "- 再加上b 这个偏置值\n",
    "\n",
    "具体的coding如下：\n"
   ]
  },
  {
   "cell_type": "code",
   "execution_count": 5,
   "metadata": {},
   "outputs": [],
   "source": [
    "def conv_single_step(a_slice_prev, W, b):\n",
    "    \"\"\"\n",
    "    参数：\n",
    "        - a_slice_prev：单个位置输入的数据（f,f,n_C_prev）\n",
    "        - W:卷积的权重值，也就是滤波器(f, f, n_C_prev)\n",
    "        - b:(1, 1, 1)\n",
    "    \"\"\"\n",
    "    \n",
    "    # 对应的元素相乘\n",
    "    s  = a_slice_prev * W\n",
    "    Z = np.sum(s)\n",
    "    Z = Z + b\n",
    "    \n",
    "    return Z"
   ]
  },
  {
   "cell_type": "code",
   "execution_count": 6,
   "metadata": {},
   "outputs": [
    {
     "name": "stdout",
     "output_type": "stream",
     "text": [
      "Z = [[[-6.99908945]]]\n"
     ]
    }
   ],
   "source": [
    "np.random.seed(1)\n",
    "a_slice_prev = np.random.randn(4, 4, 3)\n",
    "W = np.random.randn(4, 4, 3)\n",
    "b = np.random.randn(1, 1, 1)\n",
    "\n",
    "Z = conv_single_step(a_slice_prev, W, b)\n",
    "print(\"Z =\", Z)"
   ]
  },
  {
   "cell_type": "markdown",
   "metadata": {},
   "source": [
    "#### 卷积网络的前向传播\n",
    "\n",
    "\n",
    "上一步我们实现了某一位置卷积计算，现在我们来看看如何将所有位置遍历完成整个图像卷积。\n",
    "\n",
    "这里我们要解决的是如何来获得所有位置，并找到对应的input数据，我们需要对图片每个位置进行切片：\n",
    "- 定义切片的水平和垂直起至位置：vert_start, vert_end, horiz_start ,horiz_end\n",
    "\n",
    "![](imgs/4.jpg)\n",
    "\n",
    "最后经过上面的变换后，得到的输出大小公式如下：\n",
    "![](imgs/5.jpg)\n"
   ]
  },
  {
   "cell_type": "code",
   "execution_count": 11,
   "metadata": {},
   "outputs": [],
   "source": [
    "def conv_forward(A_prev, W, b, hparameters):\n",
    "    \"\"\"\n",
    "    参数：\n",
    "    A_prev - shape (m, n_H_prev, n_W_prev, n_C_prev)\n",
    "    W - shape (f, f, n_C_prev, n_C)\n",
    "    b - shape (1, 1, 1, n_C)\n",
    "    \n",
    "    超参数为：\n",
    "    stride : \n",
    "    pad:\n",
    "    \n",
    "    \"\"\"\n",
    "    (m, n_H_prev, n_W_prev, n_C_prev) = A_prev.shape\n",
    "    (f, f, n_C_prev, n_C) = W.shape\n",
    "    stride = hparameters[\"stride\"]\n",
    "    pad = hparameters[\"pad\"]\n",
    "    \n",
    "    # 输出的shpae\n",
    "    n_H = int((n_H_prev - f + 2 * pad)/stride + 1)\n",
    "    n_W = int((n_W_prev - f + 2 * pad)/stride + 1)\n",
    "    \n",
    "    Z = np.zeros((m,n_H,n_W,n_C))\n",
    "    \n",
    "    # 进行零填充\n",
    "    A_prev_pad = zero_pad(A_prev, pad)\n",
    "    \n",
    "    for i in range(m):\n",
    "        a_prev_pad = A_prev_pad[i, :, :, :] \n",
    "        \n",
    "        for h in range(n_H):\n",
    "            for w in range(n_W):\n",
    "                for c in range(n_C):\n",
    "                    \n",
    "                    # 获得切片位置\n",
    "                    vert_start = stride * h\n",
    "                    vert_end = vert_start + f\n",
    "                    horiz_start = stride * w\n",
    "                    horiz_end = horiz_start + f\n",
    "                    \n",
    "                    #获得切片数据\n",
    "                    a_slice_prev = a_prev_pad[vert_start:vert_end, horiz_start:horiz_end, :]\n",
    "                    \n",
    "                    # 单步卷积\n",
    "                    Z[i, h, w, c] = conv_single_step(a_slice_prev, W[:, :, :, c], b[:, :, :, c])\n",
    "    \n",
    "    cache = (A_prev, W, b, hparameters)\n",
    "    return Z,cache"
   ]
  },
  {
   "cell_type": "code",
   "execution_count": 12,
   "metadata": {},
   "outputs": [
    {
     "name": "stdout",
     "output_type": "stream",
     "text": [
      "Z's mean = 0.048995203528855794\n",
      "Z[3,2,1] = [-0.61490741 -6.7439236  -2.55153897  1.75698377  3.56208902  0.53036437\n",
      "  5.18531798  8.75898442]\n",
      "cache_conv[0][1][2][3] = [-0.20075807  0.18656139  0.41005165]\n"
     ]
    }
   ],
   "source": [
    "np.random.seed(1)\n",
    "A_prev = np.random.randn(10,4,4,3)\n",
    "W = np.random.randn(2,2,3,8)\n",
    "b = np.random.randn(1,1,1,8)\n",
    "hparameters = {\"pad\" : 2,\n",
    "               \"stride\": 2}\n",
    "\n",
    "Z, cache_conv = conv_forward(A_prev, W, b, hparameters)\n",
    "print(\"Z's mean =\", np.mean(Z))\n",
    "print(\"Z[3,2,1] =\", Z[3,2,1])\n",
    "print(\"cache_conv[0][1][2][3] =\", cache_conv[0][1][2][3])"
   ]
  },
  {
   "cell_type": "markdown",
   "metadata": {},
   "source": [
    "### 池化层的numpy实践\n",
    "\n",
    "#### 简介\n",
    "\n",
    "两种主要的pooling方法\n",
    "- Max-pooling:在滑动窗口中保留最大的那个值\n",
    "- Average-pooling：在滑动窗口中保留所有值的平均值\n",
    "\n",
    "具体窗口的大小通过参数(f,f)来确定，具体如下图\n",
    "\n",
    "![Max-pooling](imgs/6.jpg)\n",
    "![Ave-pooling](imgs/7.jpg)\n",
    "\n",
    "池化层的作用：\n",
    "- 缩减输入图片的尺寸，从而减少计算量，提高计算的速度\n",
    "- 通过保留最大值的特在或者均值特征，可以提高特征提取的鲁棒性\n",
    "\n",
    "#### pooling的前向传播计算\n",
    "\n",
    "现在知道pooling的操作流程，下面就来实践它吧，但是这里我们需要做的就是计算以下经过pooling之后，输出的shape是怎么变换的，计算公式如下：\n",
    "\n",
    "![](imgs/8.jpg)\n",
    "\n",
    "具体的coding如下：\n"
   ]
  },
  {
   "cell_type": "code",
   "execution_count": 9,
   "metadata": {},
   "outputs": [],
   "source": [
    "def pool_forward(A_prev, hparameters, mode = \"max\"):\n",
    "    \n",
    "    # 获得输入的shpae\n",
    "    (m, n_H_prev, n_W_prev, n_C_prev) = A_prev.shape\n",
    "    \n",
    "    # 两个超参数\n",
    "    f = hparameters[\"f\"]   # 窗口的大小\n",
    "    stride = hparameters[\"stride\"]  #每次滑动值stride的值\n",
    "    \n",
    "    # 计算输出的shape\n",
    "    n_H = int(1+(n_H_prev-f)/stride)\n",
    "    n_W = int(1+(n_W_prev-f)/stride)\n",
    "    n_C = n_C_prev\n",
    "    \n",
    "    # 初始化输出值\n",
    "    A = np.zeros((m,n_H,n_W,n_C))\n",
    "    \n",
    "    for i in range(m):\n",
    "        for h in range(n_H):\n",
    "            for w in range(n_W):\n",
    "                for c in range(n_C):\n",
    "                    \n",
    "                    # 获得切片位置\n",
    "                    vert_start = stride * h\n",
    "                    vert_end = vert_start + f\n",
    "                    horiz_start = stride * w\n",
    "                    horiz_end = horiz_start + f\n",
    "                    \n",
    "                    #获得切片数据\n",
    "                    a_slice_prev = A_prev[i,vert_start:vert_end, horiz_start:horiz_end, c]\n",
    "                    \n",
    "                    if mode == \"max\":\n",
    "                        A[i,h,w,c] = np.max(a_slice_prev)\n",
    "                    if mode == \"average\":\n",
    "                        A[i,h,w,c]  = np.mean(a_slice_prev)\n",
    "    \n",
    "    cache = (A_prev, hparameters)\n",
    "    \n",
    "    return A,cache\n",
    "    \n",
    "    "
   ]
  },
  {
   "cell_type": "code",
   "execution_count": 10,
   "metadata": {},
   "outputs": [
    {
     "name": "stdout",
     "output_type": "stream",
     "text": [
      "mode = max\n",
      "A = [[[[2.18557541 2.18557541 2.18557541]]]\n",
      "\n",
      "\n",
      " [[[2.18557541 2.18557541 2.18557541]]]]\n",
      "\n",
      "mode = average\n",
      "A = [[[[0.01450467 0.01450467 0.01450467]]]\n",
      "\n",
      "\n",
      " [[[0.01450467 0.01450467 0.01450467]]]]\n"
     ]
    }
   ],
   "source": [
    "np.random.seed(1)\n",
    "A_prev = np.random.randn(2, 4, 4, 3)\n",
    "hparameters = {\"stride\" : 2, \"f\": 3}\n",
    "\n",
    "A, cache = pool_forward(A_prev, hparameters)\n",
    "print(\"mode = max\")\n",
    "print(\"A =\", A)\n",
    "print()\n",
    "A, cache = pool_forward(A_prev, hparameters, mode = \"average\")\n",
    "print(\"mode = average\")\n",
    "print(\"A =\", A)"
   ]
  }
 ],
 "metadata": {
  "kernelspec": {
   "display_name": "Python 3",
   "language": "python",
   "name": "python3"
  },
  "language_info": {
   "codemirror_mode": {
    "name": "ipython",
    "version": 3
   },
   "file_extension": ".py",
   "mimetype": "text/x-python",
   "name": "python",
   "nbconvert_exporter": "python",
   "pygments_lexer": "ipython3",
   "version": "3.5.3"
  },
  "toc": {
   "base_numbering": 1,
   "nav_menu": {},
   "number_sections": true,
   "sideBar": true,
   "skip_h1_title": false,
   "title_cell": "Table of Contents",
   "title_sidebar": "Contents",
   "toc_cell": false,
   "toc_position": {},
   "toc_section_display": true,
   "toc_window_display": false
  }
 },
 "nbformat": 4,
 "nbformat_minor": 2
}
