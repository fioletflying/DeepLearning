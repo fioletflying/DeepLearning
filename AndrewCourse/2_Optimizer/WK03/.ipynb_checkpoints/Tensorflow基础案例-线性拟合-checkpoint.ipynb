{
 "cells": [
  {
   "cell_type": "code",
   "execution_count": 2,
   "metadata": {},
   "outputs": [
    {
     "data": {
      "image/png": "[encoded data removed]",
      "text/plain": [
       "<Figure size 432x288 with 1 Axes>"
      ]
     },
     "metadata": {
      "needs_background": "light"
     },
     "output_type": "display_data"
    }
   ],
   "source": [
    "# 准备数据\n",
    "import numpy as np\n",
    "import matplotlib.pyplot as plt\n",
    "import tensorflow as tf\n",
    "\n",
    "# 生成一个-1,1的等差数列\n",
    "X_train = np.linspace(-1,1,100)\n",
    "#print(X.shape) = (100,)\n",
    "# print(*X.shape) = 100\n",
    "Y_train = 2*X_train + np.random.randn(*X_train.shape)*0.3\n",
    "\n",
    "#绘制数据点\n",
    "plt.plot(X_train,Y_train,'b*',label = \"Orignial data\")\n",
    "plt.legend()\n",
    "plt.show()\n"
   ]
  },
  {
   "cell_type": "code",
   "execution_count": 3,
   "metadata": {},
   "outputs": [
    {
     "name": "stdout",
     "output_type": "stream",
     "text": [
      "<tf.Variable 'weight:0' shape=(1,) dtype=float32_ref>\n",
      "<tf.Variable 'bias:0' shape=(1,) dtype=float32_ref>\n"
     ]
    }
   ],
   "source": [
    "#创建模型\n",
    "\n",
    "#占位符:用来存放训练的数据\n",
    "X = tf.placeholder(\"float\")\n",
    "Y = tf.placeholder(\"float\")\n",
    "\n",
    "# 模型的参数\n",
    "# W生成一个随机数[-1,1],形状为一维的\n",
    "W = tf.Variable(tf.random_normal([1]),name=\"weight\") \n",
    "b = tf.Variable(tf.zeros([1]),name=\"bias\")\n",
    "print(W)\n",
    "print(b)\n",
    "# 前向传播的结构\n",
    "z = tf.multiply(X,W)+b"
   ]
  },
  {
   "cell_type": "code",
   "execution_count": 4,
   "metadata": {},
   "outputs": [],
   "source": [
    "# 反向传播计算梯度以及优化\n",
    "# 定义损失函数为平方差\n",
    "cost = tf.reduce_mean(tf.square(Y-z))\n",
    "# 设定学习率\n",
    "learning_rate = 0.01\n",
    "# 选择梯度下降算法\n",
    "optimizer = tf.train.GradientDescentOptimizer(learning_rate).minimize(cost)"
   ]
  },
  {
   "cell_type": "code",
   "execution_count": 8,
   "metadata": {},
   "outputs": [
    {
     "name": "stdout",
     "output_type": "stream",
     "text": [
      "Epoch: 1  cost= Tensor(\"Mean:0\", shape=(), dtype=float32)  W= [0.7840361]  b= [0.36895373]\n",
      "Epoch: 3  cost= Tensor(\"Mean:0\", shape=(), dtype=float32)  W= [1.6788162]  b= [0.13058858]\n",
      "Epoch: 5  cost= Tensor(\"Mean:0\", shape=(), dtype=float32)  W= [1.9216015]  b= [0.03918793]\n",
      "Epoch: 7  cost= Tensor(\"Mean:0\", shape=(), dtype=float32)  W= [1.9845703]  b= [0.01505381]\n",
      "Epoch: 9  cost= Tensor(\"Mean:0\", shape=(), dtype=float32)  W= [2.000855]  b= [0.00880508]\n",
      "Epoch: 11  cost= Tensor(\"Mean:0\", shape=(), dtype=float32)  W= [2.0050647]  b= [0.0071894]\n",
      "Epoch: 13  cost= Tensor(\"Mean:0\", shape=(), dtype=float32)  W= [2.006154]  b= [0.00677154]\n",
      "Epoch: 15  cost= Tensor(\"Mean:0\", shape=(), dtype=float32)  W= [2.0064354]  b= [0.00666363]\n",
      "Epoch: 17  cost= Tensor(\"Mean:0\", shape=(), dtype=float32)  W= [2.0065107]  b= [0.00663484]\n",
      "Epoch: 19  cost= Tensor(\"Mean:0\", shape=(), dtype=float32)  W= [2.0065265]  b= [0.00662872]\n",
      "Finished!\n",
      " cost= 0.06952274  W= [2.0065296]  b= [0.00662753]\n",
      "x=0.2,z= [0.40793344]\n"
     ]
    }
   ],
   "source": [
    "# 开始迭代训练获得权重参数值\n",
    "#初始化所有的参数\n",
    "init = tf.global_variables_initializer()\n",
    "iter_num = 20\n",
    "display_step = 2\n",
    "\n",
    "with tf.Session() as sess:\n",
    "    sess.run(init)\n",
    "    plotdata = {\"batchsize\":[],\"loss\":[]}\n",
    "    for epoch in range(iter_num):\n",
    "        for (x,y) in zip(X_train,Y_train):\n",
    "            sess.run(optimizer,feed_dict = {X:x,Y:y})\n",
    "            \n",
    "        if epoch % display_step == 0:\n",
    "            loss = sess.run(cost,feed_dict={X:X_train,Y:Y_train})\n",
    "            print(\"Epoch:\",epoch+1,\" cost=\",cost,\" W=\",sess.run(W),\" b=\",sess.run(b))\n",
    "            \n",
    "                \n",
    "    print(\"Finished!\")\n",
    "    print(\" cost=\",sess.run(cost,feed_dict={X:X_train,Y:Y_train}),\" W=\",sess.run(W),\" b=\",sess.run(b))\n",
    "    \n",
    "    print(\"x=0.2,z=\",sess.run(z,feed_dict={X:0.2}))\n"
   ]
  },
  {
   "cell_type": "code",
   "execution_count": null,
   "metadata": {},
   "outputs": [],
   "source": [
    "# 开始迭代训练获得权重参数值\n",
    "#初始化所有的参数\n",
    "init = tf.global_variables_initializer()\n",
    "iter_num = 20\n",
    "display_step = 2\n",
    "\n",
    "sess = tf.InteractiveSession()\n",
    "\n",
    "sess.run(init)\n",
    "plotdata = {\"batchsize\":[],\"loss\":[]}\n",
    "for epoch in range(iter_num):\n",
    "    for (x,y) in zip(X_train,Y_train):\n",
    "        sess.run(optimizer,feed_dict = {X:x,Y:y})\n",
    "\n",
    "    if epoch % display_step == 0:\n",
    "        loss = sess.run(cost,feed_dict={X:X_train,Y:Y_train})\n",
    "        print(\"Epoch:\",epoch+1,\" cost=\",cost,\" W=\",sess.run(W),\" b=\",sess.run(b))\n",
    "\n",
    "\n",
    "print(\"Finished!\")\n",
    "print(\" cost=\",sess.run(cost,feed_dict={X:X_train,Y:Y_train}),\" W=\",sess.run(W),\" b=\",sess.run(b))"
   ]
  },
  {
   "cell_type": "code",
   "execution_count": null,
   "metadata": {},
   "outputs": [],
   "source": []
  }
 ],
 "metadata": {
  "kernelspec": {
   "display_name": "Python 3",
   "language": "python",
   "name": "python3"
  },
  "language_info": {
   "codemirror_mode": {
    "name": "ipython",
    "version": 3
   },
   "file_extension": ".py",
   "mimetype": "text/x-python",
   "name": "python",
   "nbconvert_exporter": "python",
   "pygments_lexer": "ipython3",
   "version": "3.5.3"
  },
  "toc": {
   "base_numbering": 1,
   "nav_menu": {},
   "number_sections": true,
   "sideBar": true,
   "skip_h1_title": false,
   "title_cell": "Table of Contents",
   "title_sidebar": "Contents",
   "toc_cell": false,
   "toc_position": {},
   "toc_section_display": true,
   "toc_window_display": false
  }
 },
 "nbformat": 4,
 "nbformat_minor": 2
}
