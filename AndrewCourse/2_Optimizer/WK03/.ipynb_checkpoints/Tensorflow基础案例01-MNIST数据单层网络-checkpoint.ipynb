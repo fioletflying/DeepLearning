{
 "cells": [
  {
   "cell_type": "code",
   "execution_count": 2,
   "metadata": {},
   "outputs": [
    {
     "name": "stdout",
     "output_type": "stream",
     "text": [
      "Extracting MNIST_data/train-images-idx3-ubyte.gz\n",
      "Extracting MNIST_data/train-labels-idx1-ubyte.gz\n",
      "Extracting MNIST_data/t10k-images-idx3-ubyte.gz\n",
      "Extracting MNIST_data/t10k-labels-idx1-ubyte.gz\n"
     ]
    }
   ],
   "source": [
    "#导入数据\n",
    "\n",
    "import tensorflow as tf\n",
    "from tensorflow.examples.tutorials.mnist import input_data\n",
    "# 会自行下载，最好自己先将数据下载好，不然很慢而且不一定成功\n",
    "mnist = input_data.read_data_sets(\"MNIST_data/\",one_hot = True)"
   ]
  },
  {
   "cell_type": "code",
   "execution_count": 7,
   "metadata": {},
   "outputs": [
    {
     "name": "stdout",
     "output_type": "stream",
     "text": [
      "input shape: (55000, 784)\n",
      "im.shape (28, 28)\n"
     ]
    },
    {
     "data": {
      "image/png": "[encoded data removed]",
      "text/plain": [
       "<Figure size 432x288 with 1 Axes>"
      ]
     },
     "metadata": {
      "needs_background": "light"
     },
     "output_type": "display_data"
    }
   ],
   "source": [
    "# 关于数据集的一些特性\n",
    "print(\"input shape:\",mnist.train.images.shape)\n",
    "import pylab\n",
    "im = mnist.train.images[10]\n",
    "im = im.reshape(-1,28)\n",
    "print(\"im.shape\",im.shape)\n",
    "pylab.imshow(im)\n",
    "pylab.show()"
   ]
  },
  {
   "cell_type": "code",
   "execution_count": 8,
   "metadata": {},
   "outputs": [],
   "source": [
    "# 输入数据 设置占位符\n",
    "\n",
    "tf.reset_default_graph()\n",
    "# 使用占位符用来输入测试数据\n",
    "x = tf.placeholder(tf.float32,[None,784]) # 里面的None表示可以设置为任何长度的数据\n",
    "y = tf.placeholder(tf.float32,[None,10])"
   ]
  },
  {
   "cell_type": "code",
   "execution_count": 9,
   "metadata": {},
   "outputs": [],
   "source": [
    "# 构建模型\n",
    "\n",
    "# 定义学习参数\n",
    "# 设置为十个节点\n",
    "W = tf.Variable(tf.random_normal([784,10]))\n",
    "b = tf.Variable(tf.zeros([10]))\n",
    "# 构建模型，利用softmax 作为激活函数\n",
    "#  tf.matmul做矩阵的dot\n",
    "# 最后输出一个概率的值\n",
    "pred = tf.nn.softmax(tf.matmul(x,W)+b)"
   ]
  },
  {
   "cell_type": "code",
   "execution_count": 10,
   "metadata": {},
   "outputs": [],
   "source": [
    "# 定一个损失函数\n",
    "\n",
    "# tf.reduce_sum() 求和\n",
    "# tf.reduce_mea 求平均值\n",
    "# 使用交叉熵\n",
    "cost = tf.reduce_mean(-tf.reduce_sum(y*tf.log(pred),reduction_indices=1))\n",
    "\n",
    "# 定义optimizer，反向传播计算梯度并且更新参数\n",
    "lr = 0.01\n",
    "optimizer = tf.train.GradientDescentOptimizer(lr).minimize(cost)"
   ]
  },
  {
   "cell_type": "code",
   "execution_count": 14,
   "metadata": {},
   "outputs": [
    {
     "name": "stdout",
     "output_type": "stream",
     "text": [
      "Epoch: 1 cost= 7.483330046\n",
      "Epoch: 2 cost= 3.778994521\n",
      "Epoch: 3 cost= 2.736918453\n",
      "Epoch: 4 cost= 2.226314249\n",
      "Epoch: 5 cost= 1.921271311\n",
      "Epoch: 6 cost= 1.717587542\n",
      "Epoch: 7 cost= 1.571083173\n",
      "Epoch: 8 cost= 1.460413458\n",
      "Epoch: 9 cost= 1.373417763\n",
      "Epoch: 10 cost= 1.302548731\n",
      "Epoch: 11 cost= 1.243836126\n",
      "Epoch: 12 cost= 1.193931646\n",
      "Epoch: 13 cost= 1.150768734\n",
      "Epoch: 14 cost= 1.113102791\n",
      "Epoch: 15 cost= 1.079618842\n",
      "Epoch: 16 cost= 1.049720488\n",
      "Epoch: 17 cost= 1.022872675\n",
      "Epoch: 18 cost= 0.998265256\n",
      "Epoch: 19 cost= 0.975826320\n",
      "Epoch: 20 cost= 0.955225270\n",
      "Epoch: 21 cost= 0.936228452\n",
      "Epoch: 22 cost= 0.918566659\n",
      "Epoch: 23 cost= 0.902070237\n",
      "Epoch: 24 cost= 0.886666068\n",
      "Epoch: 25 cost= 0.872323238\n",
      " Finished!\n"
     ]
    }
   ],
   "source": [
    "# 开始训练模型\n",
    "\n",
    "epochs = 25\n",
    "batch_size = 100\n",
    "display_step = 1\n",
    "\n",
    "sess = tf.InteractiveSession()\n",
    "\n",
    "sess.run(tf.global_variables_initializer())\n",
    "\n",
    "for epoch in range(epochs):\n",
    "    avg_cost = 0\n",
    "    total_batch = int(mnist.train.num_examples/batch_size)\n",
    "    \n",
    "    for i in range(total_batch):\n",
    "        batch_xs,batch_ys = mnist.train.next_batch(batch_size)\n",
    "        \n",
    "        _,c =sess.run([optimizer,cost],feed_dict = {x:batch_xs,y:batch_ys})\n",
    "        \n",
    "        avg_cost += c/total_batch\n",
    "        \n",
    "    if (epoch+1) % display_step == 0:\n",
    "        print(\"Epoch:\",(epoch+1),\"cost=\",\"{:.9f}\".format(avg_cost))\n",
    "        \n",
    "print( \" Finished!\")"
   ]
  },
  {
   "cell_type": "code",
   "execution_count": 15,
   "metadata": {},
   "outputs": [
    {
     "name": "stdout",
     "output_type": "stream",
     "text": [
      "acc: 0.8338\n"
     ]
    }
   ],
   "source": [
    "# 测试模型\n",
    "\n",
    "correct_prediction = tf.equal(tf.argmax(pred,1),tf.argmax(y,1))\n",
    "accuracy = tf.reduce_mean(tf.cast(correct_prediction,tf.float32))\n",
    "print(\"acc:\",accuracy.eval({x:mnist.test.images,y:mnist.test.labels}))"
   ]
  },
  {
   "cell_type": "code",
   "execution_count": 16,
   "metadata": {},
   "outputs": [
    {
     "data": {
      "text/plain": [
       "'models/MNIST_ANN01.cpkt'"
      ]
     },
     "execution_count": 16,
     "metadata": {},
     "output_type": "execute_result"
    }
   ],
   "source": [
    "# 保存模型\n",
    "saver = tf.train.Saver()\n",
    "savedir = \"models/\"\n",
    "saver.save(sess,savedir+\"MNIST_ANN01.cpkt\")"
   ]
  }
 ],
 "metadata": {
  "kernelspec": {
   "display_name": "Python 3",
   "language": "python",
   "name": "python3"
  },
  "language_info": {
   "codemirror_mode": {
    "name": "ipython",
    "version": 3
   },
   "file_extension": ".py",
   "mimetype": "text/x-python",
   "name": "python",
   "nbconvert_exporter": "python",
   "pygments_lexer": "ipython3",
   "version": "3.5.3"
  },
  "toc": {
   "base_numbering": 1,
   "nav_menu": {},
   "number_sections": true,
   "sideBar": true,
   "skip_h1_title": false,
   "title_cell": "Table of Contents",
   "title_sidebar": "Contents",
   "toc_cell": false,
   "toc_position": {},
   "toc_section_display": true,
   "toc_window_display": false
  }
 },
 "nbformat": 4,
 "nbformat_minor": 2
}
