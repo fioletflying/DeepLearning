{
 "cells": [
  {
   "cell_type": "markdown",
   "metadata": {},
   "source": [
    "### tensorflow注入机制\n",
    "\n",
    "- 使用placeholder用于占位符，\n",
    "- 使用feed_dict将数据注入到占位符中"
   ]
  },
  {
   "cell_type": "code",
   "execution_count": 4,
   "metadata": {},
   "outputs": [
    {
     "name": "stdout",
     "output_type": "stream",
     "text": [
      "add: 7\n",
      "mul: 12\n",
      "[7, 12]\n"
     ]
    }
   ],
   "source": [
    "# tensorflow注入机制\n",
    "\n",
    "import tensorflow as tf\n",
    "\n",
    "a = tf.placeholder(tf.int16)\n",
    "b = tf.placeholder(tf.int16)\n",
    "\n",
    "add = tf.add(a,b)\n",
    "mul = tf.multiply(a,b)\n",
    "\n",
    "sess = tf.InteractiveSession()\n",
    "\n",
    "# 使用feed_dict 注入数据，由于使用了placeholder\n",
    "# 将数据注入到placeholder中\n",
    "print(\"add: %i\" % sess.run(add,feed_dict={a:3,b:4}))\n",
    "print(\"mul: %i\" % sess.run(mul,feed_dict={a:3,b:4}))\n",
    "print(sess.run([add,mul],feed_dict={a:3,b:4}))"
   ]
  },
  {
   "cell_type": "code",
   "execution_count": null,
   "metadata": {},
   "outputs": [],
   "source": [
    "# 保存模型\n",
    "\n",
    "# 准备数据\n",
    "import numpy as np\n",
    "import matplotlib.pyplot as plt\n",
    "import tensorflow as tf\n",
    "\n",
    "# 生成一个-1,1的等差数列\n",
    "X_train = np.linspace(-1,1,100)\n",
    "Y_train = 2*X_train + np.random.randn(*X_train.shape)*0.3\n",
    "\n",
    "# 重置图\n",
    "tf.reset_default_graph()\n",
    "sess = tf.InteractiveSession()\n",
    "\n",
    "#创建模型\n",
    "#占位符:用来存放训练的数据\n",
    "X = tf.placeholder(\"float\")\n",
    "Y = tf.placeholder(\"float\")\n",
    "# 模型的参数\n",
    "# W生成一个随机数[-1,1],形状为一维的\n",
    "W = tf.Variable(tf.random_normal([1]),name=\"weight\") \n",
    "b = tf.Variable(tf.zeros([1]),name=\"bias\")\n",
    "# 前向传播的结构\n",
    "z = tf.multiply(X,W)+b\n",
    "\n",
    "# 反向传播计算梯度以及优化\n",
    "# 定义损失函数为平方差\n",
    "cost = tf.reduce_mean(tf.square(Y-z))\n",
    "# 设定学习率\n",
    "learning_rate = 0.01\n",
    "# 选择梯度下降算法\n",
    "optimizer = tf.train.GradientDescentOptimizer(learning_rate).minimize(cost)\n",
    "\n",
    "#初始化所有的参数\n",
    "init = tf.global_variables_initializer()\n",
    "iter_num = 20\n",
    "display_step = 2\n",
    "\n",
    "sess.run(init)\n",
    "plotdata = {\"batchsize\":[],\"loss\":[]}\n",
    "for epoch in range(iter_num):\n",
    "    for (x,y) in zip(X_train,Y_train):\n",
    "        sess.run(optimizer,feed_dict = {X:x,Y:y})\n",
    "\n",
    "    if epoch % display_step == 0:\n",
    "        loss = sess.run(cost,feed_dict={X:X_train,Y:Y_train})\n",
    "        print(\"Epoch:\",epoch+1,\" cost=\",cost,\" W=\",sess.run(W),\" b=\",sess.run(b))\n",
    "\n",
    "\n",
    "print(\"Finished!\")\n",
    "print(\" cost=\",sess.run(cost,feed_dict={X:X_train,Y:Y_train}),\" W=\",sess.run(W),\" b=\",sess.run(b))"
   ]
  }
 ],
 "metadata": {
  "kernelspec": {
   "display_name": "Python 3",
   "language": "python",
   "name": "python3"
  },
  "language_info": {
   "codemirror_mode": {
    "name": "ipython",
    "version": 3
   },
   "file_extension": ".py",
   "mimetype": "text/x-python",
   "name": "python",
   "nbconvert_exporter": "python",
   "pygments_lexer": "ipython3",
   "version": "3.5.3"
  },
  "toc": {
   "base_numbering": 1,
   "nav_menu": {},
   "number_sections": true,
   "sideBar": true,
   "skip_h1_title": false,
   "title_cell": "Table of Contents",
   "title_sidebar": "Contents",
   "toc_cell": false,
   "toc_position": {},
   "toc_section_display": true,
   "toc_window_display": false
  }
 },
 "nbformat": 4,
 "nbformat_minor": 2
}
