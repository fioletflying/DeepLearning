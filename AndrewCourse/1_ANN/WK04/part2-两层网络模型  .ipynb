{
 "cells": [
  {
   "cell_type": "markdown",
   "metadata": {},
   "source": [
    "## 两层网络的实践案例\n",
    "\n",
    "### 基础库\n",
    "这里需要导入的库有：\n",
    "\n",
    "- numpy：这个不用介绍\n",
    "- h5py 用来分析H5 文件的包.\n",
    "- matplotlib 不用介绍\n",
    "- PIL and scipy 用来分析最后的预测结果.\n",
    "- dnn_utils：作者给定的一些必要的函数：sigmoid, sigmoid_backward, relu, relu_backward\n",
    "- testCases 测试函数\n",
    "- np.random.seed(1) 保证随机数的确定性\n",
    "\n"
   ]
  },
  {
   "cell_type": "code",
   "execution_count": 1,
   "metadata": {},
   "outputs": [],
   "source": [
    "import time\n",
    "import numpy as np\n",
    "import h5py\n",
    "import matplotlib.pyplot as plt\n",
    "import scipy\n",
    "from PIL import Image\n",
    "from scipy import ndimage\n",
    "from dnn_app_utils_v2 import *\n",
    "\n",
    "%matplotlib inline\n",
    "plt.rcParams['figure.figsize'] = (5.0, 4.0) # set default size of plots\n",
    "plt.rcParams['image.interpolation'] = 'nearest'\n",
    "plt.rcParams['image.cmap'] = 'gray'\n",
    "\n",
    "%load_ext autoreload\n",
    "%autoreload 2\n",
    "\n",
    "np.random.seed(1)"
   ]
  },
  {
   "cell_type": "markdown",
   "metadata": {},
   "source": [
    "### 数据集\n",
    "\n",
    "这里的问题就是想通过一个模型来判别给出的图片是否为猫。\n",
    "- 图片的shape(width,hight,3),RGB的图片\n",
    "- 这里的图片数据是保存在一个“data.h5”的文件中\n",
    "\n",
    "现在开始来获取训练集和测试集。就是利用上面的给的脚本函数：\n",
    "- train_set_x_orig ： 训练集orig,表示原始数据，后面我们要对原始数据进行归一化等处理\n",
    "- traing_set_y：训练集标签\n",
    "- test_set_x_orig：测试集orig,表示原始数据\n",
    "- test_set_y：测试集标签\n",
    "- classes：种类\n",
    "\n",
    "这些数据的格式通过shape函数就可以获得：\n",
    "- train_set_x_orig：(209, 64, 64, 3)\n",
    "    - 209：表示训练样本的个数\n",
    "    - (64, 64, 3):表示图片size 和channel\n",
    "- traing_set_y：(1, 209)\n",
    "- test_set_x_orig：(50, 64, 64, 3)\n",
    "- test_set_y：(1, 50)\n",
    "- classes：(2,)\n",
    "    - non-cat\n",
    "    - cat"
   ]
  },
  {
   "cell_type": "code",
   "execution_count": 2,
   "metadata": {},
   "outputs": [],
   "source": [
    "#获取数据集\n",
    "train_set_x_orig,train_set_y,test_set_x_orig,test_set_y, classes= load_data()"
   ]
  },
  {
   "cell_type": "code",
   "execution_count": 3,
   "metadata": {},
   "outputs": [
    {
     "name": "stdout",
     "output_type": "stream",
     "text": [
      "(209, 64, 64, 3)\n",
      "(1, 209)\n",
      "(50, 64, 64, 3)\n",
      "(1, 50)\n",
      "(2,)\n",
      "b'non-cat'\n",
      "b'cat'\n",
      "<class 'numpy.ndarray'>\n"
     ]
    }
   ],
   "source": [
    "# 训练集的一些信息\n",
    "# (209, 64, 64, 3):\n",
    "print(train_set_x_orig.shape)\n",
    "print(train_set_y.shape)\n",
    "print(test_set_x_orig.shape)\n",
    "print(test_set_y.shape)\n",
    "print(classes.shape)\n",
    "print(classes[0])\n",
    "print(classes[1])\n",
    "print(type(classes))"
   ]
  },
  {
   "cell_type": "code",
   "execution_count": 6,
   "metadata": {},
   "outputs": [
    {
     "name": "stdout",
     "output_type": "stream",
     "text": [
      "y= [0] non-cat\n",
      "y= [0] b'non-cat'\n"
     ]
    },
    {
     "data": {
      "image/png": "[encoded data removed]",
      "text/plain": [
       "<Figure size 360x288 with 1 Axes>"
      ]
     },
     "metadata": {
      "needs_background": "light"
     },
     "output_type": "display_data"
    }
   ],
   "source": [
    "# 显示一张图\n",
    "index = 10\n",
    "plt.imshow(train_set_x_orig[index])\n",
    "print(\"y=\",str(train_set_y[:,index]),classes[np.squeeze(train_set_y[:, index])].decode(\"utf-8\"))\n",
    "# 没有使用decode\n",
    "print(\"y=\",str(train_set_y[:,index]),classes[np.squeeze(train_set_y[:, index])])"
   ]
  },
  {
   "cell_type": "markdown",
   "metadata": {},
   "source": [
    "#### 数据转换\n",
    "\n",
    "将图片的3D数据转换成1D数据，这样方便使用神经网络的输入。\n",
    "使用reshape可以很方便的做到：\n",
    "`X_flatten = X.reshape(X.shape[0],-1).T`\n",
    "这里的意思是保留第一位数据，-1,：表示到最后的一位变成一个列数据"
   ]
  },
  {
   "cell_type": "code",
   "execution_count": 4,
   "metadata": {},
   "outputs": [
    {
     "name": "stdout",
     "output_type": "stream",
     "text": [
      "(12288, 209)\n",
      "(12288, 50)\n"
     ]
    }
   ],
   "source": [
    "# 变换数据\n",
    "m_train = train_set_x_orig.shape[0]\n",
    "m_test = test_set_x_orig.shape[0]\n",
    "num_px = train_set_x_orig.shape[1]\n",
    "\n",
    "# 这里的.T表示转置，为了与后面的W相匹配，也方便大家理解输入的神经元\n",
    "train_set_x_flat = train_set_x_orig.reshape(m_train,-1).T\n",
    "test_set_x_flat = test_set_x_orig.reshape(m_test,-1).T\n",
    "\n",
    "print(train_set_x_flat.shape)\n",
    "print(test_set_x_flat.shape)"
   ]
  },
  {
   "cell_type": "markdown",
   "metadata": {},
   "source": [
    "#### 数据的归一化\n",
    "\n",
    "由于图片的数据是由RGB3个通道组成，且通道的数据范围为0-255，为了方便以后的计算，每次我们都需要对输入的原始数据进行归一化。具体实践如下"
   ]
  },
  {
   "cell_type": "code",
   "execution_count": 5,
   "metadata": {},
   "outputs": [
    {
     "name": "stdout",
     "output_type": "stream",
     "text": [
      "train_x's shape: (12288, 209)\n",
      "test_x's shape: (12288, 50)\n"
     ]
    }
   ],
   "source": [
    "#### 数据的归一化\n",
    "train_x = train_set_x_flat/255.\n",
    "test_x = test_set_x_flat/255.\n",
    "\n",
    "print (\"train_x's shape: \" + str(train_x.shape))\n",
    "print (\"test_x's shape: \" + str(test_x.shape))"
   ]
  },
  {
   "cell_type": "markdown",
   "metadata": {},
   "source": [
    "\n",
    "### 两层网络的模型结构\n",
    "\n",
    "其结构图如下：\n",
    "\n",
    "![](imgs/18.jpg)\n",
    "\n",
    "下面来总结以下该结构的模型：\n",
    "- 输入时(64,64,3)的图片，拉伸转换成一个列向量(12288,1)\n",
    "- 这里的第一层网络隐层层为n1,那么权重W1 shape为(n1,12288)\n",
    "- 经过第一层的relu激活函数后，A1就变成(n1,1)\n",
    "- 然后第二层的权重为W2(1,n1)\n",
    "- 最后经过一层sigmoid激活函数，输出该值。\n",
    "\n"
   ]
  },
  {
   "cell_type": "markdown",
   "metadata": {},
   "source": [
    "### L层网络的模型结构\n",
    "\n",
    "其结构图如下：\n",
    "![](imgs/19.jpg)\n",
    "\n",
    "- 输入时(64,64,3)的图片，拉伸转换成一个列向量(12288,1)\n",
    "- 这里的第一层网络隐层层为n1,那么权重W1 shape为(n1,12288)\n",
    "- 经过第一层的relu激活函数后，A1就变成(n1,1)\n",
    "- 循环执行上面两步创建更多的层，\n",
    "- 最后经过一层sigmoid激活函数，输出该值。"
   ]
  },
  {
   "cell_type": "markdown",
   "metadata": {},
   "source": [
    "### 创建模型的一般步骤\n",
    "\n",
    "- 初始化参数并定义超参数\n",
    "- 循环更新：\n",
    "    - 前向传播\n",
    "    - 计算损失值\n",
    "    - 反向传播\n",
    "    - 更新参数\n",
    "- 使用训练的数据预测"
   ]
  },
  {
   "cell_type": "markdown",
   "metadata": {},
   "source": [
    "### 两层神经网络的创建\n",
    "\n",
    "其结果的流程如下：\n",
    "线性-> Relu激活 -> 线性 -> Sigmoid 激活\n",
    "需要使用上一节定义的一些基础函数如下："
   ]
  },
  {
   "cell_type": "code",
   "execution_count": 15,
   "metadata": {},
   "outputs": [],
   "source": [
    "def initialize_parameters(n_x, n_h, n_y):\n",
    "    \"\"\"\n",
    "    输入：\n",
    "        n_x: 表示输入的数据的个数\n",
    "        n_h: 中间隐藏层的神经元的个数\n",
    "        n_y: 表示输出的数据的个数\n",
    "    \"\"\"\n",
    "    \n",
    "    np.random.seed(1)\n",
    "    # W1的shape是根据前一层和后一层的维度确定\n",
    "    W1 = np.random.randn(n_h,n_x) * 0.01\n",
    "    # b的维度是根据当前层的维度来确定\n",
    "    b1 = np.zeros((n_h,1))\n",
    "    W2 = np.random.randn(n_y,n_h) * 0.01\n",
    "    b2 = np.zeros((n_y,1))\n",
    "    \n",
    "    # 辅助判断参数的shape\n",
    "    assert(W1.shape == (n_h, n_x))\n",
    "    assert(b1.shape == (n_h, 1))\n",
    "    assert(W2.shape == (n_y, n_h))\n",
    "    assert(b2.shape == (n_y, 1))\n",
    "    \n",
    "    parameters={\"W1\":W1,\n",
    "               \"b1\":b1,\n",
    "               \"W2\":W2,\n",
    "               \"b2\":b2}\n",
    "    \n",
    "    return parameters\n",
    "\n",
    "\n",
    "def linear_forward(A, W, b):\n",
    "    \"\"\"\n",
    "    输入：\n",
    "        A:表示前一层的计算结果\n",
    "        W:表示当前层的权重\n",
    "        b:表示当前层的偏置\n",
    "        \n",
    "    输出：\n",
    "        Z: 计算结果\n",
    "        cache:A,W,b的数据\n",
    "    \"\"\"\n",
    "    Z = np.dot(W,A) + b\n",
    "    \n",
    "    cache = (A,W,b)\n",
    "    \n",
    "    return Z,cache\n",
    "\n",
    "def linear_activation_forward(A_prev, W, b, activation):\n",
    "    \"\"\"\n",
    "    输入：\n",
    "    A_prev:表示上一层的激活函数计算的值或者输入层数据\n",
    "    W,b:表述参数\n",
    "    activation： 表示当前激活函数样式：\"sigmoid\"&\"relu\"\n",
    "    \n",
    "    输出：\n",
    "    A:当前层的输出\n",
    "    cache:缓存linear_cache, activation_cache\n",
    "    \"\"\"\n",
    "    \n",
    "    if activation == \"sigmoid\":\n",
    "        Z,linear_cache = linear_forward(A_prev,W,b)\n",
    "        A,activation_cache = sigmoid(Z)\n",
    "    elif activation == \"relu\":\n",
    "        Z,linear_cache = linear_forward(A_prev,W,b)\n",
    "        A,activation_cache = relu(Z)\n",
    "    \n",
    "    cache = (linear_cache, activation_cache)\n",
    "    return A,cache\n",
    "\n",
    "def compute_cost(AL,Y):\n",
    "    \"\"\"\n",
    "    输入：\n",
    "        AL:最后一层的输出值\n",
    "        Y:标签数据\n",
    "    \"\"\"\n",
    "    \n",
    "    m = Y.shape[1]\n",
    "    # j计算loss值\n",
    "    cost = -np.sum(np.multiply(np.log(AL),Y)+\n",
    "                   np.multiply(np.log(1-AL),1-Y))/m\n",
    "    \n",
    "    cost = np.squeeze(cost)\n",
    "    \n",
    "    return cost\n",
    "\n",
    "\n",
    "def linear_backward(dZ, cache):\n",
    "    \"\"\"\n",
    "    输入：\n",
    "        dZ 前一层的Activate导数\n",
    "        cache: 该层缓存的（A_prev,W,b）\n",
    "    \n",
    "    输出：\n",
    "        dA_prev：loss的梯度\n",
    "        dW:W的梯度\n",
    "        db:b的梯度\n",
    "    \"\"\"\n",
    "    A_prev,W,b = cache\n",
    "    m = A_prev.shape[1]\n",
    "    \n",
    "    dW = np.dot(dZ,A_prev.T)/m\n",
    "    db = np.sum(dZ,axis=1,keepdims=True)\n",
    "    dA_prev = np.dot(W.T,dZ)\n",
    "    \n",
    "    return dA_prev,dW,db\n",
    "\n",
    "\n",
    "def linear_activation_backward(dA,cache,activation):\n",
    "    \"\"\"\n",
    "    输入：\n",
    "        dA: 前一层的梯度\n",
    "        cache: 前向传播缓存的值：linear_cache,activation_catche\n",
    "        activation: 激活函数的形式\n",
    "    \"\"\"\n",
    "    \n",
    "    linear_cache, activation_cache = cache\n",
    "    \n",
    "    \n",
    "    if activation == 'relu':\n",
    "        dZ = relu_backward(dA,activation_cache)\n",
    "        dA_prev,dW,db = linear_backward(dZ,linear_cache)\n",
    "        \n",
    "    elif activation == 'sigmoid':\n",
    "        dZ = sigmoid_backward(dA,activation_cache)\n",
    "        dA_prev,dW,db = linear_backward(dZ,linear_cache)\n",
    "        \n",
    "    return dA_prev,dW,db\n",
    "\n",
    "\n",
    "def update_parameters(parameters, grads, learning_rate):\n",
    "    \n",
    "    L = len(parameters)//2\n",
    "    \n",
    "    for l in range(L):\n",
    "        parameters[\"W\" + str(l+1)] = parameters[\"W\" + str(l+1)] - learning_rate * grads[\"dW\" + str(l+1)]\n",
    "        parameters[\"b\" + str(l+1)] = parameters[\"b\" + str(l+1)] - learning_rate * grads[\"db\" + str(l+1)]\n",
    "        \n",
    "    return parameters"
   ]
  },
  {
   "cell_type": "code",
   "execution_count": 7,
   "metadata": {},
   "outputs": [],
   "source": [
    "## 创建两层网络的结构\n",
    "\n",
    "n_x = 12288\n",
    "n_h = 7\n",
    "n_y = 1\n",
    "layers_dims = (n_x,n_h,n_y)"
   ]
  },
  {
   "cell_type": "code",
   "execution_count": 10,
   "metadata": {},
   "outputs": [],
   "source": [
    "def two_layer_model(X, Y, layers_dims, learning_rate = 0.0075, num_iterations = 3000, print_cost=False):\n",
    "    \"\"\"\n",
    "    构建一个两层神经网络模型: LINEAR->RELU->LINEAR->SIGMOID.\n",
    "\n",
    "    输入:\n",
    "    X -- 输入数据\n",
    "    Y -- 标签数据 (containing 0 if cat, 1 if non-cat), of shape (1, number of examples)\n",
    "    layers_dims -- 网络的结构维度 (n_x, n_h, n_y)\n",
    "    num_iterations -- 循环优化的次数\n",
    "    learning_rate -- 学习率\n",
    "    print_cost -- 是否需要每隔100次打印cost值 \n",
    "\n",
    "    输出:\n",
    "    parameters -- 字典 W1, W2, b1, and b2\n",
    "    \"\"\"\n",
    "    \n",
    "    # 基础参数\n",
    "    np.random.seed(1)\n",
    "    grads = {}\n",
    "    costs = []\n",
    "    m = X.shape[1]\n",
    "    (n_x,n_h,n_y) = layers_dims\n",
    "    \n",
    "    # 参数初始化\n",
    "    parameters = initialize_parameters(n_x,n_h,n_y)\n",
    "    \n",
    "    W1 = parameters['W1']\n",
    "    b1 = parameters['b1']\n",
    "    W2 = parameters['W2']\n",
    "    b2 = parameters['b2']\n",
    "    \n",
    "    # 开始迭代更新\n",
    "    for i in range(0,num_iterations):\n",
    "        # 前向传播第一层\n",
    "        A1,cache1 = linear_activation_forward(X,\n",
    "                                              W1,\n",
    "                                              b1,\n",
    "                                              activation='relu')\n",
    "        # 前向传播第二层\n",
    "        A2,cache2 = linear_activation_forward(A1,\n",
    "                                             W2,\n",
    "                                             b2,\n",
    "                                             activation='sigmoid')\n",
    "        # 计算loss值\n",
    "        cost = compute_cost(A2,Y)\n",
    "        # 计算loss函数的梯度\n",
    "        dA2 = - (np.divide(Y, A2) - np.divide(1 - Y, 1 - A2))\n",
    "        # 计算第二层的梯度\n",
    "        dA1,dW2,db2 = linear_activation_backward(dA2,\n",
    "                                                 cache2,\n",
    "                                                 activation='sigmoid')\n",
    "         # 计算第一层的梯度\n",
    "        dA0,dW1,db1 = linear_activation_backward(dA1,\n",
    "                                                cache1,\n",
    "                                                activation='relu'\n",
    "                                                )\n",
    "        grads['dW1'] = dW1\n",
    "        grads['db1'] = db1\n",
    "        grads['dW2'] = dW2\n",
    "        grads['db2'] = db2\n",
    "        \n",
    "        # 更新数据\n",
    "        parameters = update_parameters(parameters, grads, learning_rate)\n",
    "       \n",
    "        W1 = parameters[\"W1\"]\n",
    "        b1 = parameters[\"b1\"]\n",
    "        W2 = parameters[\"W2\"]\n",
    "        b2 = parameters[\"b2\"]\n",
    "\n",
    "        # 打印loss 值\n",
    "        if print_cost and i % 100 == 0:\n",
    "            print(\"Cost after iteration {}: {}\".format(i, np.squeeze(cost)))\n",
    "        if print_cost and i % 100 == 0:\n",
    "            costs.append(cost)\n",
    "        \n",
    "   \n",
    "    # 绘制cost图\n",
    "    plt.plot(np.squeeze(costs))\n",
    "    plt.ylabel('cost')\n",
    "    plt.xlabel('iterations (per tens)')\n",
    "    plt.title(\"Learning rate =\" + str(learning_rate))\n",
    "    plt.show()\n",
    "\n",
    "    return parameters"
   ]
  },
  {
   "cell_type": "code",
   "execution_count": 16,
   "metadata": {},
   "outputs": [
    {
     "name": "stdout",
     "output_type": "stream",
     "text": [
      "Cost after iteration 0: 0.6930497356599891\n",
      "Cost after iteration 100: 0.6434500681370936\n",
      "Cost after iteration 200: 0.6414437042628797\n",
      "Cost after iteration 300: 0.6347160978826792\n",
      "Cost after iteration 400: 0.6173814630487935\n",
      "Cost after iteration 500: 0.5838741760485857\n",
      "Cost after iteration 600: 0.5324298290317827\n",
      "Cost after iteration 700: 0.4708930107796538\n",
      "Cost after iteration 800: 0.40906176953905693\n",
      "Cost after iteration 900: 0.43255178599158595\n",
      "Cost after iteration 1000: 0.396088405248911\n",
      "Cost after iteration 1100: 0.3644262509969618\n",
      "Cost after iteration 1200: 0.33850642396949965\n",
      "Cost after iteration 1300: 0.30437664621719485\n",
      "Cost after iteration 1400: 0.2764476484724279\n",
      "Cost after iteration 1500: 0.2394740176206378\n",
      "Cost after iteration 1600: 0.21648491662223188\n",
      "Cost after iteration 1700: 0.11657705851785018\n",
      "Cost after iteration 1800: 0.10014662862682322\n",
      "Cost after iteration 1900: 0.083802144896121\n",
      "Cost after iteration 2000: 0.071657834547891\n",
      "Cost after iteration 2100: 0.06142319028214403\n",
      "Cost after iteration 2200: 0.053613941753966596\n",
      "Cost after iteration 2300: 0.04716293207697183\n",
      "Cost after iteration 2400: 0.04184239838885022\n"
     ]
    },
    {
     "data": {
      "image/png": "[encoded data removed]",
      "text/plain": [
       "<Figure size 432x288 with 1 Axes>"
      ]
     },
     "metadata": {
      "needs_background": "light"
     },
     "output_type": "display_data"
    }
   ],
   "source": [
    "parameters = two_layer_model(train_x, train_set_y,\n",
    "                             layers_dims = (n_x, n_h, n_y), \n",
    "                             num_iterations = 2500, \n",
    "                             print_cost=True)"
   ]
  },
  {
   "cell_type": "markdown",
   "metadata": {},
   "source": [
    "### 使用训练的值进行预测\n",
    "\n",
    "下面进行值预测，需要使用如下coding.\n",
    "训练的数据基本上能够完成100%的正确，但是测试数据只有72%，说明该模型已经过拟合了，但是泛化能力还是不行。所以我们需要更加深的网络来实现高精度的预测。"
   ]
  },
  {
   "cell_type": "code",
   "execution_count": 17,
   "metadata": {},
   "outputs": [],
   "source": [
    "def predict(X, y, parameters):\n",
    "    \"\"\"\n",
    "    L 层网络的预测\n",
    "\n",
    "    输入:\n",
    "    X -- 需要预测的值\n",
    "    parameters -- 模型训练的参数\n",
    "\n",
    "    返回:\n",
    "    p -- 预测的精度\n",
    "    \"\"\"\n",
    "\n",
    "    m = X.shape[1]\n",
    "    n = len(parameters) // 2 # number of layers in the neural network\n",
    "    p = np.zeros((1,m))\n",
    "\n",
    "    # Forward propagation\n",
    "    probas, caches = L_model_forward(X, parameters)\n",
    "\n",
    "\n",
    "    # convert probas to 0/1 predictions\n",
    "    for i in range(0, probas.shape[1]):\n",
    "        if probas[0,i] > 0.5:\n",
    "            p[0,i] = 1\n",
    "        else:\n",
    "            p[0,i] = 0\n",
    "\n",
    "    print(\"Accuracy: \"  + str(np.sum((p == y)/m)))\n",
    "\n",
    "    return p"
   ]
  },
  {
   "cell_type": "code",
   "execution_count": 19,
   "metadata": {},
   "outputs": [
    {
     "name": "stdout",
     "output_type": "stream",
     "text": [
      "Accuracy: 0.9952153110047844\n",
      "Accuracy: 0.72\n"
     ]
    },
    {
     "data": {
      "text/plain": [
       "array([[1., 1., 1., 1., 1., 1., 0., 1., 1., 1., 0., 0., 1., 1., 0., 1.,\n",
       "        0., 1., 0., 0., 1., 0., 0., 1., 1., 1., 1., 0., 0., 1., 0., 1.,\n",
       "        1., 1., 0., 0., 0., 1., 0., 0., 1., 0., 1., 0., 1., 1., 0., 1.,\n",
       "        1., 0.]])"
      ]
     },
     "execution_count": 19,
     "metadata": {},
     "output_type": "execute_result"
    }
   ],
   "source": [
    "# 预测训练数据的精度\n",
    "predict(train_x, train_set_y, parameters)\n",
    "# 预测测试数据的精度\n",
    "predict(test_x, test_set_y, parameters)"
   ]
  }
 ],
 "metadata": {
  "kernelspec": {
   "display_name": "Python 3",
   "language": "python",
   "name": "python3"
  },
  "language_info": {
   "codemirror_mode": {
    "name": "ipython",
    "version": 3
   },
   "file_extension": ".py",
   "mimetype": "text/x-python",
   "name": "python",
   "nbconvert_exporter": "python",
   "pygments_lexer": "ipython3",
   "version": "3.6.8"
  },
  "toc": {
   "base_numbering": 1,
   "nav_menu": {},
   "number_sections": true,
   "sideBar": true,
   "skip_h1_title": false,
   "title_cell": "Table of Contents",
   "title_sidebar": "Contents",
   "toc_cell": false,
   "toc_position": {},
   "toc_section_display": true,
   "toc_window_display": false
  }
 },
 "nbformat": 4,
 "nbformat_minor": 2
}
