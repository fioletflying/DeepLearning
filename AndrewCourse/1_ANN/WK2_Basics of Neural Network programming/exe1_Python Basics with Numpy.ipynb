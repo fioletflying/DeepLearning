{
 "cells": [
  {
   "cell_type": "markdown",
   "metadata": {},
   "source": [
    "### 用numpy创建基础函数\n",
    "\n",
    "#### sigmoid 函数的创建\n",
    "\n",
    "先尝试使用python自带的math类库来实现，coding如下\n"
   ]
  },
  {
   "cell_type": "code",
   "execution_count": 16,
   "metadata": {},
   "outputs": [],
   "source": [
    "import math\n",
    "\n",
    "def basic_sigmoid(x):\n",
    "    \"\"\"\n",
    "    python自带的math类库来实现\n",
    "    \"\"\"\n",
    "    s = 1.0/(1+math.exp(-x))\n",
    "    return s"
   ]
  },
  {
   "cell_type": "code",
   "execution_count": 24,
   "metadata": {},
   "outputs": [
    {
     "data": {
      "image/png": "[encoded data removed]",
      "text/plain": [
       "<Figure size 432x288 with 1 Axes>"
      ]
     },
     "metadata": {
      "needs_background": "light"
     },
     "output_type": "display_data"
    }
   ],
   "source": [
    "import numpy as np\n",
    "%matplotlib inline\n",
    "import matplotlib.pyplot as plt\n",
    "\n",
    "y = np.arange(-5.0,5,0.1)\n",
    "x = np.arange(-5.0,5,0.1)\n",
    "j=0\n",
    "for i in np.arange(-5.0,5,0.1):\n",
    "    y[j] = basic_sigmoid(i)\n",
    "    j+=1\n",
    "\n",
    "plt.plot(x,y)\n",
    "# 显示该图像\n",
    "plt.show()\n"
   ]
  },
  {
   "cell_type": "markdown",
   "metadata": {},
   "source": [
    "上面的只能计算关于单个数据，如果是输入的x是一个向量或者是一个矩阵，这个函数就不能用了。如下coding"
   ]
  },
  {
   "cell_type": "code",
   "execution_count": 25,
   "metadata": {},
   "outputs": [
    {
     "ename": "TypeError",
     "evalue": "bad operand type for unary -: 'list'",
     "output_type": "error",
     "traceback": [
      "\u001b[1;31m---------------------------------------------------------------------------\u001b[0m",
      "\u001b[1;31mTypeError\u001b[0m                                 Traceback (most recent call last)",
      "\u001b[1;32m<ipython-input-25-dd516d540ddd>\u001b[0m in \u001b[0;36m<module>\u001b[1;34m\u001b[0m\n\u001b[0;32m      1\u001b[0m \u001b[0mx\u001b[0m \u001b[1;33m=\u001b[0m \u001b[1;33m[\u001b[0m\u001b[1;36m1\u001b[0m\u001b[1;33m,\u001b[0m\u001b[1;36m2\u001b[0m\u001b[1;33m,\u001b[0m\u001b[1;36m3\u001b[0m\u001b[1;33m]\u001b[0m\u001b[1;33m\u001b[0m\u001b[1;33m\u001b[0m\u001b[0m\n\u001b[1;32m----> 2\u001b[1;33m \u001b[0my\u001b[0m \u001b[1;33m=\u001b[0m \u001b[0mbasic_sigmoid\u001b[0m\u001b[1;33m(\u001b[0m\u001b[0mx\u001b[0m\u001b[1;33m)\u001b[0m\u001b[1;33m\u001b[0m\u001b[1;33m\u001b[0m\u001b[0m\n\u001b[0m",
      "\u001b[1;32m<ipython-input-16-51eca517c3ec>\u001b[0m in \u001b[0;36mbasic_sigmoid\u001b[1;34m(x)\u001b[0m\n\u001b[0;32m      5\u001b[0m     \u001b[0mpython自带的math类库来实现\u001b[0m\u001b[1;33m\u001b[0m\u001b[1;33m\u001b[0m\u001b[0m\n\u001b[0;32m      6\u001b[0m     \"\"\"\n\u001b[1;32m----> 7\u001b[1;33m     \u001b[0ms\u001b[0m \u001b[1;33m=\u001b[0m \u001b[1;36m1.0\u001b[0m\u001b[1;33m/\u001b[0m\u001b[1;33m(\u001b[0m\u001b[1;36m1\u001b[0m\u001b[1;33m+\u001b[0m\u001b[0mmath\u001b[0m\u001b[1;33m.\u001b[0m\u001b[0mexp\u001b[0m\u001b[1;33m(\u001b[0m\u001b[1;33m-\u001b[0m\u001b[0mx\u001b[0m\u001b[1;33m)\u001b[0m\u001b[1;33m)\u001b[0m\u001b[1;33m\u001b[0m\u001b[1;33m\u001b[0m\u001b[0m\n\u001b[0m\u001b[0;32m      8\u001b[0m     \u001b[1;32mreturn\u001b[0m \u001b[0ms\u001b[0m\u001b[1;33m\u001b[0m\u001b[1;33m\u001b[0m\u001b[0m\n",
      "\u001b[1;31mTypeError\u001b[0m: bad operand type for unary -: 'list'"
     ]
    }
   ],
   "source": [
    "x = [1,2,3]\n",
    "y = basic_sigmoid(x)"
   ]
  },
  {
   "cell_type": "markdown",
   "metadata": {},
   "source": [
    "这个时候numpy这个的类库的作用就可以体现了，因为npmpy中的exp函数可以接收的数据类型种类很多种：\n",
    "- 数值\n",
    "- 向量,列表\n",
    "- 矩阵...\n",
    "其原理如下\n",
    "x=(x1,x2,...,xn)\n",
    "np.exp(x)=(ex1,ex2,...,exn)\n",
    "具体coding如下："
   ]
  },
  {
   "cell_type": "code",
   "execution_count": 30,
   "metadata": {},
   "outputs": [
    {
     "name": "stdout",
     "output_type": "stream",
     "text": [
      "[ 2.71828183  7.3890561  20.08553692]\n",
      "[ 2.71828183  7.3890561  20.08553692]\n",
      "[[ 1.          7.3890561  20.08553692]\n",
      " [ 7.3890561  20.08553692 54.59815003]]\n",
      "[[3 5 6]\n",
      " [5 6 7]]\n"
     ]
    }
   ],
   "source": [
    "import numpy as np\n",
    "# 列表\n",
    "x = [1,2,3]\n",
    "y = np.exp(x)\n",
    "print(y)\n",
    "\n",
    "# 向量\n",
    "x =np.array([1,2,3])\n",
    "y = np.exp(x)\n",
    "print(y)\n",
    "\n",
    "# 矩阵\n",
    "x =np.array([[0,2,3],[2,3,4]])\n",
    "y = np.exp(x)\n",
    "print(y)\n",
    "\n",
    "# 向量的加法\n",
    "print(x+3)"
   ]
  },
  {
   "cell_type": "code",
   "execution_count": 31,
   "metadata": {},
   "outputs": [],
   "source": [
    "# sigmoid 函数\n",
    "\n",
    "import numpy as np\n",
    "\n",
    "def sigmoid(x):\n",
    "    \"\"\"\n",
    "    numpy 实现sigmoid函数\n",
    "    \"\"\"\n",
    "    return 1.0/(1.0+np.exp(-x))\n"
   ]
  },
  {
   "cell_type": "code",
   "execution_count": 35,
   "metadata": {},
   "outputs": [
    {
     "data": {
      "text/plain": [
       "[<matplotlib.lines.Line2D at 0x12fe9cb03c8>]"
      ]
     },
     "execution_count": 35,
     "metadata": {},
     "output_type": "execute_result"
    },
    {
     "data": {
      "image/png": "[encoded data removed]",
      "text/plain": [
       "<Figure size 432x288 with 1 Axes>"
      ]
     },
     "metadata": {
      "needs_background": "light"
     },
     "output_type": "display_data"
    }
   ],
   "source": [
    "import numpy as np\n",
    "import matplotlib.pyplot as plt\n",
    "%matplotlib inline\n",
    "\n",
    "x = np.arange(-5.0,5.0,0.1)\n",
    "y = sigmoid(x)\n",
    "\n",
    "plt.plot(x,y)\n"
   ]
  },
  {
   "cell_type": "markdown",
   "metadata": {},
   "source": [
    "### Sigmoid 的梯度函数\n",
    "\n",
    "sigmoid函数的导数，大家可以自己推导一下，有一定的技巧在里面。最终的结果如下：  \n",
    "\n",
    "sigmoid_derivative(x)=σ′(x)=σ(x)(1−σ(x))  \n",
    "σ′(x)=s(1−s)\n"
   ]
  },
  {
   "cell_type": "code",
   "execution_count": 36,
   "metadata": {},
   "outputs": [],
   "source": [
    "def sigmoid_derivative(x):\n",
    "    \"\"\"\n",
    "    sigmoid函数的导数\n",
    "    \"\"\"\n",
    "    s = 1.0/(1.0+np.exp(-x))\n",
    "    ds = s * (1-s)\n",
    "    return ds\n"
   ]
  },
  {
   "cell_type": "code",
   "execution_count": 39,
   "metadata": {},
   "outputs": [
    {
     "name": "stdout",
     "output_type": "stream",
     "text": [
      "sigmoid(x) 的导数为:[0.19661193 0.10499359 0.04517666]\n"
     ]
    }
   ],
   "source": [
    "x = np.array([1.0,2,3])\n",
    "print(\"sigmoid(x) 的导数为:\"+str(sigmoid_derivative(x)))"
   ]
  },
  {
   "cell_type": "markdown",
   "metadata": {},
   "source": [
    "#### 向量的Reshaping\n",
    "\n",
    "- X.shape:数组的形状,数组的维度\n",
    "- X.reshape():表示对数据转换成其它的维度形状\n",
    "\n",
    "比如我们的图像数据格式[length,height,depth], 数据的shape为(3,1)，维度为3\n",
    "如果我们想让数据3D变换成成一列1D,这个时候就需要使用`reshape`\n"
   ]
  },
  {
   "cell_type": "code",
   "execution_count": 41,
   "metadata": {},
   "outputs": [],
   "source": [
    "def image2vecotr(image):\n",
    "    \"\"\"\n",
    "    将一个图片数据变换成一个向量列表\n",
    "    \"\"\"\n",
    "    v = image.reshape((image.shape[0]*image.shape[1]*image.shape[2],1))\n",
    "    \n",
    "    return v"
   ]
  },
  {
   "cell_type": "code",
   "execution_count": 44,
   "metadata": {},
   "outputs": [
    {
     "name": "stdout",
     "output_type": "stream",
     "text": [
      "(3, 3, 2)\n",
      "image2vecotr(image)转换成一个vector:[[0.67826139]\n",
      " [0.29380381]\n",
      " [0.90714982]\n",
      " [0.52835647]\n",
      " [0.4215251 ]\n",
      " [0.45017551]\n",
      " [0.92814219]\n",
      " [0.96677647]\n",
      " [0.85304703]\n",
      " [0.52351845]\n",
      " [0.19981397]\n",
      " [0.27417313]\n",
      " [0.60659855]\n",
      " [0.00533165]\n",
      " [0.10820313]\n",
      " [0.49978937]\n",
      " [0.34144279]\n",
      " [0.94630077]]\n",
      "(18, 1)\n"
     ]
    }
   ],
   "source": [
    "image = np.array([[[ 0.67826139,  0.29380381],\n",
    "        [ 0.90714982,  0.52835647],\n",
    "        [ 0.4215251 ,  0.45017551]],\n",
    "\n",
    "       [[ 0.92814219,  0.96677647],\n",
    "        [ 0.85304703,  0.52351845],\n",
    "        [ 0.19981397,  0.27417313]],\n",
    "\n",
    "       [[ 0.60659855,  0.00533165],\n",
    "        [ 0.10820313,  0.49978937],\n",
    "        [ 0.34144279,  0.94630077]]])\n",
    "print(image.shape)\n",
    "\n",
    "print(\"image2vecotr(image)转换成一个vector:\"+str(image2vecotr(image)))\n",
    "print(image2vecotr(image).shape)"
   ]
  },
  {
   "cell_type": "markdown",
   "metadata": {},
   "source": [
    "####  行的归一化\n",
    "\n",
    "归一化是一个很好的让梯度下降更快的方法，这里我们介绍一个简单的归一化方法，行的归一化。具体实现如下：\n",
    "\n",
    "![](imgs/1.jpg)\n",
    "\n",
    "我们需要使用的numpy函数是：\n",
    "**np.linalg.norm**\n",
    "\n",
    ">ord=1：列和的最大值\n",
    "ord=2：|λE-ATA|=0，求特征值，然后求最大特征值得算术平方根(matlab在线版，计算ans=ATA，[x,y]=eig(ans)，sqrt(y)，x是特征向量，y是特征值)\n",
    "ord=∞：行和的最大值\n",
    "ord=None：默认情况下，是求整体的矩阵元素平方和，再开根号。（没仔细看，以为默认情况下就是矩阵的二范数，修正一下，默认情况下是求整个矩阵元素平方和再开根号）\n",
    "③axis：处理类型\n",
    "axis=1表示按行向量处理，求多个行向量的范数\n",
    "axis=0表示按列向量处理，求多个列向量的范数\n",
    "axis=None表示矩阵范数。\n",
    "④keepding：是否保持矩阵的二维特性\n",
    "True表示保持矩阵的二维特性，False相反\n",
    "\n"
   ]
  },
  {
   "cell_type": "code",
   "execution_count": 49,
   "metadata": {},
   "outputs": [
    {
     "name": "stdout",
     "output_type": "stream",
     "text": [
      "默认参数(矩阵整体元素平方和开根号，不保留矩阵二维特性)： 8.831760866327848\n",
      "矩阵整体元素平方和开根号，保留矩阵二维特性： [[8.83176087]]\n",
      "矩阵每个行向量求向量的2范数： [[5.        ]\n",
      " [7.28010989]]\n",
      "矩阵每个列向量求向量的2范数： [[1.         6.70820393 5.65685425]]\n",
      "矩阵1范数： [[9.]]\n",
      "矩阵2范数： [[8.70457079]]\n",
      "矩阵∞范数： [[11.]]\n",
      "矩阵每个行向量求向量的1范数： [[ 7.]\n",
      " [11.]]\n",
      "矩阵每个行向量求求和： [[ 7]\n",
      " [11]]\n"
     ]
    }
   ],
   "source": [
    "#np.linalg.norm的使用\n",
    "\n",
    "x = np.array([\n",
    "    [0, 3, 4],\n",
    "    [1, 6, 4]])\n",
    "\n",
    "\n",
    "print(\"默认参数(矩阵整体元素平方和开根号，不保留矩阵二维特性)：\",np.linalg.norm(x))\n",
    "print(\"矩阵整体元素平方和开根号，保留矩阵二维特性：\",np.linalg.norm(x,keepdims=True))\n",
    " \n",
    "print(\"矩阵每个行向量求向量的2范数：\",np.linalg.norm(x,axis=1,keepdims=True))\n",
    "print(\"矩阵每个列向量求向量的2范数：\",np.linalg.norm(x,axis=0,keepdims=True))\n",
    " \n",
    "print(\"矩阵1范数：\",np.linalg.norm(x,ord=1,keepdims=True))\n",
    "print(\"矩阵2范数：\",np.linalg.norm(x,ord=2,keepdims=True))\n",
    "print(\"矩阵∞范数：\",np.linalg.norm(x,ord=np.inf,keepdims=True))\n",
    " \n",
    "print(\"矩阵每个行向量求向量的1范数：\",np.linalg.norm(x,ord=1,axis=1,keepdims=True))\n",
    "\n",
    "print(\"矩阵每个行向量求求和：\",np.sum(x,axis=1,keepdims=True))\n"
   ]
  },
  {
   "cell_type": "code",
   "execution_count": 47,
   "metadata": {},
   "outputs": [],
   "source": [
    "def normalizeRows(x):\n",
    "    \n",
    "    \"\"\"\n",
    "    行的归一化\n",
    "    \"\"\"\n",
    "    \n",
    "    x_norm = np.linalg.norm(x,axis=1,keepdims=True)\n",
    "    \n",
    "    x = x/x_norm\n",
    "    return x\n"
   ]
  },
  {
   "cell_type": "code",
   "execution_count": 48,
   "metadata": {},
   "outputs": [
    {
     "name": "stdout",
     "output_type": "stream",
     "text": [
      "normalizeRows(x) = [[0.         0.6        0.8       ]\n",
      " [0.13736056 0.82416338 0.54944226]]\n"
     ]
    }
   ],
   "source": [
    "x = np.array([\n",
    "    [0, 3, 4],\n",
    "    [1, 6, 4]])\n",
    "print(\"normalizeRows(x) =\", normalizeRows(x))"
   ]
  },
  {
   "cell_type": "markdown",
   "metadata": {},
   "source": [
    "#### Softmax 函数\n",
    "\n",
    "上面我们利用了numpy的一个重要的功能实现了x+3,np.exp(-x),那就是广播，这个是一个非常重要的属性。\n",
    "这里我们总结几条可以广播的规则：\n",
    "- 数组维度不同，后缘维度的轴长相符\n",
    "- 数组维度相同，其中有个轴为1\n",
    "\n",
    "更多内容可以参考[广播](https://www.numpy.org.cn/user/basics/broadcasting.html#%E4%B8%80%E8%88%AC%E5%B9%BF%E6%92%AD%E8%A7%84%E5%88%99)\n",
    "\n",
    "这里我们再举一个例子关于广播，比如我们要实现softmax函数的。\n",
    "\n",
    "softmax函数的实践过程如下图：\n",
    "![](imgs/2.jpg)"
   ]
  },
  {
   "cell_type": "code",
   "execution_count": 50,
   "metadata": {},
   "outputs": [],
   "source": [
    "def softmax(x):\n",
    "    \"\"\"\n",
    "    x - 维度可以是(n,m)\n",
    "    \"\"\"\n",
    "    \n",
    "    x_exp = exp(x)\n",
    "    # 利用sum函数来实现行向量的叠加\n",
    "    x_sum = np.sum(x,axis=1,keepdims=True)\n",
    "    # 利用广播来实现\n",
    "    s = x_exp/x_sum\n",
    "    \n",
    "    return s"
   ]
  },
  {
   "cell_type": "markdown",
   "metadata": {},
   "source": [
    "#### 总结\n",
    "\n",
    "- np.exp(x) 可以对于任意shape的x进行实践\n",
    "- 实践sigmoid和sigmoid的导数\n",
    "- image2vector 利用reshap可以实现3D 到 1D\n",
    "- np.reshape使用非常的广泛，但是要主要bug出现，主要是没有加上后面的（，1）.\n",
    "- 广播在numpy中是一个非常重要的特性，要好好掌握\n"
   ]
  },
  {
   "cell_type": "markdown",
   "metadata": {},
   "source": [
    "###  向量化\n",
    "\n",
    "#### 向量化与矩阵的乘法\n",
    "\n",
    "向量化是非常基础的去除代码中for循环的艺术，在深度学习安全领域、深度学习实践中，你会经常发现自己训练大数据集，因为深度学习算法处理大数据集效果很棒，所以你的代码运行速度非常重要，否则如果在大数据集上，你的代码可能花费很长时间去运行，你将要等待非常长的时间去得到结果。所以在深度学习领域，运行向量化是一个关键的技巧，让我们举个栗子说明什么是向量化。\n",
    "\n",
    "Numpy中的矩阵的乘法是利用如下的函数：\n",
    "- `np.dot(A,B)`\n",
    "- 矩阵的乘积也称为点积\n",
    "\n",
    "矩阵乘法的工作原理：\n",
    "- 矩阵的乘积是通过左边矩阵的行（横向）和右边矩阵的列（纵向）以对应元素的方式相乘后再求和而得到的\n",
    "- 运算的结果保存为新的多维数组的元素\n",
    "    - 矩阵A的第1行与矩阵B的第1列乘积的结果，就放到新矩阵的第1行和第1列\n",
    "    - 左边的矩阵决定结果的行号，右边的矩阵决定结果的列号"
   ]
  },
  {
   "cell_type": "code",
   "execution_count": 53,
   "metadata": {},
   "outputs": [
    {
     "name": "stdout",
     "output_type": "stream",
     "text": [
      "向量化的计算速度 1.996755599975586 ms\n",
      "For 循环的计算速度 424.56626892089844 ms\n"
     ]
    }
   ],
   "source": [
    "import numpy as np\n",
    "import time\n",
    "\n",
    "a = np.random.rand(1000000)\n",
    "b = np.random.rand(1000000)\n",
    "\n",
    "tic = time.time()\n",
    "c = np.dot(a,b)\n",
    "toc = time.time()\n",
    "\n",
    "print(\"向量化的计算速度\",1000*(toc-tic),\"ms\")\n",
    "\n",
    "tic = time.time()\n",
    "for i in range(1000000):\n",
    "    c += a[i] * b[i]\n",
    "toc = time.time()\n",
    "print(\"For 循环的计算速度\",1000*(toc-tic),\"ms\")"
   ]
  },
  {
   "cell_type": "markdown",
   "metadata": {},
   "source": [
    "#### L1与L2的损失函数\n",
    "\n",
    "L1的损失函数的如下：\n",
    "![](imgs/3.jpg)\n"
   ]
  },
  {
   "cell_type": "code",
   "execution_count": 54,
   "metadata": {},
   "outputs": [],
   "source": [
    "def L1(yhat,y):\n",
    "    \"\"\"\n",
    "    yhat: 表示预测的结果，其为一个列表\n",
    "    y: 表示真实的结果，其为一个列表\n",
    "    \"\"\"\n",
    "    \n",
    "    loss = np.sum(np.abs(y-yhat))\n",
    "    \n",
    "    return loss"
   ]
  },
  {
   "cell_type": "markdown",
   "metadata": {},
   "source": [
    "L2的损失函数的如下：\n",
    "![](imgs/3.jpg)"
   ]
  },
  {
   "cell_type": "code",
   "execution_count": 58,
   "metadata": {},
   "outputs": [],
   "source": [
    "def L2(yhat,y):\n",
    "    \"\"\"\n",
    "    yhat: 表示预测的结果，其为一个列表\n",
    "    y: 表示真实的结果，其为一个列表\n",
    "    \"\"\"\n",
    "    \n",
    "    loss = np.sum(np.power((y-yhat),2))\n",
    "    \n",
    "    return loss"
   ]
  },
  {
   "cell_type": "code",
   "execution_count": 59,
   "metadata": {},
   "outputs": [
    {
     "name": "stdout",
     "output_type": "stream",
     "text": [
      "L1 = 1.1\n",
      "L2 = 0.43\n"
     ]
    }
   ],
   "source": [
    "yhat = np.array([.9, 0.2, 0.1, .4, .9])\n",
    "y = np.array([1, 0, 0, 1, 1])\n",
    "print(\"L1 = \" + str(L1(yhat,y)))\n",
    "print(\"L2 = \" + str(L2(yhat,y)))"
   ]
  }
 ],
 "metadata": {
  "kernelspec": {
   "display_name": "Python 3",
   "language": "python",
   "name": "python3"
  },
  "language_info": {
   "codemirror_mode": {
    "name": "ipython",
    "version": 3
   },
   "file_extension": ".py",
   "mimetype": "text/x-python",
   "name": "python",
   "nbconvert_exporter": "python",
   "pygments_lexer": "ipython3",
   "version": "3.6.8"
  },
  "toc": {
   "base_numbering": 1,
   "nav_menu": {},
   "number_sections": true,
   "sideBar": true,
   "skip_h1_title": false,
   "title_cell": "Table of Contents",
   "title_sidebar": "Contents",
   "toc_cell": false,
   "toc_position": {},
   "toc_section_display": true,
   "toc_window_display": false
  }
 },
 "nbformat": 4,
 "nbformat_minor": 2
}
