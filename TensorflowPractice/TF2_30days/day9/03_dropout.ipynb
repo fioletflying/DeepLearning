{
 "metadata": {
  "language_info": {
   "codemirror_mode": {
    "name": "ipython",
    "version": 3
   },
   "file_extension": ".py",
   "mimetype": "text/x-python",
   "name": "python",
   "nbconvert_exporter": "python",
   "pygments_lexer": "ipython3",
   "version": "3.6.12-final"
  },
  "orig_nbformat": 2,
  "kernelspec": {
   "name": "python3",
   "display_name": "Python 3.6.12 64-bit ('tf2': conda)",
   "metadata": {
    "interpreter": {
     "hash": "e17394781024da1f0ed279aab7c6165e80e3acfd2491de02c017c43da5039587"
    }
   }
  }
 },
 "nbformat": 4,
 "nbformat_minor": 2,
 "cells": [
  {
   "source": [
    "## Dropout\n",
    "\n",
    "这个也是一个有效避免过拟合的方法，其原理就是通过随机的断开神经网络的连接，来减少每次训练的实际参与模型计算的参数量，但是测试和模型的使用过程中会回复所以的连接。\n",
    "\n",
    "其具体的做法是，对需要进行dropout的那一层的节点，设定一个概率值p,用来表示该节点断开几率。\n",
    "\n",
    "Tensorflow 中，可以使用如下API:\n",
    "- tf.nn.dropout(x,rate)\n",
    "    - x:表示节点数据\n",
    "    - rate: 表示断开的概率值\n",
    "- layers.Dropout(rate)\n",
    "    - 表示该层网络的使用dropout\n",
    "    - rate表示该层网络中节点的断开的概率"
   ],
   "cell_type": "markdown",
   "metadata": {}
  },
  {
   "cell_type": "code",
   "execution_count": 2,
   "metadata": {},
   "outputs": [],
   "source": [
    "import tensorflow as tf\n",
    "from tensorflow.keras import datasets,layers,optimizers,Sequential,metrics\n",
    "import numpy as np"
   ]
  },
  {
   "cell_type": "code",
   "execution_count": 10,
   "metadata": {},
   "outputs": [
    {
     "output_type": "stream",
     "name": "stdout",
     "text": [
      "[[0. 1.]\n [2. 3.]\n [4. 5.]\n [6. 7.]\n [8. 9.]]\ntf.Tensor(\n[[ 0.  0.]\n [ 4.  6.]\n [ 0. 10.]\n [ 0. 14.]\n [16.  0.]], shape=(5, 2), dtype=float32)\n"
     ]
    }
   ],
   "source": [
    "tf.random.set_seed(0)\n",
    "layer = tf.keras.layers.Dropout(.5,input_shape=(2,))\n",
    "data = np.arange(10).reshape(5,2).astype(np.float32)\n",
    "print(data)\n",
    "outputs = layer(data,training=True)\n",
    "print(outputs)"
   ]
  },
  {
   "cell_type": "code",
   "execution_count": 1,
   "metadata": {},
   "outputs": [],
   "source": [
    "\n",
    "\n",
    "def preprocess(x,y):\n",
    "    x = tf.cast(x,dtype=tf.float32)/255.\n",
    "    y =tf.cast(y,dtype=tf.int32)\n",
    "    return x,y"
   ]
  }
 ]
}