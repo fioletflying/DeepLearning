{
 "metadata": {
  "language_info": {
   "codemirror_mode": {
    "name": "ipython",
    "version": 3
   },
   "file_extension": ".py",
   "mimetype": "text/x-python",
   "name": "python",
   "nbconvert_exporter": "python",
   "pygments_lexer": "ipython3",
   "version": "3.8.5-final"
  },
  "orig_nbformat": 2,
  "kernelspec": {
   "name": "python3",
   "display_name": "Python 3.8.5 64-bit ('tf2': conda)",
   "metadata": {
    "interpreter": {
     "hash": "978a6c862e5d5032ad32c61f6e48b36d1a3d5930a41ca1b1b876a672583e57b7"
    }
   }
  }
 },
 "nbformat": 4,
 "nbformat_minor": 2,
 "cells": [
  {
   "cell_type": "code",
   "execution_count": 1,
   "metadata": {},
   "outputs": [
    {
     "output_type": "stream",
     "name": "stdout",
     "text": [
      "2.3.0\n"
     ]
    }
   ],
   "source": [
    "# 导入的库\n",
    "import numpy as np\n",
    "import matplotlib.pyplot as plt\n",
    "import h5py\n",
    "import scipy\n",
    "from PIL import Image\n",
    "from scipy import ndimage\n",
    "from lr_utils import load_dataset\n",
    "import tensorflow as tf\n",
    "\n",
    "print(tf.__version__)\n"
   ]
  },
  {
   "cell_type": "code",
   "execution_count": 2,
   "metadata": {},
   "outputs": [],
   "source": [
    "#获取数据集\n",
    "train_set_x_orig,train_set_y,test_set_x_orig,test_set_y, classes= load_dataset()"
   ]
  },
  {
   "cell_type": "code",
   "execution_count": 3,
   "metadata": {},
   "outputs": [
    {
     "output_type": "stream",
     "name": "stdout",
     "text": [
      "(209, 64, 64, 3)\n[[0 0 1 0 0 0 0 1 0 0 0 1 0 1 1 0 0 0 0 1 0 0 0 0 1 1 0 1 0 1 0 0 0 0 0 0\n  0 0 1 0 0 1 1 0 0 0 0 1 0 0 1 0 0 0 1 0 1 1 0 1 1 1 0 0 0 0 0 0 1 0 0 1\n  0 0 0 0 0 0 0 0 0 0 0 1 1 0 0 0 1 0 0 0 1 1 1 0 0 1 0 0 0 0 1 0 1 0 1 1\n  1 1 1 1 0 0 0 0 0 1 0 0 0 1 0 0 1 0 1 0 1 1 0 0 0 1 1 1 1 1 0 0 0 0 1 0\n  1 1 1 0 1 1 0 0 0 1 0 0 1 0 0 0 0 0 1 0 1 0 1 0 0 1 1 1 0 0 1 1 0 1 0 1\n  0 0 0 0 0 1 0 0 1 0 0 0 1 0 0 0 0 1 0 0 1 0 0 0 0 0 0 0 0]]\n[b'non-cat' b'cat']\n"
     ]
    }
   ],
   "source": [
    "print(train_set_x_orig.shape)\n",
    "print(train_set_y)\n",
    "print(classes)"
   ]
  },
  {
   "cell_type": "code",
   "execution_count": 4,
   "metadata": {},
   "outputs": [
    {
     "output_type": "stream",
     "name": "stdout",
     "text": [
      "y= [1] cat\n"
     ]
    },
    {
     "output_type": "display_data",
     "data": {
      "text/plain": "<Figure size 432x288 with 1 Axes>",
      "image/svg+xml": "<?xml version=\"1.0\" encoding=\"utf-8\" standalone=\"no\"?>\r\n<!DOCTYPE svg PUBLIC \"-//W3C//DTD SVG 1.1//EN\"\r\n  \"http://www.w3.org/Graphics/SVG/1.1/DTD/svg11.dtd\">\r\n<!-- Created with matplotlib (https://matplotlib.org/) -->\r\n<svg height=\"250.618594pt\" version=\"1.1\" viewBox=\"0 0 251.565 250.618594\" width=\"251.565pt\" xmlns=\"http://www.w3.org/2000/svg\" xmlns:xlink=\"http://www.w3.org/1999/xlink\">\r\n <metadata>\r\n  <rdf:RDF xmlns:cc=\"http://creativecommons.org/ns#\" xmlns:dc=\"http://purl.org/dc/elements/1.1/\" xmlns:rdf=\"http://www.w3.org/1999/02/22-rdf-syntax-ns#\">\r\n   <cc:Work>\r\n    <dc:type rdf:resource=\"http://purl.org/dc/dcmitype/StillImage\"/>\r\n    <dc:date>2020-12-14T17:28:12.545703</dc:date>\r\n    <dc:format>image/svg+xml</dc:format>\r\n    <dc:creator>\r\n     <cc:Agent>\r\n      <dc:title>Matplotlib v3.3.2, https://matplotlib.org/</dc:title>\r\n     </cc:Agent>\r\n    </dc:creator>\r\n   </cc:Work>\r\n  </rdf:RDF>\r\n </metadata>\r\n <defs>\r\n  <style type=\"text/css\">*{stroke-linecap:butt;stroke-linejoin:round;}</style>\r\n </defs>\r\n <g id=\"figure_1\">\r\n  <g id=\"patch_1\">\r\n   <path d=\"M 0 250.618594 \r\nL 251.565 250.618594 \r\nL 251.565 0 \r\nL 0 0 \r\nz\r\n\" style=\"fill:none;\"/>\r\n  </g>\r\n  <g id=\"axes_1\">\r\n   <g id=\"patch_2\">\r\n    <path d=\"M 26.925 226.740469 \r\nL 244.365 226.740469 \r\nL 244.365 9.300469 \r\nL 26.925 9.300469 \r\nz\r\n\" style=\"fill:#ffffff;\"/>\r\n   </g>\r\n   <g clip-path=\"url(#pef72940830)\">\r\n    <image height=\"218\" id=\"image704e822a3c\" transform=\"scale(1 -1)translate(0 -218)\" width=\"218\" x=\"26.925\" xlink:href=\"data:image/png;base64,\r\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\" y=\"-8.740469\"/>\r\n   </g>\r\n   <g id=\"matplotlib.axis_1\">\r\n    <g id=\"xtick_1\">\r\n     <g id=\"line2d_1\">\r\n      <defs>\r\n       <path d=\"M 0 0 \r\nL 0 3.5 \r\n\" id=\"m7f9d02bb0b\" style=\"stroke:#000000;stroke-width:0.8;\"/>\r\n      </defs>\r\n      <g>\r\n       <use style=\"stroke:#000000;stroke-width:0.8;\" x=\"28.62375\" xlink:href=\"#m7f9d02bb0b\" y=\"226.740469\"/>\r\n      </g>\r\n     </g>\r\n     <g id=\"text_1\">\r\n      <!-- 0 -->\r\n      <g transform=\"translate(25.4425 241.338906)scale(0.1 -0.1)\">\r\n       <defs>\r\n        <path d=\"M 31.78125 66.40625 \r\nQ 24.171875 66.40625 20.328125 58.90625 \r\nQ 16.5 51.421875 16.5 36.375 \r\nQ 16.5 21.390625 20.328125 13.890625 \r\nQ 24.171875 6.390625 31.78125 6.390625 \r\nQ 39.453125 6.390625 43.28125 13.890625 \r\nQ 47.125 21.390625 47.125 36.375 \r\nQ 47.125 51.421875 43.28125 58.90625 \r\nQ 39.453125 66.40625 31.78125 66.40625 \r\nz\r\nM 31.78125 74.21875 \r\nQ 44.046875 74.21875 50.515625 64.515625 \r\nQ 56.984375 54.828125 56.984375 36.375 \r\nQ 56.984375 17.96875 50.515625 8.265625 \r\nQ 44.046875 -1.421875 31.78125 -1.421875 \r\nQ 19.53125 -1.421875 13.0625 8.265625 \r\nQ 6.59375 17.96875 6.59375 36.375 \r\nQ 6.59375 54.828125 13.0625 64.515625 \r\nQ 19.53125 74.21875 31.78125 74.21875 \r\nz\r\n\" id=\"DejaVuSans-48\"/>\r\n       </defs>\r\n       <use xlink:href=\"#DejaVuSans-48\"/>\r\n      </g>\r\n     </g>\r\n    </g>\r\n    <g id=\"xtick_2\">\r\n     <g id=\"line2d_2\">\r\n      <g>\r\n       <use style=\"stroke:#000000;stroke-width:0.8;\" x=\"62.59875\" xlink:href=\"#m7f9d02bb0b\" y=\"226.740469\"/>\r\n      </g>\r\n     </g>\r\n     <g id=\"text_2\">\r\n      <!-- 10 -->\r\n      <g transform=\"translate(56.23625 241.338906)scale(0.1 -0.1)\">\r\n       <defs>\r\n        <path d=\"M 12.40625 8.296875 \r\nL 28.515625 8.296875 \r\nL 28.515625 63.921875 \r\nL 10.984375 60.40625 \r\nL 10.984375 69.390625 \r\nL 28.421875 72.90625 \r\nL 38.28125 72.90625 \r\nL 38.28125 8.296875 \r\nL 54.390625 8.296875 \r\nL 54.390625 0 \r\nL 12.40625 0 \r\nz\r\n\" id=\"DejaVuSans-49\"/>\r\n       </defs>\r\n       <use xlink:href=\"#DejaVuSans-49\"/>\r\n       <use x=\"63.623047\" xlink:href=\"#DejaVuSans-48\"/>\r\n      </g>\r\n     </g>\r\n    </g>\r\n    <g id=\"xtick_3\">\r\n     <g id=\"line2d_3\">\r\n      <g>\r\n       <use style=\"stroke:#000000;stroke-width:0.8;\" x=\"96.57375\" xlink:href=\"#m7f9d02bb0b\" y=\"226.740469\"/>\r\n      </g>\r\n     </g>\r\n     <g id=\"text_3\">\r\n      <!-- 20 -->\r\n      <g transform=\"translate(90.21125 241.338906)scale(0.1 -0.1)\">\r\n       <defs>\r\n        <path d=\"M 19.1875 8.296875 \r\nL 53.609375 8.296875 \r\nL 53.609375 0 \r\nL 7.328125 0 \r\nL 7.328125 8.296875 \r\nQ 12.9375 14.109375 22.625 23.890625 \r\nQ 32.328125 33.6875 34.8125 36.53125 \r\nQ 39.546875 41.84375 41.421875 45.53125 \r\nQ 43.3125 49.21875 43.3125 52.78125 \r\nQ 43.3125 58.59375 39.234375 62.25 \r\nQ 35.15625 65.921875 28.609375 65.921875 \r\nQ 23.96875 65.921875 18.8125 64.3125 \r\nQ 13.671875 62.703125 7.8125 59.421875 \r\nL 7.8125 69.390625 \r\nQ 13.765625 71.78125 18.9375 73 \r\nQ 24.125 74.21875 28.421875 74.21875 \r\nQ 39.75 74.21875 46.484375 68.546875 \r\nQ 53.21875 62.890625 53.21875 53.421875 \r\nQ 53.21875 48.921875 51.53125 44.890625 \r\nQ 49.859375 40.875 45.40625 35.40625 \r\nQ 44.1875 33.984375 37.640625 27.21875 \r\nQ 31.109375 20.453125 19.1875 8.296875 \r\nz\r\n\" id=\"DejaVuSans-50\"/>\r\n       </defs>\r\n       <use xlink:href=\"#DejaVuSans-50\"/>\r\n       <use x=\"63.623047\" xlink:href=\"#DejaVuSans-48\"/>\r\n      </g>\r\n     </g>\r\n    </g>\r\n    <g id=\"xtick_4\">\r\n     <g id=\"line2d_4\">\r\n      <g>\r\n       <use style=\"stroke:#000000;stroke-width:0.8;\" x=\"130.54875\" xlink:href=\"#m7f9d02bb0b\" y=\"226.740469\"/>\r\n      </g>\r\n     </g>\r\n     <g id=\"text_4\">\r\n      <!-- 30 -->\r\n      <g transform=\"translate(124.18625 241.338906)scale(0.1 -0.1)\">\r\n       <defs>\r\n        <path d=\"M 40.578125 39.3125 \r\nQ 47.65625 37.796875 51.625 33 \r\nQ 55.609375 28.21875 55.609375 21.1875 \r\nQ 55.609375 10.40625 48.1875 4.484375 \r\nQ 40.765625 -1.421875 27.09375 -1.421875 \r\nQ 22.515625 -1.421875 17.65625 -0.515625 \r\nQ 12.796875 0.390625 7.625 2.203125 \r\nL 7.625 11.71875 \r\nQ 11.71875 9.328125 16.59375 8.109375 \r\nQ 21.484375 6.890625 26.8125 6.890625 \r\nQ 36.078125 6.890625 40.9375 10.546875 \r\nQ 45.796875 14.203125 45.796875 21.1875 \r\nQ 45.796875 27.640625 41.28125 31.265625 \r\nQ 36.765625 34.90625 28.71875 34.90625 \r\nL 20.21875 34.90625 \r\nL 20.21875 43.015625 \r\nL 29.109375 43.015625 \r\nQ 36.375 43.015625 40.234375 45.921875 \r\nQ 44.09375 48.828125 44.09375 54.296875 \r\nQ 44.09375 59.90625 40.109375 62.90625 \r\nQ 36.140625 65.921875 28.71875 65.921875 \r\nQ 24.65625 65.921875 20.015625 65.03125 \r\nQ 15.375 64.15625 9.8125 62.3125 \r\nL 9.8125 71.09375 \r\nQ 15.4375 72.65625 20.34375 73.4375 \r\nQ 25.25 74.21875 29.59375 74.21875 \r\nQ 40.828125 74.21875 47.359375 69.109375 \r\nQ 53.90625 64.015625 53.90625 55.328125 \r\nQ 53.90625 49.265625 50.4375 45.09375 \r\nQ 46.96875 40.921875 40.578125 39.3125 \r\nz\r\n\" id=\"DejaVuSans-51\"/>\r\n       </defs>\r\n       <use xlink:href=\"#DejaVuSans-51\"/>\r\n       <use x=\"63.623047\" xlink:href=\"#DejaVuSans-48\"/>\r\n      </g>\r\n     </g>\r\n    </g>\r\n    <g id=\"xtick_5\">\r\n     <g id=\"line2d_5\">\r\n      <g>\r\n       <use style=\"stroke:#000000;stroke-width:0.8;\" x=\"164.52375\" xlink:href=\"#m7f9d02bb0b\" y=\"226.740469\"/>\r\n      </g>\r\n     </g>\r\n     <g id=\"text_5\">\r\n      <!-- 40 -->\r\n      <g transform=\"translate(158.16125 241.338906)scale(0.1 -0.1)\">\r\n       <defs>\r\n        <path d=\"M 37.796875 64.3125 \r\nL 12.890625 25.390625 \r\nL 37.796875 25.390625 \r\nz\r\nM 35.203125 72.90625 \r\nL 47.609375 72.90625 \r\nL 47.609375 25.390625 \r\nL 58.015625 25.390625 \r\nL 58.015625 17.1875 \r\nL 47.609375 17.1875 \r\nL 47.609375 0 \r\nL 37.796875 0 \r\nL 37.796875 17.1875 \r\nL 4.890625 17.1875 \r\nL 4.890625 26.703125 \r\nz\r\n\" id=\"DejaVuSans-52\"/>\r\n       </defs>\r\n       <use xlink:href=\"#DejaVuSans-52\"/>\r\n       <use x=\"63.623047\" xlink:href=\"#DejaVuSans-48\"/>\r\n      </g>\r\n     </g>\r\n    </g>\r\n    <g id=\"xtick_6\">\r\n     <g id=\"line2d_6\">\r\n      <g>\r\n       <use style=\"stroke:#000000;stroke-width:0.8;\" x=\"198.49875\" xlink:href=\"#m7f9d02bb0b\" y=\"226.740469\"/>\r\n      </g>\r\n     </g>\r\n     <g id=\"text_6\">\r\n      <!-- 50 -->\r\n      <g transform=\"translate(192.13625 241.338906)scale(0.1 -0.1)\">\r\n       <defs>\r\n        <path d=\"M 10.796875 72.90625 \r\nL 49.515625 72.90625 \r\nL 49.515625 64.59375 \r\nL 19.828125 64.59375 \r\nL 19.828125 46.734375 \r\nQ 21.96875 47.46875 24.109375 47.828125 \r\nQ 26.265625 48.1875 28.421875 48.1875 \r\nQ 40.625 48.1875 47.75 41.5 \r\nQ 54.890625 34.8125 54.890625 23.390625 \r\nQ 54.890625 11.625 47.5625 5.09375 \r\nQ 40.234375 -1.421875 26.90625 -1.421875 \r\nQ 22.3125 -1.421875 17.546875 -0.640625 \r\nQ 12.796875 0.140625 7.71875 1.703125 \r\nL 7.71875 11.625 \r\nQ 12.109375 9.234375 16.796875 8.0625 \r\nQ 21.484375 6.890625 26.703125 6.890625 \r\nQ 35.15625 6.890625 40.078125 11.328125 \r\nQ 45.015625 15.765625 45.015625 23.390625 \r\nQ 45.015625 31 40.078125 35.4375 \r\nQ 35.15625 39.890625 26.703125 39.890625 \r\nQ 22.75 39.890625 18.8125 39.015625 \r\nQ 14.890625 38.140625 10.796875 36.28125 \r\nz\r\n\" id=\"DejaVuSans-53\"/>\r\n       </defs>\r\n       <use xlink:href=\"#DejaVuSans-53\"/>\r\n       <use x=\"63.623047\" xlink:href=\"#DejaVuSans-48\"/>\r\n      </g>\r\n     </g>\r\n    </g>\r\n    <g id=\"xtick_7\">\r\n     <g id=\"line2d_7\">\r\n      <g>\r\n       <use style=\"stroke:#000000;stroke-width:0.8;\" x=\"232.47375\" xlink:href=\"#m7f9d02bb0b\" y=\"226.740469\"/>\r\n      </g>\r\n     </g>\r\n     <g id=\"text_7\">\r\n      <!-- 60 -->\r\n      <g transform=\"translate(226.11125 241.338906)scale(0.1 -0.1)\">\r\n       <defs>\r\n        <path d=\"M 33.015625 40.375 \r\nQ 26.375 40.375 22.484375 35.828125 \r\nQ 18.609375 31.296875 18.609375 23.390625 \r\nQ 18.609375 15.53125 22.484375 10.953125 \r\nQ 26.375 6.390625 33.015625 6.390625 \r\nQ 39.65625 6.390625 43.53125 10.953125 \r\nQ 47.40625 15.53125 47.40625 23.390625 \r\nQ 47.40625 31.296875 43.53125 35.828125 \r\nQ 39.65625 40.375 33.015625 40.375 \r\nz\r\nM 52.59375 71.296875 \r\nL 52.59375 62.3125 \r\nQ 48.875 64.0625 45.09375 64.984375 \r\nQ 41.3125 65.921875 37.59375 65.921875 \r\nQ 27.828125 65.921875 22.671875 59.328125 \r\nQ 17.53125 52.734375 16.796875 39.40625 \r\nQ 19.671875 43.65625 24.015625 45.921875 \r\nQ 28.375 48.1875 33.59375 48.1875 \r\nQ 44.578125 48.1875 50.953125 41.515625 \r\nQ 57.328125 34.859375 57.328125 23.390625 \r\nQ 57.328125 12.15625 50.6875 5.359375 \r\nQ 44.046875 -1.421875 33.015625 -1.421875 \r\nQ 20.359375 -1.421875 13.671875 8.265625 \r\nQ 6.984375 17.96875 6.984375 36.375 \r\nQ 6.984375 53.65625 15.1875 63.9375 \r\nQ 23.390625 74.21875 37.203125 74.21875 \r\nQ 40.921875 74.21875 44.703125 73.484375 \r\nQ 48.484375 72.75 52.59375 71.296875 \r\nz\r\n\" id=\"DejaVuSans-54\"/>\r\n       </defs>\r\n       <use xlink:href=\"#DejaVuSans-54\"/>\r\n       <use x=\"63.623047\" xlink:href=\"#DejaVuSans-48\"/>\r\n      </g>\r\n     </g>\r\n    </g>\r\n   </g>\r\n   <g id=\"matplotlib.axis_2\">\r\n    <g id=\"ytick_1\">\r\n     <g id=\"line2d_8\">\r\n      <defs>\r\n       <path d=\"M 0 0 \r\nL -3.5 0 \r\n\" id=\"m96d643a530\" style=\"stroke:#000000;stroke-width:0.8;\"/>\r\n      </defs>\r\n      <g>\r\n       <use style=\"stroke:#000000;stroke-width:0.8;\" x=\"26.925\" xlink:href=\"#m96d643a530\" y=\"10.999219\"/>\r\n      </g>\r\n     </g>\r\n     <g id=\"text_8\">\r\n      <!-- 0 -->\r\n      <g transform=\"translate(13.5625 14.798437)scale(0.1 -0.1)\">\r\n       <use xlink:href=\"#DejaVuSans-48\"/>\r\n      </g>\r\n     </g>\r\n    </g>\r\n    <g id=\"ytick_2\">\r\n     <g id=\"line2d_9\">\r\n      <g>\r\n       <use style=\"stroke:#000000;stroke-width:0.8;\" x=\"26.925\" xlink:href=\"#m96d643a530\" y=\"44.974219\"/>\r\n      </g>\r\n     </g>\r\n     <g id=\"text_9\">\r\n      <!-- 10 -->\r\n      <g transform=\"translate(7.2 48.773437)scale(0.1 -0.1)\">\r\n       <use xlink:href=\"#DejaVuSans-49\"/>\r\n       <use x=\"63.623047\" xlink:href=\"#DejaVuSans-48\"/>\r\n      </g>\r\n     </g>\r\n    </g>\r\n    <g id=\"ytick_3\">\r\n     <g id=\"line2d_10\">\r\n      <g>\r\n       <use style=\"stroke:#000000;stroke-width:0.8;\" x=\"26.925\" xlink:href=\"#m96d643a530\" y=\"78.949219\"/>\r\n      </g>\r\n     </g>\r\n     <g id=\"text_10\">\r\n      <!-- 20 -->\r\n      <g transform=\"translate(7.2 82.748437)scale(0.1 -0.1)\">\r\n       <use xlink:href=\"#DejaVuSans-50\"/>\r\n       <use x=\"63.623047\" xlink:href=\"#DejaVuSans-48\"/>\r\n      </g>\r\n     </g>\r\n    </g>\r\n    <g id=\"ytick_4\">\r\n     <g id=\"line2d_11\">\r\n      <g>\r\n       <use style=\"stroke:#000000;stroke-width:0.8;\" x=\"26.925\" xlink:href=\"#m96d643a530\" y=\"112.924219\"/>\r\n      </g>\r\n     </g>\r\n     <g id=\"text_11\">\r\n      <!-- 30 -->\r\n      <g transform=\"translate(7.2 116.723437)scale(0.1 -0.1)\">\r\n       <use xlink:href=\"#DejaVuSans-51\"/>\r\n       <use x=\"63.623047\" xlink:href=\"#DejaVuSans-48\"/>\r\n      </g>\r\n     </g>\r\n    </g>\r\n    <g id=\"ytick_5\">\r\n     <g id=\"line2d_12\">\r\n      <g>\r\n       <use style=\"stroke:#000000;stroke-width:0.8;\" x=\"26.925\" xlink:href=\"#m96d643a530\" y=\"146.899219\"/>\r\n      </g>\r\n     </g>\r\n     <g id=\"text_12\">\r\n      <!-- 40 -->\r\n      <g transform=\"translate(7.2 150.698437)scale(0.1 -0.1)\">\r\n       <use xlink:href=\"#DejaVuSans-52\"/>\r\n       <use x=\"63.623047\" xlink:href=\"#DejaVuSans-48\"/>\r\n      </g>\r\n     </g>\r\n    </g>\r\n    <g id=\"ytick_6\">\r\n     <g id=\"line2d_13\">\r\n      <g>\r\n       <use style=\"stroke:#000000;stroke-width:0.8;\" x=\"26.925\" xlink:href=\"#m96d643a530\" y=\"180.874219\"/>\r\n      </g>\r\n     </g>\r\n     <g id=\"text_13\">\r\n      <!-- 50 -->\r\n      <g transform=\"translate(7.2 184.673437)scale(0.1 -0.1)\">\r\n       <use xlink:href=\"#DejaVuSans-53\"/>\r\n       <use x=\"63.623047\" xlink:href=\"#DejaVuSans-48\"/>\r\n      </g>\r\n     </g>\r\n    </g>\r\n    <g id=\"ytick_7\">\r\n     <g id=\"line2d_14\">\r\n      <g>\r\n       <use style=\"stroke:#000000;stroke-width:0.8;\" x=\"26.925\" xlink:href=\"#m96d643a530\" y=\"214.849219\"/>\r\n      </g>\r\n     </g>\r\n     <g id=\"text_14\">\r\n      <!-- 60 -->\r\n      <g transform=\"translate(7.2 218.648437)scale(0.1 -0.1)\">\r\n       <use xlink:href=\"#DejaVuSans-54\"/>\r\n       <use x=\"63.623047\" xlink:href=\"#DejaVuSans-48\"/>\r\n      </g>\r\n     </g>\r\n    </g>\r\n   </g>\r\n   <g id=\"patch_3\">\r\n    <path d=\"M 26.925 226.740469 \r\nL 26.925 9.300469 \r\n\" style=\"fill:none;stroke:#000000;stroke-linecap:square;stroke-linejoin:miter;stroke-width:0.8;\"/>\r\n   </g>\r\n   <g id=\"patch_4\">\r\n    <path d=\"M 244.365 226.740469 \r\nL 244.365 9.300469 \r\n\" style=\"fill:none;stroke:#000000;stroke-linecap:square;stroke-linejoin:miter;stroke-width:0.8;\"/>\r\n   </g>\r\n   <g id=\"patch_5\">\r\n    <path d=\"M 26.925 226.740469 \r\nL 244.365 226.740469 \r\n\" style=\"fill:none;stroke:#000000;stroke-linecap:square;stroke-linejoin:miter;stroke-width:0.8;\"/>\r\n   </g>\r\n   <g id=\"patch_6\">\r\n    <path d=\"M 26.925 9.300469 \r\nL 244.365 9.300469 \r\n\" style=\"fill:none;stroke:#000000;stroke-linecap:square;stroke-linejoin:miter;stroke-width:0.8;\"/>\r\n   </g>\r\n  </g>\r\n </g>\r\n <defs>\r\n  <clipPath id=\"pef72940830\">\r\n   <rect height=\"217.44\" width=\"217.44\" x=\"26.925\" y=\"9.300469\"/>\r\n  </clipPath>\r\n </defs>\r\n</svg>\r\n",
      "image/png": "[encoded data removed]"
     },
     "metadata": {
      "needs_background": "light"
     }
    }
   ],
   "source": [
    "# 显示一张图\n",
    "index = 102\n",
    "plt.imshow(train_set_x_orig[index])\n",
    "print(\"y=\",str(train_set_y[:,index]),classes[np.squeeze(train_set_y[:, index])].decode(\"utf-8\"))"
   ]
  },
  {
   "cell_type": "code",
   "execution_count": 6,
   "metadata": {},
   "outputs": [
    {
     "output_type": "stream",
     "name": "stdout",
     "text": [
      "(209, 12288)\n(209, 12288)\n"
     ]
    }
   ],
   "source": [
    "# 转换成1维数据\n",
    "\n",
    "train_set_x_flat = train_set_x_orig.reshape(train_set_x_orig.shape[0],-1)\n",
    "test_set_x_flat = test_set_x_orig.reshape(test_set_x_orig.shape[0],-1)\n",
    "print(train_set_x_flat.shape)\n",
    "print(train_set_x_flat.shape)\n",
    "\n",
    "# # 将\n",
    "# train_set_x_flat = train_set_x_orig.reshape(train_set_x_orig.shape[0],-1).T\n",
    "# test_set_x_flat = test_set_x_orig.reshape(test_set_x_orig.shape[0],-1).T\n",
    "# print(train_set_x_flat.shape)\n",
    "# print(test_set_x_flat.shape)\n",
    "\n",
    "# 将数据归一化，方便训练模型\n",
    "train_set_x = train_set_x_flat/255.\n",
    "test_set_x = test_set_x_flat/255."
   ]
  },
  {
   "source": [
    "### 搭建简单的单层模型\n",
    "\n",
    "模型搭建的过程：\n",
    "- 定义模型的框架\n",
    "- 初始化模型中用到的参数\n",
    "- 训练参数\n",
    "    - 前向计算\n",
    "    - 反向计算\n",
    "    - 更新参数"
   ],
   "cell_type": "markdown",
   "metadata": {}
  },
  {
   "cell_type": "code",
   "execution_count": null,
   "metadata": {},
   "outputs": [],
   "source": [
    "# 参数变量\n",
    "w = tf.Variable(tf.random.normal(w0.shape))\n",
    "b = tf.Variable(tf.zeros_like(b0,dtype=tf.float32))\n",
    "\n",
    "class LinearRegression:\n",
    "    # 定义模型的正向传播\n",
    "    def __call__(self,x):\n",
    "        return x@w+b\n",
    "\n",
    "    def loss_func(self,y_true,y_pred):\n",
    "        # 计算真实标签与预测值的差值平方\n",
    "        return tf.reduce_mean((y_true-y_pred)**2/2)\n",
    "\n",
    "# 构建模型\n",
    "model = LinearRegression()"
   ]
  },
  {
   "cell_type": "code",
   "execution_count": 11,
   "metadata": {},
   "outputs": [
    {
     "output_type": "execute_result",
     "data": {
      "text/plain": [
       "0"
      ]
     },
     "metadata": {},
     "execution_count": 11
    }
   ],
   "source": [
    "b0 = tf.constant([[3.0]])\n",
    "b0.shape\n",
    "\n",
    "train_set_y[0,1]"
   ]
  },
  {
   "cell_type": "code",
   "execution_count": 50,
   "metadata": {},
   "outputs": [],
   "source": [
    "# 参数变量定义及初始化\n",
    "w = tf.Variable(tf.random.normal(shape=([train_set_x.shape[1],1])))\n",
    "b = tf.Variable(tf.zeros(shape=([1,1])))\n",
    "# 构建模型\n",
    "class dnnModle:\n",
    "    def __call__(self,x):\n",
    "        return tf.sigmoid(x@w+b)\n",
    "    \n",
    "    def loss_func(self,y_true,y_pred):\n",
    "        eps = 1e-7\n",
    "        #将预测值限制在 1e-7 以上, 1 - 1e-7 以下，避免log(0)错误\n",
    "        y_pred = tf.clip_by_value(y_pred,eps,1.0-eps)\n",
    "        # 交叉熵损失函数计算\n",
    "        cross_loss =tf.reduce_mean(-y_true*tf.math.log(y_pred)-(1-y_true)*tf.math.log(1-y_pred))\n",
    "        return cross_loss\n",
    "\n",
    "model = dnnModle()\n",
    "        "
   ]
  },
  {
   "cell_type": "code",
   "execution_count": 51,
   "metadata": {},
   "outputs": [
    {
     "output_type": "error",
     "ename": "TypeError",
     "evalue": "constant() missing 1 required positional argument: 'value'",
     "traceback": [
      "\u001b[1;31m---------------------------------------------------------------------------\u001b[0m",
      "\u001b[1;31mTypeError\u001b[0m                                 Traceback (most recent call last)",
      "\u001b[1;32m<ipython-input-51-2741c0a9689d>\u001b[0m in \u001b[0;36m<module>\u001b[1;34m\u001b[0m\n\u001b[1;32m----> 1\u001b[1;33m \u001b[0mdata\u001b[0m \u001b[1;33m=\u001b[0m \u001b[0mtf\u001b[0m\u001b[1;33m.\u001b[0m\u001b[0mconstant\u001b[0m\u001b[1;33m(\u001b[0m\u001b[0mshape\u001b[0m\u001b[1;33m=\u001b[0m\u001b[1;33m(\u001b[0m\u001b[0mtrain_set_x\u001b[0m\u001b[1;33m[\u001b[0m\u001b[1;36m0\u001b[0m\u001b[1;33m,\u001b[0m\u001b[1;33m:\u001b[0m\u001b[1;33m]\u001b[0m\u001b[1;33m,\u001b[0m\u001b[1;36m1\u001b[0m\u001b[1;33m)\u001b[0m\u001b[1;33m,\u001b[0m\u001b[0mdtype\u001b[0m\u001b[1;33m=\u001b[0m\u001b[1;34m'float32'\u001b[0m\u001b[1;33m)\u001b[0m\u001b[1;33m\u001b[0m\u001b[1;33m\u001b[0m\u001b[0m\n\u001b[0m\u001b[0;32m      2\u001b[0m \u001b[0mdata\u001b[0m\u001b[1;33m=\u001b[0m\u001b[0mtf\u001b[0m\u001b[1;33m.\u001b[0m\u001b[0mreshape\u001b[0m\u001b[1;33m(\u001b[0m\u001b[0mdata\u001b[0m\u001b[1;33m,\u001b[0m\u001b[1;33m(\u001b[0m\u001b[1;36m1\u001b[0m\u001b[1;33m,\u001b[0m\u001b[0mdata\u001b[0m\u001b[1;33m.\u001b[0m\u001b[0mshape\u001b[0m\u001b[1;33m[\u001b[0m\u001b[1;36m0\u001b[0m\u001b[1;33m]\u001b[0m\u001b[1;33m)\u001b[0m\u001b[1;33m)\u001b[0m\u001b[1;33m\u001b[0m\u001b[1;33m\u001b[0m\u001b[0m\n\u001b[0;32m      3\u001b[0m \u001b[1;33m\u001b[0m\u001b[0m\n\u001b[0;32m      4\u001b[0m \u001b[0mprint\u001b[0m\u001b[1;33m(\u001b[0m\u001b[0mdata\u001b[0m\u001b[1;33m.\u001b[0m\u001b[0mshape\u001b[0m\u001b[1;33m)\u001b[0m\u001b[1;33m\u001b[0m\u001b[1;33m\u001b[0m\u001b[0m\n\u001b[0;32m      5\u001b[0m \u001b[0mprint\u001b[0m\u001b[1;33m(\u001b[0m\u001b[0mw\u001b[0m\u001b[1;33m.\u001b[0m\u001b[0mshape\u001b[0m\u001b[1;33m)\u001b[0m\u001b[1;33m\u001b[0m\u001b[1;33m\u001b[0m\u001b[0m\n",
      "\u001b[1;31mTypeError\u001b[0m: constant() missing 1 required positional argument: 'value'"
     ]
    }
   ],
   "source": [
    "data = tf.constant(shape=(train_set_x[0,:],1),dtype='float32')\n",
    "data=tf.reshape(data,(1,data.shape[0]))\n",
    "\n",
    "print(data.shape)\n",
    "print(w.shape)\n",
    "a = data@w\n",
    "print(a)"
   ]
  },
  {
   "cell_type": "code",
   "execution_count": 77,
   "metadata": {},
   "outputs": [
    {
     "output_type": "stream",
     "name": "stdout",
     "text": [
      "epoch:\t 0 \tloss:\t 0.0782967806\n",
      "epoch:\t 100 \tloss:\t 0.0782128572\n",
      "epoch:\t 200 \tloss:\t 0.0781353191\n",
      "epoch:\t 300 \tloss:\t 0.07806357\n",
      "epoch:\t 400 \tloss:\t 0.0779969394\n",
      "epoch:\t 500 \tloss:\t 0.077935122\n",
      "epoch:\t 600 \tloss:\t 0.0778773427\n",
      "epoch:\t 700 \tloss:\t 0.077823177\n",
      "epoch:\t 800 \tloss:\t 0.0777723342\n",
      "epoch:\t 900 \tloss:\t 0.0777245\n"
     ]
    }
   ],
   "source": [
    "# 训练模型\n",
    "epochs = 1000\n",
    "lr = 0.001\n",
    "\n",
    "\n",
    "\n",
    "for epoch in range(epochs):\n",
    "    # 遍历每一张图片\n",
    " \n",
    "    data =  tf.constant(value=train_set_x,shape = (train_set_x.shape),dtype='float32')\n",
    "    # print(data.shape)\n",
    "    with tf.GradientTape() as gt:\n",
    "        y_pred = model(data)\n",
    "        loss = model.loss_func(train_set_y[0,i],y_pred)\n",
    "\n",
    "    # 计算反向传播误差\n",
    "    loss_dw,loss_db = gt.gradient(loss,[w,b])\n",
    "\n",
    "    w.assign(w-lr*loss_dw)\n",
    "    b.assign(b-lr*loss_db)\n",
    "\n",
    "    if epoch % 100 == 0:\n",
    "        tf.print(\"epoch:\\t\",epoch,\"\\tloss:\\t\",loss)"
   ]
  },
  {
   "cell_type": "code",
   "execution_count": 88,
   "metadata": {},
   "outputs": [
    {
     "output_type": "stream",
     "name": "stdout",
     "text": [
      "(50, 12288)\ntest correct:  0.34\n(209, 12288)\ntrain correct:  0.6507177033492823\n"
     ]
    }
   ],
   "source": [
    "## 测试模型\n",
    "print(test_set_x.shape)\n",
    "right_count = 0\n",
    "for i in range(test_set_x.shape[0]):\n",
    "    y_pred = model(test_set_x[i,:].reshape(1,test_set_x.shape[1]))\n",
    "    if abs(test_set_y[0,i] - y_pred)<0.5:\n",
    "        right_count +=1\n",
    "\n",
    "print(\"test correct: \",right_count/float(test_set_x.shape[0]))\n",
    "\n",
    "\n",
    "## 测试模型\n",
    "print(train_set_x.shape)\n",
    "right_count = 0\n",
    "for i in range(train_set_x.shape[0]):\n",
    "    y_pred = model(train_set_x[i,:].reshape(1,train_set_x.shape[1]))\n",
    "    if abs(train_set_y[0,i] - y_pred)<0.5:\n",
    "        right_count +=1\n",
    "\n",
    "print(\"train correct: \",right_count/float(train_set_x.shape[0]))\n"
   ]
  }
 ]
}