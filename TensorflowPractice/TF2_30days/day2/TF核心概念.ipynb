{
 "cells": [
  {
   "cell_type": "markdown",
   "metadata": {},
   "source": [
    "## tensorflow的核心概念\n",
    "\n",
    "Tensorflow底层最核心的概念是\n",
    "- 张量：多维数据数组，即张量（tensor）\n",
    "- 计算图：数据流图（data flow graphs）\n",
    "- 自动微分：反向传播计算导数\n"
   ]
  },
  {
   "cell_type": "markdown",
   "metadata": {},
   "source": [
    "### 张量数据结构\n",
    "\n",
    "TensorFlow程序 = 张量数据结构 + 计算图算法语言\n",
    "\n",
    "从行为特性来看，有**两种**类型的张量，\n",
    "- **常量constant**：计算图中不可以被重新赋值\n",
    "- **变量Variable**：被训练的参数一般被设置成变量，可以在计算图中用assign等算子重新赋值。\n",
    "\n",
    "#### 常用的数据张量\n",
    "\n",
    "- 向量数据：2D 张量，形状为 (samples, features)。\n",
    "- 时间序列数据或序列数据：3D 张量，形状为 (samples, timesteps, features)。\n",
    "- 图像：4D 张量，形状为 (samples, height, width, channels) 或 (samples, channels, height, width)。\n",
    "- 视频：5D 张量，形状为 (samples, frames, height, width, channels) 或 (samples, frames, channels, height, width)。\n",
    "\n",
    "\n"
   ]
  },
  {
   "cell_type": "markdown",
   "metadata": {},
   "source": [
    "#### 常量张量\n",
    "\n",
    "张量的数据类型和numpy.array基本一一对应\n",
    "\n",
    "下面来看看tensorflow中基本的数据类型\n"
   ]
  },
  {
   "cell_type": "code",
   "execution_count": 1,
   "metadata": {},
   "outputs": [
    {
     "output_type": "stream",
     "name": "stdout",
     "text": [
      "True\nTrue\nTrue\nFalse\n"
     ]
    }
   ],
   "source": [
    "import numpy as np\n",
    "import tensorflow as tf\n",
    "\n",
    "# 几种常见的张量类型\n",
    "i = tf.constant(1) \n",
    "l = tf.constant(1,dtype = tf.int64)\n",
    "f = tf.constant(1.23)\n",
    "d = tf.constant(3.14,dtype = tf.double)\n",
    "s = tf.constant(\"hello world\")\n",
    "b = tf.constant(True)\n",
    "\n",
    "# 与numpy 类型的比较\n",
    "print(tf.int64 == np.int64) \n",
    "print(tf.bool == np.bool)\n",
    "print(tf.double == np.float64)\n",
    "print(tf.string == np.unicode) # tf.string类型和np.unicode类型不等价\n",
    "\n"
   ]
  },
  {
   "cell_type": "markdown",
   "metadata": {},
   "source": [
    "##### 张量类型的关键属性\n",
    "\n",
    "**轴的个数（阶数）** 3D 张量有 3 个轴，矩阵有 2 个轴。这在 Numpy 等 Python 库中也叫张量的 ndim ,而tensorflow称其为rank  \n",
    "**形状** 这是一个整数元组，表示张量沿每个轴的维度大小（元素个数）。前面矩阵示例的形状为 (3,  5)，3D 张量示例的形状为 (3,  3,  5)   \n",
    "**数据类型** 这是张量中所包含数据的类型，例如，张量的类型可以是 float32、uint8、float64 等。"
   ]
  },
  {
   "cell_type": "code",
   "execution_count": 12,
   "metadata": {},
   "outputs": [
    {
     "output_type": "stream",
     "name": "stdout",
     "text": "tf.Tensor(0, shape=(), dtype=int32)\n0\n()\n<dtype: 'bool'>\ntf.Tensor(1, shape=(), dtype=int32)\n1\ntf.Tensor(2, shape=(), dtype=int32)\n2\ntf.Tensor(\n[[[1. 2.]\n  [3. 4.]]\n\n [[5. 6.]\n  [7. 8.]]], shape=(2, 2, 2), dtype=float32)\n(2, 2, 2)\ntf.Tensor(3, shape=(), dtype=int32)\n"
    }
   ],
   "source": [
    "# 标量 维度为0\n",
    "scalar = tf.constant(True)\n",
    "# 维度，\n",
    "print(tf.rank(scalar))\n",
    "print(scalar.numpy().ndim)\n",
    "# 形状\n",
    "print(scalar.shape)\n",
    "# 数据类型\n",
    "print(scalar.dtype)\n",
    "\n",
    "# 向量 1维张量\n",
    "arr =  tf.constant([1,2,3,4])\n",
    "print(tf.rank(arr))\n",
    "print(arr.numpy().ndim)\n",
    "\n",
    "# 矩阵 2维张量\n",
    "matrix = tf.constant([[1.0,2.0],[3.0,4.0]]) #矩阵, 2维张量\n",
    "print(tf.rank(matrix))\n",
    "print(matrix.numpy().ndim)\n",
    "\n",
    "# 3D 张量，形状为 (samples, timesteps, features)。\n",
    "tensor3 = tf.constant([[[1.0,2.0],[3.0,4.0]],[[5.0,6.0],[7.0,8.0]]])  \n",
    "print(tensor3)\n",
    "print(tensor3.shape)\n",
    "print(tf.rank(tensor3))\n"
   ]
  },
  {
   "cell_type": "markdown",
   "metadata": {},
   "source": [
    "##### 张量数据类型的转换\n",
    "\n",
    "可以用tf.cast改变张量的数据类型。\n",
    "\n",
    "可以用numpy方法将tensorflow中的张量转化成numpy中的张量。"
   ]
  },
  {
   "cell_type": "code",
   "execution_count": 15,
   "metadata": {},
   "outputs": [
    {
     "output_type": "stream",
     "name": "stdout",
     "text": "<dtype: 'int32'> <dtype: 'float32'>\n[[1. 2.]\n [3. 4.]]\n(2, 2)\nb'\\xe4\\xbd\\xa0\\xe5\\xa5\\xbd \\xe4\\xb8\\x96\\xe7\\x95\\x8c'\n你好 世界\n"
    }
   ],
   "source": [
    "#张量数据类型的转换\n",
    "h = tf.constant([1,2],dtype=tf.int32)\n",
    "f = tf.cast(h,tf.float32)\n",
    "print(h.dtype,f.dtype)\n",
    "\n",
    "# numpy 与 tf数据的转换\n",
    "\n",
    "y = tf.constant([[1.0,2.0],[3.0,4.0]])\n",
    "print(y.numpy()) #转换成np.array\n",
    "print(y.shape)\n",
    "\n",
    "u = tf.constant(u\"你好 世界\")\n",
    "print(u.numpy())  \n",
    "print(u.numpy().decode(\"utf-8\"))"
   ]
  },
  {
   "cell_type": "markdown",
   "metadata": {},
   "source": [
    "#### tensflow中的变量张量(Variable)\n",
    "\n",
    "模型中需要被训练的参数一般被设置成变量,可以在计算图中用assign等算子重新赋值。\n",
    " 常量值不可以改变，常量的重新赋值相当于创造新的内存空间\n"
   ]
  },
  {
   "cell_type": "code",
   "execution_count": 17,
   "metadata": {},
   "outputs": [
    {
     "output_type": "stream",
     "name": "stdout",
     "text": "tf.Tensor([1 2 3], shape=(3,), dtype=int32)\n1540763427768\ntf.Tensor([2 4 6], shape=(3,), dtype=int32)\n1541661077176\n"
    }
   ],
   "source": [
    "#常量值不可以改变，常量的重新赋值相当于创造新的内存空间\n",
    "c = tf.constant([1,2,3])\n",
    "print(c)\n",
    "print(id(c))\n",
    "\n",
    "c = c + tf.constant([1,2,3])\n",
    "print(c)\n",
    "# 常量的重新赋值相当于创造新的内存空间\n",
    "print(id(c))\n"
   ]
  },
  {
   "cell_type": "code",
   "execution_count": 21,
   "metadata": {},
   "outputs": [
    {
     "output_type": "stream",
     "name": "stdout",
     "text": "<tf.Variable 'v:0' shape=(3,) dtype=int32, numpy=array([1, 2, 3])>\n1545864975688\n<tf.Variable 'v:0' shape=(3,) dtype=int32, numpy=array([2, 4, 6])>\n1545864975688\ntf.Tensor([3 6 9], shape=(3,), dtype=int32)\n1541656286840\n"
    }
   ],
   "source": [
    "# 变量的值可以改变，可以通过assign, assign_add等方法给变量重新赋值\n",
    "v = tf.Variable([1,2,3],name=\"v\")\n",
    "print(v)\n",
    "print(id(v))\n",
    "v.assign_add([1,2,3])\n",
    "print(v)\n",
    "print(id(v))\n",
    "\n",
    "# 使用直接的加法仍然会改变其内存地址\n",
    "# 如果想避免这个临时内存开销，我们可以使用assign_{运算符全名}函数。\n",
    "v = v + tf.constant([1,2,3])\n",
    "print(v)\n",
    "print(id(v))\n",
    "\n",
    "\n"
   ]
  }
 ],
 "metadata": {
  "language_info": {
   "codemirror_mode": {
    "name": "ipython",
    "version": 3
   },
   "file_extension": ".py",
   "mimetype": "text/x-python",
   "name": "python",
   "nbconvert_exporter": "python",
   "pygments_lexer": "ipython3",
   "version": "3.8.5-final"
  },
  "orig_nbformat": 2,
  "kernelspec": {
   "name": "python3",
   "display_name": "Python 3.8.5 64-bit",
   "metadata": {
    "interpreter": {
     "hash": "978a6c862e5d5032ad32c61f6e48b36d1a3d5930a41ca1b1b876a672583e57b7"
    }
   }
  }
 },
 "nbformat": 4,
 "nbformat_minor": 2
}