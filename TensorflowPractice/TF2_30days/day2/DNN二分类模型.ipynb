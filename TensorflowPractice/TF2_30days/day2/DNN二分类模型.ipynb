{
 "cells": [
  {
   "cell_type": "markdown",
   "metadata": {},
   "source": [
    "## DNN 二分类模型\n",
    "\n",
    "这里需要使用神经网络模型来了实现一个二分类模型，主要的分类的数据是一个圆环数据的分类。\n",
    "\n",
    "### 数据准备\n",
    "\n"
   ]
  },
  {
   "cell_type": "code",
   "execution_count": null,
   "metadata": {},
   "outputs": [],
   "source": [
    "import numpy as np\n",
    "import pandas as pd\n",
    "from matplotlib import pyplot as plt\n",
    "import tensorflow as tf\n",
    "%matplotlib inline\n",
    "%config InlineBackend.figure_format = 'svg'\n",
    "\n",
    "# 正负样本数量\n",
    "n_positive,n_negative = 2000,2000\n",
    "\n",
    "#生成正样本，小圆环分布\n",
    "r_p = 5.0 + tf.random.truncated_normal([n_positive,1],0.0,1.0)\n",
    "theta_p = tf.random.uniform([n_positive,1],0.0,2*np.pi)\n",
    "Xp = tf.constant([r_p*tf.cos(theta_p),r_p*tf.sin(theta_p)],axis=1)\n",
    "Yp = tf.ones_like(r_p)\n"
   ]
  }
 ],
 "metadata": {
  "language_info": {
   "codemirror_mode": {
    "name": "ipython",
    "version": 3
   },
   "file_extension": ".py",
   "mimetype": "text/x-python",
   "name": "python",
   "nbconvert_exporter": "python",
   "pygments_lexer": "ipython3",
   "version": "3.7.7-final"
  },
  "orig_nbformat": 2,
  "kernelspec": {
   "name": "python37764bittf2condad80ab839777f4b4c864b6b4a88fdb75f",
   "display_name": "Python 3.7.7 64-bit ('tf2': conda)"
  }
 },
 "nbformat": 4,
 "nbformat_minor": 2
}