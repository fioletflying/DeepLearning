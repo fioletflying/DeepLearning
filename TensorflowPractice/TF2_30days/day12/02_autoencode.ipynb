{
 "metadata": {
  "language_info": {
   "codemirror_mode": {
    "name": "ipython",
    "version": 3
   },
   "file_extension": ".py",
   "mimetype": "text/x-python",
   "name": "python",
   "nbconvert_exporter": "python",
   "pygments_lexer": "ipython3",
   "version": "3.6.12-final"
  },
  "orig_nbformat": 2,
  "kernelspec": {
   "name": "python3612jvsc74a57bd0e17394781024da1f0ed279aab7c6165e80e3acfd2491de02c017c43da5039587",
   "display_name": "Python 3.6.12 64-bit ('tf2': conda)"
  }
 },
 "nbformat": 4,
 "nbformat_minor": 2,
 "cells": [
  {
   "cell_type": "code",
   "execution_count": 1,
   "metadata": {},
   "outputs": [],
   "source": [
    "import os\n",
    "import numpy as np\n",
    "import tensorflow as tf\n",
    "from  tensorflow import keras\n",
    "from matplotlib import pyplot as plt\n",
    "from tensorflow.keras import Sequential, layers\n",
    "from    PIL import Image"
   ]
  },
  {
   "cell_type": "code",
   "execution_count": 2,
   "metadata": {},
   "outputs": [],
   "source": [
    "# 设置随机种子以及提示信息\n",
    "tf.random.set_seed(22)\n",
    "np.random.seed(22)\n",
    "os.environ['TF_CPP_MIN_LOG_LEVEL'] = '2'\n",
    "assert tf.__version__.startswith('2.')"
   ]
  },
  {
   "cell_type": "code",
   "execution_count": 17,
   "metadata": {},
   "outputs": [],
   "source": [
    "def save_images(imgs,name):\n",
    "    new_img = Image.new('L',(280,280))\n",
    "\n",
    "    index = 0\n",
    "    for i in range(0,280,28):\n",
    "        for j in range(0,280,28):\n",
    "            im = imgs[index]\n",
    "            im = Image.fromarray(im,mode ='L')\n",
    "            new_img.paste(im,(i,j))\n",
    "            index +=1\n",
    "\n",
    "    new_img.save(name)"
   ]
  },
  {
   "cell_type": "code",
   "execution_count": 5,
   "metadata": {},
   "outputs": [],
   "source": [
    "# 超参数设置\n",
    "h_dim = 20\n",
    "batch_size = 512\n",
    "lr = 1e-3"
   ]
  },
  {
   "cell_type": "code",
   "execution_count": 7,
   "metadata": {},
   "outputs": [
    {
     "output_type": "stream",
     "name": "stdout",
     "text": [
      "(60000, 28, 28) (60000,)\n(10000, 28, 28) (10000,)\n"
     ]
    }
   ],
   "source": [
    "(x_train,y_train),(x_test,y_test) = keras.datasets.fashion_mnist.load_data()\n",
    "\n",
    "# image preprocess\n",
    "x_train,x_test = x_train.astype(np.float32)/255.,x_test.astype(np.float32)/255.\n",
    "\n",
    "train_db = tf.data.Dataset.from_tensor_slices(x_train)\n",
    "train_db = train_db.shuffle(batch_size*5).batch(batch_size)\n",
    "test_db = tf.data.Dataset.from_tensor_slices(x_test)\n",
    "test_db = test_db.batch(batch_size)\n",
    "\n",
    "print(x_train.shape,y_train.shape)\n",
    "print(x_test.shape,y_test.shape)"
   ]
  },
  {
   "cell_type": "code",
   "execution_count": 9,
   "metadata": {},
   "outputs": [],
   "source": [
    "class AE(keras.Model):\n",
    "    def __init__(self):\n",
    "        super(AE,self).__init__()\n",
    "        # encoder\n",
    "        self.encoder = Sequential([\n",
    "            layers.Dense(256,activation=tf.nn.relu),\n",
    "            layers.Dense(128,activation=tf.nn.relu),\n",
    "            layers.Dense(h_dim)\n",
    "        ])\n",
    "\n",
    "        # decoder\n",
    "        self.decoder = Sequential([\n",
    "            layers.Dense(128,activation=tf.nn.relu),\n",
    "            layers.Dense(256,activation=tf.nn.relu),\n",
    "            layers.Dense(784)\n",
    "        ])\n",
    "\n",
    "    def call(self,inputs,training=None):\n",
    "        h = self.encoder(inputs)\n",
    "        x_hat = self.decoder(h)\n",
    "\n",
    "        return x_hat\n"
   ]
  },
  {
   "cell_type": "code",
   "execution_count": 13,
   "metadata": {},
   "outputs": [
    {
     "output_type": "stream",
     "name": "stdout",
     "text": [
      "Model: \"ae_1\"\n_________________________________________________________________\nLayer (type)                 Output Shape              Param #   \n=================================================================\nsequential_2 (Sequential)    (None, 20)                236436    \n_________________________________________________________________\nsequential_3 (Sequential)    (None, 784)               237200    \n=================================================================\nTotal params: 473,636\nTrainable params: 473,636\nNon-trainable params: 0\n_________________________________________________________________\n"
     ]
    }
   ],
   "source": [
    "model = AE()\n",
    "model.build(input_shape=(None,784))\n",
    "model.summary()"
   ]
  },
  {
   "cell_type": "code",
   "execution_count": null,
   "metadata": {},
   "outputs": [],
   "source": [
    "optimizer = tf.optimizers.Adam(lr=lr)\n",
    "\n",
    "for epoch in range(100):\n",
    "    for step,x in enumerate(train_db):\n",
    "\n",
    "        x = tf.reshape(x,[-1,784])\n",
    "        with tf.GradientTape() as tape:\n",
    "            x_rec_logits = model(x)\n",
    "\n",
    "            rec_loss = tf.losses.binary_crossentropy(x,x_rec_logits,from_logits = True)\n",
    "            rec_loss = tf.reduce_mean(rec_loss)\n",
    "\n",
    "        grads = tape.gradient(rec_loss,model.trainable_variables)\n",
    "        optimizer.apply_gradients(zip(grads, model.trainable_variables))\n",
    "\n",
    "        if step %100 == 0:\n",
    "            print(epoch,step,float(rec_loss))\n",
    "\n",
    "    # evaluation\n",
    "    x = next(iter(test_db))\n",
    "    logits = model(tf.reshape(x, [-1, 784]))\n",
    "    x_hat = tf.sigmoid(logits)\n",
    "    # [b, 784] => [b, 28, 28]\n",
    "    x_hat = tf.reshape(x_hat, [-1, 28, 28])\n",
    "\n",
    "    # [b, 28, 28] => [2b, 28, 28]\n",
    "    x_concat = tf.concat([x, x_hat], axis=0)\n",
    "    x_concat = x_hat\n",
    "    x_concat = x_concat.numpy() * 255.\n",
    "    x_concat = x_concat.astype(np.uint8)\n",
    "    save_images(x_concat, 'ae_images/rec_epoch_%d.png'%epoch)\n",
    "\n",
    "        "
   ]
  },
  {
   "cell_type": "code",
   "execution_count": null,
   "metadata": {},
   "outputs": [],
   "source": []
  }
 ]
}