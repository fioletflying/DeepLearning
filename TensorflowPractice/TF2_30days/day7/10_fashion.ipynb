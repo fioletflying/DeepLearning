{
 "metadata": {
  "language_info": {
   "codemirror_mode": {
    "name": "ipython",
    "version": 3
   },
   "file_extension": ".py",
   "mimetype": "text/x-python",
   "name": "python",
   "nbconvert_exporter": "python",
   "pygments_lexer": "ipython3",
   "version": "3.8.5"
  },
  "orig_nbformat": 2,
  "kernelspec": {
   "name": "python3",
   "display_name": "Python 3.8.5 64-bit ('tf2': conda)",
   "metadata": {
    "interpreter": {
     "hash": "978a6c862e5d5032ad32c61f6e48b36d1a3d5930a41ca1b1b876a672583e57b7"
    }
   }
  }
 },
 "nbformat": 4,
 "nbformat_minor": 2,
 "cells": [
  {
   "source": [
    "\n",
    "## 激活函数导数\n",
    "\n",
    "### Sigmoid函数导数\n",
    "\n",
    "Sigmoid函数表达式：$$\\sigma(x) = \\frac{1}{1 + e^{-x}}$$\n",
    "Sigmoid函数的导数表达式：$$\\frac{d}{dx} \\sigma(x) = \\sigma(1-\\sigma)$$"
   ],
   "cell_type": "code",
   "metadata": {},
   "execution_count": null,
   "outputs": []
  },
  {
   "cell_type": "code",
   "execution_count": 44,
   "metadata": {},
   "outputs": [
    {
     "output_type": "stream",
     "name": "stdout",
     "text": [
      "2.3.0\n"
     ]
    }
   ],
   "source": [
    "import tensorflow as tf\n",
    "import numpy as np\n",
    "from tensorflow.keras import layers,datasets,Sequential,models\n",
    "\n",
    "print(tf.__version__)\n"
   ]
  },
  {
   "cell_type": "code",
   "execution_count": 51,
   "metadata": {},
   "outputs": [],
   "source": [
    "# @tf.function\n",
    "def load_data():\n",
    "    (x,y),(x_test,y_test) = datasets.fashion_mnist.load_data()\n",
    "\n",
    "    def pre_process(x,y):\n",
    "        x = tf.cast(x,tf.float32)/255.\n",
    "        y = tf.cast(y,tf.int32)\n",
    "        return x,y\n",
    "\n",
    "    batch_sz = 128\n",
    "    db = tf.data.Dataset.from_tensor_slices((x,y))\n",
    "    db = db.map(pre_process).shuffle(1000).batch(batch_sz)\n",
    "\n",
    "    db_test = tf.data.Dataset.from_tensor_slices((x_test,y_test))\n",
    "    db_test = db_test.map(pre_process).batch(batch_sz)\n",
    "\n",
    "    return db,db_test"
   ]
  },
  {
   "cell_type": "code",
   "execution_count": 52,
   "metadata": {},
   "outputs": [],
   "source": [
    "# @tf.function\n",
    "def build_model():\n",
    "    model= Sequential([\n",
    "        layers.Dense(256,activation=tf.nn.relu),\n",
    "        layers.Dense(128,activation=tf.nn.relu),\n",
    "        layers.Dense(64,activation=tf.nn.relu),\n",
    "        layers.Dense(32,activation=tf.nn.relu),\n",
    "        layers.Dense(10)\n",
    "    ])\n",
    "\n",
    "    model.build(input_shape=[None,28*28])\n",
    "    return model"
   ]
  },
  {
   "cell_type": "code",
   "execution_count": 53,
   "metadata": {},
   "outputs": [],
   "source": [
    "# @tf.function\n",
    "def train(db,model,epochs=5):\n",
    "\n",
    "    for epoch in range(epochs):\n",
    "        for step,(x,y) in enumerate(db):\n",
    "            x = tf.reshape(x,[-1,28*28])\n",
    "            with tf.GradientTape() as tape:\n",
    "                logits = model(x)\n",
    "                y_hot = tf.one_hot(y,depth=10)\n",
    "                loss_entropy = tf.reduce_mean(tf.losses.categorical_crossentropy(y_hot,logits,from_logits=True))\n",
    "\n",
    "            grads = tape.gradient(loss_entropy,model.trainable_variables)\n",
    "            # print(grads[0].shape)\n",
    "            for p,grad_p in zip(model.trainable_variables,grads):\n",
    "                p.assign(p-0.001*grad_p)\n",
    "\n",
    "            if step % 100 == 0:\n",
    "                print(epoch,step,\" : \",loss_entropy)\n",
    "    \n"
   ]
  },
  {
   "cell_type": "code",
   "execution_count": 54,
   "metadata": {},
   "outputs": [
    {
     "output_type": "stream",
     "name": "stdout",
     "text": [
      "Model: \"sequential_8\"\n",
      "_________________________________________________________________\n",
      "Layer (type)                 Output Shape              Param #   \n",
      "=================================================================\n",
      "dense_40 (Dense)             (None, 256)               200960    \n",
      "_________________________________________________________________\n",
      "dense_41 (Dense)             (None, 128)               32896     \n",
      "_________________________________________________________________\n",
      "dense_42 (Dense)             (None, 64)                8256      \n",
      "_________________________________________________________________\n",
      "dense_43 (Dense)             (None, 32)                2080      \n",
      "_________________________________________________________________\n",
      "dense_44 (Dense)             (None, 10)                330       \n",
      "=================================================================\n",
      "Total params: 244,522\n",
      "Trainable params: 244,522\n",
      "Non-trainable params: 0\n",
      "_________________________________________________________________\n",
      "0 0  :  tf.Tensor(2.3248749, shape=(), dtype=float32)\n",
      "0 100  :  tf.Tensor(2.2754993, shape=(), dtype=float32)\n",
      "0 200  :  tf.Tensor(2.2264814, shape=(), dtype=float32)\n",
      "0 300  :  tf.Tensor(2.1929574, shape=(), dtype=float32)\n",
      "0 400  :  tf.Tensor(2.145536, shape=(), dtype=float32)\n",
      "1 0  :  tf.Tensor(2.1215055, shape=(), dtype=float32)\n",
      "1 100  :  tf.Tensor(2.071173, shape=(), dtype=float32)\n",
      "1 200  :  tf.Tensor(2.0360656, shape=(), dtype=float32)\n",
      "1 300  :  tf.Tensor(1.9340967, shape=(), dtype=float32)\n",
      "1 400  :  tf.Tensor(1.9259514, shape=(), dtype=float32)\n",
      "2 0  :  tf.Tensor(1.879334, shape=(), dtype=float32)\n",
      "2 100  :  tf.Tensor(1.8350451, shape=(), dtype=float32)\n",
      "2 200  :  tf.Tensor(1.7363781, shape=(), dtype=float32)\n",
      "2 300  :  tf.Tensor(1.6846328, shape=(), dtype=float32)\n",
      "2 400  :  tf.Tensor(1.5952287, shape=(), dtype=float32)\n",
      "3 0  :  tf.Tensor(1.6187041, shape=(), dtype=float32)\n",
      "3 100  :  tf.Tensor(1.4970329, shape=(), dtype=float32)\n",
      "3 200  :  tf.Tensor(1.4413095, shape=(), dtype=float32)\n",
      "3 300  :  tf.Tensor(1.228954, shape=(), dtype=float32)\n",
      "3 400  :  tf.Tensor(1.2810576, shape=(), dtype=float32)\n",
      "4 0  :  tf.Tensor(1.243182, shape=(), dtype=float32)\n",
      "4 100  :  tf.Tensor(1.2524575, shape=(), dtype=float32)\n",
      "4 200  :  tf.Tensor(1.2058023, shape=(), dtype=float32)\n",
      "4 300  :  tf.Tensor(1.1506298, shape=(), dtype=float32)\n",
      "4 400  :  tf.Tensor(1.0720947, shape=(), dtype=float32)\n"
     ]
    }
   ],
   "source": [
    "db,db_test = load_data()\n",
    "model = build_model()\n",
    "model.summary()\n",
    "train(db,model)"
   ]
  }
 ]
}