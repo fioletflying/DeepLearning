{
 "metadata": {
  "language_info": {
   "codemirror_mode": {
    "name": "ipython",
    "version": 3
   },
   "file_extension": ".py",
   "mimetype": "text/x-python",
   "name": "python",
   "nbconvert_exporter": "python",
   "pygments_lexer": "ipython3",
   "version": "3.6.12-final"
  },
  "orig_nbformat": 2,
  "kernelspec": {
   "name": "python3",
   "display_name": "Python 3.6.12 64-bit ('tf2': conda)",
   "metadata": {
    "interpreter": {
     "hash": "e17394781024da1f0ed279aab7c6165e80e3acfd2491de02c017c43da5039587"
    }
   }
  }
 },
 "nbformat": 4,
 "nbformat_minor": 2,
 "cells": [
  {
   "source": [
    "## 张量常用的数据统计\n",
    "\n",
    "比如统计最值，最值的位置，均值，范数等信息。"
   ],
   "cell_type": "markdown",
   "metadata": {}
  },
  {
   "source": [
    "### 向量范数\n",
    "向量范数(Vector Norm)表征向量\"长度\"的一种度量方法。常见的范数有：L1,L2,无穷大范数：例如向量的范数定义\n",
    "- L1 范数：向量所有元素的绝对值之和\n",
    "- L2 范数：向量所有元素的平方和，在开根号\n",
    "- inf 范数：向量所以元素绝对值的最大值\n",
    "\n",
    "利用tf.norm(x,ord)来求解：\n",
    "- ord =1 ：表示L1\n",
    "- ord = 2: L2 \n",
    "- ord = np.inf 表示最大值"
   ],
   "cell_type": "markdown",
   "metadata": {}
  },
  {
   "cell_type": "code",
   "execution_count": 10,
   "metadata": {},
   "outputs": [
    {
     "output_type": "stream",
     "name": "stdout",
     "text": [
      "2.3.0\n"
     ]
    }
   ],
   "source": [
    "import tensorflow as tf\n",
    "import numpy as np\n",
    "\n",
    "print(tf.__version__)"
   ]
  },
  {
   "cell_type": "code",
   "execution_count": 6,
   "metadata": {},
   "outputs": [
    {
     "output_type": "stream",
     "name": "stdout",
     "text": [
      "tf.Tensor(4.0, shape=(), dtype=float32)\ntf.Tensor(2.0, shape=(), dtype=float32)\ntf.Tensor(1.0, shape=(), dtype=float32)\n"
     ]
    }
   ],
   "source": [
    "x = tf.ones([2,2])\n",
    "print(tf.norm(x,ord=1))\n",
    "print(tf.norm(x,ord=2))\n",
    "print(tf.norm(x,ord=np.inf))"
   ]
  },
  {
   "cell_type": "code",
   "execution_count": 12,
   "metadata": {},
   "outputs": [
    {
     "output_type": "stream",
     "name": "stdout",
     "text": [
      "tf.Tensor([2. 2. 2.], shape=(3,), dtype=float32)\ntf.Tensor([1.4142135 1.4142135 1.4142135], shape=(3,), dtype=float32)\ntf.Tensor([1.7320508 1.7320508], shape=(2,), dtype=float32)\n"
     ]
    }
   ],
   "source": [
    "#指定轴上范数\n",
    "x = tf.ones([2,3])\n",
    "# 行的方向\n",
    "print(tf.norm(x,ord=1,axis=0))\n",
    "print(tf.norm(x,ord=2,axis=0))\n",
    "# 列的方向\n",
    "print(tf.norm(x,ord=2,axis=1))"
   ]
  },
  {
   "source": [
    "### 查找最值，均值，和以及最值的索引号\n",
    "- tf.reduce_max\n",
    "- tf.reduce_min\n",
    "- tf.reduce_mean\n",
    "- tf.reduce_sum\n",
    "- tf.argmax\n",
    "- tf.argmin\n",
    "\n",
    ">参数：\n",
    "- 第一个参数input_tensor： 输入的待降维的tensor;\n",
    "- 第二个参数axis： 指定的轴方向，如果不指定，则计算所有元素;\n",
    "- 第三个参数keep_dims：是否降维度，设置为True，输出的结果保持输入tensor的形状，设置为False，输出结果会降低维度;\n",
    "\n",
    "\n",
    "例如 shape[4,10], 记录的时候样本个数为4，10个类别的概率，需要找出每个样本的最大概率的值。"
   ],
   "cell_type": "markdown",
   "metadata": {}
  },
  {
   "cell_type": "code",
   "execution_count": 19,
   "metadata": {},
   "outputs": [
    {
     "output_type": "stream",
     "name": "stdout",
     "text": [
      "tf.Tensor([0.90580153 0.935712   0.9590367  0.94939566], shape=(4,), dtype=float32)\ntf.Tensor([0.12353003 0.06850481 0.03555584 0.26242328], shape=(4,), dtype=float32)\ntf.Tensor([0.5966229 0.5580625 0.508815  0.4725522], shape=(4,), dtype=float32)\ntf.Tensor([5.966229 5.580625 5.08815  4.725522], shape=(4,), dtype=float32)\n"
     ]
    }
   ],
   "source": [
    "x = tf.random.uniform(shape=[4,10],minval=0,maxval=1,dtype=tf.float32)\n",
    "# 关于指定轴的理解：这里要求每一行中列元素的最大值，所以设置为列的方向\n",
    "print(tf.reduce_max(x,axis=1))\n",
    "print(tf.reduce_min(x,axis=1))\n",
    "print(tf.reduce_mean(x,axis=1))\n",
    "print(tf.reduce_sum(x,axis=1))"
   ]
  },
  {
   "cell_type": "code",
   "execution_count": 20,
   "metadata": {},
   "outputs": [
    {
     "output_type": "execute_result",
     "data": {
      "text/plain": [
       "(<tf.Tensor: shape=(), dtype=float32, numpy=0.99992895>,\n",
       " <tf.Tensor: shape=(), dtype=float32, numpy=0.020911574>,\n",
       " <tf.Tensor: shape=(), dtype=float32, numpy=0.5184097>,\n",
       " <tf.Tensor: shape=(), dtype=float32, numpy=20.73639>)"
      ]
     },
     "metadata": {},
     "execution_count": 20
    }
   ],
   "source": [
    "# 不指定轴，则计算所有的元素的最值\n",
    "x = tf.random.uniform(shape=[4,10],minval=0,maxval=1,dtype=tf.float32)\n",
    "tf.reduce_max(x),tf.reduce_min(x),tf.reduce_mean(x),tf.reduce_sum(x)"
   ]
  },
  {
   "source": [
    "一个实际 的案例"
   ],
   "cell_type": "markdown",
   "metadata": {}
  },
  {
   "cell_type": "code",
   "execution_count": 26,
   "metadata": {},
   "outputs": [
    {
     "output_type": "stream",
     "name": "stdout",
     "text": [
      "tf.Tensor([2.7964349 0.8372906 1.47877   1.5083137], shape=(4,), dtype=float32)\n样本误差： tf.Tensor([2.7964349 0.8372906 1.47877   1.5083137], shape=(4,), dtype=float32)\n总的均值误差： tf.Tensor(1.6552023, shape=(), dtype=float32)\n"
     ]
    }
   ],
   "source": [
    "out = tf.random.normal([4,10])\n",
    "y = tf.constant([1,2,2,0])\n",
    "y = tf.one_hot(y,depth=10)\n",
    "# 计算每个样本的误差：均方差\n",
    "loss = tf.keras.losses.mse(y,out)\n",
    "mse = tf.reduce_mean(tf.square(out-y),axis=1)\n",
    "print(mse)\n",
    "print(\"样本误差：\",loss)\n",
    "# 计算总的评价误差\n",
    "loss = tf.reduce_mean(loss)\n",
    "print(\"总的均值误差：\",loss)"
   ]
  }
 ]
}