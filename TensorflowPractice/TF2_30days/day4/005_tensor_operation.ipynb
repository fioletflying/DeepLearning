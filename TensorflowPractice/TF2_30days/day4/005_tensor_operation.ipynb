{
 "metadata": {
  "language_info": {
   "codemirror_mode": {
    "name": "ipython",
    "version": 3
   },
   "file_extension": ".py",
   "mimetype": "text/x-python",
   "name": "python",
   "nbconvert_exporter": "python",
   "pygments_lexer": "ipython3",
   "version": "3.6.12-final"
  },
  "orig_nbformat": 2,
  "kernelspec": {
   "name": "python3",
   "display_name": "Python 3.6.12 64-bit ('tf2': conda)",
   "metadata": {
    "interpreter": {
     "hash": "e17394781024da1f0ed279aab7c6165e80e3acfd2491de02c017c43da5039587"
    }
   }
  }
 },
 "nbformat": 4,
 "nbformat_minor": 2,
 "cells": [
  {
   "source": [
    "## 数学运算\n",
    "\n",
    "\n",
    "加、减、乘、除运算"
   ],
   "cell_type": "markdown",
   "metadata": {}
  },
  {
   "cell_type": "code",
   "execution_count": 1,
   "metadata": {},
   "outputs": [
    {
     "output_type": "stream",
     "name": "stdout",
     "text": [
      "tf.Tensor([2 3 4 5 6], shape=(5,), dtype=int32)\ntf.Tensor([-2 -1  0  1  2], shape=(5,), dtype=int32)\ntf.Tensor([0 2 4 6 8], shape=(5,), dtype=int32)\ntf.Tensor([0.  0.5 1.  1.5 2. ], shape=(5,), dtype=float64)\ntf.Tensor([0 0 1 1 2], shape=(5,), dtype=int32)\ntf.Tensor([0 1 0 1 0], shape=(5,), dtype=int32)\n"
     ]
    }
   ],
   "source": [
    "import tensorflow as tf\n",
    "import numpy as np\n",
    "\n",
    "a = tf.range(5)\n",
    "b = tf.constant(2)\n",
    "\n",
    "# 相加\n",
    "print(a+b)\n",
    "# 相减\n",
    "print(a-b)\n",
    "# 相乘\n",
    "print(a*b)\n",
    "# 相除\n",
    "print(a/b)\n",
    "# 整除\n",
    "print(a//b)\n",
    "# 取余\n",
    "print(a%b)\n"
   ]
  },
  {
   "source": [
    "乘方，开方，指数，对数运算\n",
    "- tf.pow  乘方\n",
    "- tf.square 平方\n",
    "- tf.sqrt 开平方\n",
    "- tf.exp 指数\n",
    "- tf.math.log 对数, 其底为e,"
   ],
   "cell_type": "markdown",
   "metadata": {}
  },
  {
   "cell_type": "code",
   "execution_count": 3,
   "metadata": {},
   "outputs": [
    {
     "output_type": "stream",
     "name": "stdout",
     "text": [
      "tf.Tensor([1. 4. 9.], shape=(3,), dtype=float32)\ntf.Tensor([1. 4. 9.], shape=(3,), dtype=float32)\ntf.Tensor([1. 4. 9.], shape=(3,), dtype=float32)\n"
     ]
    }
   ],
   "source": [
    "x = tf.constant([1.,2.,3.])\n",
    "# 平方运算\n",
    "print(x**2)\n",
    "print(tf.pow(x,2))\n",
    "print(tf.square(x))"
   ]
  },
  {
   "cell_type": "code",
   "execution_count": 5,
   "metadata": {},
   "outputs": [
    {
     "output_type": "stream",
     "name": "stdout",
     "text": [
      "tf.Tensor([1.        1.4142135 1.7320508], shape=(3,), dtype=float32)\ntf.Tensor([1.        1.4142135 1.7320508], shape=(3,), dtype=float32)\n"
     ]
    }
   ],
   "source": [
    "# 开平方\n",
    "print(x**0.5)\n",
    "print(tf.sqrt((x)))"
   ]
  },
  {
   "cell_type": "code",
   "execution_count": 7,
   "metadata": {},
   "outputs": [
    {
     "output_type": "stream",
     "name": "stdout",
     "text": [
      "tf.Tensor([2. 4. 8.], shape=(3,), dtype=float32)\ntf.Tensor([ 2.7182817  7.389056  20.085537 ], shape=(3,), dtype=float32)\n"
     ]
    }
   ],
   "source": [
    "# 指数\n",
    "print(2**x) # 2 为底的指数\n",
    "print(tf.exp(x)) # e 为底的指数"
   ]
  },
  {
   "cell_type": "code",
   "execution_count": 14,
   "metadata": {},
   "outputs": [
    {
     "output_type": "stream",
     "name": "stdout",
     "text": [
      "tf.Tensor(3.0, shape=(), dtype=float32)\ntf.Tensor(4.6051702, shape=(), dtype=float32)\ntf.Tensor(2.0, shape=(), dtype=float32)\ntf.Tensor(6.643856, shape=(), dtype=float32)\n"
     ]
    }
   ],
   "source": [
    "x = tf.exp(3.)\n",
    "# 其底为e\n",
    "print(tf.math.log(x))\n",
    "\n",
    "# 如何变成10或者2\n",
    "x = tf.constant(100.)\n",
    "print(tf.math.log(x))\n",
    "# 以10为底\n",
    "print(tf.math.log(x)/tf.math.log(10.))\n",
    "# 以2为底\n",
    "print(tf.math.log(x)/tf.math.log(2.))"
   ]
  },
  {
   "source": [
    "## 矩阵运算\n",
    "\n",
    "矩阵乘法:\n",
    "- `@\n",
    "- tf.mulmat\n"
   ],
   "cell_type": "markdown",
   "metadata": {}
  },
  {
   "cell_type": "code",
   "execution_count": 16,
   "metadata": {},
   "outputs": [
    {
     "output_type": "stream",
     "name": "stdout",
     "text": [
      "(4, 3, 28, 2)\n"
     ]
    }
   ],
   "source": [
    "a = tf.random.normal([4,3,28,32])\n",
    "b = tf.random.normal([4,3,32,2])\n",
    "\n",
    "print((a@b).shape)"
   ]
  },
  {
   "cell_type": "code",
   "execution_count": 17,
   "metadata": {},
   "outputs": [
    {
     "output_type": "stream",
     "name": "stdout",
     "text": [
      "(4, 28, 16)\n"
     ]
    }
   ],
   "source": [
    "a = tf.random.normal([4,28,32])\n",
    "b = tf.random.normal([32,16])\n",
    "\n",
    "# 先自动扩展在相乘\n",
    "print(tf.matmul(a,b).shape)"
   ]
  }
 ]
}