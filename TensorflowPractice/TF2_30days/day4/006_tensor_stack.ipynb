{
 "metadata": {
  "language_info": {
   "codemirror_mode": {
    "name": "ipython",
    "version": 3
   },
   "file_extension": ".py",
   "mimetype": "text/x-python",
   "name": "python",
   "nbconvert_exporter": "python",
   "pygments_lexer": "ipython3",
   "version": "3.6.12-final"
  },
  "orig_nbformat": 2,
  "kernelspec": {
   "name": "python3",
   "display_name": "Python 3.6.12 64-bit ('tf2': conda)",
   "metadata": {
    "interpreter": {
     "hash": "e17394781024da1f0ed279aab7c6165e80e3acfd2491de02c017c43da5039587"
    }
   }
  }
 },
 "nbformat": 4,
 "nbformat_minor": 2,
 "cells": [
  {
   "source": [
    "## 分割与合并\n",
    "\n",
    "- tf.concat\n",
    "- tf.split\n",
    "- tf.stack\n",
    "- tf.unstack\n",
    "\n",
    "### tensor的拼接\n",
    " \n",
    " tf.concat([...],axis,name)\n",
    "\n",
    "> Args:\n",
    "  - values: A list of Tensor objects or a single Tensor.\n",
    "  - axis: 0-D int32 Tensor. Dimension along which to concatenate. Must be\n",
    "    in the range [-rank(values), rank(values)). As in Python, indexing for axis is 0-based. Positive axis in the rage of [0, rank(values)) refers to axis-th dimension. And negative axis refers to axis + rank(values)-th dimension.\n",
    "  - name: A name for the operation (optional).\n",
    "\n",
    "在使用该函数的时候，不会改变tensor的维度大小，注意一点就是需要合并的方向的维度大小可以不同，但是其他的维度大小必须一致，不然就会无法合并\n",
    "Dim = d"
   ],
   "cell_type": "markdown",
   "metadata": {}
  },
  {
   "cell_type": "code",
   "execution_count": 1,
   "metadata": {},
   "outputs": [],
   "source": [
    "import tensorflow as tf\n",
    "import numpy as np\n",
    "#  [class1-4, students, scores]\n",
    "a = tf.random.uniform([4,35,8],0,100,tf.int32)\n",
    "#  [class5-6, students, scores]\n",
    "b = tf.random.uniform([2,35,8],0,100,tf.int32)"
   ]
  },
  {
   "cell_type": "code",
   "execution_count": 7,
   "metadata": {},
   "outputs": [
    {
     "output_type": "stream",
     "name": "stdout",
     "text": [
      "(6, 35, 8)\n"
     ]
    }
   ],
   "source": [
    "# 需要实现两个班级的数据的融合\n",
    "c = tf.concat([a,b],axis=0)\n",
    "print(c.shape)\n",
    "# 会报错，维度大小不匹配\n",
    "# d = tf.concat([a,b],axis=1)\n",
    "# print(c.shape)"
   ]
  },
  {
   "cell_type": "code",
   "execution_count": 9,
   "metadata": {},
   "outputs": [
    {
     "output_type": "stream",
     "name": "stdout",
     "text": [
      "(6, 3)\n"
     ]
    }
   ],
   "source": [
    "a = tf.ones([2,3])\n",
    "b = tf.ones([4,3])\n",
    "\n",
    "c = tf.concat([a,b],axis=0)\n",
    "print(c.shape)"
   ]
  },
  {
   "source": [
    "### stack 与 unstack 堆叠\n",
    "堆叠在一起，会改变维度的数量,\n",
    "所有的维度尺寸都要一致。它需要所有待合并的张量 shape 完全一致才可\n",
    "合并"
   ],
   "cell_type": "markdown",
   "metadata": {}
  },
  {
   "cell_type": "code",
   "execution_count": 7,
   "metadata": {},
   "outputs": [
    {
     "output_type": "stream",
     "name": "stdout",
     "text": [
      "(8, 35, 8)\n(2, 4, 35, 8)\n(4, 35, 8, 2)\n(4, 35, 2, 8)\n"
     ]
    }
   ],
   "source": [
    "#  [class1-4, students, scores]\n",
    "a = tf.random.uniform([4,35,8],0,100,tf.int32)\n",
    "#  [class5-6, students, scores]\n",
    "b = tf.random.uniform([4,35,8],0,100,tf.int32)\n",
    "\n",
    "c =tf.concat([a,b],axis = 0)\n",
    "\n",
    "# 会增加一个指定的维度，然后存放数据\n",
    "d = tf.stack([a,b],axis = 0)\n",
    "print(c.shape)\n",
    "print(d.shape)\n",
    "\n",
    "e = tf.stack([a,b],axis=3)\n",
    "print(e.shape)\n",
    "\n",
    "f = tf.stack([a,b],axis=2)\n",
    "print(f.shape)"
   ]
  },
  {
   "cell_type": "code",
   "execution_count": 17,
   "metadata": {},
   "outputs": [
    {
     "output_type": "stream",
     "name": "stdout",
     "text": [
      "tf.Tensor(\n[[ 0  1  2  3]\n [ 4  5  6  7]\n [ 8  9 10 11]], shape=(3, 4), dtype=int32)\ntf.Tensor(\n[[ 0  2  4  6]\n [ 8 10 12 14]\n [16 18 20 22]], shape=(3, 4), dtype=int32)\ntf.Tensor(\n[[[ 0  1  2  3]\n  [ 4  5  6  7]\n  [ 8  9 10 11]]\n\n [[ 0  2  4  6]\n  [ 8 10 12 14]\n  [16 18 20 22]]], shape=(2, 3, 4), dtype=int32)\ntf.Tensor(\n[[ 0  1  2  3]\n [ 4  5  6  7]\n [ 8  9 10 11]], shape=(3, 4), dtype=int32) tf.Tensor(\n[[ 0  2  4  6]\n [ 8 10 12 14]\n [16 18 20 22]], shape=(3, 4), dtype=int32)\n"
     ]
    }
   ],
   "source": [
    "a = tf.range(12)\n",
    "a = tf.reshape(a,[3,4])\n",
    "print(a)\n",
    "b = tf.range(24,delta=2)\n",
    "b =tf.reshape(b,[3,4])\n",
    "print(b)\n",
    "\n",
    "c = tf.stack([a,b],axis=0)\n",
    "print(c)\n",
    "\n",
    "aa,bb = tf.unstack(c,axis=0)\n",
    "print(aa,bb)"
   ]
  },
  {
   "source": [
    "### split\n",
    "\n",
    "tf.split是tf.concat的逆运算，可以指定分割份数平均分割，也可以通过指定每份的记录数量进行分割。\n",
    "\n",
    "> 参数：\n",
    "- x：待分割张量\n",
    "- num_or_size_splits: 切割方案，当为单个值的时候，表示切割的份数，当为list的时候[2,2,3]，表示每份的长度为2，2，3\n",
    "- axis:表示分割的维度索引号"
   ],
   "cell_type": "markdown",
   "metadata": {}
  },
  {
   "cell_type": "code",
   "execution_count": 18,
   "metadata": {},
   "outputs": [
    {
     "output_type": "execute_result",
     "data": {
      "text/plain": [
       "[<tf.Tensor: shape=(1, 3, 4), dtype=int32, numpy=\n",
       " array([[[ 0,  1,  2,  3],\n",
       "         [ 4,  5,  6,  7],\n",
       "         [ 8,  9, 10, 11]]])>, <tf.Tensor: shape=(1, 3, 4), dtype=int32, numpy=\n",
       " array([[[ 0,  2,  4,  6],\n",
       "         [ 8, 10, 12, 14],\n",
       "         [16, 18, 20, 22]]])>]"
      ]
     },
     "metadata": {},
     "execution_count": 18
    }
   ],
   "source": [
    "tf.split(c,num_or_size_splits= 2,axis=0)"
   ]
  },
  {
   "cell_type": "code",
   "execution_count": 20,
   "metadata": {},
   "outputs": [
    {
     "output_type": "stream",
     "name": "stdout",
     "text": [
      "tf.Tensor(\n[[ 0  1  2  3]\n [ 4  5  6  7]\n [ 8  9 10 11]\n [12 13 14 15]\n [16 17 18 19]\n [20 21 22 23]], shape=(6, 4), dtype=int32)\n"
     ]
    },
    {
     "output_type": "execute_result",
     "data": {
      "text/plain": [
       "[<tf.Tensor: shape=(1, 4), dtype=int32, numpy=array([[0, 1, 2, 3]])>,\n",
       " <tf.Tensor: shape=(2, 4), dtype=int32, numpy=\n",
       " array([[ 4,  5,  6,  7],\n",
       "        [ 8,  9, 10, 11]])>,\n",
       " <tf.Tensor: shape=(3, 4), dtype=int32, numpy=\n",
       " array([[12, 13, 14, 15],\n",
       "        [16, 17, 18, 19],\n",
       "        [20, 21, 22, 23]])>]"
      ]
     },
     "metadata": {},
     "execution_count": 20
    }
   ],
   "source": [
    "a = tf.range(24)\n",
    "a = tf.reshape(a,[6,4])\n",
    "print(a)\n",
    "# 指定分割的份数\n",
    "tf.split(a,[1,2,3],axis=0)"
   ]
  },
  {
   "source": [],
   "cell_type": "markdown",
   "metadata": {}
  }
 ]
}