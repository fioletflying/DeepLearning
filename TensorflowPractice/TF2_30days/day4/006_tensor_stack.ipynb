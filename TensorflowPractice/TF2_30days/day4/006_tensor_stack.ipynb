{
 "metadata": {
  "language_info": {
   "codemirror_mode": {
    "name": "ipython",
    "version": 3
   },
   "file_extension": ".py",
   "mimetype": "text/x-python",
   "name": "python",
   "nbconvert_exporter": "python",
   "pygments_lexer": "ipython3",
   "version": "3.6.12-final"
  },
  "orig_nbformat": 2,
  "kernelspec": {
   "name": "python3",
   "display_name": "Python 3.6.12 64-bit ('tf2': conda)",
   "metadata": {
    "interpreter": {
     "hash": "e17394781024da1f0ed279aab7c6165e80e3acfd2491de02c017c43da5039587"
    }
   }
  }
 },
 "nbformat": 4,
 "nbformat_minor": 2,
 "cells": [
  {
   "source": [
    "## 分割与合并\n",
    "\n",
    "- tf.concat\n",
    "- tf.split\n",
    "- tf.stack\n",
    "- tf.unstack\n",
    "\n",
    "### tensor的合并\n",
    " \n",
    " tf.concat([...],axis,name)\n",
    "\n",
    "> Args:\n",
    "  - values: A list of Tensor objects or a single Tensor.\n",
    "  - axis: 0-D int32 Tensor. Dimension along which to concatenate. Must be\n",
    "    in the range [-rank(values), rank(values)). As in Python, indexing for axis is 0-based. Positive axis in the rage of [0, rank(values)) refers to axis-th dimension. And negative axis refers to axis + rank(values)-th dimension.\n",
    "  - name: A name for the operation (optional).\n",
    "\n",
    "在使用该函数的时候，不会改变tensor的维度大小，注意一点就是需要合并的方向的维度大小可以不同，但是其他的维度大小必须一致，不然就会无法合并\n",
    "Dim = d"
   ],
   "cell_type": "markdown",
   "metadata": {}
  },
  {
   "cell_type": "code",
   "execution_count": 2,
   "metadata": {},
   "outputs": [],
   "source": [
    "import tensorflow as tf\n",
    "import numpy as np\n",
    "#  [class1-4, students, scores]\n",
    "a = tf.random.uniform([4,35,8],0,100,tf.int32)\n",
    "#  [class5-6, students, scores]\n",
    "b = tf.random.uniform([2,35,8],0,100,tf.int32)"
   ]
  },
  {
   "cell_type": "code",
   "execution_count": 7,
   "metadata": {},
   "outputs": [
    {
     "output_type": "stream",
     "name": "stdout",
     "text": [
      "(6, 35, 8)\n"
     ]
    }
   ],
   "source": [
    "# 需要实现两个班级的数据的融合\n",
    "c = tf.concat([a,b],axis=0)\n",
    "print(c.shape)\n",
    "# 会报错，维度大小不匹配\n",
    "# d = tf.concat([a,b],axis=1)\n",
    "# print(c.shape)"
   ]
  },
  {
   "cell_type": "code",
   "execution_count": 9,
   "metadata": {},
   "outputs": [
    {
     "output_type": "stream",
     "name": "stdout",
     "text": [
      "(6, 3)\n"
     ]
    }
   ],
   "source": [
    "a = tf.ones([2,3])\n",
    "b = tf.ones([4,3])\n",
    "\n",
    "c = tf.concat([a,b],axis=0)\n",
    "print(c.shape)"
   ]
  },
  {
   "source": [],
   "cell_type": "markdown",
   "metadata": {}
  }
 ]
}