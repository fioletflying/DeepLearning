{
 "metadata": {
  "language_info": {
   "codemirror_mode": {
    "name": "ipython",
    "version": 3
   },
   "file_extension": ".py",
   "mimetype": "text/x-python",
   "name": "python",
   "nbconvert_exporter": "python",
   "pygments_lexer": "ipython3",
   "version": "3.6.12-final"
  },
  "orig_nbformat": 2,
  "kernelspec": {
   "name": "python3",
   "display_name": "Python 3",
   "language": "python"
  }
 },
 "nbformat": 4,
 "nbformat_minor": 2,
 "cells": [
  {
   "cell_type": "code",
   "execution_count": 2,
   "metadata": {},
   "outputs": [
    {
     "output_type": "stream",
     "name": "stdout",
     "text": [
      "1\n[PhysicalDevice(name='/physical_device:CPU:0', device_type='CPU')]\n0\n[]\n"
     ]
    }
   ],
   "source": [
    "import tensorflow as tf\n",
    "\n",
    "# 机器的CPU的数量\n",
    "physical_devices = tf.config.experimental.list_physical_devices('CPU')\n",
    "print(len(physical_devices))\n",
    "print(physical_devices)\n",
    "# 机器的GPU的数量\n",
    "physical_devices = tf.config.experimental.list_physical_devices('GPU')\n",
    "print(len(physical_devices))\n",
    "print(physical_devices)"
   ]
  },
  {
   "source": [
    "## 张量\n",
    "\n",
    "张量是tensorflow中最基本的类型，是操作的数据流。先来看看如何在tensoflow中表示：不同维度的张量创建\n",
    "- 标量：scalar\n",
    "\t\t1.1\n",
    "\t\ttf.constant(1.2)\n",
    "- 向量：vector\n",
    "\t\t[1.1,2.2]\n",
    "\t\ttf.constant([1.1,2.2])\n",
    "- 矩阵：matrix\n",
    "\t\t[[1.1,2.2],[3.3,4.4]]\n",
    "\t\ttf.constant([[1.1,2.2],[3.3,4.4]])\n",
    "- 三维张量\n"
   ],
   "cell_type": "markdown",
   "metadata": {}
  },
  {
   "cell_type": "code",
   "execution_count": 3,
   "metadata": {},
   "outputs": [
    {
     "output_type": "stream",
     "name": "stdout",
     "text": [
      "<class 'float'> <class 'tensorflow.python.framework.ops.EagerTensor'> True\n"
     ]
    }
   ],
   "source": [
    "# 标量的创建\n",
    "a = 1.1 \n",
    "a_tf = tf.constant(1.1)\n",
    "# 查看类型以及判断张量类型\n",
    "print(type(a),type(a_tf),tf.is_tensor(a_tf))"
   ]
  },
  {
   "cell_type": "code",
   "execution_count": 8,
   "metadata": {},
   "outputs": [
    {
     "output_type": "execute_result",
     "data": {
      "text/plain": [
       "<tf.Tensor: shape=(2,), dtype=float32, numpy=array([1.1, 2.2], dtype=float32)>"
      ]
     },
     "metadata": {},
     "execution_count": 8
    }
   ],
   "source": [
    "# 向量\n",
    "b = [1.1,2.2]\n",
    "b_tf = tf.constant([1.1,2.2])\n",
    "# 张量相关的信息\n",
    "b_tf"
   ]
  },
  {
   "source": [
    "上面可以看出张量里面还是包含着一些属性:\n",
    "- shape\n",
    "- dtype\n",
    "- numpy\n",
    "等等"
   ],
   "cell_type": "markdown",
   "metadata": {}
  },
  {
   "cell_type": "code",
   "execution_count": 9,
   "metadata": {},
   "outputs": [
    {
     "output_type": "execute_result",
     "data": {
      "text/plain": [
       "array([1.1, 2.2], dtype=float32)"
      ]
     },
     "metadata": {},
     "execution_count": 9
    }
   ],
   "source": [
    "# 张量转换成numpy也是非常简单\n",
    "b_tf.numpy()"
   ]
  },
  {
   "cell_type": "code",
   "execution_count": 11,
   "metadata": {},
   "outputs": [
    {
     "output_type": "execute_result",
     "data": {
      "text/plain": [
       "(<tf.Tensor: shape=(2, 2), dtype=int32, numpy=\n",
       " array([[1, 2],\n",
       "        [3, 4]])>, TensorShape([2, 2]))"
      ]
     },
     "metadata": {},
     "execution_count": 11
    }
   ],
   "source": [
    "#创建矩阵\n",
    "c = tf.constant([[1,2],[3,4]])\n",
    "c,c.shape"
   ]
  },
  {
   "cell_type": "code",
   "execution_count": 13,
   "metadata": {},
   "outputs": [
    {
     "output_type": "execute_result",
     "data": {
      "text/plain": [
       "(<tf.Tensor: shape=(2, 2, 2), dtype=int32, numpy=\n",
       " array([[[1, 2],\n",
       "         [3, 4]],\n",
       " \n",
       "        [[1, 2],\n",
       "         [3, 4]]])>, TensorShape([2, 2, 2]))"
      ]
     },
     "metadata": {},
     "execution_count": 13
    }
   ],
   "source": [
    "# 创建三维张量\n",
    "d = tf.constant([[[1,2],[3,4]],[[1,2],[3,4]]])\n",
    "d,d.shape"
   ]
  },
  {
   "source": [
    "### 张量的类型\n",
    "\n",
    "- int, float,double\n",
    "- bool\n",
    "- string\n",
    "\n"
   ],
   "cell_type": "markdown",
   "metadata": {}
  },
  {
   "source": [
    "#### 数值类型\n",
    "\n",
    "创建张量时可以指定数值类型，包括数值的长度"
   ],
   "cell_type": "markdown",
   "metadata": {}
  },
  {
   "cell_type": "code",
   "execution_count": 15,
   "metadata": {},
   "outputs": [
    {
     "output_type": "stream",
     "name": "stdout",
     "text": [
      "tf.Tensor(-13035, shape=(), dtype=int16)\ntf.Tensor(123456789, shape=(), dtype=int32)\n"
     ]
    }
   ],
   "source": [
    "# 数值类型选用不同的空间大小会影响结果\n",
    "print(tf.constant(123456789,dtype=tf.int16))\n",
    "print(tf.constant(123456789,dtype=tf.int32))"
   ]
  },
  {
   "cell_type": "code",
   "execution_count": 17,
   "metadata": {},
   "outputs": [
    {
     "output_type": "stream",
     "name": "stdout",
     "text": [
      "3.141592653589793\ntf.float16:  tf.Tensor(3.14, shape=(), dtype=float16)\ntf.float32:  tf.Tensor(3.1415927, shape=(), dtype=float32)\ntf.float64:  tf.Tensor(3.141592653589793, shape=(), dtype=float64)\ntf.double:  tf.Tensor(3.141592653589793, shape=(), dtype=float64)\n"
     ]
    }
   ],
   "source": [
    "# 数值类型选用不同的空间大小会影响结果\n",
    "import numpy as np\n",
    "print(np.pi)\n",
    "print(\"tf.float16: \",tf.constant(np.pi,dtype=tf.float16))\n",
    "print(\"tf.float32: \",tf.constant(np.pi,dtype=tf.float32))\n",
    "print(\"tf.float64: \",tf.constant(np.pi,dtype=tf.float64))\n",
    "print(\"tf.double: \",tf.constant(np.pi,dtype=tf.double))"
   ]
  },
  {
   "source": [
    "通过访问张量的 dtype 成员属性可以判断张量的保存精度"
   ],
   "cell_type": "markdown",
   "metadata": {}
  },
  {
   "cell_type": "code",
   "execution_count": 18,
   "metadata": {},
   "outputs": [
    {
     "output_type": "stream",
     "name": "stdout",
     "text": [
      "before:  <dtype: 'float16'>\nafter:  <dtype: 'float32'>\n"
     ]
    }
   ],
   "source": [
    "a = tf.constant(np.pi,dtype=tf.float16)\n",
    "print('before: ',a.dtype)\n",
    "# 如果精度不符合要求，则进行转换\n",
    "if a.dtype != tf.float32:\n",
    "    # tf.cast 函数可以完成类型转换\n",
    "    a = tf.cast(a,tf.float32)\n",
    "print(\"after: \",a.dtype)"
   ]
  },
  {
   "source": [
    "\n",
    "#### 字符串类型\n",
    "\n",
    "通过传入字符串对象即可创建字符串类型的张量，在 tf.strings 模块中，提供了常见的字符串类型的工具函数，如小写化 lower()、 拼接 join()、 长度 length()、 切分 split()等。"
   ],
   "cell_type": "markdown",
   "metadata": {}
  },
  {
   "cell_type": "code",
   "execution_count": 16,
   "metadata": {},
   "outputs": [
    {
     "output_type": "stream",
     "name": "stdout",
     "text": [
      "tf.Tensor(b'Hello TF2.x', shape=(), dtype=string)\ntf.Tensor(b'hello tf2.x', shape=(), dtype=string)\n"
     ]
    }
   ],
   "source": [
    "a= tf.constant(\"Hello TF2.x\")\n",
    "print(a)\n",
    "# 小写变换\n",
    "print(tf.strings.lower(a))"
   ]
  },
  {
   "source": [
    "#### 布尔类型\n",
    "布尔类型的张量只需要传入 Python 语言的布尔类型数据，转换成 TensorFlow 内部布尔型即可。\n"
   ],
   "cell_type": "markdown",
   "metadata": {}
  },
  {
   "cell_type": "code",
   "execution_count": 11,
   "metadata": {},
   "outputs": [
    {
     "output_type": "stream",
     "name": "stdout",
     "text": [
      "tf.Tensor(True, shape=(), dtype=bool) <dtype: 'bool'>\ntf.Tensor([ True False], shape=(2,), dtype=bool) (2,)\n"
     ]
    }
   ],
   "source": [
    "a = tf.constant(True)\n",
    "print(a,a.dtype)\n",
    "# 创建布尔类型的向量\n",
    "b = tf.constant([True,False])\n",
    "print(b,b.shape)"
   ]
  },
  {
   "source": [
    "TensorFlow 的布尔类型和 Python 语言的布尔类型并不等价，不能通用"
   ],
   "cell_type": "markdown",
   "metadata": {}
  },
  {
   "cell_type": "code",
   "execution_count": 13,
   "metadata": {},
   "outputs": [
    {
     "output_type": "stream",
     "name": "stdout",
     "text": [
      "False\ntf.Tensor(True, shape=(), dtype=bool)\n"
     ]
    }
   ],
   "source": [
    "a = tf.constant(True)\n",
    "# TF 布尔类型张量与 python 布尔类型比较\n",
    "print(a is True)\n",
    "# 但是数值可以用来比较\n",
    "print(a == True)"
   ]
  },
  {
   "source": [
    "### 类型转换\n",
    "\n",
    "#### 与numpy的相互转换\n",
    "\n",
    "这里插一个点到时关于张量创建的时候也会提到，就是与numpy的相互转换"
   ],
   "cell_type": "markdown",
   "metadata": {}
  },
  {
   "cell_type": "code",
   "execution_count": 22,
   "metadata": {},
   "outputs": [
    {
     "output_type": "stream",
     "name": "stdout",
     "text": [
      "[0 1 2 3 4] int32\ntf.Tensor([0 1 2 3 4], shape=(5,), dtype=int32)\ntf.Tensor([0 1 2 3 4], shape=(5,), dtype=int64)\ntf.Tensor(12.3, shape=(), dtype=float16)\n12.3 float16\n"
     ]
    }
   ],
   "source": [
    "a = np.arange(5)\n",
    "print(a,a.dtype)\n",
    "\n",
    "# numpy to tensor\n",
    "aa = tf.convert_to_tensor(a)\n",
    "print(aa)\n",
    "# 转换的时候可以指定数据的类型\n",
    "aa = tf.convert_to_tensor(a,dtype=tf.int64)\n",
    "print(aa)\n",
    "\n",
    "# tensor to numpy\n",
    "a = tf.constant(12.3,dtype=tf.float16)\n",
    "print(a)\n",
    "aa = a.numpy()\n",
    "print(aa,aa.dtype)"
   ]
  }
 ]
}