{
 "metadata": {
  "language_info": {
   "codemirror_mode": {
    "name": "ipython",
    "version": 3
   },
   "file_extension": ".py",
   "mimetype": "text/x-python",
   "name": "python",
   "nbconvert_exporter": "python",
   "pygments_lexer": "ipython3",
   "version": "3.6.12-final"
  },
  "orig_nbformat": 2,
  "kernelspec": {
   "name": "python3",
   "display_name": "Python 3.6.12 64-bit ('tf2': conda)",
   "metadata": {
    "interpreter": {
     "hash": "e17394781024da1f0ed279aab7c6165e80e3acfd2491de02c017c43da5039587"
    }
   }
  }
 },
 "nbformat": 4,
 "nbformat_minor": 2,
 "cells": [
  {
   "source": [
    "## 张量的排序\n",
    "\n",
    "张量的排序可以使用的\n",
    "- tf.sort\n",
    "- tf.argsor\n",
    "- Topk\n",
    "- Top-5 Acc\n",
    "等方法\n"
   ],
   "cell_type": "markdown",
   "metadata": {}
  },
  {
   "cell_type": "code",
   "execution_count": 1,
   "metadata": {},
   "outputs": [
    {
     "output_type": "stream",
     "name": "stdout",
     "text": [
      "2.3.0\n"
     ]
    }
   ],
   "source": [
    "import tensorflow as tf\n",
    "import numpy as np\n",
    "\n",
    "print(tf.__version__)"
   ]
  },
  {
   "source": [
    "### 排序\n",
    "\n",
    "在排序前介绍一个洗牌和乱序的方法,沿着第一个轴进行乱序的。\n",
    "\n",
    "- tf.random.shuffle()\n",
    ">tf.random.shuffle(value, seed=None, name=None)  \n",
    "Randomly shuffles a tensor along its first dimension.\n",
    "- value: 需要洗牌的张量\n",
    "- seed: 随机种子，保证数据的一致性，可以利用tf.random.set_seed来设置\n",
    "\n",
    "\n",
    "\n"
   ],
   "cell_type": "markdown",
   "metadata": {}
  },
  {
   "cell_type": "code",
   "execution_count": 8,
   "metadata": {},
   "outputs": [
    {
     "output_type": "stream",
     "name": "stdout",
     "text": [
      "tf.Tensor([0 1 2 3 4], shape=(5,), dtype=int32)\ntf.Tensor([4 1 0 2 3], shape=(5,), dtype=int32)\ntf.Tensor(\n[[3 4]\n [1 2]\n [5 6]], shape=(3, 2), dtype=int32)\n"
     ]
    }
   ],
   "source": [
    "a = tf.range(5)\n",
    "print(a)\n",
    "a_shuffle = tf.random.shuffle(a)\n",
    "print(a_shuffle)\n",
    "# 沿着第一个轴的方向进行展开\n",
    "b = tf.constant([[1,2],[3,4],[5,6]])\n",
    "b_sh = tf.random.shuffle((b))\n",
    "print(b_sh)"
   ]
  },
  {
   "source": [
    "sort 函数介绍：\n",
    "\n",
    "- tf.sort (values, axis=- 1, direction='ASCENDING', name=None) \n",
    "\n",
    ">Args:\n",
    "  - values: 1-D or higher numeric Tensor.\n",
    "  - axis: The axis along which to sort. The default is -1, which sorts the last\n",
    "    axis.\n",
    "  - direction: The direction in which to sort the values ('ASCENDING' or\n",
    "    'DESCENDING').\n",
    "  - name: Optional name for the operation.\n",
    "\n",
    "\n",
    "argsort： 对数据排序后索引的位置的记录\n",
    "\n",
    "- tf.argsort: (values, axis=- 1, direction='ASCENDING', stable=False, name=None)\n",
    "\n",
    "> Args:\n",
    " - values: 1-D or higher numeric Tensor.\n",
    "- axis: The axis along which to sort. The default is -1, which sorts the last\n",
    "    axis.\n",
    "- direction: The direction in which to sort the values ('ASCENDING' or\n",
    "    'DESCENDING').\n",
    "- stable: If True, equal elements in the original tensor will not be\n",
    "    re-ordered in the returned order. Unstable sort is not yet implemented, but will eventually be the default for performance reasons. If you require a stable order, pass stable=True for forwards compatibility.\n",
    "- name: Optional name for the operation.\n",
    "\n",
    "\n",
    "\n"
   ],
   "cell_type": "markdown",
   "metadata": {}
  },
  {
   "cell_type": "code",
   "execution_count": 11,
   "metadata": {},
   "outputs": [
    {
     "output_type": "stream",
     "name": "stdout",
     "text": [
      "tf.Tensor([3 0 1 4 2], shape=(5,), dtype=int32)\ntf.Tensor([4 3 2 1 0], shape=(5,), dtype=int32)\ntf.Tensor([0 1 2 3 4], shape=(5,), dtype=int32)\ntf.Tensor([1 2 4 0 3], shape=(5,), dtype=int32)\n"
     ]
    }
   ],
   "source": [
    "a = tf.random.shuffle(tf.range(5))\n",
    "print(a)\n",
    "# 降序排列\n",
    "a_sort = tf.sort(a,direction='DESCENDING')\n",
    "print(a_sort)\n",
    "# 升序排序，默认\n",
    "a_sort = tf.sort(a)\n",
    "print(a_sort)\n",
    "\n",
    "# 有一个有意的sort\n",
    "a_argsort = tf.argsort(a)\n",
    "print(a_argsort)"
   ]
  },
  {
   "source": [
    "### tok_k 计算\n",
    "\n",
    "在很多情况下我需要找到一个tensor中前几个最大值，就需要使用tok_k来获得。\n",
    "\n",
    "tf.math.top_k: (input, k=1, sorted=True, name=None)\n",
    "\n",
    ">Args:\n",
    "  - input: 1-D or higher Tensor with last dimension at least k.\n",
    "  - k: 0-D int32 Tensor. Number of top elements to look for along the last\n",
    "    dimension (along each row for matrices).\n",
    "  - sorted: If true the resulting k elements will be sorted by the values indescending order.\n",
    "  - name: Optional name for the operation\n",
    "\n",
    "\n",
    "返回值是一个 还有values indices的两个tensor:\n",
    "- values： 找到的最大值数值\n",
    "- indices: 表示找到前面几个最大值的对应的index\n",
    "\n"
   ],
   "cell_type": "markdown",
   "metadata": {}
  },
  {
   "cell_type": "code",
   "execution_count": 12,
   "metadata": {},
   "outputs": [
    {
     "output_type": "stream",
     "name": "stdout",
     "text": [
      "tf.Tensor([2 4 0 3 1], shape=(5,), dtype=int32)\nTopKV2(values=<tf.Tensor: shape=(2,), dtype=int32, numpy=array([4, 3])>, indices=<tf.Tensor: shape=(2,), dtype=int32, numpy=array([1, 3])>)\ntf.Tensor([4 3], shape=(2,), dtype=int32)\ntf.Tensor([1 3], shape=(2,), dtype=int32)\n"
     ]
    }
   ],
   "source": [
    "a =tf.random.shuffle(tf.range(5))\n",
    "print(a)\n",
    "\n",
    "res = tf.math.top_k(a,2)\n",
    "print(res)\n",
    "print(res.values)\n",
    "print(res.indices)"
   ]
  },
  {
   "source": [
    "这里一个案例来实现计算分类问题的top_k精度的计算\n"
   ],
   "cell_type": "markdown",
   "metadata": {}
  },
  {
   "cell_type": "code",
   "execution_count": 48,
   "metadata": {},
   "outputs": [],
   "source": [
    "import tensorflow as tf\n",
    "import os\n",
    "\n",
    "os.environ['TF_CPP_MIN_LOG_LEVEL'] = '2'\n",
    "tf.random.set_seed(2021)\n",
    "\n",
    "def accuracy(output,target,topk=(1,)):\n",
    "    # 找到最大的k的值\n",
    "    maxk = max(topk)\n",
    "    # 获得本次传入的样本的个数\n",
    "    batch_size = target.shape[0]\n",
    "    # 获得top_k的indices的值\n",
    "    pred = tf.math.top_k(output,maxk).indices\n",
    "    print(pred)\n",
    "    # 进行交换轴\n",
    "    pred = tf.transpose(pred,perm=[1,0])\n",
    "    # 将target的标签进行广播扩展，[10,b]\n",
    "    target_ = tf.broadcast_to(target,pred.shape)\n",
    "    # 进行比较获得最值的值\n",
    "    corret = tf.equal(pred,target_)\n",
    "\n",
    "    res = []\n",
    "    # 开始对比需要比较的数据\n",
    "    for k in topk:\n",
    "        # 进行切片选取当前需要比较的数据\n",
    "        corret_k = tf.cast(tf.reshape(corret[:k],[-1]),dtype=tf.float32)\n",
    "        # 统计当前的正确数据的个数\n",
    "        corret_k = tf.reduce_sum((corret_k))\n",
    "        # 计算精度值\n",
    "        acc = float(corret_k*(100.0/batch_size))\n",
    "        res.append(acc)\n",
    "\n",
    "    return res\n"
   ]
  },
  {
   "cell_type": "code",
   "execution_count": 49,
   "metadata": {},
   "outputs": [
    {
     "output_type": "stream",
     "name": "stdout",
     "text": [
      "tf.Tensor(\n[[0 4 2 1 5 3]\n [2 1 4 5 0 3]\n [1 0 5 4 3 2]\n [3 1 4 2 5 0]\n [4 0 5 1 2 3]\n [5 0 4 3 1 2]\n [4 1 5 0 3 2]\n [1 3 5 2 4 0]\n [4 3 2 1 0 5]\n [4 5 0 1 3 2]], shape=(10, 6), dtype=int32)\n[20.0, 40.0, 60.0, 90.0, 100.0, 100.0]\ntf.Tensor([0 2 1 3 4 5 4 1 4 4], shape=(10,), dtype=int32)\nacc:  0.2\n"
     ]
    }
   ],
   "source": [
    "# 随机的创建一个输出\n",
    "output = tf.random.normal([10,6])\n",
    "# print(output)\n",
    "# 转换成概率\n",
    "output = tf.math.softmax(output,axis=1)\n",
    "# print(output)\n",
    "\n",
    "# 创建一个标签，10个数，最大值为[1-5]\n",
    "target = tf.random.uniform([10],maxval=6,dtype=tf.int32)\n",
    "# 这个是模型输出的概率值\n",
    "# print('prob:',output.numpy())\n",
    "# 找到最大的值的位置\n",
    "pred = tf.argmax(output,axis=1)\n",
    "\n",
    "acc = accuracy(output,target,topk=(1,2,3,4,5,6))\n",
    "print(acc)\n",
    "\n",
    "\n",
    "pred = tf.cast(pred,tf.int32)\n",
    "print(pred)\n",
    "# 计算TOP_1的值\n",
    "acc = tf.reduce_sum(tf.cast(tf.equal(pred,target),tf.float32))/target.shape[0]\n",
    "print(\"acc: \",acc.numpy())\n",
    "\n"
   ]
  }
 ]
}