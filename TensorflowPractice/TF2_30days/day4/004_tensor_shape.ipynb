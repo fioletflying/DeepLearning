{
 "metadata": {
  "language_info": {
   "codemirror_mode": {
    "name": "ipython",
    "version": 3
   },
   "file_extension": ".py",
   "mimetype": "text/x-python",
   "name": "python",
   "nbconvert_exporter": "python",
   "pygments_lexer": "ipython3",
   "version": "3.8.5-final"
  },
  "orig_nbformat": 2,
  "kernelspec": {
   "name": "python3",
   "display_name": "Python 3.8.5 64-bit ('tf2': conda)",
   "metadata": {
    "interpreter": {
     "hash": "978a6c862e5d5032ad32c61f6e48b36d1a3d5930a41ca1b1b876a672583e57b7"
    }
   }
  }
 },
 "nbformat": 4,
 "nbformat_minor": 2,
 "cells": [
  {
   "cell_type": "code",
   "execution_count": 1,
   "metadata": {},
   "outputs": [
    {
     "output_type": "stream",
     "name": "stdout",
     "text": [
      "2.3.0\n"
     ]
    }
   ],
   "source": [
    "import tensorflow as tf\n",
    "import numpy as np\n",
    "\n",
    "print(tf.__version__)"
   ]
  },
  {
   "source": [
    "维度变换相关函数主要有 tf.reshape, tf.squeeze, tf.expand_dims, tf.transpose.\n",
    "\n",
    "tf.reshape 可以改变张量的形状。\n",
    "\n",
    "tf.squeeze 可以减少维度。\n",
    "\n",
    "tf.expand_dims 可以增加维度。\n",
    "\n",
    "tf.transpose 可以交换维度。\n",
    "\n",
    "通过 tf.reshape(x, new_shape)，可以将张量的视图任意地合法改变，但是其本质上不会改变张量元素的存储顺序，所以，该操作实际上非常迅速，并且是可逆的。"
   ],
   "cell_type": "markdown",
   "metadata": {}
  },
  {
   "cell_type": "code",
   "execution_count": 3,
   "metadata": {},
   "outputs": [
    {
     "output_type": "stream",
     "name": "stdout",
     "text": [
      "(1, 3, 3, 2) 4 \n tf.Tensor(\n[[[[167 112]\n   [  1 142]\n   [252  30]]\n\n  [[ 77  11]\n   [ 79 181]\n   [ 78 142]]\n\n  [[ 26 218]\n   [121 146]\n   [ 75 108]]]], shape=(1, 3, 3, 2), dtype=int32)\n"
     ]
    }
   ],
   "source": [
    "a = tf.random.uniform(shape=[1,3,3,2],minval=0,maxval=255,dtype=tf.int32)\n",
    "\n",
    "print(a.shape,a.ndim,\"\\n\",a)"
   ]
  },
  {
   "cell_type": "code",
   "execution_count": 4,
   "metadata": {},
   "outputs": [
    {
     "output_type": "stream",
     "name": "stdout",
     "text": [
      "(2, 9) \n tf.Tensor(\n[[167 112   1 142 252  30  77  11  79]\n [181  78 142  26 218 121 146  75 108]], shape=(2, 9), dtype=int32)\n"
     ]
    }
   ],
   "source": [
    "# 改成 （2,9）形状的张量\n",
    "b = tf.reshape(a,shape=[2,9])\n",
    "print(b.shape,\"\\n\",b)"
   ]
  },
  {
   "cell_type": "code",
   "execution_count": 6,
   "metadata": {},
   "outputs": [
    {
     "output_type": "stream",
     "name": "stdout",
     "text": [
      "(1, 3, 3, 2) \n tf.Tensor(\n[[[[167 112]\n   [  1 142]\n   [252  30]]\n\n  [[ 77  11]\n   [ 79 181]\n   [ 78 142]]\n\n  [[ 26 218]\n   [121 146]\n   [ 75 108]]]], shape=(1, 3, 3, 2), dtype=int32)\n"
     ]
    }
   ],
   "source": [
    "# 改回到原来的shape,里面的元素并没有变化\n",
    "c =tf.reshape(b,shape=[1,3,3,2])\n",
    "print(c.shape,\"\\n\",c)"
   ]
  },
  {
   "cell_type": "code",
   "execution_count": 7,
   "metadata": {},
   "outputs": [
    {
     "output_type": "stream",
     "name": "stdout",
     "text": [
      "(3, 2, 3) \n tf.Tensor(\n[[[167 112   1]\n  [142 252  30]]\n\n [[ 77  11  79]\n  [181  78 142]]\n\n [[ 26 218 121]\n  [146  75 108]]], shape=(3, 2, 3), dtype=int32)\n"
     ]
    }
   ],
   "source": [
    "# 使用-1 表示该维度大小可以根据实际情况计算\n",
    "d = tf.reshape(a,[-1,2,3])\n",
    "print(d.shape,\"\\n\",d)"
   ]
  },
  {
   "source": [
    "如果张量在某个维度上只有一个元素，利用tf.squeeze可以消除这个维度。\n",
    "\n",
    "和tf.reshape相似，它本质上不会改变张量元素的存储顺序。\n",
    "\n",
    "张量的各个元素在内存中是线性存储的，其一般规律是，同一层级中的相邻元素的物理地址也相邻。"
   ],
   "cell_type": "markdown",
   "metadata": {}
  },
  {
   "cell_type": "code",
   "execution_count": 8,
   "metadata": {},
   "outputs": [
    {
     "output_type": "stream",
     "name": "stdout",
     "text": [
      "(3, 3, 2) \n tf.Tensor(\n[[[167 112]\n  [  1 142]\n  [252  30]]\n\n [[ 77  11]\n  [ 79 181]\n  [ 78 142]]\n\n [[ 26 218]\n  [121 146]\n  [ 75 108]]], shape=(3, 3, 2), dtype=int32)\n"
     ]
    }
   ],
   "source": [
    "# 将所有为维度为1的删除\n",
    "s = tf.squeeze(a)\n",
    "print(s.shape,\"\\n\",s)"
   ]
  },
  {
   "cell_type": "code",
   "execution_count": 9,
   "metadata": {},
   "outputs": [
    {
     "output_type": "stream",
     "name": "stdout",
     "text": [
      "(3, 3, 2) \n tf.Tensor(\n[[[167 112]\n  [  1 142]\n  [252  30]]\n\n [[ 77  11]\n  [ 79 181]\n  [ 78 142]]\n\n [[ 26 218]\n  [121 146]\n  [ 75 108]]], shape=(3, 3, 2), dtype=int32)\n"
     ]
    }
   ],
   "source": [
    "# 指定需要删除的维度位置\n",
    "s2 = tf.squeeze(a,axis=0)\n",
    "print(s2.shape,\"\\n\",s2)"
   ]
  },
  {
   "cell_type": "code",
   "execution_count": 10,
   "metadata": {},
   "outputs": [
    {
     "output_type": "stream",
     "name": "stdout",
     "text": [
      "(1, 3, 3, 2) \n tf.Tensor(\n[[[[167 112]\n   [  1 142]\n   [252  30]]\n\n  [[ 77  11]\n   [ 79 181]\n   [ 78 142]]\n\n  [[ 26 218]\n   [121 146]\n   [ 75 108]]]], shape=(1, 3, 3, 2), dtype=int32)\n"
     ]
    }
   ],
   "source": [
    "# #在第0维插入长度为1的一个维度\n",
    "d = tf.expand_dims(s,axis=0)\n",
    "print(d.shape,\"\\n\",d)"
   ]
  },
  {
   "source": [
    "交换维度位置\n",
    "tf.transpose可以交换张量的维度，与tf.reshape不同，它会改变张量元素的存储顺序。\n",
    "\n",
    "tf.transpose常用于图片存储格式的变换上。"
   ],
   "cell_type": "markdown",
   "metadata": {}
  },
  {
   "cell_type": "code",
   "execution_count": 11,
   "metadata": {},
   "outputs": [
    {
     "output_type": "stream",
     "name": "stdout",
     "text": [
      "(2, 3, 32, 32)\n"
     ]
    }
   ],
   "source": [
    "x = tf.random.normal([2,32,32,3])\n",
    "\n",
    "y = tf.transpose(x,perm=[0,3,1,2])\n",
    "\n",
    "print(y.shape)"
   ]
  },
  {
   "source": [
    "复制数据\n",
    "tf.tile\n"
   ],
   "cell_type": "markdown",
   "metadata": {}
  },
  {
   "cell_type": "code",
   "execution_count": 12,
   "metadata": {},
   "outputs": [
    {
     "output_type": "stream",
     "name": "stdout",
     "text": [
      "tf.Tensor([[1 2]], shape=(1, 2), dtype=int32)\n"
     ]
    }
   ],
   "source": [
    "b = tf.constant([1,2])\n",
    "# 插入一个新的维度\n",
    "t = tf.expand_dims(b,axis=0)\n",
    "print(t)\n"
   ]
  },
  {
   "cell_type": "code",
   "execution_count": 14,
   "metadata": {},
   "outputs": [
    {
     "output_type": "stream",
     "name": "stdout",
     "text": [
      "tf.Tensor(\n[[1 2]\n [1 2]], shape=(2, 2), dtype=int32)\n"
     ]
    }
   ],
   "source": [
    "# 样本复制一份\n",
    "b = tf.tile(t,multiples=[2,1])\n",
    "print(b)"
   ]
  },
  {
   "cell_type": "code",
   "execution_count": 17,
   "metadata": {},
   "outputs": [
    {
     "output_type": "stream",
     "name": "stdout",
     "text": [
      "tf.Tensor(\n[[0 1]\n [2 3]], shape=(2, 2), dtype=int32)\n"
     ]
    }
   ],
   "source": [
    "x = tf.range(4)\n",
    "x = tf.reshape(x,shape=[2,2])\n",
    "print(x)"
   ]
  },
  {
   "cell_type": "code",
   "execution_count": 18,
   "metadata": {},
   "outputs": [
    {
     "output_type": "stream",
     "name": "stdout",
     "text": [
      "tf.Tensor(\n[[0 1 0 1]\n [2 3 2 3]], shape=(2, 4), dtype=int32)\n"
     ]
    }
   ],
   "source": [
    "# 列方向复制\n",
    "x = tf.tile(x,multiples=[1,2])\n",
    "print(x)"
   ]
  },
  {
   "cell_type": "code",
   "execution_count": 20,
   "metadata": {},
   "outputs": [
    {
     "output_type": "stream",
     "name": "stdout",
     "text": [
      "tf.Tensor(\n[[0 1 0 1]\n [2 3 2 3]\n [0 1 0 1]\n [2 3 2 3]\n [0 1 0 1]\n [2 3 2 3]\n [0 1 0 1]\n [2 3 2 3]\n [0 1 0 1]\n [2 3 2 3]\n [0 1 0 1]\n [2 3 2 3]], shape=(12, 4), dtype=int32)\n"
     ]
    }
   ],
   "source": [
    "# 行方向进行复制3份\n",
    "x = tf.tile(x,multiples=[3,1])\n",
    "print(x)"
   ]
  }
 ]
}