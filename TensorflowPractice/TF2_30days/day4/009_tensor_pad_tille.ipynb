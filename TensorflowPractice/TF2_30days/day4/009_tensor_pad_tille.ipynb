{
 "metadata": {
  "language_info": {
   "codemirror_mode": {
    "name": "ipython",
    "version": 3
   },
   "file_extension": ".py",
   "mimetype": "text/x-python",
   "name": "python",
   "nbconvert_exporter": "python",
   "pygments_lexer": "ipython3",
   "version": "3.6.12-final"
  },
  "orig_nbformat": 2,
  "kernelspec": {
   "name": "python3",
   "display_name": "Python 3.6.12 64-bit ('tf2': conda)",
   "metadata": {
    "interpreter": {
     "hash": "e17394781024da1f0ed279aab7c6165e80e3acfd2491de02c017c43da5039587"
    }
   }
  }
 },
 "nbformat": 4,
 "nbformat_minor": 2,
 "cells": [
  {
   "source": [
    "## 张量的填充与复制\n",
    "\n",
    "在保持原有的数据的情况下，对张量进行填充，一般填充0，可以沿着指定轴的方向进行填充。\n",
    "tf.pad(tensor, paddings, mode='CONSTANT', constant_values=0, name=None)\n",
    "\n",
    ">Args: \n",
    "- tensor: A Tensor. \n",
    "- paddings: A Tensor of type int32.\n",
    "- mode: One of \"CONSTANT\", \"REFLECT\", or \"SYMMETRIC\" (case-insensitive) - constant_values: In \"CONSTANT\" mode, the scalar pad value to use. Must be same type as tensor. \n",
    "- name: A name for the operation (optional).\n",
    "\n",
    "第二个参数padding尤其重要，一般有几个维度就会有几个[0,0]"
   ],
   "cell_type": "markdown",
   "metadata": {}
  },
  {
   "cell_type": "code",
   "execution_count": 1,
   "metadata": {},
   "outputs": [
    {
     "output_type": "stream",
     "name": "stdout",
     "text": [
      "2.3.0\n"
     ]
    }
   ],
   "source": [
    "import tensorflow as tf\n",
    "import numpy as np\n",
    "\n",
    "print(tf.__version__)"
   ]
  },
  {
   "cell_type": "code",
   "execution_count": 2,
   "metadata": {},
   "outputs": [
    {
     "output_type": "stream",
     "name": "stdout",
     "text": [
      "tf.Tensor(\n[[0 1 2]\n [3 4 5]\n [6 7 8]], shape=(3, 3), dtype=int32)\n"
     ]
    }
   ],
   "source": [
    "a = tf.reshape(tf.range(9),[3,3])\n",
    "print(a)"
   ]
  },
  {
   "cell_type": "code",
   "execution_count": 3,
   "metadata": {},
   "outputs": [
    {
     "output_type": "stream",
     "name": "stdout",
     "text": [
      "tf.Tensor(\n[[0 1 2]\n [3 4 5]\n [6 7 8]], shape=(3, 3), dtype=int32)\n"
     ]
    }
   ],
   "source": [
    "b = tf.pad(a,[[0,0],[0,0]])\n",
    "print(b)"
   ]
  },
  {
   "cell_type": "code",
   "execution_count": 5,
   "metadata": {},
   "outputs": [
    {
     "output_type": "stream",
     "name": "stdout",
     "text": [
      "tf.Tensor(\n[[0 0 0]\n [0 1 2]\n [3 4 5]\n [6 7 8]], shape=(4, 3), dtype=int32)\n"
     ]
    }
   ],
   "source": [
    "# 第一个轴的上面，填充1行\n",
    "b = tf.pad(a,[[1,0],[0,0]])\n",
    "print(b)"
   ]
  },
  {
   "cell_type": "code",
   "execution_count": 8,
   "metadata": {},
   "outputs": [
    {
     "output_type": "stream",
     "name": "stdout",
     "text": [
      "tf.Tensor(\n[[0 0 0 0 0 0 0]\n [0 0 0 1 2 0 0]\n [0 0 3 4 5 0 0]\n [0 0 6 7 8 0 0]\n [0 0 0 0 0 0 0]], shape=(5, 7), dtype=int32)\n"
     ]
    }
   ],
   "source": [
    "# 上下给添加一行，左右个添加两列\n",
    "b = tf.pad(a,[[1,1],[2,2]])\n",
    "print(b)"
   ]
  },
  {
   "source": [
    "### 复制\n",
    "\n",
    "tf.tile (input, multiples, name=None)\n",
    " 沿着指定的维度进行复制\n",
    "\n",
    " >Args: \n",
    " - input: A Tensor. 1-D or higher. \n",
    " - multiples: A Tensor. Must be one of the following \n",
    " - types: int32, int64. 1-D. Length must be the same as the number of dimensions in input \n",
    " - name: A name for the operation (optional).\n",
    "\n"
   ],
   "cell_type": "markdown",
   "metadata": {}
  },
  {
   "cell_type": "code",
   "execution_count": 10,
   "metadata": {},
   "outputs": [
    {
     "output_type": "stream",
     "name": "stdout",
     "text": [
      "tf.Tensor(\n[[0 1 2 0 1 2]\n [3 4 5 3 4 5]\n [6 7 8 6 7 8]], shape=(3, 6), dtype=int32)\n"
     ]
    }
   ],
   "source": [
    "# [1,2],表示第一个维度复制1，就表示不复制，\n",
    "# 第二个维度复制2份\n",
    "b = tf.tile(a,[1,2])\n",
    "print(b)"
   ]
  },
  {
   "cell_type": "code",
   "execution_count": 11,
   "metadata": {},
   "outputs": [
    {
     "output_type": "stream",
     "name": "stdout",
     "text": [
      "tf.Tensor(\n[[0 1 2]\n [3 4 5]\n [6 7 8]\n [0 1 2]\n [3 4 5]\n [6 7 8]], shape=(6, 3), dtype=int32)\n"
     ]
    }
   ],
   "source": [
    "b = tf.tile(a,[2,1])\n",
    "print(b)"
   ]
  },
  {
   "cell_type": "code",
   "execution_count": 12,
   "metadata": {},
   "outputs": [
    {
     "output_type": "stream",
     "name": "stdout",
     "text": [
      "tf.Tensor(\n[[0 1 2 0 1 2]\n [3 4 5 3 4 5]\n [6 7 8 6 7 8]\n [0 1 2 0 1 2]\n [3 4 5 3 4 5]\n [6 7 8 6 7 8]], shape=(6, 6), dtype=int32)\n"
     ]
    }
   ],
   "source": [
    "b  =tf.tile(a,[2,2])\n",
    "print(b)"
   ]
  },
  {
   "cell_type": "code",
   "execution_count": null,
   "metadata": {},
   "outputs": [],
   "source": []
  }
 ]
}