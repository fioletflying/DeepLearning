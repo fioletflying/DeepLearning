{
 "metadata": {
  "language_info": {
   "codemirror_mode": {
    "name": "ipython",
    "version": 3
   },
   "file_extension": ".py",
   "mimetype": "text/x-python",
   "name": "python",
   "nbconvert_exporter": "python",
   "pygments_lexer": "ipython3",
   "version": "3.6.12-final"
  },
  "orig_nbformat": 2,
  "kernelspec": {
   "name": "python3",
   "display_name": "Python 3",
   "language": "python"
  }
 },
 "nbformat": 4,
 "nbformat_minor": 2,
 "cells": [
  {
   "source": [
    "# 创建张量\n",
    "\n",
    "## from numpy,list\n",
    "\n",
    "上一个小节介绍了这种方法，tf.conver_to_tensor函数来创建新的tensor，可以将numpy与list等对象转换成Tensor 类型。"
   ],
   "cell_type": "markdown",
   "metadata": {}
  },
  {
   "cell_type": "code",
   "execution_count": 1,
   "metadata": {},
   "outputs": [
    {
     "output_type": "stream",
     "name": "stdout",
     "text": [
      "2.3.0\n"
     ]
    }
   ],
   "source": [
    "import tensorflow as tf\n",
    "import numpy as np\n",
    "\n",
    "print(tf.__version__)"
   ]
  },
  {
   "cell_type": "code",
   "execution_count": 5,
   "metadata": {},
   "outputs": [
    {
     "output_type": "stream",
     "name": "stdout",
     "text": [
      "tf.Tensor([1 2 3], shape=(3,), dtype=int32)\ntf.Tensor(\n[[1 2 3]\n [4 5 6]], shape=(2, 3), dtype=int32)\n"
     ]
    }
   ],
   "source": [
    "a = [1,2,3]\n",
    "aa = tf.convert_to_tensor(a)\n",
    "print(aa)\n",
    "\n",
    "b = np.array([[1,2,3],[4,5,6]])\n",
    "bb  = tf.convert_to_tensor(b)\n",
    "print(bb)"
   ]
  },
  {
   "source": [
    "## 创建全0或全1张量\n",
    "\n",
    "通过控制 shape来获得不同的形状的数据类型。\n",
    "- tf.zeros\n",
    "- tf.ones"
   ],
   "cell_type": "markdown",
   "metadata": {}
  },
  {
   "cell_type": "code",
   "execution_count": 2,
   "metadata": {},
   "outputs": [
    {
     "output_type": "stream",
     "name": "stdout",
     "text": [
      "tf.Tensor(0.0, shape=(), dtype=float32) tf.Tensor(1.0, shape=(), dtype=float32)\n",
      "tf.Tensor([0. 0.], shape=(2,), dtype=float32) tf.Tensor([1. 1. 1.], shape=(3,), dtype=float32)\n",
      "tf.Tensor(\n",
      "[[0. 0. 0. 0.]\n",
      " [0. 0. 0. 0.]], shape=(2, 4), dtype=float32) tf.Tensor(\n",
      "[[1. 1. 1. 1. 1.]\n",
      " [1. 1. 1. 1. 1.]\n",
      " [1. 1. 1. 1. 1.]], shape=(3, 5), dtype=float32)\n"
     ]
    }
   ],
   "source": [
    "# 创建一个标量\n",
    "print(tf.zeros([]),tf.ones([]))\n",
    "# 创建一个向量\n",
    "print(tf.zeros([2]),tf.ones([3]))\n",
    "# 创建一个矩阵\n",
    "print(tf.zeros([2,4]),tf.ones([3,5]))"
   ]
  },
  {
   "source": [
    "- tf.zeros_like\n",
    "- tf.ones_like\n",
    "\n",
    "> Args:\n",
    "  - input: A `Tensor`.\n",
    "  - dtype: A type for the returned `Tensor`. Must be `float16`, `float32`,\n",
    "    `float64`, `int8`, `uint8`, `int16`, `uint16`, `int32`, `int64`,\n",
    "    `complex64`, `complex128`, `bool` or `string`.\n",
    "  - name: A name for the operation (optional).\n",
    "\n",
    "也可以通过使用zeros_like,ones_like 来创建一个与某个张量shape一致的，且内容为全 0 或全 1 的张量。\n"
   ],
   "cell_type": "markdown",
   "metadata": {}
  },
  {
   "cell_type": "code",
   "execution_count": 11,
   "metadata": {},
   "outputs": [
    {
     "output_type": "stream",
     "name": "stdout",
     "text": [
      "tf.Tensor(\n[[1 2]\n [3 4]], shape=(2, 2), dtype=int32)\ntf.Tensor(\n[[1 1]\n [1 1]], shape=(2, 2), dtype=int32)\ntf.Tensor(\n[[0 0]\n [0 0]], shape=(2, 2), dtype=int32)\n"
     ]
    }
   ],
   "source": [
    "a = tf.constant([[1,2],[3,4]])\n",
    "print(a)\n",
    "b = tf.ones_like(a)\n",
    "print(b)\n",
    "c = tf.zeros_like(a)\n",
    "print(c)"
   ]
  },
  {
   "source": [
    "## 创建自定义数值的张量\n",
    "上面我们看到的是，只能创建0，1等类型的张量，如果我们想创建任意数值的张量呢？\n",
    "通过 tf.fill(shape, value)可以创建全为自定义数值 value 的张量，形状由 shape 参数指定。\n",
    "\n",
    ">Args:\n",
    "  - dims: A 1-D sequence of non-negative numbers. Represents the shape of the\n",
    "    output `tf.Tensor`. Entries should be of type: `int32`, `int64`.\n",
    "  - value: A value to fill the returned `tf.Tensor`.\n",
    "  - name: Optional string. The name of the output `tf.Tensor`.\n"
   ],
   "cell_type": "markdown",
   "metadata": {}
  },
  {
   "cell_type": "code",
   "execution_count": 16,
   "metadata": {},
   "outputs": [
    {
     "output_type": "stream",
     "name": "stdout",
     "text": [
      "tf.Tensor(2, shape=(), dtype=int32)\ntf.Tensor([-1 -1], shape=(2,), dtype=int32)\ntf.Tensor(\n[[5 5 5]\n [5 5 5]\n [5 5 5]], shape=(3, 3), dtype=int32)\n"
     ]
    }
   ],
   "source": [
    "# 创建标量\n",
    "print(tf.fill([],2))\n",
    "# 创建向量\n",
    "print(tf.fill([2],-1))\n",
    "# 创建矩阵\n",
    "print(tf.fill([3,3],5))"
   ]
  },
  {
   "source": [
    "## 创建各种(正态,均匀)分布的张量\n",
    "\n",
    "可以通过tf.random.normal(shape, mean=0, stddev=1, dtype=dtypes.float32, seed=None, name=None)\n",
    "\n"
   ],
   "cell_type": "markdown",
   "metadata": {}
  },
  {
   "cell_type": "code",
   "execution_count": 38,
   "metadata": {},
   "outputs": [
    {
     "output_type": "stream",
     "name": "stdout",
     "text": [
      "tf.Tensor(\n[[-0.62201107  0.2999319  -0.5537199 ]\n [-0.58671755  0.6487386  -0.54981697]\n [ 0.16537268 -1.2368505  -0.48971233]], shape=(3, 3), dtype=float32)\ntf.Tensor(\n[[ 1.3149339 -3.1893334]\n [ 0.7455982 -0.5621269]], shape=(2, 2), dtype=float32)\n"
     ]
    }
   ],
   "source": [
    "# 标准正太分布\n",
    "print(tf.random.normal([3,3]))\n",
    "# 创建均值为1，标准差为2d的正太分布\n",
    "print(tf.random.normal([2,2],mean=1,stddev=2))"
   ]
  },
  {
   "source": [
    "创建均值分布的张量\n",
    "\n",
    "uniform: (shape, minval=0, maxval=None, dtype=dtypes.float32, seed=None, name=None)\n",
    "\n"
   ],
   "cell_type": "markdown",
   "metadata": {}
  },
  {
   "cell_type": "code",
   "execution_count": 40,
   "metadata": {},
   "outputs": [
    {
     "output_type": "stream",
     "name": "stdout",
     "text": [
      "tf.Tensor(\n[[0.33640003 0.23915172 0.3456241 ]\n [0.06558251 0.5055071  0.7238368 ]\n [0.87329626 0.53964984 0.5348885 ]], shape=(3, 3), dtype=float32)\ntf.Tensor(\n[[4.099859  5.5402937]\n [5.5692935 9.2914095]], shape=(2, 2), dtype=float32)\n"
     ]
    }
   ],
   "source": [
    "# 创建采样自[0,1)均匀分布的矩阵\n",
    "print(tf.random.uniform([3,3]))\n",
    "print(tf.random.uniform([2,2],maxval=10))\n"
   ]
  },
  {
   "cell_type": "code",
   "execution_count": null,
   "metadata": {},
   "outputs": [],
   "source": []
  }
 ]
}