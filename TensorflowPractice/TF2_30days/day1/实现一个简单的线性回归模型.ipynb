{
 "cells": [
  {
   "cell_type": "markdown",
   "metadata": {},
   "source": [
    "本节将介绍如何只利用tensorflow中的Tensor和GradientTape来实现一个线性回归的训练。\n",
    "需要导入的库有："
   ]
  },
  {
   "cell_type": "code",
   "execution_count": 1,
   "metadata": {},
   "outputs": [
    {
     "name": "stdout",
     "output_type": "stream",
     "text": [
      "2.1.0\n"
     ]
    }
   ],
   "source": [
    "%matplotlib inline\n",
    "import tensorflow as tf\n",
    "print(tf.__version__)\n",
    "from matplotlib import pyplot as plt\n",
    "import random"
   ]
  },
  {
   "cell_type": "markdown",
   "metadata": {},
   "source": [
    "### 生成数据集\n",
    "\n",
    "这里我们假设需要回归的函数为  \n",
    "\n",
    "y = x1\\*w1+x2\\*w2+b\n",
    "\n",
    "y = 2\\*x1-3.4\\*x2+4.2\n",
    "\n",
    "这里需要输入两个特征：x1,x2\n",
    "假设我们输入1000个样本。具体实现如下\n",
    "\n",
    "\n"
   ]
  },
  {
   "cell_type": "code",
   "execution_count": 2,
   "metadata": {},
   "outputs": [],
   "source": [
    "num_inputs = 2\n",
    "num_examples =1000\n",
    "w = [2,-3.4]\n",
    "b = [4.2]\n",
    "\n",
    "# 使用随机的标准正态分布来产生随机的样本值[1000,2]\n",
    "X = tf.random.normal(shape=(num_examples,num_inputs),mean=0.0, stddev=1.0)\n",
    "# 矩阵元素的相乘，使用了列表切片的方法，以及广播的方法\n",
    "Y = w[0]*X[:,0] + w[1]*X[:,1]+b \n",
    "#Y = tf.matmul(X,tf.transpose(tf.constant([w])))+b\n",
    "\n",
    "# 噪声项 ϵ 服从均值为0、标准差为0.01的正态分布\n",
    "Y += tf.random.normal(Y.shape,stddev=0.01)\n",
    "\n",
    "\n"
   ]
  },
  {
   "cell_type": "code",
   "execution_count": 3,
   "metadata": {},
   "outputs": [
    {
     "name": "stdout",
     "output_type": "stream",
     "text": [
      "tf.Tensor([ 1.0990392  -0.10639932], shape=(2,), dtype=float32) tf.Tensor(6.7674136, shape=(), dtype=float32)\n"
     ]
    }
   ],
   "source": [
    "print(X[0],Y[0])"
   ]
  },
  {
   "cell_type": "code",
   "execution_count": 4,
   "metadata": {},
   "outputs": [
    {
     "data": {
      "text/plain": [
       "<matplotlib.collections.PathCollection at 0x148be0110c8>"
      ]
     },
     "execution_count": 4,
     "metadata": {},
     "output_type": "execute_result"
    },
    {
     "data": {
      "image/png": "[encoded data removed]",
      "text/plain": [
       "<Figure size 252x180 with 1 Axes>"
      ]
     },
     "metadata": {
      "needs_background": "light"
     },
     "output_type": "display_data"
    }
   ],
   "source": [
    "##绘制数据集的图片\n",
    "\n",
    "# 设置绘制图片的大小\n",
    "def set_figsize(figsize=(3.5,2.5)):\n",
    "    plt.rcParams['figure.figsize']=figsize\n",
    "    \n",
    "set_figsize()\n",
    "plt.scatter(X[:,0],Y,1)\n",
    "plt.scatter(X[:,1],Y,1)"
   ]
  },
  {
   "cell_type": "markdown",
   "metadata": {},
   "source": [
    "### 读取数据\n",
    "\n",
    "通过每次遍历一个小批量数据来读取数据集，这里我们定义一个函数返回batch_sizee随机样本和Y.\n",
    "\n",
    "tf.gather: 就是按照指定的index来组成新的数据\n",
    "![](imgs/01.jpg)\n",
    "\n",
    "关于[yield](https://blog.csdn.net/mieleizhi0522/article/details/82142856)是python中一生成器，这个生成器就相当于你调用一下就生成一组数据"
   ]
  },
  {
   "cell_type": "code",
   "execution_count": 5,
   "metadata": {},
   "outputs": [],
   "source": [
    "def data_iter(batch_size,X,Y):\n",
    "    num_examples = len(X)\n",
    "    indices = list(range(num_examples))\n",
    "    #对数样本进行洗牌：打乱顺序\n",
    "    tf.random.shuffle(indices)\n",
    "    # 按batch_size步长进行取值\n",
    "    for i in range(0,num_examples,batch_size):\n",
    "        j = indices[i:min(i+batch_size,num_examples)]\n",
    "        yield tf.gather(X,axis=0,indices=j),tf.gather(Y,axis=0,indices=j)\n",
    "    "
   ]
  },
  {
   "cell_type": "code",
   "execution_count": 6,
   "metadata": {},
   "outputs": [
    {
     "name": "stdout",
     "output_type": "stream",
     "text": [
      "tf.Tensor(\n",
      "[[-0.7313256   1.3947203 ]\n",
      " [-0.4779744   1.4264243 ]\n",
      " [-1.271064   -0.8589705 ]\n",
      " [ 0.81819725 -0.80410165]\n",
      " [ 0.13925987 -0.36158544]\n",
      " [ 0.11899973 -0.39924118]\n",
      " [-0.89076847 -1.5463573 ]\n",
      " [ 2.5219333   0.5773596 ]\n",
      " [ 1.70572    -0.2952717 ]\n",
      " [-0.705921    0.84379315]], shape=(10, 2), dtype=float32) tf.Tensor(\n",
      "[-1.9847884  -1.608948    4.566408    8.580134    5.7058454   5.796521\n",
      "  7.68706     7.2675996   8.600337   -0.06848085], shape=(10,), dtype=float32)\n"
     ]
    }
   ],
   "source": [
    "# 读取第一个小批量样本，并打印\n",
    "\n",
    "batch_size = 10\n",
    "\n",
    "for x,y in data_iter(batch_size,X,Y):\n",
    "    print(x,y)\n",
    "    break"
   ]
  },
  {
   "cell_type": "markdown",
   "metadata": {},
   "source": [
    "### 初始化模型参数\n",
    "将权重初始化成均值为0、标准差为0.01的正态随机数，偏差则初始化成0。\n",
    "\n",
    "利用Variable参数变量"
   ]
  },
  {
   "cell_type": "code",
   "execution_count": 7,
   "metadata": {},
   "outputs": [],
   "source": [
    "wp = tf.Variable(tf.random.normal((num_inputs,1),stddev=0.01))\n",
    "bp = tf.Variable(tf.zeros(1,))"
   ]
  },
  {
   "cell_type": "markdown",
   "metadata": {},
   "source": [
    "### 定义模型\n",
    "线性回归，使用matmul函数矩阵乘法\n"
   ]
  },
  {
   "cell_type": "code",
   "execution_count": 8,
   "metadata": {},
   "outputs": [],
   "source": [
    "def linreg(X,w,b):\n",
    "    return tf.matmul(X,w)+b"
   ]
  },
  {
   "cell_type": "markdown",
   "metadata": {},
   "source": [
    "### 定义损失函数\n",
    "\n",
    "平方损失来定义线性回归的损失函数。"
   ]
  },
  {
   "cell_type": "code",
   "execution_count": 9,
   "metadata": {},
   "outputs": [],
   "source": [
    "def squared_loss(y_hat, y):\n",
    "    return (y_hat - tf.reshape(y, y_hat.shape)) ** 2 /2"
   ]
  },
  {
   "cell_type": "markdown",
   "metadata": {},
   "source": [
    "### 定义优化算法\n",
    "\n",
    "小批量随机梯度下降算法"
   ]
  },
  {
   "cell_type": "code",
   "execution_count": 10,
   "metadata": {},
   "outputs": [],
   "source": [
    "def sgd(params, lr, batch_size, grads):\n",
    "    \"\"\"Mini-batch stochastic gradient descent.\"\"\"\n",
    "    for i, param in enumerate(params):\n",
    "        param.assign_sub(lr * grads[i] / batch_size)"
   ]
  },
  {
   "cell_type": "code",
   "execution_count": 13,
   "metadata": {},
   "outputs": [
    {
     "name": "stdout",
     "output_type": "stream",
     "text": [
      "epoch 1, loss 0.039776\n",
      "epoch 2, loss 0.000158\n",
      "epoch 3, loss 0.000052\n"
     ]
    }
   ],
   "source": [
    "lr = 0.03\n",
    "num_epochs = 3\n",
    "net = linreg\n",
    "loss = squared_loss\n",
    "\n",
    "for epoch in range(num_epochs):\n",
    "    for x,y in data_iter(batch_size, X, Y):\n",
    "        with tf.GradientTape() as t:\n",
    "            t.watch([wp,bp])\n",
    "            l = loss(net(x, wp, bp), y)\n",
    "        grads = t.gradient(l, [wp, bp])\n",
    "        sgd([wp, bp], lr, batch_size, grads)\n",
    "    train_l = loss(net(X, wp, bp), Y)\n",
    "    print('epoch %d, loss %f' % (epoch + 1, tf.reduce_mean(train_l)))"
   ]
  }
 ],
 "metadata": {
  "kernelspec": {
   "display_name": "Python 3",
   "language": "python",
   "name": "python3"
  },
  "language_info": {
   "codemirror_mode": {
    "name": "ipython",
    "version": 3
   },
   "file_extension": ".py",
   "mimetype": "text/x-python",
   "name": "python",
   "nbconvert_exporter": "python",
   "pygments_lexer": "ipython3",
   "version": "3.7.7"
  }
 },
 "nbformat": 4,
 "nbformat_minor": 4
}
