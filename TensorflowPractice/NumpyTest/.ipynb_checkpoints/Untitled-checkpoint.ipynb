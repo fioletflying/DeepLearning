{
 "cells": [
  {
   "cell_type": "markdown",
   "metadata": {},
   "source": [
    "## 数据读取\n",
    "- 读取csv文件\n",
    "- 读取txt文件\n",
    "- 读取xlsx文件\n",
    "\n",
    "### 读取csv文件\n",
    "\n",
    "使用函数：`read_csv()`"
   ]
  },
  {
   "cell_type": "code",
   "execution_count": 1,
   "metadata": {},
   "outputs": [],
   "source": [
    "import pandas as pd"
   ]
  },
  {
   "cell_type": "code",
   "execution_count": 8,
   "metadata": {},
   "outputs": [],
   "source": [
    "csv_path = \"D:/Study/python/kz/question_input.csv\"\n",
    "data = pd.read_csv(csv_path,encoding='gbk')"
   ]
  },
  {
   "cell_type": "code",
   "execution_count": 9,
   "metadata": {},
   "outputs": [
    {
     "data": {
      "text/html": [
       "<div>\n",
       "<style scoped>\n",
       "    .dataframe tbody tr th:only-of-type {\n",
       "        vertical-align: middle;\n",
       "    }\n",
       "\n",
       "    .dataframe tbody tr th {\n",
       "        vertical-align: top;\n",
       "    }\n",
       "\n",
       "    .dataframe thead th {\n",
       "        text-align: right;\n",
       "    }\n",
       "</style>\n",
       "<table border=\"1\" class=\"dataframe\">\n",
       "  <thead>\n",
       "    <tr style=\"text-align: right;\">\n",
       "      <th></th>\n",
       "      <th>province</th>\n",
       "      <th>city</th>\n",
       "      <th>biz_date</th>\n",
       "      <th>increase_cured_nums</th>\n",
       "      <th>increase_dead_nums</th>\n",
       "      <th>increase_confirm_nums</th>\n",
       "    </tr>\n",
       "  </thead>\n",
       "  <tbody>\n",
       "    <tr>\n",
       "      <th>0</th>\n",
       "      <td>上海市</td>\n",
       "      <td>上海市</td>\n",
       "      <td>1/28/2020</td>\n",
       "      <td>0</td>\n",
       "      <td>0</td>\n",
       "      <td>13</td>\n",
       "    </tr>\n",
       "    <tr>\n",
       "      <th>1</th>\n",
       "      <td>上海市</td>\n",
       "      <td>上海市</td>\n",
       "      <td>1/29/2020</td>\n",
       "      <td>2</td>\n",
       "      <td>1</td>\n",
       "      <td>30</td>\n",
       "    </tr>\n",
       "    <tr>\n",
       "      <th>2</th>\n",
       "      <td>上海市</td>\n",
       "      <td>上海市</td>\n",
       "      <td>1/30/2020</td>\n",
       "      <td>0</td>\n",
       "      <td>0</td>\n",
       "      <td>16</td>\n",
       "    </tr>\n",
       "    <tr>\n",
       "      <th>3</th>\n",
       "      <td>上海市</td>\n",
       "      <td>上海市</td>\n",
       "      <td>1/31/2020</td>\n",
       "      <td>5</td>\n",
       "      <td>0</td>\n",
       "      <td>23</td>\n",
       "    </tr>\n",
       "    <tr>\n",
       "      <th>4</th>\n",
       "      <td>上海市</td>\n",
       "      <td>上海市</td>\n",
       "      <td>2/1/2020</td>\n",
       "      <td>5</td>\n",
       "      <td>0</td>\n",
       "      <td>34</td>\n",
       "    </tr>\n",
       "  </tbody>\n",
       "</table>\n",
       "</div>"
      ],
      "text/plain": [
       "  province city   biz_date  increase_cured_nums  increase_dead_nums  \\\n",
       "0      上海市  上海市  1/28/2020                    0                   0   \n",
       "1      上海市  上海市  1/29/2020                    2                   1   \n",
       "2      上海市  上海市  1/30/2020                    0                   0   \n",
       "3      上海市  上海市  1/31/2020                    5                   0   \n",
       "4      上海市  上海市   2/1/2020                    5                   0   \n",
       "\n",
       "   increase_confirm_nums  \n",
       "0                     13  \n",
       "1                     30  \n",
       "2                     16  \n",
       "3                     23  \n",
       "4                     34  "
      ]
     },
     "execution_count": 9,
     "metadata": {},
     "output_type": "execute_result"
    }
   ],
   "source": [
    "#查看数据前5行\n",
    "data.head()"
   ]
  },
  {
   "cell_type": "code",
   "execution_count": 10,
   "metadata": {},
   "outputs": [
    {
     "data": {
      "text/plain": [
       "(3744, 6)"
      ]
     },
     "execution_count": 10,
     "metadata": {},
     "output_type": "execute_result"
    }
   ],
   "source": [
    "#数据的size\n",
    "data.shape"
   ]
  },
  {
   "cell_type": "code",
   "execution_count": 11,
   "metadata": {},
   "outputs": [
    {
     "data": {
      "text/plain": [
       "Index(['province', 'city', 'biz_date', 'increase_cured_nums',\n",
       "       'increase_dead_nums', 'increase_confirm_nums'],\n",
       "      dtype='object')"
      ]
     },
     "execution_count": 11,
     "metadata": {},
     "output_type": "execute_result"
    }
   ],
   "source": [
    "#数据的列名\n",
    "data.columns"
   ]
  },
  {
   "cell_type": "code",
   "execution_count": 12,
   "metadata": {},
   "outputs": [
    {
     "data": {
      "text/plain": [
       "RangeIndex(start=0, stop=3744, step=1)"
      ]
     },
     "execution_count": 12,
     "metadata": {},
     "output_type": "execute_result"
    }
   ],
   "source": [
    "#数据的行索引\n",
    "data.index"
   ]
  },
  {
   "cell_type": "code",
   "execution_count": 13,
   "metadata": {},
   "outputs": [
    {
     "data": {
      "text/plain": [
       "province                 object\n",
       "city                     object\n",
       "biz_date                 object\n",
       "increase_cured_nums       int64\n",
       "increase_dead_nums        int64\n",
       "increase_confirm_nums     int64\n",
       "dtype: object"
      ]
     },
     "execution_count": 13,
     "metadata": {},
     "output_type": "execute_result"
    }
   ],
   "source": [
    "#数据的类型\n",
    "data.dtypes"
   ]
  },
  {
   "cell_type": "code",
   "execution_count": 15,
   "metadata": {},
   "outputs": [
    {
     "data": {
      "text/plain": [
       "<bound method DataFrame.info of      province city   biz_date  increase_cured_nums  increase_dead_nums  \\\n",
       "0         上海市  上海市  1/28/2020                    0                   0   \n",
       "1         上海市  上海市  1/29/2020                    2                   1   \n",
       "2         上海市  上海市  1/30/2020                    0                   0   \n",
       "3         上海市  上海市  1/31/2020                    5                   0   \n",
       "4         上海市  上海市   2/1/2020                    5                   0   \n",
       "5         上海市  上海市   2/2/2020                    0                   0   \n",
       "6         上海市  上海市   2/3/2020                    0                   0   \n",
       "7         上海市  上海市   2/4/2020                    7                   0   \n",
       "8         上海市  上海市   2/5/2020                    3                   0   \n",
       "9         上海市  上海市   2/6/2020                   10                   0   \n",
       "10        上海市  上海市   2/7/2020                    0                   0   \n",
       "11        上海市  上海市   2/8/2020                   16                   0   \n",
       "12        上海市  上海市   2/9/2020                    3                   0   \n",
       "13        上海市  上海市  2/10/2020                    4                   0   \n",
       "14        上海市  上海市  2/11/2020                    4                   0   \n",
       "15        上海市  上海市  2/12/2020                    5                   0   \n",
       "16        上海市  上海市  2/13/2020                    5                   0   \n",
       "17        上海市  上海市  2/14/2020                    0                   0   \n",
       "18        上海市  上海市  2/15/2020                   28                   0   \n",
       "19        上海市  上海市  2/16/2020                   34                   0   \n",
       "20        上海市  上海市  2/17/2020                   37                   0   \n",
       "21        上海市  上海市  2/18/2020                   16                   0   \n",
       "22        上海市  上海市  2/19/2020                    9                   1   \n",
       "23        上海市  上海市  2/20/2020                   13                   0   \n",
       "24        上海市  上海市  2/21/2020                   12                   0   \n",
       "25        上海市  上海市  2/22/2020                   16                   1   \n",
       "26        上海市  上海市  2/23/2020                   22                   0   \n",
       "27        上海市  上海市  2/24/2020                   12                   0   \n",
       "28        上海市  上海市  2/27/2020                    4                   0   \n",
       "29        上海市  上海市  2/28/2020                    3                   0   \n",
       "...       ...  ...        ...                  ...                 ...   \n",
       "3714     黑龙江省   大庆   2/8/2020                    0                   0   \n",
       "3715     黑龙江省   大庆   2/9/2020                    0                   0   \n",
       "3716     黑龙江省   大庆  2/10/2020                    0                   0   \n",
       "3717     黑龙江省   大庆  2/11/2020                    0                   0   \n",
       "3718     黑龙江省   大庆  2/12/2020                    0                   0   \n",
       "3719     黑龙江省   大庆  2/13/2020                    1                   0   \n",
       "3720     黑龙江省   大庆  2/14/2020                    0                   0   \n",
       "3721     黑龙江省   大庆  2/15/2020                    1                   0   \n",
       "3722     黑龙江省   大庆  2/16/2020                    1                   0   \n",
       "3723     黑龙江省   大庆  2/17/2020                    1                   0   \n",
       "3724     黑龙江省   大庆  2/18/2020                    3                   0   \n",
       "3725     黑龙江省   大庆  2/19/2020                    0                   0   \n",
       "3726     黑龙江省   大庆  2/20/2020                    1                   0   \n",
       "3727     黑龙江省   大庆  2/21/2020                    0                   0   \n",
       "3728     黑龙江省   大庆  2/22/2020                    0                   0   \n",
       "3729     黑龙江省   大庆  2/23/2020                    0                   0   \n",
       "3730     黑龙江省   大庆  2/24/2020                    1                   0   \n",
       "3731     黑龙江省   大庆  2/25/2020                    3                   0   \n",
       "3732     黑龙江省   大庆  2/26/2020                    0                   0   \n",
       "3733     黑龙江省   大庆  2/27/2020                    2                   0   \n",
       "3734     黑龙江省   大庆  2/28/2020                    2                   0   \n",
       "3735     黑龙江省   大庆  2/29/2020                    1                   0   \n",
       "3736     黑龙江省   大庆   3/1/2020                    0                   0   \n",
       "3737     黑龙江省   大庆   3/2/2020                    1                   0   \n",
       "3738     黑龙江省   大庆   3/3/2020                    1                   0   \n",
       "3739     黑龙江省   大庆   3/4/2020                    1                   0   \n",
       "3740     黑龙江省   大庆   3/5/2020                    0                   0   \n",
       "3741     黑龙江省   大庆   3/6/2020                    0                   0   \n",
       "3742     黑龙江省   大庆   3/7/2020                    0                   0   \n",
       "3743     黑龙江省   大庆   3/8/2020                    2                   0   \n",
       "\n",
       "      increase_confirm_nums  \n",
       "0                        13  \n",
       "1                        30  \n",
       "2                        16  \n",
       "3                        23  \n",
       "4                        34  \n",
       "5                        13  \n",
       "6                        21  \n",
       "7                        16  \n",
       "8                        24  \n",
       "9                        14  \n",
       "10                       20  \n",
       "11                        9  \n",
       "12                        7  \n",
       "13                        6  \n",
       "14                        4  \n",
       "15                        8  \n",
       "16                        4  \n",
       "17                        3  \n",
       "18                        8  \n",
       "19                        2  \n",
       "20                        4  \n",
       "21                        1  \n",
       "22                        0  \n",
       "23                        1  \n",
       "24                        0  \n",
       "25                        1  \n",
       "26                        0  \n",
       "27                        0  \n",
       "28                        1  \n",
       "29                        0  \n",
       "...                     ...  \n",
       "3714                      0  \n",
       "3715                      0  \n",
       "3716                      0  \n",
       "3717                      1  \n",
       "3718                      1  \n",
       "3719                      0  \n",
       "3720                      3  \n",
       "3721                      1  \n",
       "3722                      0  \n",
       "3723                      1  \n",
       "3724                      0  \n",
       "3725                      3  \n",
       "3726                      3  \n",
       "3727                      0  \n",
       "3728                      0  \n",
       "3729                      0  \n",
       "3730                      0  \n",
       "3731                      0  \n",
       "3732                      0  \n",
       "3733                      0  \n",
       "3734                      0  \n",
       "3735                      0  \n",
       "3736                      0  \n",
       "3737                      0  \n",
       "3738                      0  \n",
       "3739                      0  \n",
       "3740                      0  \n",
       "3741                      0  \n",
       "3742                      0  \n",
       "3743                      0  \n",
       "\n",
       "[3744 rows x 6 columns]>"
      ]
     },
     "execution_count": 15,
     "metadata": {},
     "output_type": "execute_result"
    }
   ],
   "source": [
    "data.info"
   ]
  }
 ],
 "metadata": {
  "kernelspec": {
   "display_name": "Python 3",
   "language": "python",
   "name": "python3"
  },
  "language_info": {
   "codemirror_mode": {
    "name": "ipython",
    "version": 3
   },
   "file_extension": ".py",
   "mimetype": "text/x-python",
   "name": "python",
   "nbconvert_exporter": "python",
   "pygments_lexer": "ipython3",
   "version": "3.5.3"
  },
  "toc": {
   "base_numbering": 1,
   "nav_menu": {},
   "number_sections": true,
   "sideBar": true,
   "skip_h1_title": false,
   "title_cell": "Table of Contents",
   "title_sidebar": "Contents",
   "toc_cell": false,
   "toc_position": {},
   "toc_section_display": true,
   "toc_window_display": false
  }
 },
 "nbformat": 4,
 "nbformat_minor": 2
}
