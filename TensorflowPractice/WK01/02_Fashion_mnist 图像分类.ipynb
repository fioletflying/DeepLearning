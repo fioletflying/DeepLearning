{
 "cells": [
  {
   "cell_type": "markdown",
   "metadata": {},
   "source": [
    "## Fashion_mnist 图像分类\n",
    "\n",
    "\n",
    "### 数据的导入\n",
    "\n",
    "上一小节我们看到了利用一个神经元来实践一个简单的线性函数的模型。虽然很简单，但是我们从中直到利用tensorflow来建立一个模型的基本步骤。这里我们一般使用的keras来快速构建一个模型。基本的过程如下：\n",
    "- 建立数据\n",
    "- 构建模型\n",
    "    - tf.keras.models.Sequential\n",
    "- 编译模型\n",
    "    - model.compile\n",
    "- 训练模型\n",
    "    - model.fit\n",
    "- 利用模型进行预测\n",
    "    - model.predict\n",
    "\n",
    "脑海里有了这样的一些步骤后我们就可以来构建一个稍微复杂的模型，这里我们要构建一个用来分类的模型，利用tensorflow自带的数据集来，数据集是28x28的图片，我们需要对对这些图片进行分类，这里一共有10个类，比如：裤子，鞋子，衣服，背包...。\n",
    "\n",
    "下面是数据导入：\n",
    "由于该数据集成在了keras.datasets里面，我们可以直接利用API进行导入.具体如下\n",
    "\n",
    "这里需要下载数据集需要一定的时间，需要翻墙，也可以去网上下载对应的数据集，将其放到对应的文件中\n"
   ]
  },
  {
   "cell_type": "code",
   "execution_count": 1,
   "metadata": {},
   "outputs": [
    {
     "name": "stdout",
     "output_type": "stream",
     "text": [
      "1.13.1\n"
     ]
    }
   ],
   "source": [
    "import tensorflow as tf\n",
    "print(tf.__version__)"
   ]
  },
  {
   "cell_type": "code",
   "execution_count": 2,
   "metadata": {},
   "outputs": [],
   "source": [
    "mnist = tf.keras.datasets.fashion_mnist"
   ]
  },
  {
   "cell_type": "code",
   "execution_count": 3,
   "metadata": {},
   "outputs": [],
   "source": [
    "(train_imgs,train_labels),(test_imgs,test_labels)=mnist.load_data()"
   ]
  },
  {
   "cell_type": "markdown",
   "metadata": {},
   "source": [
    "上面的数据集我们可以看出，一般分为两个类型：\n",
    "- 训练集：用于训练的数据，不能将测试集放入其中\n",
    "- 测试集：用于测试的数据，验证模型的精度。\n",
    "\n",
    "这里我们导入数据发现：\n",
    "- 训练数据集 60000张图片，图片大小为28x28， 灰度图\n",
    "- 测试数据集 10000张图片，图片大小为28x28， 灰度图"
   ]
  },
  {
   "cell_type": "code",
   "execution_count": 10,
   "metadata": {},
   "outputs": [
    {
     "name": "stdout",
     "output_type": "stream",
     "text": [
      "train images shape(60000, 28, 28)\n",
      "train images label shape(60000,)\n",
      "test images shape(10000, 28, 28)\n",
      "train test label shape(10000,)\n",
      "9\n",
      "[[  0   0   0   0   0   0   0   0   0   0   0   0   0   0   0   0   0   0\n",
      "    0   0   0   0   0   0   0   0   0   0]\n",
      " [  0   0   0   0   0   0   0   0   0   0   0   0   0   0   0   0   0   0\n",
      "    0   0   0   0   0   0   0   0   0   0]\n",
      " [  0   0   0   0   0   0   0   0   0   0   0   0   0   0   0   0   0   0\n",
      "    0   0   0   0   0   0   0   0   0   0]\n",
      " [  0   0   0   0   0   0   0   0   0   0   0   0   1   0   0  13  73   0\n",
      "    0   1   4   0   0   0   0   1   1   0]\n",
      " [  0   0   0   0   0   0   0   0   0   0   0   0   3   0  36 136 127  62\n",
      "   54   0   0   0   1   3   4   0   0   3]\n",
      " [  0   0   0   0   0   0   0   0   0   0   0   0   6   0 102 204 176 134\n",
      "  144 123  23   0   0   0   0  12  10   0]\n",
      " [  0   0   0   0   0   0   0   0   0   0   0   0   0   0 155 236 207 178\n",
      "  107 156 161 109  64  23  77 130  72  15]\n",
      " [  0   0   0   0   0   0   0   0   0   0   0   1   0  69 207 223 218 216\n",
      "  216 163 127 121 122 146 141  88 172  66]\n",
      " [  0   0   0   0   0   0   0   0   0   1   1   1   0 200 232 232 233 229\n",
      "  223 223 215 213 164 127 123 196 229   0]\n",
      " [  0   0   0   0   0   0   0   0   0   0   0   0   0 183 225 216 223 228\n",
      "  235 227 224 222 224 221 223 245 173   0]\n",
      " [  0   0   0   0   0   0   0   0   0   0   0   0   0 193 228 218 213 198\n",
      "  180 212 210 211 213 223 220 243 202   0]\n",
      " [  0   0   0   0   0   0   0   0   0   1   3   0  12 219 220 212 218 192\n",
      "  169 227 208 218 224 212 226 197 209  52]\n",
      " [  0   0   0   0   0   0   0   0   0   0   6   0  99 244 222 220 218 203\n",
      "  198 221 215 213 222 220 245 119 167  56]\n",
      " [  0   0   0   0   0   0   0   0   0   4   0   0  55 236 228 230 228 240\n",
      "  232 213 218 223 234 217 217 209  92   0]\n",
      " [  0   0   1   4   6   7   2   0   0   0   0   0 237 226 217 223 222 219\n",
      "  222 221 216 223 229 215 218 255  77   0]\n",
      " [  0   3   0   0   0   0   0   0   0  62 145 204 228 207 213 221 218 208\n",
      "  211 218 224 223 219 215 224 244 159   0]\n",
      " [  0   0   0   0  18  44  82 107 189 228 220 222 217 226 200 205 211 230\n",
      "  224 234 176 188 250 248 233 238 215   0]\n",
      " [  0  57 187 208 224 221 224 208 204 214 208 209 200 159 245 193 206 223\n",
      "  255 255 221 234 221 211 220 232 246   0]\n",
      " [  3 202 228 224 221 211 211 214 205 205 205 220 240  80 150 255 229 221\n",
      "  188 154 191 210 204 209 222 228 225   0]\n",
      " [ 98 233 198 210 222 229 229 234 249 220 194 215 217 241  65  73 106 117\n",
      "  168 219 221 215 217 223 223 224 229  29]\n",
      " [ 75 204 212 204 193 205 211 225 216 185 197 206 198 213 240 195 227 245\n",
      "  239 223 218 212 209 222 220 221 230  67]\n",
      " [ 48 203 183 194 213 197 185 190 194 192 202 214 219 221 220 236 225 216\n",
      "  199 206 186 181 177 172 181 205 206 115]\n",
      " [  0 122 219 193 179 171 183 196 204 210 213 207 211 210 200 196 194 191\n",
      "  195 191 198 192 176 156 167 177 210  92]\n",
      " [  0   0  74 189 212 191 175 172 175 181 185 188 189 188 193 198 204 209\n",
      "  210 210 211 188 188 194 192 216 170   0]\n",
      " [  2   0   0   0  66 200 222 237 239 242 246 243 244 221 220 193 191 179\n",
      "  182 182 181 176 166 168  99  58   0   0]\n",
      " [  0   0   0   0   0   0   0  40  61  44  72  41  35   0   0   0   0   0\n",
      "    0   0   0   0   0   0   0   0   0   0]\n",
      " [  0   0   0   0   0   0   0   0   0   0   0   0   0   0   0   0   0   0\n",
      "    0   0   0   0   0   0   0   0   0   0]\n",
      " [  0   0   0   0   0   0   0   0   0   0   0   0   0   0   0   0   0   0\n",
      "    0   0   0   0   0   0   0   0   0   0]]\n"
     ]
    },
    {
     "data": {
      "image/png": "[encoded data removed]",
      "text/plain": [
       "<Figure size 432x288 with 1 Axes>"
      ]
     },
     "metadata": {
      "needs_background": "light"
     },
     "output_type": "display_data"
    }
   ],
   "source": [
    "import matplotlib.pyplot as plt\n",
    "\n",
    "print(\"train images shape\"+str(train_imgs.shape))\n",
    "print(\"train images label shape\"+str(train_labels.shape))\n",
    "print(\"test images shape\"+str(test_imgs.shape))\n",
    "print(\"train test label shape\"+str(test_labels.shape))\n",
    "\n",
    "plt.imshow(train_imgs[0])\n",
    "print(train_labels[0])\n",
    "print(train_imgs[0])\n"
   ]
  },
  {
   "cell_type": "markdown",
   "metadata": {},
   "source": [
    "接下我们需要对数据集进行归一化，这样可以保证数据在[0,1]的范围，这样做的理由：\n",
    "- 保证不同的特征数据的能够统一到同一个单位尺度\n",
    "- 可以加快数据收敛"
   ]
  },
  {
   "cell_type": "code",
   "execution_count": 4,
   "metadata": {},
   "outputs": [],
   "source": [
    "train_imgs = train_imgs/255.\n",
    "test_imgs = test_imgs /255."
   ]
  },
  {
   "cell_type": "markdown",
   "metadata": {},
   "source": [
    "### 建立模型\n",
    "\n",
    "这里我们建立一个由两个隐含层的神经网络模型，第一层为128，第二层10。\n",
    "需要设计的到API函数：\n",
    "- Sequential: 建立一个有序层的模型[Sequential详细细节](https://tensorflow.google.cn/versions/r1.15/api_docs/python/tf/keras/Sequential)\n",
    "- Flatten: 将数据从2D拉伸到1D数据集合\n",
    "- Dense:增加一层神经网络层[Dense详细细节](https://tensorflow.google.cn/versions/r1.15/api_docs/python/tf/keras/layers/Dense)\n",
    "- Relu: 激活函数max(x,0)[Relu](https://tensorflow.google.cn/versions/r1.15/api_docs/python/tf/keras/activations/relu)\n",
    "\n",
    "- Softmax:用来分类的时候设计的输出函数，\n",
    "\n",
    "具体coding如下："
   ]
  },
  {
   "cell_type": "code",
   "execution_count": 5,
   "metadata": {},
   "outputs": [],
   "source": [
    "# 创建模型\n",
    "model = tf.keras.models.Sequential([tf.keras.layers.Flatten(),\n",
    "                                   tf.keras.layers.Dense(128,activation=tf.nn.relu),\n",
    "                                   tf.keras.layers.Dense(10,activation=tf.nn.softmax)])"
   ]
  },
  {
   "cell_type": "markdown",
   "metadata": {},
   "source": [
    "### 模型的编译与训练\n",
    "\n",
    "上面将模型定义好了，接下来我们就要对模型选择损失函数和优化器了。\n",
    "- 损失函数：用来评估模型学习效果的好坏的程度:均方根误差，交叉熵误差等等\n",
    "- 优化器：用来迭代模型的参数像SGD,Adam....\n"
   ]
  },
  {
   "cell_type": "code",
   "execution_count": 8,
   "metadata": {},
   "outputs": [
    {
     "name": "stdout",
     "output_type": "stream",
     "text": [
      "Epoch 1/5\n",
      "60000/60000 [==============================] - 4s 65us/sample - loss: 0.4900 - acc: 0.8286\n",
      "Epoch 2/5\n",
      "60000/60000 [==============================] - 4s 63us/sample - loss: 0.3722 - acc: 0.8648\n",
      "Epoch 3/5\n",
      "60000/60000 [==============================] - 4s 63us/sample - loss: 0.3370 - acc: 0.8777\n",
      "Epoch 4/5\n",
      "60000/60000 [==============================] - 4s 63us/sample - loss: 0.3120 - acc: 0.8855\n",
      "Epoch 5/5\n",
      "60000/60000 [==============================] - 4s 63us/sample - loss: 0.2937 - acc: 0.8915\n"
     ]
    },
    {
     "data": {
      "text/plain": [
       "<tensorflow.python.keras.callbacks.History at 0x24bc30a32e8>"
      ]
     },
     "execution_count": 8,
     "metadata": {},
     "output_type": "execute_result"
    }
   ],
   "source": [
    "model.compile(optimizer=tf.train.AdamOptimizer(),\n",
    "             loss ='sparse_categorical_crossentropy',\n",
    "             metrics=['accuracy'])\n",
    "\n",
    "model.fit(train_imgs,train_labels,epochs=5)"
   ]
  },
  {
   "cell_type": "code",
   "execution_count": 9,
   "metadata": {},
   "outputs": [
    {
     "name": "stdout",
     "output_type": "stream",
     "text": [
      "10000/10000 [==============================] - 0s 47us/sample - loss: 0.3495 - acc: 0.8784\n"
     ]
    },
    {
     "data": {
      "text/plain": [
       "[0.34953898587226867, 0.8784]"
      ]
     },
     "execution_count": 9,
     "metadata": {},
     "output_type": "execute_result"
    }
   ],
   "source": [
    "model.evaluate(test_imgs, test_labels)"
   ]
  },
  {
   "cell_type": "markdown",
   "metadata": {},
   "source": [
    "上面的结果可以看出，经过了只有5个epoch的训练，这里我们就可以到达到89%的准确率，测试数据集的精度也可以达到88%左右，可以看出结果还是可以令人满意的。接下来我需要在此基础做一下练习。"
   ]
  },
  {
   "cell_type": "markdown",
   "metadata": {},
   "source": [
    "### exe1: 模型的predict值代表什么意思\n",
    "\n",
    "通过使用predict函数，获得模型的预测结果，这里输出的结果，就是上面模型中最后一层利用softmax层计算的数据。\n",
    "`tf.keras.layers.Dense(10,activation=tf.nn.softmax)`\n",
    "\n",
    "这是最后一层的模型的输出设置，有10个神经元，利用softmax，来计算每个神经元的概率值，其中的10个概率值的和为1.再联想到我们的模型是用来分类，一共分成10个类型，所以这里的数据就当前输入的图片每个类别的概率值。\n",
    "\n",
    "那么如何了利用这些概率来判断当前的输出是属于那个类别，输出的10个数据中，那个概率值，就对应了哪个类型。例如第10个数据为0.9最大，那么我们就可以人为当前图片属于第9个类别(从0开始的数据)。"
   ]
  },
  {
   "cell_type": "code",
   "execution_count": 10,
   "metadata": {},
   "outputs": [],
   "source": [
    "classifications = model.predict(test_imgs)"
   ]
  },
  {
   "cell_type": "code",
   "execution_count": 12,
   "metadata": {},
   "outputs": [
    {
     "name": "stdout",
     "output_type": "stream",
     "text": [
      "[1.6165493e-06 6.9960919e-07 2.2241529e-06 3.4317077e-07 4.0487475e-06\n",
      " 2.7637381e-02 7.8534154e-05 6.6078834e-02 7.6976838e-04 9.0542650e-01]\n",
      "9\n"
     ]
    }
   ],
   "source": [
    "print(classifications[0])\n",
    "print(test_labels[0])"
   ]
  },
  {
   "cell_type": "code",
   "execution_count": 16,
   "metadata": {},
   "outputs": [
    {
     "name": "stdout",
     "output_type": "stream",
     "text": [
      "[[1.6165465e-06 6.9960862e-07 2.2241552e-06 3.4317114e-07 4.0487398e-06\n",
      "  2.7637372e-02 7.8534162e-05 6.6078782e-02 7.6976733e-04 9.0542656e-01]\n",
      " [6.7899964e-05 1.0453242e-09 9.9698430e-01 3.7993864e-08 6.2177953e-04\n",
      "  6.6627238e-13 2.3260033e-03 1.4252590e-12 3.3780681e-10 4.5781507e-14]]\n"
     ]
    }
   ],
   "source": [
    "classification1 = model.predict(test_imgs[0:2])\n",
    "print(classification1)"
   ]
  },
  {
   "cell_type": "markdown",
   "metadata": {},
   "source": [
    "### exe2: 修改模型的隐藏层神经元个数\n",
    "\n",
    "修改模型如下：增加了隐藏层神经元个数到512/1024/2048，训练的时间更久，训练的精度有一定的提高.但是提高的精度很有限。"
   ]
  },
  {
   "cell_type": "code",
   "execution_count": 23,
   "metadata": {},
   "outputs": [
    {
     "name": "stdout",
     "output_type": "stream",
     "text": [
      "Epoch 1/5\n",
      "60000/60000 [==============================] - 8s 127us/sample - loss: 0.4704 - acc: 0.8316\n",
      "Epoch 2/5\n",
      "60000/60000 [==============================] - 7s 121us/sample - loss: 0.3595 - acc: 0.8670\n",
      "Epoch 3/5\n",
      "60000/60000 [==============================] - 7s 122us/sample - loss: 0.3191 - acc: 0.8815\n",
      "Epoch 4/5\n",
      "60000/60000 [==============================] - 7s 120us/sample - loss: 0.2954 - acc: 0.8906\n",
      "Epoch 5/5\n",
      "60000/60000 [==============================] - 7s 120us/sample - loss: 0.2780 - acc: 0.8975\n",
      "10000/10000 [==============================] - 1s 57us/sample - loss: 0.3342 - acc: 0.8823\n",
      "[2.3482686e-07 9.5887724e-09 1.6259357e-09 8.2711760e-10 5.1089226e-09\n",
      " 4.4850333e-04 8.8990930e-08 1.1478351e-02 1.0674747e-09 9.8807281e-01]\n",
      "9\n"
     ]
    }
   ],
   "source": [
    "import tensorflow as tf\n",
    "\n",
    "# 加载数据\n",
    "mnist = tf.keras.datasets.fashion_mnist\n",
    "(train_imgs,train_labels),(test_imgs,test_labels)=mnist.load_data()\n",
    "train_imgs = train_imgs/255.\n",
    "test_imgs = test_imgs/255.\n",
    "\n",
    "# 建立模型\n",
    "model512 = tf.keras.models.Sequential([tf.keras.layers.Flatten(),\n",
    "                                   tf.keras.layers.Dense(2048,activation=tf.nn.relu),\n",
    "                                   tf.keras.layers.Dense(10,activation=tf.nn.softmax)])\n",
    "\n",
    "# 编译模型\n",
    "model512.compile(optimizer =\"adam\",\n",
    "                loss = \"sparse_categorical_crossentropy\",\n",
    "                metrics=['accuracy'])\n",
    "#训练模型\n",
    "model512.fit(train_imgs,train_labels,epochs=5)\n",
    "\n",
    "# 评估测试集的精度\n",
    "model512.evaluate(test_imgs,test_labels)\n",
    "\n",
    "# 预测数据\n",
    "classifications = model512.predict(test_imgs)\n",
    "print(classifications[0])\n",
    "print(test_labels[0])"
   ]
  },
  {
   "cell_type": "markdown",
   "metadata": {},
   "source": [
    "### exe3: 去掉Flatten层\n",
    "\n",
    "这里会报错，因为这里需要输入的数据是一个向量集。所以需要将28x28的数据集转换成784.\n",
    "\n",
    "``` python\n",
    "model = tf.keras.models.Sequential([#tf.keras.layers.Flatten(),\n",
    "                                tf.keras.layers.Dense(64,activation=tf.nn.relu),\n",
    "                            tf.keras.layers.Dense(10,activation=tf.nn.softmax)])\n",
    "\n",
    "```\n",
    "\n",
    "### exe4: 修改输出层为5或者其它的数据\n",
    "\n",
    "这里会报错，因为这里需要输出数据要与标签数据中类别个数要一致。\n",
    "\n",
    "``` python\n",
    "model = tf.keras.models.Sequential([tf.keras.layers.Flatten(),\n",
    "                                tf.keras.layers.Dense(64,activation=tf.nn.relu),\n",
    "                            tf.keras.layers.Dense(5,activation=tf.nn.softmax)])\n",
    "\n",
    "```\n",
    "\n",
    "### exe5: 增加神经网络的层数\n",
    "\n",
    "提高不是很大，这里主要的原因是数据的格式比较简单，如果数据是彩色这个就很有必要。"
   ]
  },
  {
   "cell_type": "code",
   "execution_count": 24,
   "metadata": {},
   "outputs": [
    {
     "name": "stdout",
     "output_type": "stream",
     "text": [
      "Epoch 1/5\n",
      "60000/60000 [==============================] - 6s 105us/sample - loss: 0.4644 - acc: 0.8317\n",
      "Epoch 2/5\n",
      "60000/60000 [==============================] - 6s 101us/sample - loss: 0.3544 - acc: 0.8687\n",
      "Epoch 3/5\n",
      "60000/60000 [==============================] - 6s 102us/sample - loss: 0.3160 - acc: 0.8838\n",
      "Epoch 4/5\n",
      "60000/60000 [==============================] - 6s 98us/sample - loss: 0.2985 - acc: 0.8895\n",
      "Epoch 5/5\n",
      "60000/60000 [==============================] - 6s 98us/sample - loss: 0.2780 - acc: 0.8960\n",
      "10000/10000 [==============================] - 1s 65us/sample - loss: 0.3738 - acc: 0.8642\n",
      "[3.3169463e-09 2.0292104e-09 5.8855032e-10 6.0678666e-08 9.5411732e-09\n",
      " 2.1498283e-05 5.8185165e-08 3.6355455e-03 8.8747800e-09 9.9634284e-01]\n",
      "9\n"
     ]
    }
   ],
   "source": [
    "import tensorflow as tf\n",
    "\n",
    "# 加载数据\n",
    "mnist = tf.keras.datasets.fashion_mnist\n",
    "(train_imgs,train_labels),(test_imgs,test_labels)=mnist.load_data()\n",
    "train_imgs = train_imgs/255.\n",
    "test_imgs = test_imgs/255.\n",
    "\n",
    "# 建立模型\n",
    "model512 = tf.keras.models.Sequential([tf.keras.layers.Flatten(),\n",
    "                                   tf.keras.layers.Dense(512,activation=tf.nn.relu),\n",
    "                                   tf.keras.layers.Dense(256,activation=tf.nn.relu),\n",
    "                                   tf.keras.layers.Dense(10,activation=tf.nn.softmax)])\n",
    "\n",
    "# 编译模型\n",
    "model512.compile(optimizer =\"adam\",\n",
    "                loss = \"sparse_categorical_crossentropy\",\n",
    "                metrics=['accuracy'])\n",
    "#训练模型\n",
    "model512.fit(train_imgs,train_labels,epochs=5)\n",
    "\n",
    "# 评估测试集的精度\n",
    "model512.evaluate(test_imgs,test_labels)\n",
    "\n",
    "# 预测数据\n",
    "classifications = model512.predict(test_imgs)\n",
    "print(classifications[0])\n",
    "print(test_labels[0])"
   ]
  },
  {
   "cell_type": "markdown",
   "metadata": {},
   "source": [
    "### exe6: 增加训练的epoch数\n",
    "\n",
    "从训练的过程来看，增加训练的步数，在某些时候是可以提高训练的精度，降低loss值。但是我们需要注意一点这个有的时候也会出现精度降低，loss值增加的情况。这样我们就需要注意，网络可能出现了overfitting的情况。因为我们可以看到：\n",
    "- 训练的精度较高，但是测试的精度并没有得到对应的提高\n",
    "- loss值也是同理的情况\n",
    "\n",
    "这样将用了更长的时间放在了训练数据上，但是测试精度没有提高，这个就需要我们来平衡各方面的因素。\n"
   ]
  },
  {
   "cell_type": "code",
   "execution_count": 25,
   "metadata": {},
   "outputs": [
    {
     "name": "stdout",
     "output_type": "stream",
     "text": [
      "Epoch 1/30\n",
      "60000/60000 [==============================] - 5s 86us/sample - loss: 0.4971 - acc: 0.8244\n",
      "Epoch 2/30\n",
      "60000/60000 [==============================] - 5s 84us/sample - loss: 0.3738 - acc: 0.8660\n",
      "Epoch 3/30\n",
      "60000/60000 [==============================] - 5s 81us/sample - loss: 0.3362 - acc: 0.8781\n",
      "Epoch 4/30\n",
      "60000/60000 [==============================] - 5s 82us/sample - loss: 0.3128 - acc: 0.8843\n",
      "Epoch 5/30\n",
      "60000/60000 [==============================] - 5s 82us/sample - loss: 0.2963 - acc: 0.8904\n",
      "Epoch 6/30\n",
      "60000/60000 [==============================] - 5s 83us/sample - loss: 0.2820 - acc: 0.8960\n",
      "Epoch 7/30\n",
      "60000/60000 [==============================] - 5s 82us/sample - loss: 0.2683 - acc: 0.9004\n",
      "Epoch 8/30\n",
      "60000/60000 [==============================] - 5s 82us/sample - loss: 0.2600 - acc: 0.9036\n",
      "Epoch 9/30\n",
      "60000/60000 [==============================] - 5s 82us/sample - loss: 0.2484 - acc: 0.9071\n",
      "Epoch 10/30\n",
      "60000/60000 [==============================] - 5s 82us/sample - loss: 0.2400 - acc: 0.9107\n",
      "Epoch 11/30\n",
      "60000/60000 [==============================] - 5s 82us/sample - loss: 0.2320 - acc: 0.9127\n",
      "Epoch 12/30\n",
      "60000/60000 [==============================] - 5s 85us/sample - loss: 0.2251 - acc: 0.9163\n",
      "Epoch 13/30\n",
      "60000/60000 [==============================] - 5s 85us/sample - loss: 0.2172 - acc: 0.9192\n",
      "Epoch 14/30\n",
      "60000/60000 [==============================] - 5s 88us/sample - loss: 0.2116 - acc: 0.9202\n",
      "Epoch 15/30\n",
      "60000/60000 [==============================] - 5s 82us/sample - loss: 0.2044 - acc: 0.9229\n",
      "Epoch 16/30\n",
      "60000/60000 [==============================] - 5s 83us/sample - loss: 0.1997 - acc: 0.9250\n",
      "Epoch 17/30\n",
      "60000/60000 [==============================] - 5s 81us/sample - loss: 0.1944 - acc: 0.9267\n",
      "Epoch 18/30\n",
      "60000/60000 [==============================] - 5s 81us/sample - loss: 0.1869 - acc: 0.9296\n",
      "Epoch 19/30\n",
      "60000/60000 [==============================] - 5s 81us/sample - loss: 0.1839 - acc: 0.9312\n",
      "Epoch 20/30\n",
      "60000/60000 [==============================] - 5s 82us/sample - loss: 0.1805 - acc: 0.9330\n",
      "Epoch 21/30\n",
      "60000/60000 [==============================] - 5s 81us/sample - loss: 0.1725 - acc: 0.9346\n",
      "Epoch 22/30\n",
      "60000/60000 [==============================] - 5s 82us/sample - loss: 0.1694 - acc: 0.9362\n",
      "Epoch 23/30\n",
      "60000/60000 [==============================] - 5s 84us/sample - loss: 0.1652 - acc: 0.9370\n",
      "Epoch 24/30\n",
      "60000/60000 [==============================] - 5s 84us/sample - loss: 0.1616 - acc: 0.9385\n",
      "Epoch 25/30\n",
      "60000/60000 [==============================] - 5s 83us/sample - loss: 0.1588 - acc: 0.9403\n",
      "Epoch 26/30\n",
      "60000/60000 [==============================] - 5s 83us/sample - loss: 0.1559 - acc: 0.9412\n",
      "Epoch 27/30\n",
      "60000/60000 [==============================] - 5s 88us/sample - loss: 0.1513 - acc: 0.9427\n",
      "Epoch 28/30\n",
      "60000/60000 [==============================] - 5s 87us/sample - loss: 0.1485 - acc: 0.9450\n",
      "Epoch 29/30\n",
      "60000/60000 [==============================] - 5s 87us/sample - loss: 0.1436 - acc: 0.9468\n",
      "Epoch 30/30\n",
      "60000/60000 [==============================] - 5s 86us/sample - loss: 0.1424 - acc: 0.9461\n",
      "10000/10000 [==============================] - 1s 61us/sample - loss: 0.4088 - acc: 0.8825\n",
      "[2.7601750e-09 1.5707482e-17 2.3563105e-12 5.7209086e-14 6.7493363e-12\n",
      " 5.3454628e-06 3.4585186e-12 1.5576218e-03 1.7798633e-10 9.9843699e-01]\n",
      "9\n"
     ]
    }
   ],
   "source": [
    "import tensorflow as tf\n",
    "\n",
    "# 加载数据\n",
    "mnist = tf.keras.datasets.fashion_mnist\n",
    "(train_imgs,train_labels),(test_imgs,test_labels)=mnist.load_data()\n",
    "train_imgs = train_imgs/255.\n",
    "test_imgs = test_imgs/255.\n",
    "\n",
    "# 建立模型\n",
    "model512 = tf.keras.models.Sequential([tf.keras.layers.Flatten(),\n",
    "                                   tf.keras.layers.Dense(128,activation=tf.nn.relu),\n",
    "                                   tf.keras.layers.Dense(10,activation=tf.nn.softmax)])\n",
    "\n",
    "# 编译模型\n",
    "model512.compile(optimizer =\"adam\",\n",
    "                loss = \"sparse_categorical_crossentropy\",\n",
    "                metrics=['accuracy'])\n",
    "#训练模型\n",
    "model512.fit(train_imgs,train_labels,epochs=30)\n",
    "\n",
    "# 评估测试集的精度\n",
    "model512.evaluate(test_imgs,test_labels)\n",
    "\n",
    "# 预测数据\n",
    "classifications = model512.predict(test_imgs)\n",
    "print(classifications[0])\n",
    "print(test_labels[0])"
   ]
  },
  {
   "cell_type": "markdown",
   "metadata": {},
   "source": [
    "### exe7: 数据不进行归一化\n",
    "\n",
    "数据不进行归一化，可以看到的结果是：出现梯度消失或者爆炸的情况，模型将无法进行训练。\n"
   ]
  },
  {
   "cell_type": "code",
   "execution_count": 26,
   "metadata": {},
   "outputs": [
    {
     "name": "stdout",
     "output_type": "stream",
     "text": [
      "Epoch 1/5\n",
      "60000/60000 [==============================] - 5s 83us/sample - loss: 14.4505 - acc: 0.1034\n",
      "Epoch 2/5\n",
      "60000/60000 [==============================] - ETA: 0s - loss: 14.5057 - acc: 0.10 - 5s 85us/sample - loss: 14.5063 - acc: 0.1000\n",
      "Epoch 3/5\n",
      "60000/60000 [==============================] - 5s 85us/sample - loss: 14.5063 - acc: 0.1000\n",
      "Epoch 4/5\n",
      "60000/60000 [==============================] - 5s 78us/sample - loss: 14.5063 - acc: 0.1000\n",
      "Epoch 5/5\n",
      "60000/60000 [==============================] - 5s 79us/sample - loss: 14.5063 - acc: 0.1000\n",
      "10000/10000 [==============================] - 1s 55us/sample - loss: 14.5063 - acc: 0.1000\n",
      "[1. 0. 0. 0. 0. 0. 0. 0. 0. 0.]\n",
      "9\n"
     ]
    }
   ],
   "source": [
    "import tensorflow as tf\n",
    "\n",
    "# 加载数据\n",
    "mnist = tf.keras.datasets.fashion_mnist\n",
    "(train_imgs,train_labels),(test_imgs,test_labels)=mnist.load_data()\n",
    "#train_imgs = train_imgs/255.\n",
    "#test_imgs = test_imgs/255.\n",
    "\n",
    "# 建立模型\n",
    "model512 = tf.keras.models.Sequential([tf.keras.layers.Flatten(),\n",
    "                                   tf.keras.layers.Dense(128,activation=tf.nn.relu),\n",
    "                                   tf.keras.layers.Dense(10,activation=tf.nn.softmax)])\n",
    "\n",
    "# 编译模型\n",
    "model512.compile(optimizer =\"adam\",\n",
    "                loss = \"sparse_categorical_crossentropy\",\n",
    "                metrics=['accuracy'])\n",
    "#训练模型\n",
    "model512.fit(train_imgs,train_labels,epochs=5)\n",
    "\n",
    "# 评估测试集的精度\n",
    "model512.evaluate(test_imgs,test_labels)\n",
    "\n",
    "# 预测数据\n",
    "classifications = model512.predict(test_imgs)\n",
    "print(classifications[0])\n",
    "print(test_labels[0])"
   ]
  },
  {
   "cell_type": "markdown",
   "metadata": {},
   "source": [
    "### exe8: 使用callback函数来监控训练过程\n",
    "\n",
    "\n",
    "使用calllback函数是keras中对训练过程一个很好的监控和自动停止，自动保存的功能。灵活利用可以使得训练更加具有针对性和更好的监控。"
   ]
  },
  {
   "cell_type": "code",
   "execution_count": 10,
   "metadata": {},
   "outputs": [
    {
     "name": "stdout",
     "output_type": "stream",
     "text": [
      "Epoch 1/5\n",
      "59616/60000 [============================>.] - ETA: 0s - loss: 0.5047 - acc: 0.8218\n",
      " accuracy more than 60% so kill training\n",
      "60000/60000 [==============================] - 5s 78us/sample - loss: 0.5048 - acc: 0.8218\n",
      "Epoch 2/5\n",
      "59360/60000 [============================>.] - ETA: 0s - loss: 0.3765 - acc: 0.8643\n",
      " accuracy more than 60% so kill training\n",
      "\n",
      " accuracy more than 60% and loss less than 0.45 so kill training\n",
      "60000/60000 [==============================] - 5s 76us/sample - loss: 0.3766 - acc: 0.8643\n"
     ]
    },
    {
     "data": {
      "text/plain": [
       "<tensorflow.python.keras.callbacks.History at 0x1e89bee0710>"
      ]
     },
     "execution_count": 10,
     "metadata": {},
     "output_type": "execute_result"
    }
   ],
   "source": [
    "import tensorflow as tf\n",
    "\n",
    "# 定义callback 类\n",
    "class myCallback(tf.keras.callbacks.Callback):\n",
    "    def on_epoch_end(self,epoch,logs={}):\n",
    "        if(logs.get('acc')>0.6 and logs.get('loss')<0.45):\n",
    "            print(\"\\n accuracy more than 60% and loss less than 0.45 so kill training\")\n",
    "            self.model.stop_training = True\n",
    "\n",
    "\n",
    "\n",
    "# 加载数据\n",
    "mnist = tf.keras.datasets.fashion_mnist\n",
    "(train_imgs,train_labels),(test_imgs,test_labels)=mnist.load_data()\n",
    "train_imgs = train_imgs/255.\n",
    "test_imgs = test_imgs/255.\n",
    "\n",
    "callbacks = myCallback()\n",
    "\n",
    "# 建立模型\n",
    "model512 = tf.keras.models.Sequential([tf.keras.layers.Flatten(),\n",
    "                                   tf.keras.layers.Dense(128,activation=tf.nn.relu),\n",
    "                                   tf.keras.layers.Dense(10,activation=tf.nn.softmax)])\n",
    "\n",
    "# 编译模型\n",
    "model512.compile(optimizer =\"adam\",\n",
    "                loss = \"sparse_categorical_crossentropy\",\n",
    "                metrics=['accuracy'])\n",
    "#训练模型\n",
    "model512.fit(train_imgs,train_labels,epochs=5,callbacks=[callbacks])\n",
    "\n",
    "# # 评估测试集的精度\n",
    "# model512.evaluate(test_imgs,test_labels)\n",
    "\n",
    "# # 预测数据\n",
    "# classifications = model512.predict(test_imgs)\n",
    "# print(classifications[0])\n",
    "# print(test_labels[0])"
   ]
  },
  {
   "cell_type": "code",
   "execution_count": null,
   "metadata": {},
   "outputs": [],
   "source": []
  }
 ],
 "metadata": {
  "kernelspec": {
   "display_name": "Python 3",
   "language": "python",
   "name": "python3"
  },
  "language_info": {
   "codemirror_mode": {
    "name": "ipython",
    "version": 3
   },
   "file_extension": ".py",
   "mimetype": "text/x-python",
   "name": "python",
   "nbconvert_exporter": "python",
   "pygments_lexer": "ipython3",
   "version": "3.6.8"
  }
 },
 "nbformat": 4,
 "nbformat_minor": 2
}
