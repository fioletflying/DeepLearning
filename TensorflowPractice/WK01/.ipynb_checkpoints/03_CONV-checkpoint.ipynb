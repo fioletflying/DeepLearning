{
 "cells": [
  {
   "cell_type": "markdown",
   "metadata": {},
   "source": [
    "##  Conv2D\n",
    "\n",
    "上两个小节我们讨论了使用神经网络模型来实现一个fashin-mnist数据集的图像分类。但是我们看到其结果虽然还可以，但是我们做了很多尝试后，无法再提高识别的精度了，所以这里我们将使用一个在计算机视觉中最常用到的卷积神经来实现该模型。\n",
    "\n",
    "这里我们需要对卷积神经网络来简单说明一下，就是我们利用一个3x3或者5x5的一个filter来实现。\n",
    "\n",
    "关于卷积神经网络API [Conv2D](https://tensorflow.google.cn/versions/r1.15/api_docs/python/tf/keras/layers/Conv2D)\n",
    "\n",
    ">filters: Integer, the dimensionality of the output space (i.e. the number of output filters in the convolution).  \n",
    "kernel_size: An integer or tuple/list of 2 integers, specifying the height and width of the 2D convolution window. Can be a single integer to specify the same value for all spatial dimensions.  \n",
    "strides: An integer or tuple/list of 2 integers, specifying the strides of the convolution along the height and width. Can be a single integer to specify the same value for all spatial dimensions. Specifying any stride value != 1 is incompatible with specifying any dilation_rate value != 1.  \n",
    "padding: one of \"valid\" or \"same\" (case-insensitive).  \n",
    "data_format: A string, one of channels_last (default) or channels_first. The ordering of the dimensions in the inputs. channels_last corresponds to inputs with shape (batch, height, width, channels) while channels_first corresponds to inputs with shape (batch, channels, height, width). It defaults to the image_data_format value found in your Keras config file at ~/.keras/keras.json. If you never set it, then it will be \"channels_last\".  \n",
    "dilation_rate: an integer or tuple/list of 2 integers, specifying the dilation rate to use for dilated convolution. Can be a single integer to specify the same value for all spatial dimensions. Currently, specifying any dilation_rate value != 1 is incompatible with specifying any stride value != 1.  \n",
    "activation: Activation function to use. If you don't specify anything, no activation is applied (ie. \"linear\" activation: a(x) = x).  \n",
    "use_bias: Boolean, whether the layer uses a bias vector.  \n",
    "kernel_initializer: Initializer for the kernel weights matrix.  \n",
    "bias_initializer: Initializer for the bias vector.  \n",
    "kernel_regularizer: Regularizer function applied to the kernel weights matrix.  \n",
    "bias_regularizer: Regularizer function applied to the bias vector.  \n",
    "activity_regularizer: Regularizer function applied to the output of the layer (its \"activation\")..  \n",
    "kernel_constraint: Constraint function applied to the kernel matrix.  \n",
    "bias_constraint: Constraint function applied to the bias vector.\n",
    "\n",
    "\n",
    "\n",
    ">Input shape:\n",
    "4D tensor with shape: (samples, channels, rows, cols) if data_format='channels_first' or 4D tensor with shape: (samples, rows, cols, channels) if data_format='channels_last'.\n",
    "\n",
    "\n",
    "> Output shape:\n",
    "4D tensor with shape: (samples, filters, new_rows, new_cols) if data_format='channels_first' or 4D tensor with shape: (samples, new_rows, new_cols, filters) if data_format='channels_last'. rows and cols values might have changed due to padding.\n"
   ]
  },
  {
   "cell_type": "code",
   "execution_count": 1,
   "metadata": {},
   "outputs": [
    {
     "name": "stdout",
     "output_type": "stream",
     "text": [
      "1.13.1\n",
      "(60000, 28, 28)\n",
      "(10000, 28, 28)\n",
      "WARNING:tensorflow:From D:\\Anaconda3\\envs\\tfgpu\\lib\\site-packages\\tensorflow\\python\\ops\\resource_variable_ops.py:435: colocate_with (from tensorflow.python.framework.ops) is deprecated and will be removed in a future version.\n",
      "Instructions for updating:\n",
      "Colocations handled automatically by placer.\n",
      "_________________________________________________________________\n",
      "Layer (type)                 Output Shape              Param #   \n",
      "=================================================================\n",
      "conv2d (Conv2D)              (None, 26, 26, 64)        640       \n",
      "_________________________________________________________________\n",
      "max_pooling2d (MaxPooling2D) (None, 13, 13, 64)        0         \n",
      "_________________________________________________________________\n",
      "conv2d_1 (Conv2D)            (None, 11, 11, 64)        36928     \n",
      "_________________________________________________________________\n",
      "max_pooling2d_1 (MaxPooling2 (None, 5, 5, 64)          0         \n",
      "_________________________________________________________________\n",
      "flatten (Flatten)            (None, 1600)              0         \n",
      "_________________________________________________________________\n",
      "dense (Dense)                (None, 128)               204928    \n",
      "_________________________________________________________________\n",
      "dense_1 (Dense)              (None, 10)                1290      \n",
      "=================================================================\n",
      "Total params: 243,786\n",
      "Trainable params: 243,786\n",
      "Non-trainable params: 0\n",
      "_________________________________________________________________\n",
      "Epoch 1/5\n",
      "60000/60000 [==============================] - 10s 158us/sample - loss: 0.4427 - acc: 0.8386\n",
      "Epoch 2/5\n",
      "60000/60000 [==============================] - 8s 128us/sample - loss: 0.2949 - acc: 0.8915\n",
      "Epoch 3/5\n",
      "60000/60000 [==============================] - 8s 126us/sample - loss: 0.2516 - acc: 0.9072\n",
      "Epoch 4/5\n",
      "60000/60000 [==============================] - 8s 129us/sample - loss: 0.2185 - acc: 0.9186\n",
      "Epoch 5/5\n",
      "60000/60000 [==============================] - 8s 126us/sample - loss: 0.1926 - acc: 0.9282\n",
      "10000/10000 [==============================] - 1s 64us/sample - loss: 0.2572 - acc: 0.9039\n"
     ]
    }
   ],
   "source": [
    "import tensorflow as tf\n",
    "\n",
    "print(tf.__version__)\n",
    "\n",
    "mnist = tf.keras.datasets.fashion_mnist\n",
    "(training_images, training_labels), (test_images, test_labels) = mnist.load_data()\n",
    "print(training_images.shape)\n",
    "print(test_images.shape)\n",
    "\n",
    "#step1 将数据reshpae 成4D格式\n",
    "# samples,W,H,chanels\n",
    "training_images = training_images.reshape(60000,28,28,1)\n",
    "# training_images = training_images.reshape(training_images.shape[0],\n",
    "#                                           training_images.shape[1],\n",
    "#                                           training_images.shape[2],\n",
    "#                                           1)\n",
    "training_images = training_images/255.\n",
    "test_images = test_images.reshape(10000,28,28,1)\n",
    "test_images = test_images/255.\n",
    "\n",
    "# 构建模型\n",
    "model = tf.keras.models.Sequential([\n",
    "    \n",
    "    # 构建第一个convolutions网络：\n",
    "    # filter的个数 一般推荐32的倍数，3x3的size,relu激活函数\n",
    "    # 一定要输入input data的shape\n",
    "    tf.keras.layers.Conv2D(64, # filter的个数\n",
    "                           (3,3), # kenerl 大小\n",
    "                           activation='relu', #激活函数\n",
    "                          input_shape=(28,28,1)#输入的数据\n",
    "                           ),\n",
    "    # 使用Max pooling 将数据size缩小\n",
    "    tf.keras.layers.MaxPool2D(2,2),\n",
    "    # 另一个卷积网络\n",
    "    tf.keras.layers.Conv2D(64, # filter的个数\n",
    "                           (3,3), # kenerl 大小\n",
    "                           activation='relu' #激活函\n",
    "                        ),\n",
    "    tf.keras.layers.MaxPool2D(2,2),\n",
    "    # 将数据拉伸成1D,为了进行DNN做准备\n",
    "    tf.keras.layers.Flatten(),\n",
    "    # 第一层 DNN,节点128个\n",
    "    tf.keras.layers.Dense(128,activation='relu'),\n",
    "     # 输出层,节点10个\n",
    "    tf.keras.layers.Dense(10,activation='softmax')\n",
    "])\n",
    "\n",
    "model.compile(optimizer=\"adam\",\n",
    "             loss='sparse_categorical_crossentropy',\n",
    "             metrics=['accuracy'])\n",
    "model.summary()\n",
    "\n",
    "model.fit(training_images,training_labels,epochs=5)\n",
    "\n"
   ]
  },
  {
   "cell_type": "markdown",
   "metadata": {},
   "source": [
    "上面的模型种，我们添加了卷积网络层，这我们的精度和loss值都达到一个比较好的水平，提升也比较高。\n",
    "整个流程如下：\n",
    "\n",
    "- 将数据reshpae 成4D格式samples,W,H,chanels\n",
    "-  构建第一个convolutions网络：\n",
    "    - filter的个数 一般推荐32的倍数，\n",
    "    - 3x3的size,\n",
    "    - relu激活函数\n",
    "    -  一定要输入input data的shape\n",
    "- Maxpooling:将数据size缩小\n",
    "- 构建第二个convolutions网络：\n",
    "- Maxpooling:将数据size缩小\n",
    "- 将数据拉伸成1D,为了进行DNN做准备\n",
    "- 第一层 DNN,节点128个\n",
    "- 输出层,节点10个\n"
   ]
  },
  {
   "cell_type": "markdown",
   "metadata": {},
   "source": [
    "### 可视化卷积网络和pool层\n",
    "\n"
   ]
  },
  {
   "cell_type": "code",
   "execution_count": 15,
   "metadata": {},
   "outputs": [
    {
     "data": {
      "image/png": "[encoded data removed]",
      "text/plain": [
       "<Figure size 432x288 with 12 Axes>"
      ]
     },
     "metadata": {
      "needs_background": "light"
     },
     "output_type": "display_data"
    }
   ],
   "source": [
    "\n",
    "import matplotlib.pyplot as plt\n",
    "f, axarr = plt.subplots(3,4)\n",
    "FIRST_IMAGE=0\n",
    "SECOND_IMAGE=23\n",
    "THIRD_IMAGE=28\n",
    "CONVOLUTION_NUMBER = 62\n",
    "from tensorflow.keras import models\n",
    "layer_outputs = [layer.output for layer in model.layers]\n",
    "activation_model = tf.keras.models.Model(inputs = model.input, outputs = layer_outputs)\n",
    "for x in range(0,4):\n",
    "  f1 = activation_model.predict(test_images[FIRST_IMAGE].reshape(1, 28, 28, 1))[x]\n",
    "  axarr[0,x].imshow(f1[0, : , :, CONVOLUTION_NUMBER], cmap='inferno')\n",
    "  axarr[0,x].grid(False)\n",
    "  f2 = activation_model.predict(test_images[SECOND_IMAGE].reshape(1, 28, 28, 1))[x]\n",
    "  axarr[1,x].imshow(f2[0, : , :, CONVOLUTION_NUMBER], cmap='inferno')\n",
    "  axarr[1,x].grid(False)\n",
    "  f3 = activation_model.predict(test_images[THIRD_IMAGE].reshape(1, 28, 28, 1))[x]\n",
    "  axarr[2,x].imshow(f3[0, : , :, CONVOLUTION_NUMBER], cmap='inferno')\n",
    "  axarr[2,x].grid(False)"
   ]
  }
 ],
 "metadata": {
  "kernelspec": {
   "display_name": "Python 3",
   "language": "python",
   "name": "python3"
  },
  "language_info": {
   "codemirror_mode": {
    "name": "ipython",
    "version": 3
   },
   "file_extension": ".py",
   "mimetype": "text/x-python",
   "name": "python",
   "nbconvert_exporter": "python",
   "pygments_lexer": "ipython3",
   "version": "3.6.8"
  }
 },
 "nbformat": 4,
 "nbformat_minor": 2
}
