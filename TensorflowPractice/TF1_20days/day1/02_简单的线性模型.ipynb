{
 "cells": [
  {
   "cell_type": "code",
   "execution_count": 3,
   "metadata": {},
   "outputs": [
    {
     "name": "stdout",
     "output_type": "stream",
     "text": [
      "1.12.0\n"
     ]
    }
   ],
   "source": [
    "import tensorflow as tf\n",
    "import numpy\n",
    "import matplotlib.pyplot as plt\n",
    "rng = numpy.random\n",
    "\n",
    "print(tf.__version__)"
   ]
  },
  {
   "cell_type": "code",
   "execution_count": 4,
   "metadata": {},
   "outputs": [],
   "source": [
    "learning_rate = 0.01\n",
    "training_epochs = 1000\n",
    "display_step = 50"
   ]
  },
  {
   "cell_type": "code",
   "execution_count": 6,
   "metadata": {},
   "outputs": [],
   "source": [
    "train_X = numpy.asarray([3.3,4.4,5.5,6.71,6.93,4.168,9.779,6.182,7.59,2.167,\n",
    "                         7.042,10.791,5.313,7.997,5.654,9.27,3.1])\n",
    "train_Y = numpy.asarray([1.7,2.76,2.09,3.19,1.694,1.573,3.366,2.596,2.53,1.221,\n",
    "                         2.827,3.465,1.65,2.904,2.42,2.94,1.3])\n",
    "n_samples = train_X.shape[0]"
   ]
  },
  {
   "cell_type": "code",
   "execution_count": 8,
   "metadata": {},
   "outputs": [],
   "source": [
    "X = tf.placeholder(\"float\")\n",
    "Y = tf.placeholder(\"float\")\n",
    "\n",
    "W = tf.Variable(rng.randn(),name=\"weight\")\n",
    "b = tf.Variable(rng.randn(),name=\"bias\")"
   ]
  },
  {
   "cell_type": "code",
   "execution_count": 9,
   "metadata": {},
   "outputs": [],
   "source": [
    "pred = tf.add(tf.multiply(X,W),b)"
   ]
  },
  {
   "cell_type": "code",
   "execution_count": 10,
   "metadata": {},
   "outputs": [],
   "source": [
    "cost = tf.reduce_sum(tf.pow(pred-Y,2))/(2*n_samples)\n",
    "\n",
    "optimizer = tf.train.GradientDescentOptimizer(learning_rate).minimize(cost)"
   ]
  },
  {
   "cell_type": "code",
   "execution_count": 11,
   "metadata": {},
   "outputs": [],
   "source": [
    "init = tf.global_variables_initializer()"
   ]
  },
  {
   "cell_type": "code",
   "execution_count": 20,
   "metadata": {},
   "outputs": [
    {
     "name": "stdout",
     "output_type": "stream",
     "text": [
      "Epoch:  50  cost=  0.19943823  W=  0.44524455  b=  -0.6060326\n",
      "Epoch:  100  cost=  0.18529011  W=  0.43360835  b=  -0.5223227\n",
      "Epoch:  150  cost=  0.17277569  W=  0.42266417  b=  -0.44359088\n",
      "Epoch:  200  cost=  0.1617065  W=  0.41237083  b=  -0.36954135\n",
      "Epoch:  250  cost=  0.15191571  W=  0.40268978  b=  -0.2998965\n",
      "Epoch:  300  cost=  0.14325579  W=  0.3935845  b=  -0.23439378\n",
      "Epoch:  350  cost=  0.13559596  W=  0.38502067  b=  -0.17278625\n",
      "Epoch:  400  cost=  0.12882088  W=  0.37696615  b=  -0.11484266\n",
      "Epoch:  450  cost=  0.12282842  W=  0.3693907  b=  -0.060345437\n",
      "Epoch:  500  cost=  0.11752819  W=  0.36226577  b=  -0.009089397\n",
      "Epoch:  550  cost=  0.11284027  W=  0.35556465  b=  0.03911822\n",
      "Epoch:  600  cost=  0.108693965  W=  0.3492621  b=  0.084458664\n",
      "Epoch:  650  cost=  0.10502672  W=  0.34333435  b=  0.1271025\n",
      "Epoch:  700  cost=  0.10178317  W=  0.33775908  b=  0.16721024\n",
      "Epoch:  750  cost=  0.09891445  W=  0.33251545  b=  0.2049326\n",
      "Epoch:  800  cost=  0.0963773  W=  0.32758382  b=  0.240411\n",
      "Epoch:  850  cost=  0.09413335  W=  0.32294533  b=  0.2737796\n",
      "Epoch:  900  cost=  0.09214873  W=  0.31858262  b=  0.30516398\n",
      "Epoch:  950  cost=  0.09039356  W=  0.31447962  b=  0.33468145\n",
      "Epoch:  1000  cost=  0.08884132  W=  0.31062043  b=  0.3624434\n",
      "********finally result************\n",
      " cost=  0.08884132  W=  0.31062043  b=  0.3624434\n"
     ]
    },
    {
     "data": {
      "image/png": "[encoded data removed]",
      "text/plain": [
       "<Figure size 432x288 with 1 Axes>"
      ]
     },
     "metadata": {
      "needs_background": "light"
     },
     "output_type": "display_data"
    }
   ],
   "source": [
    "with tf.Session() as sess:\n",
    "    sess.run(init)\n",
    "    \n",
    "    for epoch in range(training_epochs):\n",
    "        for(x,y) in zip(train_X,train_Y):\n",
    "            sess.run(optimizer,feed_dict={X:x,Y:y})\n",
    "            \n",
    "        if(epoch+1)%display_step == 0:\n",
    "            c = sess.run(cost,feed_dict={X:train_X,\\\n",
    "                                         Y:train_Y})\n",
    "            print(\"Epoch: \",epoch+1,\" cost= \",c,\\\n",
    "                  \" W= \",sess.run(W),\" b= \",sess.run(b))\n",
    "    print(\"********finally result************\")\n",
    "    training_cost = sess.run(cost,feed_dict={X:train_X,Y:train_Y})\n",
    "    print(\" cost= \",c,\" W= \", sess.run(W),\" b= \",sess.run(b))\n",
    "    \n",
    "    #Graphic display\n",
    "    plt.plot(train_X, train_Y, 'ro', label='Original data')\n",
    "    plt.plot(train_X, sess.run(W) * train_X + sess.run(b), label='Fitted line')\n",
    "    plt.legend()\n",
    "    plt.show()\n",
    "    "
   ]
  }
 ],
 "metadata": {
  "kernelspec": {
   "display_name": "Python 3.5.3 64-bit",
   "language": "python",
   "name": "python35364bit3bacbdcc991d440db80818de2ad5e2b5"
  },
  "language_info": {
   "codemirror_mode": {
    "name": "ipython",
    "version": 3
   },
   "file_extension": ".py",
   "mimetype": "text/x-python",
   "name": "python",
   "nbconvert_exporter": "python",
   "pygments_lexer": "ipython3",
   "version": "3.5.3"
  },
  "toc": {
   "base_numbering": 1,
   "nav_menu": {},
   "number_sections": true,
   "sideBar": true,
   "skip_h1_title": false,
   "title_cell": "Table of Contents",
   "title_sidebar": "Contents",
   "toc_cell": false,
   "toc_position": {},
   "toc_section_display": true,
   "toc_window_display": false
  }
 },
 "nbformat": 4,
 "nbformat_minor": 2
}
