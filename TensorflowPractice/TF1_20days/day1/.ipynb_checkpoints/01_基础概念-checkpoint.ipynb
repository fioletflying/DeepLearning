{
 "cells": [
  {
   "cell_type": "code",
   "execution_count": 1,
   "metadata": {},
   "outputs": [
    {
     "name": "stdout",
     "output_type": "stream",
     "text": [
      "1.12.0\n"
     ]
    }
   ],
   "source": [
    "import tensorflow as tf\n",
    "\n",
    "print(tf.__version__)"
   ]
  },
  {
   "cell_type": "markdown",
   "metadata": {},
   "source": [
    "[TOC]\n",
    "### 常量\n",
    "用来表示一个不被改变的张量。"
   ]
  },
  {
   "cell_type": "code",
   "execution_count": 5,
   "metadata": {},
   "outputs": [
    {
     "name": "stdout",
     "output_type": "stream",
     "text": [
      "a:  2  b:  3\n",
      "a+b =  5\n",
      "a*b =  6\n"
     ]
    }
   ],
   "source": [
    "a = tf.constant(2)\n",
    "b = tf.constant(3)\n",
    "\n",
    "with tf.Session() as sess:\n",
    "    print(\"a: \",sess.run(a),\" b: \",sess.run(b))\n",
    "    print(\"a+b = \",sess.run(a+b))\n",
    "    print(\"a*b = \",sess.run(a*b))"
   ]
  },
  {
   "cell_type": "markdown",
   "metadata": {},
   "source": [
    "###  占位符\n",
    "用来表示张量的变量，这个变量一般用来表示数据的输入，这样只要数据一来就可以数据赋值给这个占位符。这样的好处就是省去了每个输入数据定义一个constant数据。节省空间。\n",
    "![](imgs/01.jpg)\n",
    "![](imgs/02.jpg)\n"
   ]
  },
  {
   "cell_type": "code",
   "execution_count": 7,
   "metadata": {},
   "outputs": [
    {
     "name": "stdout",
     "output_type": "stream",
     "text": [
      "Add op:  5\n",
      "Mul op:  12\n"
     ]
    }
   ],
   "source": [
    "a = tf.placeholder(tf.int16)\n",
    "b = tf.placeholder(tf.int16)\n",
    "\n",
    "add = tf.add(a,b)\n",
    "mul = tf.multiply(a,b)\n",
    "\n",
    "with tf.Session() as sess:\n",
    "    print(\"Add op: \",sess.run(add,feed_dict={a:2,b:3}))\n",
    "    print(\"Mul op: \",sess.run(mul,feed_dict={a:3,b:4}))"
   ]
  },
  {
   "cell_type": "markdown",
   "metadata": {},
   "source": [
    "### 变量\n",
    "\n",
    "这里的变量与编程语言中的变量有一定的区别，就是这里的变量是带有状态标志的。而且这里的变量主要用来存储训练中的参数来设定的，所以，变量就是用来定义参数的。\n",
    "![](imgs/03.jpg)\n",
    "![](imgs/04.jpg)\n",
    "![](imgs/05.jpg)\n",
    "![](imgs/06.jpg)\n",
    "![](imgs/07.jpg)\n",
    "![](imgs/08.jpg)\n",
    "\n",
    "总结几点：\n",
    "- 这里的变量为了保存和计算模型参数而设置的\n",
    "- 变量需要设置相关的类型，具有很多属性，\n",
    "    - 这里有一个特别的属性：trainable:表示训练的时候是否需要更新该变量\n",
    "- 定一个变量的方式：\n",
    "    - 直接定义单个变量：a = tf.Variable(2)\n",
    "    - 可以通过tf内置的函数来定义 b =tf.Variable(tf.zeros([2,3])\n",
    "    - 也可以直接赋值来定一个 c = b\n",
    "- 变量需要初始化,\n",
    "    - \n",
    "- 变量更新一般都是通过train函数来自动更新\n"
   ]
  }
 ],
 "metadata": {
  "kernelspec": {
   "display_name": "Python 3.5.3 64-bit",
   "language": "python",
   "name": "python35364bit3bacbdcc991d440db80818de2ad5e2b5"
  },
  "language_info": {
   "codemirror_mode": {
    "name": "ipython",
    "version": 3
   },
   "file_extension": ".py",
   "mimetype": "text/x-python",
   "name": "python",
   "nbconvert_exporter": "python",
   "pygments_lexer": "ipython3",
   "version": "3.5.3"
  },
  "toc": {
   "base_numbering": 1,
   "nav_menu": {},
   "number_sections": true,
   "sideBar": true,
   "skip_h1_title": false,
   "title_cell": "Table of Contents",
   "title_sidebar": "Contents",
   "toc_cell": false,
   "toc_position": {},
   "toc_section_display": true,
   "toc_window_display": false
  }
 },
 "nbformat": 4,
 "nbformat_minor": 2
}
