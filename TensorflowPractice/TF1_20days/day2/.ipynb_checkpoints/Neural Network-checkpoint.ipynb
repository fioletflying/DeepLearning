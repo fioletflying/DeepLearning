{
 "cells": [
  {
   "cell_type": "code",
   "execution_count": 4,
   "metadata": {},
   "outputs": [
    {
     "name": "stdout",
     "output_type": "stream",
     "text": [
      "1.12.0\n"
     ]
    }
   ],
   "source": [
    "\n",
    "from tensorflow.examples.tutorials.mnist import input_data\n",
    "\n",
    "import tensorflow as tf\n",
    "\n",
    "print(tf.__version__)"
   ]
  },
  {
   "cell_type": "code",
   "execution_count": 6,
   "metadata": {},
   "outputs": [
    {
     "name": "stdout",
     "output_type": "stream",
     "text": [
      "Extracting D:/Study/python/jupyter/DL/TF/Tutorial/wk04/MNIST_data\\train-images-idx3-ubyte.gz\n",
      "Extracting D:/Study/python/jupyter/DL/TF/Tutorial/wk04/MNIST_data\\train-labels-idx1-ubyte.gz\n",
      "Extracting D:/Study/python/jupyter/DL/TF/Tutorial/wk04/MNIST_data\\t10k-images-idx3-ubyte.gz\n",
      "Extracting D:/Study/python/jupyter/DL/TF/Tutorial/wk04/MNIST_data\\t10k-labels-idx1-ubyte.gz\n"
     ]
    }
   ],
   "source": [
    "# 导入 MNIST data\n",
    "mnist = input_data.read_data_sets(\"D:/Study/python/jupyter/DL/TF/Tutorial/wk04/MNIST_data\",one_hot=True)"
   ]
  },
  {
   "cell_type": "code",
   "execution_count": 25,
   "metadata": {},
   "outputs": [],
   "source": [
    "# 设置参数\n",
    "learning_rate = 0.1\n",
    "num_steps = 500\n",
    "batch_size = 64\n",
    "display_step = 100\n",
    "\n",
    "#构建网络的参数\n",
    "n_hidden_1 = 256\n",
    "n_hidden_2 = 256\n",
    "num_input = 784\n",
    "num_classes =10\n",
    "\n",
    "# 网络的输入\n",
    "X = tf.placeholder(\"float\",[None,num_input])\n",
    "Y = tf.placeholder(\"float\",[None,num_classes])"
   ]
  },
  {
   "cell_type": "code",
   "execution_count": 24,
   "metadata": {},
   "outputs": [],
   "source": []
  },
  {
   "cell_type": "code",
   "execution_count": 9,
   "metadata": {},
   "outputs": [],
   "source": []
  },
  {
   "cell_type": "code",
   "execution_count": 27,
   "metadata": {},
   "outputs": [],
   "source": [
    "#权重参数的设定\n",
    "weights = {\n",
    "    'h1':tf.Variable(tf.random_normal([num_input,n_hidden_1])),\n",
    "    'h2':tf.Variable(tf.random_normal([n_hidden_1,n_hidden_2])),\n",
    "    'out':tf.Variable(tf.random_normal([n_hidden_2,num_classes]))\n",
    "}\n",
    "\n",
    "biases = {\n",
    "    'b1':tf.Variable(tf.zeros([n_hidden_1])),\n",
    "    'b2':tf.Variable(tf.zeros([n_hidden_2])),\n",
    "    'out':tf.Variable(tf.zeros([num_classes]))\n",
    "    \n",
    "}"
   ]
  },
  {
   "cell_type": "code",
   "execution_count": 28,
   "metadata": {},
   "outputs": [],
   "source": [
    "#创建模型\n",
    "def neural_net(x):\n",
    "    layer_1 = tf.add(tf.matmul(x,weights['h1']),biases['b1'])\n",
    "    layer_2 = tf.add(tf.matmul(layer_1,weights['h2']),biases['b2'])\n",
    "    out_layer = tf.matmul(layer_2,weights['out'])+biases['out']\n",
    "    return out_layer"
   ]
  },
  {
   "cell_type": "code",
   "execution_count": 29,
   "metadata": {},
   "outputs": [],
   "source": [
    "# 构建模型\n",
    "logits = neural_net(X)\n",
    "\n",
    "#定义损失函数和优化器\n",
    "loss_op = tf.reduce_mean(tf.nn.softmax_cross_entropy_with_logits(\\\n",
    "                        logits=logits,\\\n",
    "                        labels=Y))\n",
    "optimizer = tf.train.AdamOptimizer(learning_rate=learning_rate)\n",
    "train_op = optimizer.minimize(loss_op)\n",
    "#评估模型\n",
    "correct_pred = tf.equal(tf.argmax(logits,1),tf.argmax(Y,1))\n",
    "accuracy = tf.reduce_mean(tf.cast(correct_pred,tf.float32))\n",
    "\n",
    "# 参数初始化\n",
    "init = tf.global_variables_initializer()"
   ]
  },
  {
   "cell_type": "code",
   "execution_count": 30,
   "metadata": {},
   "outputs": [
    {
     "name": "stdout",
     "output_type": "stream",
     "text": [
      "Step 1, Minibatch Loss= 5021.3125, Training Accuracy= 0.625\n",
      "Step 100, Minibatch Loss= 174.1250, Training Accuracy= 0.906\n",
      "Step 200, Minibatch Loss= 132.5118, Training Accuracy= 0.906\n",
      "Step 300, Minibatch Loss= 162.6309, Training Accuracy= 0.828\n",
      "Step 400, Minibatch Loss= 126.9012, Training Accuracy= 0.859\n",
      "Step 500, Minibatch Loss= 45.9155, Training Accuracy= 0.875\n",
      "*******Finished*********\n",
      "Testing Accuracy: 0.8212\n"
     ]
    }
   ],
   "source": [
    "with tf.Session() as sess:\n",
    "    sess.run(init)\n",
    "    \n",
    "    for step in range(1,num_steps+1):\n",
    "        batch_x,batch_y = mnist.train.next_batch(batch_size)\n",
    "        sess.run(train_op,feed_dict={X:batch_x,Y:batch_y})\n",
    "        \n",
    "        if step%display_step==0 or step ==1:\n",
    "            loss,acc = sess.run([loss_op,accuracy],feed_dict={X:batch_x,Y:batch_y})\n",
    "            print(\"Step \" + str(step) + \", Minibatch Loss= \" + \\\n",
    "                  \"{:.4f}\".format(loss) + \", Training Accuracy= \" + \\\n",
    "                  \"{:.3f}\".format(acc))\n",
    "    print(\"*******Finished*********\")\n",
    "        \n",
    "    print(\"Testing Accuracy:\", \\\n",
    "    sess.run(accuracy, feed_dict={X: mnist.test.images,Y: mnist.test.labels}))\n",
    "        \n",
    "    "
   ]
  }
 ],
 "metadata": {
  "kernelspec": {
   "display_name": "Python 3",
   "language": "python",
   "name": "python3"
  },
  "language_info": {
   "codemirror_mode": {
    "name": "ipython",
    "version": 3
   },
   "file_extension": ".py",
   "mimetype": "text/x-python",
   "name": "python",
   "nbconvert_exporter": "python",
   "pygments_lexer": "ipython3",
   "version": "3.5.3"
  },
  "toc": {
   "base_numbering": 1,
   "nav_menu": {},
   "number_sections": true,
   "sideBar": true,
   "skip_h1_title": false,
   "title_cell": "Table of Contents",
   "title_sidebar": "Contents",
   "toc_cell": false,
   "toc_position": {},
   "toc_section_display": true,
   "toc_window_display": false
  }
 },
 "nbformat": 4,
 "nbformat_minor": 2
}
