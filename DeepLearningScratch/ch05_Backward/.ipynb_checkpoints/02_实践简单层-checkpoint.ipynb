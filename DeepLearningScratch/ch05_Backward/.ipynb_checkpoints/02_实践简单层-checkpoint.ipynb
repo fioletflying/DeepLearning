{
 "cells": [
  {
   "cell_type": "markdown",
   "metadata": {},
   "source": [
    "## 实践简单层\n",
    "\n",
    "这里主要是要使用python来实践乘法层和加法层。这里的层与神经网络的层有一点区别，这里的层仅仅是为了实践计算图中的节点。下面来看看具体的过程层。\n",
    "\n",
    "### 乘法层的实践\n",
    "\n",
    "这里使用一个简单的类实践乘法层。"
   ]
  },
  {
   "cell_type": "code",
   "execution_count": 10,
   "metadata": {},
   "outputs": [],
   "source": [
    "class MulLayer:\n",
    "    # 初始化\n",
    "    def __init__(self):\n",
    "        self.x = None\n",
    "        self.y = None\n",
    "        \n",
    "    # 前向传播\n",
    "    def forward(self,x,y):\n",
    "        self.x = x\n",
    "        self.y = y\n",
    "        return x*y\n",
    "        \n",
    "    # 反向传播   \n",
    "    def backward(self,dout):\n",
    "        dx = dout * self.y # 需要交换\n",
    "        dy = dout * self.x\n",
    "        return dx,dy\n",
    "        \n",
    "    "
   ]
  },
  {
   "cell_type": "markdown",
   "metadata": {},
   "source": [
    "利用上面的公式来实现下面这个图，\n",
    "![](imgs/1.jpg)\n"
   ]
  },
  {
   "cell_type": "code",
   "execution_count": 14,
   "metadata": {},
   "outputs": [
    {
     "name": "stdout",
     "output_type": "stream",
     "text": [
      "200\n",
      "220.00000000000003\n",
      "1.1 200\n",
      "2.2 110.00000000000001\n"
     ]
    }
   ],
   "source": [
    "price = 100\n",
    "appelCount = 2\n",
    "laxprice = 1.1\n",
    "layer1 = MulLayer()\n",
    "layer2 = MulLayer()\n",
    "\n",
    "# 前向计算\n",
    "# 先计算第一个层：苹果的价格\n",
    "appelPrice = layer1.forward(price,appelCount)\n",
    "print(appelPrice)\n",
    "# 再计算税收的价格\n",
    "appelLax = layer2.forward(appelPrice,laxprice)\n",
    "print(appelLax)\n",
    "\n",
    "# 反向计算\n",
    "dappelLax = 1\n",
    "dappelPrice,dlaxprice = layer2.backward(dappelLax)\n",
    "print(dappelPrice,dlaxprice)\n",
    "dappel,dcount = layer1.backward(dappelPrice)\n",
    "print(dappel,dcount)\n"
   ]
  },
  {
   "cell_type": "markdown",
   "metadata": {},
   "source": [
    "###  加法层的实践\n",
    "\n",
    "这里使用一个简单的类实践加法层。"
   ]
  },
  {
   "cell_type": "code",
   "execution_count": 15,
   "metadata": {},
   "outputs": [],
   "source": [
    "class Addlayer:\n",
    "    # 不需要特别的初始化\n",
    "    def __init__(self):\n",
    "        pass\n",
    "    \n",
    "     # 前向   \n",
    "    def forward(self,x,y):\n",
    "        self.x = x\n",
    "        self.y = y\n",
    "        \n",
    "        return x+y\n",
    "    #反向\n",
    "    def backward(self,dout):\n",
    "        dx = dout #直接将上一层传递给下一层\n",
    "        dy = dout\n",
    "        \n",
    "        return dx,dy\n",
    "        "
   ]
  },
  {
   "cell_type": "markdown",
   "metadata": {},
   "source": [
    "我们来实践一个稍微复杂的过程：\n",
    "![](imgs/12.jpg)"
   ]
  },
  {
   "cell_type": "code",
   "execution_count": 23,
   "metadata": {},
   "outputs": [
    {
     "name": "stdout",
     "output_type": "stream",
     "text": [
      "715.0000000000001\n",
      "1.1 650\n",
      "1.1 1.1\n",
      "3.3000000000000003 165.0\n",
      "2.2 110.00000000000001\n"
     ]
    }
   ],
   "source": [
    "apple_count = 2\n",
    "orange_count = 3\n",
    "apple_price = 100\n",
    "orange_price = 150\n",
    "lax_price = 1.1\n",
    "\n",
    "apple_layer = MulLayer()\n",
    "orange_layer = MulLayer()\n",
    "apple_orange_layer = Addlayer()\n",
    "lax_layer = MulLayer()\n",
    "\n",
    "# 前向计算\n",
    "apple_sum = apple_layer.forward(apple_price,apple_count)\n",
    "orange_sum = orange_layer.forward(orange_price,orange_count)\n",
    "apple_orange_sum = apple_orange_layer.forward(apple_sum,orange_sum)\n",
    "lax_sum = lax_layer.forward(apple_orange_sum,lax_price)\n",
    "print(lax_sum)\n",
    "\n",
    "# 反向计算\n",
    "all_sum = 1\n",
    "dlax_sum,dlax_price = lax_layer.backward(all_sum)\n",
    "print(dlax_sum,dlax_price)\n",
    "dapple_sum,dorange_sum = apple_orange_layer.backward(dlax_sum)\n",
    "print(dapple_sum,dorange_sum)\n",
    "deorange_price,dorange_count = orange_layer.backward(dorange_sum)\n",
    "print(deorange_price,dorange_count)\n",
    "dapple_price,dapple_count = apple_layer.backward(dapple_sum)\n",
    "print(dapple_price,dapple_count)\n"
   ]
  }
 ],
 "metadata": {
  "kernelspec": {
   "display_name": "Python 3",
   "language": "python",
   "name": "python3"
  },
  "language_info": {
   "codemirror_mode": {
    "name": "ipython",
    "version": 3
   },
   "file_extension": ".py",
   "mimetype": "text/x-python",
   "name": "python",
   "nbconvert_exporter": "python",
   "pygments_lexer": "ipython3",
   "version": "3.5.3"
  },
  "toc": {
   "base_numbering": 1,
   "nav_menu": {},
   "number_sections": true,
   "sideBar": true,
   "skip_h1_title": false,
   "title_cell": "Table of Contents",
   "title_sidebar": "Contents",
   "toc_cell": false,
   "toc_position": {},
   "toc_section_display": true,
   "toc_window_display": false
  }
 },
 "nbformat": 4,
 "nbformat_minor": 2
}
