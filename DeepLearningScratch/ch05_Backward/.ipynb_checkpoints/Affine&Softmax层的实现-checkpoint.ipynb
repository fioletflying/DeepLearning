{
 "cells": [
  {
   "cell_type": "markdown",
   "metadata": {},
   "source": [
    "## Affine&Softmax层的实现\n",
    "\n",
    "### Affine层\n",
    "\n",
    "这里的affine层其实就是说神经网络中的，信号加权的计算过程，也就是XW+B这个公式的计算。\n",
    "\n",
    "> Affine表示仿射的意思，这是几何的概念，仿射一般是指对图形的平移或者线性伸缩。也就对应这里的对于输入信号的权重的线性变换和偏置的平移变换。\n",
    "\n",
    "如下coding"
   ]
  },
  {
   "cell_type": "code",
   "execution_count": 4,
   "metadata": {},
   "outputs": [
    {
     "name": "stdout",
     "output_type": "stream",
     "text": [
      "(2,) [0.03522538 0.33746387]\n",
      "(2, 3) [[0.71601237 0.59287577 0.8510641 ]\n",
      " [0.57232106 0.74278995 0.62142448]]\n",
      "(3,) [0.68368357 0.8806054  0.13857277]\n",
      "(3,) [0.90204306 1.15215445 0.37826014]\n"
     ]
    }
   ],
   "source": [
    "import numpy as np\n",
    "\n",
    "# 输入\n",
    "X = np.random.rand(2)\n",
    "# 权重 W\n",
    "W = np.random.rand(2,3)\n",
    "# 偏置值 B\n",
    "B = np.random.rand(3)\n",
    "\n",
    "print(X.shape,X)\n",
    "print(W.shape,W)\n",
    "print(B.shape,B)\n",
    "\n",
    "Y = np.dot(X,W) + B\n",
    "print(Y.shape,Y)"
   ]
  },
  {
   "cell_type": "markdown",
   "metadata": {},
   "source": [
    "从上面的例子中我们可以看到的数据是,以上的数据都是向量或者矩阵。Y是经过矩阵的点乘获得的，其矩阵变换如下：\n",
    "![](imgs/19.jpg)\n",
    "\n",
    "计算图如下：\n",
    "![](imgs/20.jpg)\n",
    "\n",
    "上面所有的数据都是多维数组的格式。\n",
    "\n",
    "反向传播的过程中，对于向量的点乘t运算，其实这个也就是相当于标量的乘法求导，这里要注意的是：\n",
    "- 向量求导要注意两个数据的位置\n",
    "- 其次是要注意需要转置\n",
    "计算图如下：\n",
    "![](imgs/21.jpg)\n",
    "\n",
    "这里有一个推导的过程如下：\n",
    "![](imgs/22.jpg)\n"
   ]
  }
 ],
 "metadata": {
  "kernelspec": {
   "display_name": "Python 3",
   "language": "python",
   "name": "python3"
  },
  "language_info": {
   "codemirror_mode": {
    "name": "ipython",
    "version": 3
   },
   "file_extension": ".py",
   "mimetype": "text/x-python",
   "name": "python",
   "nbconvert_exporter": "python",
   "pygments_lexer": "ipython3",
   "version": "3.5.3"
  },
  "toc": {
   "base_numbering": 1,
   "nav_menu": {},
   "number_sections": true,
   "sideBar": true,
   "skip_h1_title": false,
   "title_cell": "Table of Contents",
   "title_sidebar": "Contents",
   "toc_cell": false,
   "toc_position": {},
   "toc_section_display": true,
   "toc_window_display": false
  }
 },
 "nbformat": 4,
 "nbformat_minor": 2
}
