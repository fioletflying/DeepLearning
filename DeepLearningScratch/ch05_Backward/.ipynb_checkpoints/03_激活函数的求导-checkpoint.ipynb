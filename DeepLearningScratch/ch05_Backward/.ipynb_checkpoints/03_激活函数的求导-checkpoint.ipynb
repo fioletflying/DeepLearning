{
 "cells": [
  {
   "cell_type": "markdown",
   "metadata": {},
   "source": [
    "## 激活函数求导\n",
    "\n",
    "上面一个小节通过coding实现了对于乘法和加法的前向和反向的实现。这一小节将来实现两个常用的激活函数的实现。\n",
    "- ReLU\n",
    "- Sigmoid\n",
    "\n",
    "### ReLU层\n",
    "\n",
    "首先我们复习一下ReLU函数的表达式：\n",
    "![](imgs/13.jpg)\n",
    "导数的式子：\n",
    "![](imgs/14.jpg)\n",
    "\n",
    "从上式子中可以看出，\n",
    "- 当输入的值大于0，反向传播则将上游的数据原封不动的传递到下游。\n",
    "- 当输入的值小于0，反向传播则停止传播下游数据。\n",
    "\n",
    "具体的coding如下：\n",
    "\n",
    "这里有一个知识点：\n",
    "Numpy布尔类型索引\n",
    ">返回的是一个列表，列表里的值根据array里传的值(这里传的布尔是跟调用的ndarray的类型一一对应的，也就是\"[]\"符号)，意思是列表里的值可以是列表。这里的整个列表是指ndarray\n",
    "\n"
   ]
  },
  {
   "cell_type": "code",
   "execution_count": 2,
   "metadata": {},
   "outputs": [],
   "source": [
    "class Relu:\n",
    "    def __init__(self):\n",
    "        self.mask = None\n",
    "        \n",
    "    def forward(self,x):\n",
    "        # 将x中大于零的变为true,小于零变为False\n",
    "        self.mask = (x <= 0)\n",
    "        out = x.copy()\n",
    "        #布尔类型索引,true的变为0\n",
    "        out[self.mask] = 0 \n",
    "        \n",
    "        return out\n",
    "    \n",
    "    def backward(self,dout):\n",
    "        dout[self.mask] = 0\n",
    "        dx = dout\n",
    "        \n",
    "        return dx\n",
    "    \n",
    "        "
   ]
  },
  {
   "cell_type": "code",
   "execution_count": 4,
   "metadata": {},
   "outputs": [
    {
     "name": "stdout",
     "output_type": "stream",
     "text": [
      "[[ 1.   0.5]\n",
      " [-1.3  0.5]]\n",
      "[[False False]\n",
      " [ True False]]\n",
      "[[1.  0.5]\n",
      " [0.  0.5]]\n"
     ]
    }
   ],
   "source": [
    "# 关于mask的说明\n",
    "import numpy as np\n",
    "x = np.array([[1.0,0.5],[-1.3,0.5]])\n",
    "print(x)\n",
    "#这一句其实就是将数据变成True与False保存\n",
    "mask = (x<=0)\n",
    "print(mask)\n",
    "# 这一句是最不可思议的\n",
    "# 将小于0的值设置为0\n",
    "# 将true的值改变\n",
    "# numpy布尔类型索引\n",
    "x[mask] = 0\n",
    "print(x)"
   ]
  },
  {
   "cell_type": "markdown",
   "metadata": {},
   "source": [
    "### Sigmoid 层\n",
    "\n",
    "sigmoid函数的导数表示如下：\n",
    "![](imgs/15.jpg)\n",
    "\n",
    "其节点计算图表示如下：\n",
    "![](imgs/16.jpg)\n",
    "\n",
    "反向求导的结果如下：\n",
    "![](imgs/17.jpg)\n",
    "\n",
    "这里我们整理sigmiod函数的求导公式归纳如下：\n",
    "![](imgs/18.jpg)\n",
    "\n",
    "所以sigmoid的函数可以写成：\n",
    "$\n",
    "dy = y(1-y)\n",
    "$\n",
    "\n",
    "coding写成如下："
   ]
  },
  {
   "cell_type": "code",
   "execution_count": null,
   "metadata": {},
   "outputs": [],
   "source": [
    "class Simoid:\n",
    "    def __init__(self):\n",
    "        self.out = None\n",
    "        \n",
    "    def forward(self,x):\n",
    "        out = 1.0/1.0+np.exp(-x)\n",
    "        self.out = out\n",
    "        return out\n",
    "    \n",
    "    def backward(self,dout):\n",
    "        # ？？这里不是很懂为什么要*self.out\n",
    "        dx = dout*(1-dout)*self.out\n",
    "        \n",
    "        return dx"
   ]
  }
 ],
 "metadata": {
  "kernelspec": {
   "display_name": "Python 3",
   "language": "python",
   "name": "python3"
  },
  "language_info": {
   "codemirror_mode": {
    "name": "ipython",
    "version": 3
   },
   "file_extension": ".py",
   "mimetype": "text/x-python",
   "name": "python",
   "nbconvert_exporter": "python",
   "pygments_lexer": "ipython3",
   "version": "3.5.3"
  },
  "toc": {
   "base_numbering": 1,
   "nav_menu": {},
   "number_sections": true,
   "sideBar": true,
   "skip_h1_title": false,
   "title_cell": "Table of Contents",
   "title_sidebar": "Contents",
   "toc_cell": false,
   "toc_position": {},
   "toc_section_display": true,
   "toc_window_display": false
  }
 },
 "nbformat": 4,
 "nbformat_minor": 2
}
