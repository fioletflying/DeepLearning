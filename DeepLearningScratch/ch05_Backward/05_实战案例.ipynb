{
 "cells": [
  {
   "cell_type": "markdown",
   "metadata": {},
   "source": [
    "## 神经网络反向传播\n",
    "\n",
    "### 神经网络学习的整个流程\n",
    "主要有以下4个步骤：\n",
    "\n",
    "- 前提：神经网络已经有合适的权重和偏置值。\n",
    "- 选取输入数据：mini-batch从数据中随机选取一部分数据进行训练\n",
    "- 计算梯度：计算各个权重参数的梯度\n",
    "- 更新参数：将权重参数沿着梯度方向进行更新\n",
    "- 重复上面的1-3步\n",
    "\n",
    "这里我们使用误差反向传播的方案来进行梯度计算，可以大大提高学习的效率。\n",
    "\n",
    "### 神经网络反向传播的实践\n",
    "\n",
    "这里接着上一章节来学习，两层神经网络的实践，主要涉及到变量如下：\n",
    "- params: 保存神经网络的参数的字典型变量\n",
    "    - params['W1']  是第 1 层的权重，\n",
    "    - params['b1']  是第 1 层的偏置。\n",
    "    - params['W2']  是第 2 层的权重， \n",
    "    - params['b2']  是第 2层的偏置\n",
    "- layers:保存神经网络的层的有序字典型变量。\n",
    "    - 以  layers['Affine1'] 、 \n",
    "    - layers['ReLu1'] 、\n",
    "    - layers['Affine2']的形式，通过有序字典保存各个层\n",
    "    \n",
    "主要的方法：\n",
    "- __init__(self, input_size, hidden_size, output_size, weight_init_std)进行初始化\n",
    "- predict(self, x)进行识别\n",
    "- loss(self, x, t) 计算损失函数的值。\n",
    "- accuracy(self, x, t) 计算识别精度\n",
    "- gradient(self, x, t) 通过误差反向传播法计算关于权重参数的梯度\n",
    "\n",
    "下面coding 实现如下：\n"
   ]
  },
  {
   "cell_type": "code",
   "execution_count": 13,
   "metadata": {},
   "outputs": [],
   "source": [
    "# softmax 函数的改进\n",
    "import numpy as np\n",
    "def softmax(a):\n",
    "    c= np.max(a)\n",
    "    b = a - c # 防止溢出\n",
    "    exp_a = np.exp(b)\n",
    "    sum_exp_a = np.sum(exp_a)\n",
    "    y = exp_a/sum_exp_a\n",
    "    return y"
   ]
  },
  {
   "cell_type": "code",
   "execution_count": 14,
   "metadata": {},
   "outputs": [],
   "source": [
    "def cross_entropy_error(y,t):\n",
    "    # 这里引入reshape变换\n",
    "    #为了方便计算batch_size的输入\n",
    "    if y.ndim == 1:\n",
    "        t = t.reshape(1,t.size)\n",
    "        y = y.reshape(1,y.size)\n",
    "    batch_size = y.shape[0]\n",
    "    return -np.sum(t*np.log(y+1e-7))/batch_size"
   ]
  },
  {
   "cell_type": "code",
   "execution_count": 11,
   "metadata": {},
   "outputs": [],
   "source": [
    "# 批量数据Affine层的class\n",
    "class Affine:\n",
    "    def __init__(self,W,b):\n",
    "        self.W = W\n",
    "        self.b = b\n",
    "        self.x = None\n",
    "        self.dW = None\n",
    "        self.db = None\n",
    "        \n",
    "    def forward(self,x):\n",
    "        self.x = x\n",
    "        out = np.dot(x,self.W) + self.b\n",
    "        return out\n",
    "    \n",
    "    def backward(self,dout):\n",
    "        dx = np.dot(dout,self.W.T)\n",
    "        self.dW = np.dot(self.x.T,dout)\n",
    "        self.db = np.sum(dout,axis=0)\n",
    "        \n",
    "        return dx"
   ]
  },
  {
   "cell_type": "code",
   "execution_count": 2,
   "metadata": {},
   "outputs": [],
   "source": [
    "class SoftmaxWithLoss:\n",
    "    def __init__(self):\n",
    "        self.loss = None\n",
    "        self.y = None\n",
    "        self.t = None\n",
    "        \n",
    "    def forward(self,x,t):\n",
    "        self.t = t\n",
    "        self.y = softmax(x)\n",
    "        self.loss = cross_entropy_error(self.y,self.t)\n",
    "        \n",
    "    def backward(self,dout=1):\n",
    "        #获取批量数据的大小\n",
    "        batch_size = self.t.shape[0]\n",
    "        # 需要平均化最后的结果\n",
    "        dx = (self.y-self.t)/batch_size\n",
    "        \n",
    "        return dx"
   ]
  },
  {
   "cell_type": "code",
   "execution_count": 4,
   "metadata": {},
   "outputs": [],
   "source": [
    "class Relu:\n",
    "    def __init__(self):\n",
    "        self.mask = None\n",
    "        \n",
    "    def forward(self,x):\n",
    "        # 将x中大于零的变为true,小于零变为False\n",
    "        self.mask = (x <= 0)\n",
    "        out = x.copy()\n",
    "        #布尔类型索引,true的变为0\n",
    "        out[self.mask] = 0 \n",
    "        \n",
    "        return out\n",
    "    \n",
    "    def backward(self,dout):\n",
    "        dout[self.mask] = 0\n",
    "        dx = dout\n",
    "        \n",
    "        return dx"
   ]
  },
  {
   "cell_type": "code",
   "execution_count": 15,
   "metadata": {},
   "outputs": [],
   "source": [
    "import sys, os\n",
    "sys.path.append(os.pardir)\n",
    "import numpy as np\n",
    "#from common.layers import *\n",
    "from common.gradient import numerical_gradient\n",
    "from collections import OrderedDict\n",
    "\n",
    "class TwoLayerNet:\n",
    "    def __init__(self,input_size,hidden_size,\n",
    "                 output_size,weight_init_std=0.01):\n",
    "        # 初始化权重\n",
    "        self.params = {}\n",
    "        self.params['W1'] = weight_init_std * \\\n",
    "                            np.random.randn(input_size, hidden_size)\n",
    "        self.params['b1'] = np.zeros(hidden_size)\n",
    "        self.params['W2'] = weight_init_std * \\\n",
    "                            np.random.randn(hidden_size, output_size)\n",
    "        self.params['b2'] = np.zeros(output_size)\n",
    "        \n",
    "         # 生成层\n",
    "        # 生成有序字典\n",
    "        self.layers = OrderedDict()      \n",
    "        self.layers['Affine1'] = Affine(\n",
    "            self.params['W1'], self.params['b1'])\n",
    "        self.layers['Relu1'] = Relu()\n",
    "        self.layers['Affine2'] = Affine(\n",
    "            self.params['W2'], self.params['b2'])\n",
    "        self.lastLayer = SoftmaxWithLoss()\n",
    "        \n",
    "    # 预测/推理    \n",
    "    def predict(self, x):\n",
    "        # 循环执行每一层即可\n",
    "        for layer in self.layers.values():\n",
    "            x = layer.forward(x)\n",
    "        return x\n",
    "    \n",
    "    # x:输入数据, t:监督数据\n",
    "    def loss(self, x, t):\n",
    "        y = self.predict(x)\n",
    "        return self.lastLayer.forward(y, t)\n",
    "    \n",
    "    #计算精度\n",
    "    def accuracy(self, x, t):\n",
    "        y = self.predict(x)\n",
    "        y = np.argmax(y, axis=1)\n",
    "        if t.ndim != 1 : t = np.argmax(t, axis=1)\n",
    "        accuracy = np.sum(y == t) / float(x.shape[0])\n",
    "        return accuracy\n",
    "    \n",
    "    def gradient(self, x, t):\n",
    "        # forward\n",
    "        self.loss(x, t)\n",
    "        # backward\n",
    "        dout = 1\n",
    "        dout = self.lastLayer.backward(dout)\n",
    "        layers = list(self.layers.values())\n",
    "        layers.reverse()\n",
    "        for layer in layers:\n",
    "            dout = layer.backward(dout)\n",
    "        # 设定\n",
    "        grads = {}\n",
    "        grads['W1'] = self.layers['Affine1'].dW\n",
    "        grads['b1'] = self.layers['Affine1'].db\n",
    "        grads['W2'] = self.layers['Affine2'].dW\n",
    "        grads['b2'] = self.layers['Affine2'].db\n",
    "        return grads\n",
    "            "
   ]
  },
  {
   "cell_type": "markdown",
   "metadata": {},
   "source": [
    "### 训练数据\n",
    "\n",
    "接下来就是利用反向传播来对数据进行学习。"
   ]
  },
  {
   "cell_type": "code",
   "execution_count": 16,
   "metadata": {},
   "outputs": [
    {
     "name": "stdout",
     "output_type": "stream",
     "text": [
      "train acc, test acc | 0.19251666666666667, 0.1972\n",
      "train acc, test acc | 0.09751666666666667, 0.0974\n",
      "train acc, test acc | 0.09871666666666666, 0.098\n",
      "train acc, test acc | 0.10218333333333333, 0.101\n"
     ]
    },
    {
     "name": "stderr",
     "output_type": "stream",
     "text": [
      "d:\\program files\\python35\\lib\\site-packages\\ipykernel_launcher.py:5: RuntimeWarning: invalid value encountered in subtract\n",
      "  \"\"\"\n",
      "d:\\program files\\python35\\lib\\site-packages\\ipykernel_launcher.py:7: RuntimeWarning: invalid value encountered in less_equal\n",
      "  import sys\n",
      "d:\\program files\\python35\\lib\\site-packages\\numpy\\core\\_methods.py:26: RuntimeWarning: invalid value encountered in reduce\n",
      "  return umr_maximum(a, axis, None, out, keepdims)\n"
     ]
    },
    {
     "name": "stdout",
     "output_type": "stream",
     "text": [
      "train acc, test acc | 0.09871666666666666, 0.098\n",
      "train acc, test acc | 0.09871666666666666, 0.098\n",
      "train acc, test acc | 0.09871666666666666, 0.098\n",
      "train acc, test acc | 0.09871666666666666, 0.098\n",
      "train acc, test acc | 0.09871666666666666, 0.098\n",
      "train acc, test acc | 0.09871666666666666, 0.098\n",
      "train acc, test acc | 0.09871666666666666, 0.098\n",
      "train acc, test acc | 0.09871666666666666, 0.098\n",
      "train acc, test acc | 0.09871666666666666, 0.098\n",
      "train acc, test acc | 0.09871666666666666, 0.098\n",
      "train acc, test acc | 0.09871666666666666, 0.098\n",
      "train acc, test acc | 0.09871666666666666, 0.098\n",
      "train acc, test acc | 0.09871666666666666, 0.098\n"
     ]
    }
   ],
   "source": [
    "import sys,os\n",
    "sys.path.append(os.pardir)\n",
    "import numpy as np\n",
    "from dataset.mnist import load_mnist\n",
    "\n",
    "# 加载数据\n",
    "(x_train,y_train),(x_test,y_test) = load_mnist(\n",
    "                normalize=True,\n",
    "                one_hot_label=True)\n",
    "\n",
    "# 记录每次迭代的loss值\n",
    "train_lost_list = []\n",
    "train_acc_list = [] #记录训练精度\n",
    "test_acc_list = [] #记录测试精度\n",
    "\n",
    "\n",
    "#设置训练中参数\n",
    "iters_num = 10000 # 训练次数\n",
    "train_size = x_train.shape[0] #样本数量\n",
    "batch_size = 100 #mini-batch的数量\n",
    "learning_rate = 0.1 # 学习率\n",
    "\n",
    "# 需要训练多次达到一个epoch\n",
    "iter_per_epoch = max(train_size/batch_size,1)\n",
    "\n",
    "#定义一个两层的网络\n",
    "# 隐藏层为50\n",
    "network = TwoLayerNet(input_size=784,\n",
    "                     hidden_size=50,\n",
    "                     output_size=10)\n",
    "\n",
    "# 开始训练\n",
    "for i in range(iters_num):\n",
    "    # 随机选取输入的数据，选取的量为100个\n",
    "    batch_mask = np.random.choice(train_size,batch_size)\n",
    "    x_batch = x_train[batch_mask]\n",
    "    y_batch = y_train[batch_mask]\n",
    "    \n",
    "    # 计算梯度\n",
    "    grad = network.gradient(x_batch,y_batch)\n",
    "    \n",
    "    # 更新参数\n",
    "    for key in ('W1','b1','W2','b2'):\n",
    "        network.params[key] -= learning_rate * grad[key]\n",
    "    \n",
    "    #记录loss值\n",
    "    loss = network.loss(x_batch,y_batch)\n",
    "    train_lost_list.append(loss)\n",
    "    \n",
    "    if i%iter_per_epoch == 0:\n",
    "        train_acc = network.accuracy(x_train,y_train)\n",
    "        test_acc = network.accuracy(x_test,y_test)\n",
    "        train_acc_list.append(train_acc)\n",
    "        test_acc_list.append(test_acc)\n",
    "        print(\"train acc, test acc | \" + str(train_acc) + \", \" + str(test_acc))"
   ]
  },
  {
   "cell_type": "code",
   "execution_count": 17,
   "metadata": {},
   "outputs": [
    {
     "name": "stderr",
     "output_type": "stream",
     "text": [
      "No handles with labels found to put in legend.\n"
     ]
    },
    {
     "data": {
      "text/plain": [
       "<matplotlib.legend.Legend at 0x1f34c730160>"
      ]
     },
     "execution_count": 17,
     "metadata": {},
     "output_type": "execute_result"
    },
    {
     "data": {
      "image/png": "[encoded data removed]",
      "text/plain": [
       "<Figure size 432x288 with 1 Axes>"
      ]
     },
     "metadata": {
      "needs_background": "light"
     },
     "output_type": "display_data"
    }
   ],
   "source": [
    "import  matplotlib.pyplot  as plt\n",
    "%matplotlib inline\n",
    "\n",
    "plt.plot(test_acc_list)\n",
    "plt.plot(train_acc_list,linestyle=\"--\")\n",
    "\n",
    "plt.legend()\n"
   ]
  }
 ],
 "metadata": {
  "kernelspec": {
   "display_name": "Python 3",
   "language": "python",
   "name": "python3"
  },
  "language_info": {
   "codemirror_mode": {
    "name": "ipython",
    "version": 3
   },
   "file_extension": ".py",
   "mimetype": "text/x-python",
   "name": "python",
   "nbconvert_exporter": "python",
   "pygments_lexer": "ipython3",
   "version": "3.6.8"
  },
  "toc": {
   "base_numbering": 1,
   "nav_menu": {},
   "number_sections": true,
   "sideBar": true,
   "skip_h1_title": false,
   "title_cell": "Table of Contents",
   "title_sidebar": "Contents",
   "toc_cell": false,
   "toc_position": {},
   "toc_section_display": true,
   "toc_window_display": false
  }
 },
 "nbformat": 4,
 "nbformat_minor": 2
}
