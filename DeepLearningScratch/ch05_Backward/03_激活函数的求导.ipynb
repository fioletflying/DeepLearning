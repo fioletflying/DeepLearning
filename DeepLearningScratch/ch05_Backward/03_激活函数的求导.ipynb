{
 "cells": [
  {
   "cell_type": "markdown",
   "metadata": {},
   "source": [
    "## 激活函数求导\n",
    "\n",
    "上面一个小节通过coding实现了对于乘法和加法的前向和反向的实现。这一小节将来实现两个常用的激活函数的实现。\n",
    "- ReLU\n",
    "- Sigmoid\n",
    "\n",
    "### ReLU层\n",
    "\n",
    "首先我们复习一下ReLU函数的表达式：\n",
    "![](imgs/13.jpg)\n",
    "导数的式子：\n",
    "![](imgs/14.jpg)\n",
    "\n",
    "从上式子中可以看出，\n",
    "- 当输入的值大于0，反向传播则将上游的数据原封不动的传递到下游。\n",
    "- 当输入的值小于0，反向传播则停止传播下游数据。\n",
    "\n",
    "具体的coding如下：\n"
   ]
  },
  {
   "cell_type": "code",
   "execution_count": 2,
   "metadata": {},
   "outputs": [],
   "source": [
    "class Relu:\n",
    "    def __init__(self):\n",
    "        self.mask = None\n",
    "        \n",
    "    def forward(self,x):\n",
    "        # 将x中大于零的变为true,小于零变为False\n",
    "        self.mask = (x <= 0)\n",
    "        out = x.copy()\n",
    "        out[self.mask] = 0 \n",
    "        \n",
    "        return out\n",
    "    \n",
    "    def backward(self,dout):\n",
    "        dout[self.mask] = 0\n",
    "        dx = dout\n",
    "        \n",
    "        return dx\n",
    "    \n",
    "        "
   ]
  }
 ],
 "metadata": {
  "kernelspec": {
   "display_name": "Python 3",
   "language": "python",
   "name": "python3"
  },
  "language_info": {
   "codemirror_mode": {
    "name": "ipython",
    "version": 3
   },
   "file_extension": ".py",
   "mimetype": "text/x-python",
   "name": "python",
   "nbconvert_exporter": "python",
   "pygments_lexer": "ipython3",
   "version": "3.5.3"
  },
  "toc": {
   "base_numbering": 1,
   "nav_menu": {},
   "number_sections": true,
   "sideBar": true,
   "skip_h1_title": false,
   "title_cell": "Table of Contents",
   "title_sidebar": "Contents",
   "toc_cell": false,
   "toc_position": {},
   "toc_section_display": true,
   "toc_window_display": false
  }
 },
 "nbformat": 4,
 "nbformat_minor": 2
}
