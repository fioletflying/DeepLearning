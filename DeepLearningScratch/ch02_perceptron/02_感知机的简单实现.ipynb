{
 "cells": [
  {
   "cell_type": "markdown",
   "metadata": {},
   "source": [
    "## 感知机的实现\n",
    "\n",
    "### python实现各个逻辑\n",
    "\n",
    "下面是通过python简单实现与门，与非门和或门电路\n"
   ]
  },
  {
   "cell_type": "code",
   "execution_count": 5,
   "metadata": {},
   "outputs": [],
   "source": [
    "def AND(x1,x2):\n",
    "    # 定义参数\n",
    "    w1,w2,theta = 0.5,0.5,0.6\n",
    "    #计算结果\n",
    "    result = w1*x1 + w2*x2\n",
    "    # 判断类型\n",
    "    if result > theta:\n",
    "        return 1\n",
    "    else:\n",
    "        return 0"
   ]
  },
  {
   "cell_type": "code",
   "execution_count": 4,
   "metadata": {},
   "outputs": [
    {
     "name": "stdout",
     "output_type": "stream",
     "text": [
      "x1=0,x2=0 : 0\n",
      "x1=0,x2=1 : 0\n",
      "x1=1,x2=0 : 0\n",
      "x1=1,x2=1 : 1\n"
     ]
    }
   ],
   "source": [
    "print(\"x1=0,x2=0 :\",AND(0,0))\n",
    "print(\"x1=0,x2=1 :\",AND(0,1))\n",
    "print(\"x1=1,x2=0 :\",AND(1,0))\n",
    "print(\"x1=1,x2=1 :\",AND(1,1))"
   ]
  },
  {
   "cell_type": "code",
   "execution_count": 6,
   "metadata": {},
   "outputs": [],
   "source": [
    "# 实现与非门\n",
    "def NAND(x1,x2):\n",
    "    # 定义参数\n",
    "    w1,w2,theta = -0.5,-0.5,-0.6\n",
    "    #计算结果\n",
    "    result = w1*x1 + w2*x2\n",
    "    # 判断类型\n",
    "    if result > theta:\n",
    "        return 1\n",
    "    else:\n",
    "        return 0"
   ]
  },
  {
   "cell_type": "code",
   "execution_count": 7,
   "metadata": {},
   "outputs": [
    {
     "name": "stdout",
     "output_type": "stream",
     "text": [
      "x1=0,x2=0 : 1\n",
      "x1=0,x2=1 : 1\n",
      "x1=1,x2=0 : 1\n",
      "x1=1,x2=1 : 0\n"
     ]
    }
   ],
   "source": [
    "print(\"x1=0,x2=0 :\",NAND(0,0))\n",
    "print(\"x1=0,x2=1 :\",NAND(0,1))\n",
    "print(\"x1=1,x2=0 :\",NAND(1,0))\n",
    "print(\"x1=1,x2=1 :\",NAND(1,1))"
   ]
  },
  {
   "cell_type": "code",
   "execution_count": 8,
   "metadata": {},
   "outputs": [],
   "source": [
    "# 实现或门\n",
    "def OR(x1,x2):\n",
    "    # 定义参数\n",
    "    w1,w2,theta = 0.5,0.5,0.4\n",
    "    #计算结果\n",
    "    result = w1*x1 + w2*x2\n",
    "    # 判断类型\n",
    "    if result > theta:\n",
    "        return 1\n",
    "    else:\n",
    "        return 0"
   ]
  },
  {
   "cell_type": "code",
   "execution_count": 9,
   "metadata": {},
   "outputs": [
    {
     "name": "stdout",
     "output_type": "stream",
     "text": [
      "x1=0,x2=0 : 0\n",
      "x1=0,x2=1 : 1\n",
      "x1=1,x2=0 : 1\n",
      "x1=1,x2=1 : 1\n"
     ]
    }
   ],
   "source": [
    "print(\"x1=0,x2=0 :\",OR(0,0))\n",
    "print(\"x1=0,x2=1 :\",OR(0,1))\n",
    "print(\"x1=1,x2=0 :\",OR(1,0))\n",
    "print(\"x1=1,x2=1 :\",OR(1,1))"
   ]
  },
  {
   "cell_type": "markdown",
   "metadata": {},
   "source": [
    "### 导入权重和偏置\n",
    "\n",
    "上面的实例都非常简单的实践不同的门电路，但是这里我们需要引入一个概念，偏置值。  \n",
    "也就是其实我们的感知机权重中除了w,还有一个biase值，简称b.所以公式改为：  \n",
    "$ y = w1*x1 + w2 *x2 +b $\n",
    "\n",
    "我们可以简单理解，b其实就是上面的负的$\\theta$值，这样判断个感知机是否输出为1，\n",
    "就只需要判断：$w1*x1 + w2 *x2 +b$ 是否大于0.\n",
    "\n",
    "### 使用numpy和权重和偏置来实现与门电路\n",
    "\n",
    "这里我们需要利用向量的思维来组织数据。利用numpy的函数来完成相关的计算"
   ]
  },
  {
   "cell_type": "code",
   "execution_count": 10,
   "metadata": {},
   "outputs": [],
   "source": [
    "import numpy as np\n",
    "\n",
    "def npAND(x1,x2):\n",
    "    # 将其转换为 np 的向量形式\n",
    "    x = np.array([x1,x2])\n",
    "    w = np.array([0.5,0.5])\n",
    "    b = -0.6\n",
    "     # 实现向量的乘法，再求和，再加上b\n",
    "    result = np.sum(x * w) + b\n",
    "    # 判断值\n",
    "    if result > 0:\n",
    "        return 1\n",
    "    else:\n",
    "        return 0\n",
    "      \n",
    "    "
   ]
  },
  {
   "cell_type": "code",
   "execution_count": 11,
   "metadata": {},
   "outputs": [
    {
     "name": "stdout",
     "output_type": "stream",
     "text": [
      "x1=0,x2=0 : 0\n",
      "x1=0,x2=1 : 0\n",
      "x1=1,x2=0 : 0\n",
      "x1=1,x2=1 : 1\n"
     ]
    }
   ],
   "source": [
    "print(\"x1=0,x2=0 :\",npAND(0,0))\n",
    "print(\"x1=0,x2=1 :\",npAND(0,1))\n",
    "print(\"x1=1,x2=0 :\",npAND(1,0))\n",
    "print(\"x1=1,x2=1 :\",npAND(1,1))"
   ]
  },
  {
   "cell_type": "markdown",
   "metadata": {},
   "source": [
    "### 如何理解偏置值\n",
    "\n",
    "偏置是调整神经元被激活的容易程度（输出信号为 1 的程度）的参数。比如，若 b 为 -0.1，则只要\n",
    "输入信号的加权总和超过 0.1，神经元就会被激活。但是如果 b 为 -20.0，则输\n",
    "入信号的加权总和必须超过 20.0，神经元才会被激活。像这样，偏置的值决定了神\n",
    "经元被激活的容易程度。另外，这里我们将 w1  和  w2 称为权重，将 b 称为偏置，\n",
    "一般在深度学习中我们将 b、w1 、 w2 这些参数统称为权重。"
   ]
  }
 ],
 "metadata": {
  "kernelspec": {
   "display_name": "Python 3",
   "language": "python",
   "name": "python3"
  },
  "language_info": {
   "codemirror_mode": {
    "name": "ipython",
    "version": 3
   },
   "file_extension": ".py",
   "mimetype": "text/x-python",
   "name": "python",
   "nbconvert_exporter": "python",
   "pygments_lexer": "ipython3",
   "version": "3.6.8"
  }
 },
 "nbformat": 4,
 "nbformat_minor": 2
}
