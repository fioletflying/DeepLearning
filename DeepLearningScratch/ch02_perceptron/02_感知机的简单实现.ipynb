{
 "cells": [
  {
   "cell_type": "markdown",
   "metadata": {},
   "source": [
    "## 感知机的实现\n",
    "\n",
    "### python实现各个逻辑\n",
    "\n",
    "下面是通过python简单实现与门，与非门和或门电路\n"
   ]
  },
  {
   "cell_type": "code",
   "execution_count": 5,
   "metadata": {},
   "outputs": [],
   "source": [
    "def AND(x1,x2):\n",
    "    # 定义参数\n",
    "    w1,w2,theta = 0.5,0.5,0.6\n",
    "    #计算结果\n",
    "    result = w1*x1 + w2*x2\n",
    "    # 判断类型\n",
    "    if result > theta:\n",
    "        return 1\n",
    "    else:\n",
    "        return 0"
   ]
  },
  {
   "cell_type": "code",
   "execution_count": 4,
   "metadata": {},
   "outputs": [
    {
     "name": "stdout",
     "output_type": "stream",
     "text": [
      "x1=0,x2=0 : 0\n",
      "x1=0,x2=1 : 0\n",
      "x1=1,x2=0 : 0\n",
      "x1=1,x2=1 : 1\n"
     ]
    }
   ],
   "source": [
    "print(\"x1=0,x2=0 :\",AND(0,0))\n",
    "print(\"x1=0,x2=1 :\",AND(0,1))\n",
    "print(\"x1=1,x2=0 :\",AND(1,0))\n",
    "print(\"x1=1,x2=1 :\",AND(1,1))"
   ]
  },
  {
   "cell_type": "code",
   "execution_count": 6,
   "metadata": {},
   "outputs": [],
   "source": [
    "# 实现与非门\n",
    "def NAND(x1,x2):\n",
    "    # 定义参数\n",
    "    w1,w2,theta = -0.5,-0.5,-0.6\n",
    "    #计算结果\n",
    "    result = w1*x1 + w2*x2\n",
    "    # 判断类型\n",
    "    if result > theta:\n",
    "        return 1\n",
    "    else:\n",
    "        return 0"
   ]
  },
  {
   "cell_type": "code",
   "execution_count": 7,
   "metadata": {},
   "outputs": [
    {
     "name": "stdout",
     "output_type": "stream",
     "text": [
      "x1=0,x2=0 : 1\n",
      "x1=0,x2=1 : 1\n",
      "x1=1,x2=0 : 1\n",
      "x1=1,x2=1 : 0\n"
     ]
    }
   ],
   "source": [
    "print(\"x1=0,x2=0 :\",NAND(0,0))\n",
    "print(\"x1=0,x2=1 :\",NAND(0,1))\n",
    "print(\"x1=1,x2=0 :\",NAND(1,0))\n",
    "print(\"x1=1,x2=1 :\",NAND(1,1))"
   ]
  },
  {
   "cell_type": "code",
   "execution_count": 8,
   "metadata": {},
   "outputs": [],
   "source": [
    "# 实现或门\n",
    "def OR(x1,x2):\n",
    "    # 定义参数\n",
    "    w1,w2,theta = 0.5,0.5,0.4\n",
    "    #计算结果\n",
    "    result = w1*x1 + w2*x2\n",
    "    # 判断类型\n",
    "    if result > theta:\n",
    "        return 1\n",
    "    else:\n",
    "        return 0"
   ]
  },
  {
   "cell_type": "code",
   "execution_count": 9,
   "metadata": {},
   "outputs": [
    {
     "name": "stdout",
     "output_type": "stream",
     "text": [
      "x1=0,x2=0 : 0\n",
      "x1=0,x2=1 : 1\n",
      "x1=1,x2=0 : 1\n",
      "x1=1,x2=1 : 1\n"
     ]
    }
   ],
   "source": [
    "print(\"x1=0,x2=0 :\",OR(0,0))\n",
    "print(\"x1=0,x2=1 :\",OR(0,1))\n",
    "print(\"x1=1,x2=0 :\",OR(1,0))\n",
    "print(\"x1=1,x2=1 :\",OR(1,1))"
   ]
  },
  {
   "cell_type": "markdown",
   "metadata": {},
   "source": [
    "### 导入权重和偏置\n",
    "\n",
    "上面的实例都非常简单的实践不同的门电路，但是这里我们需要引入一个概念，偏置值。  \n",
    "也就是其实我们的感知机权重中除了w,还有一个biase值，简称b.所以公式改为：  \n",
    "$ y = w1*x1 + w2 *x2 +b $\n",
    "\n",
    "我们可以简单理解，b其实就是上面的负的$\\theta$值，这样判断个感知机是否输出为1，\n",
    "就只需要判断：$w1*x1 + w2 *x2 +b$ 是否大于0.\n",
    "\n",
    "### 使用numpy和权重和偏置来实现与门电路\n"
   ]
  },
  {
   "cell_type": "code",
   "execution_count": null,
   "metadata": {},
   "outputs": [],
   "source": []
  }
 ],
 "metadata": {
  "kernelspec": {
   "display_name": "Python 3",
   "language": "python",
   "name": "python3"
  },
  "language_info": {
   "codemirror_mode": {
    "name": "ipython",
    "version": 3
   },
   "file_extension": ".py",
   "mimetype": "text/x-python",
   "name": "python",
   "nbconvert_exporter": "python",
   "pygments_lexer": "ipython3",
   "version": "3.6.8"
  }
 },
 "nbformat": 4,
 "nbformat_minor": 2
}
