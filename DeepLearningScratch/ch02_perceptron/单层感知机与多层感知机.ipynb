{
 "cells": [
  {
   "cell_type": "markdown",
   "metadata": {},
   "source": [
    "### 单层感知机的局限性\n",
    "在上两节我们看到了，感知机可以很轻松的实现与门、与非门、或门三种逻辑电路。 但是当我们像实现以或门(XOR)的时候发现有点难咯。\n",
    "\n",
    "#### 异或门(XOR)\n",
    "\n",
    "异或门是两个输入状态相同则为真，例如(0,0)(1,1)， 其他则为假。如下图所示：\n",
    "![异或门](imgs/6.jpg)\n",
    "\n",
    "为什么我们无法找到一组参数来表示异或门呢？(w1，w2,b)， 其实用坐标来表示就很形象了，以前我们做的其实就是在一个二维坐标中找一条线来分开不同的输入点。例如之前的或门可以表示如下图：\n",
    "![或门](imgs/7.jpg)\n",
    "\n",
    "让我门再来看看刚刚说的异或门在坐标轴的表示：\n",
    "\n",
    "![异或门](imgs/8.jpg)\n",
    "像图中这样的坐标点，我们无法有一条直线进行分割。如果需要分割的话，只有通过一条曲线将其分割。\n",
    "\n",
    "#### 线性与非线性\n",
    "从上面的分析中我们知道，单层感知机主要的局限在与：\n",
    "- 只能表示一条直线，无法表示曲线\n",
    "\n",
    "这里我们来看看两个概念：\n",
    "- 由直线分割而成的空间称为线性空间，\n",
    "- 曲线分割而成的空间称为非线性空间\n",
    "\n",
    "所以用稍微专业的东西来解释单层感知机的缺陷就是：\n",
    "**无法分割非线性空间。**\n"
   ]
  },
  {
   "cell_type": "markdown",
   "metadata": {},
   "source": [
    "### 多层感知机\n",
    "\n",
    "我们上面提到感知机无法表示异或门，这一节我们就来解决这个问题。要像通过感知机解决异或门的表示，我们可以使用多层感知机。再使用这个方法之前，我们先来看看我们如何使用之前我们看过的电路来表示异或门。\n",
    "\n",
    "#### 组合电路来表示异或门\n",
    "\n",
    "我们先来看个组合图，其实我们有很多中方式，下面就其中一种，结合与门，与非门和或门实现异或门。\n",
    "\n",
    "![组合图](imgs/9.jpg)\n",
    "\n",
    "从图中我们看出，这里用了三种电路的组合，而且分了两层来进行。\n",
    "- 出入都是x1,x2\n",
    "- 最终输出的是y\n",
    "- 中间层的输出是s1,s2\n",
    "\n",
    "其中真值图如下：\n",
    "\n",
    "![真值图](imgs/10.jpg)\n",
    "\n",
    "#### 多层感知机来表示异或门\n",
    "\n",
    "将上面的组合图，我们可以表示如下图表\n",
    "\n",
    "![多层感知机表示异或门](imgs/11.jpg)\n",
    "\n",
    "异或门是一种多层结构的神经网络。这里，将最左边的一列\n",
    "称为第 0 层，中间的一列称为第 1 层，最右边的一列称为第 2 层。\n",
    "一般我们称其为3层网络。\n",
    "\n",
    "#### python实现异或门表示\n",
    "\n",
    "其实就是利用之前定义的函数组合，来实现具体coding如下：\n"
   ]
  },
  {
   "cell_type": "code",
   "execution_count": 4,
   "metadata": {},
   "outputs": [],
   "source": [
    "#三种简单的门电路的实现\n",
    "import numpy as np\n",
    "\n",
    "def AND(x1,x2):\n",
    "    x = np.array([x1,x2])\n",
    "    w = np.array([0.5,0.5])\n",
    "    b = -0.6\n",
    "    \n",
    "    result = np.sum(x*w)+b\n",
    "    \n",
    "    if result >0:\n",
    "        return 1\n",
    "    else:\n",
    "        return 0\n",
    "        \n",
    "def NAND(x1,x2):\n",
    "    x = np.array([x1,x2])\n",
    "    w = np.array([-0.5,-0.5])\n",
    "    b = 0.6\n",
    "    \n",
    "    result = np.sum(x*w)+b\n",
    "    \n",
    "    if result >0:\n",
    "        return 1\n",
    "    else:\n",
    "        return 0\n",
    "        \n",
    "def OR(x1,x2):\n",
    "    x = np.array([x1,x2])\n",
    "    w = np.array([0.5,0.5])\n",
    "    b = -0.4\n",
    "    \n",
    "    result = np.sum(x*w)+b\n",
    "    \n",
    "    if result >0:\n",
    "        return 1\n",
    "    else:\n",
    "        return 0"
   ]
  },
  {
   "cell_type": "code",
   "execution_count": 5,
   "metadata": {},
   "outputs": [],
   "source": [
    "def XOR(x1,x2):\n",
    "    s1 = NAND(x1,x2)\n",
    "    s2 = OR(x1,x2)\n",
    "    y = AND(s1,s2)\n",
    "    \n",
    "    return y\n",
    "    "
   ]
  },
  {
   "cell_type": "code",
   "execution_count": 6,
   "metadata": {},
   "outputs": [
    {
     "name": "stdout",
     "output_type": "stream",
     "text": [
      "0\n",
      "1\n",
      "1\n",
      "0\n"
     ]
    }
   ],
   "source": [
    "print(XOR(0,0))\n",
    "print(XOR(0,1))\n",
    "print(XOR(1,0))\n",
    "print(XOR(1,1))"
   ]
  }
 ],
 "metadata": {
  "kernelspec": {
   "display_name": "Python 3",
   "language": "python",
   "name": "python3"
  },
  "language_info": {
   "codemirror_mode": {
    "name": "ipython",
    "version": 3
   },
   "file_extension": ".py",
   "mimetype": "text/x-python",
   "name": "python",
   "nbconvert_exporter": "python",
   "pygments_lexer": "ipython3",
   "version": "3.5.3"
  },
  "toc": {
   "base_numbering": 1,
   "nav_menu": {},
   "number_sections": true,
   "sideBar": true,
   "skip_h1_title": false,
   "title_cell": "Table of Contents",
   "title_sidebar": "Contents",
   "toc_cell": false,
   "toc_position": {},
   "toc_section_display": true,
   "toc_window_display": false
  }
 },
 "nbformat": 4,
 "nbformat_minor": 2
}
