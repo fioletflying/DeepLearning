{
 "cells": [
  {
   "cell_type": "markdown",
   "metadata": {},
   "source": [
    "### 单层感知机的局限性\n",
    "在上两节我们看到了，感知机可以很轻松的实现与门、与非门、或门三种逻辑电路。 但是当我们像实现以或门(XOR)的时候发现有点难咯。\n",
    "\n",
    "#### 异或门(XOR)\n",
    "\n",
    "异或门是两个输入状态相同则为真，例如(0,0)(1,1)， 其他则为假。如下图所示：\n",
    "![异或门](imgs/6.jpg)\n",
    "\n",
    "为什么我们无法找到一组参数来表示异或门呢？(w1，w2,b)， 其实用坐标来表示就很形象了，以前我们做的其实就是在一个二维坐标中找一条线来分开不同的输入点。例如之前的或门可以表示如下图：\n",
    "![或门](imgs/7.jpg)\n",
    "\n",
    "让我门再来看看刚刚说的异或门在坐标轴的表示：\n",
    "\n",
    "![异或门](imgs/8.jpg)\n",
    "像图中这样的坐标点，我们无法有一条直线进行分割。如果需要分割的话，只有通过一条曲线将其分割。\n",
    "\n",
    "#### 线性与非线性\n",
    "从上面的分析中我们知道，单层感知机主要的局限在与：\n",
    "- 只能表示一条直线，无法表示曲线\n",
    "\n",
    "两个概念：\n",
    "- 由直线分割而成的空间称为线性空间，\n",
    "- 曲线分割而成的空间称为非线性空间\n"
   ]
  }
 ],
 "metadata": {
  "kernelspec": {
   "display_name": "Python 3",
   "language": "python",
   "name": "python3"
  },
  "language_info": {
   "codemirror_mode": {
    "name": "ipython",
    "version": 3
   },
   "file_extension": ".py",
   "mimetype": "text/x-python",
   "name": "python",
   "nbconvert_exporter": "python",
   "pygments_lexer": "ipython3",
   "version": "3.5.3"
  },
  "toc": {
   "base_numbering": 1,
   "nav_menu": {},
   "number_sections": true,
   "sideBar": true,
   "skip_h1_title": false,
   "title_cell": "Table of Contents",
   "title_sidebar": "Contents",
   "toc_cell": false,
   "toc_position": {},
   "toc_section_display": true,
   "toc_window_display": false
  }
 },
 "nbformat": 4,
 "nbformat_minor": 2
}
