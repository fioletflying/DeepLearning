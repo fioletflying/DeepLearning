{
 "cells": [
  {
   "cell_type": "markdown",
   "metadata": {},
   "source": [
    "###  环境的配置\n",
    "\n",
    "#### python 版本\n",
    "\n",
    "- python2.x\n",
    "- python 3.x (推荐)\n",
    "\n",
    "#### 外部库的安装\n",
    "\n",
    "- Numpy\n",
    "- Matpltlib\n",
    "\n",
    "#### Anaconda\n",
    "\n",
    "推荐使用Anaconda 的安装，这个像一个集成环境的管理中心，可以根据自己的需要，去Anaconda中下载自己需要配置的环境。\n",
    "\n",
    "#### 编译环境\n",
    "\n",
    "- jupyter notebook (推荐)\n",
    "- pycharm\n"
   ]
  },
  {
   "cell_type": "markdown",
   "metadata": {},
   "source": [
    "### Python 快速入门\n",
    "\n",
    "#### 编译器\n",
    "\n",
    "查看自己的安装的版本号\n",
    "\n",
    "``` python\n",
    "# 查看python的版本号\n",
    "import sys\n",
    "print(sys.version)\n",
    "````\n",
    "\n",
    "Python 解释器也被称为“对话模式”，用户能够以和 Python 对话的方式进行编程。\n"
   ]
  },
  {
   "cell_type": "code",
   "execution_count": 3,
   "metadata": {},
   "outputs": [
    {
     "name": "stdout",
     "output_type": "stream",
     "text": [
      "3.5.3 (v3.5.3:1880cb95a742, Jan 16 2017, 16:02:32) [MSC v.1900 64 bit (AMD64)]\n"
     ]
    }
   ],
   "source": [
    "# 查看python的版本号\n",
    "import sys\n",
    "print(sys.version)"
   ]
  },
  {
   "cell_type": "markdown",
   "metadata": {},
   "source": [
    "#### 算术计算\n",
    "加法或乘法等算术计算\n",
    "\n",
    "**注意**\n",
    "- 除法 / 的结果是一个浮点数\n",
    "- ** 表示乘方"
   ]
  },
  {
   "cell_type": "code",
   "execution_count": 7,
   "metadata": {},
   "outputs": [
    {
     "name": "stdout",
     "output_type": "stream",
     "text": [
      "-1\n",
      "20\n",
      "1.4\n",
      "9\n"
     ]
    }
   ],
   "source": [
    "# - 减法\n",
    "print(1-2)\n",
    "# * 表示乘法，\n",
    "print(4*5)\n",
    "# / 表示除法，这里需要注意的是\n",
    "# / 的结果是一个浮点数\n",
    "print(7/5)\n",
    "# ** 表示乘方\n",
    "print(3**2)"
   ]
  },
  {
   "cell_type": "markdown",
   "metadata": {},
   "source": [
    "####  数据类型\n",
    "\n",
    "数据类型表示数据的性质，有整数、小数、字符串等类型，通过type来获得。\n",
    "- python中的数据类型，都是类来定义"
   ]
  },
  {
   "cell_type": "code",
   "execution_count": 9,
   "metadata": {},
   "outputs": [
    {
     "name": "stdout",
     "output_type": "stream",
     "text": [
      "<class 'int'>\n",
      "<class 'float'>\n",
      "<class 'str'>\n",
      "<class 'module'>\n"
     ]
    }
   ],
   "source": [
    "# 不同的数据类型\n",
    "print(type(10))\n",
    "print(type(3.14))\n",
    "print(type('hello'))\n",
    "print(type(sys))"
   ]
  },
  {
   "cell_type": "markdown",
   "metadata": {},
   "source": [
    "#### 变量\n",
    "\n",
    "变量用来赋值和计算的单元。\n",
    "\n",
    "- Python 是属于“动态类型语言”的编程语言，\n",
    "- 所谓动态，是指变量的类型是根据情况自动决定的。\n"
   ]
  },
  {
   "cell_type": "code",
   "execution_count": 11,
   "metadata": {},
   "outputs": [
    {
     "name": "stdout",
     "output_type": "stream",
     "text": [
      "10\n",
      "<class 'int'>\n",
      "3.14\n",
      "<class 'float'>\n"
     ]
    }
   ],
   "source": [
    "# 变量\n",
    "x =10\n",
    "print(x)\n",
    "print(type(x))\n",
    "x = 3.14\n",
    "print(x)\n",
    "print(type(x))"
   ]
  },
  {
   "cell_type": "markdown",
   "metadata": {},
   "source": [
    "#### 列表\n",
    "\n",
    "一个用来给数组和数据汇总的变量\n",
    "- 元素的访问是通过 a[0]\n",
    "- 索引从 0 开始（索引 0 对应第一个元素）\n",
    "\n",
    "切片： 使用切片不仅可以访问某个值，还可以访问列表的子列表（部分列表）\n",
    "- a[0:2] 表示获取索引为0到2（不包括索引为2）的元素\n",
    "-  a[1:] 获取从索引为1的元素到最后一个元素\n",
    "- a[:3]  获取从第一个元素到索引为3（不包括3！）的元素\n",
    "-  a[:-1] 获取从第一个元素到最后一个元素的前一个元素之间的元素\n",
    "-  a[:-2] 获取从第一个元素到最后一个元素的前二个元素之间的元素\n",
    "\n"
   ]
  },
  {
   "cell_type": "code",
   "execution_count": 13,
   "metadata": {},
   "outputs": [
    {
     "name": "stdout",
     "output_type": "stream",
     "text": [
      "[1, 2, 3, 4, 5]\n",
      "5\n",
      "1\n",
      "5\n",
      "100\n",
      "[1, 2, 3, 4, 100]\n",
      "[1, 2]\n"
     ]
    }
   ],
   "source": [
    "# 定义列表\n",
    "a = [1,2,3,4,5]\n",
    "print(a)\n",
    "# 列表的长度\n",
    "print(len(a))\n",
    "# 列表的元素访问\n",
    "# 从零开始索引\n",
    "print(a[0])\n",
    "print(a[4])\n",
    "\n",
    "# 列表元素赋值\n",
    "a[4] = 100\n",
    "print(a[4])\n",
    "print(a)\n",
    "# 列表的切片\n",
    "# 获取索引为0到2（不包括2！）的元素\n",
    "print(a[0:2])\n",
    "# 获取从索引为1的元素到最后一个元素\n",
    "print(a[1:])\n",
    "# 获取从第一个元素到索引为3（不包括3！）的元素\n",
    "print(a[:3])\n",
    "# 获取从第一个元素到倒数第一个的元素之间的元素\n",
    "print(a[:-1])\n",
    "# 获取从第一个元素到倒数二个元素之间的元素\n",
    "print(a[:-2])"
   ]
  },
  {
   "cell_type": "markdown",
   "metadata": {},
   "source": [
    "### 字典\n",
    "\n",
    "- 列表根据索引，按照 0, 1, 2, ... 的顺序存储值，\n",
    "- 字典则以键值对的形式存储数据{key:value}\n",
    "\n",
    "\n"
   ]
  },
  {
   "cell_type": "code",
   "execution_count": 1,
   "metadata": {},
   "outputs": [
    {
     "name": "stdout",
     "output_type": "stream",
     "text": [
      "100\n",
      "{'wali': 100, 'eva': 150}\n"
     ]
    }
   ],
   "source": [
    "# 利用大括号来生成字典\n",
    "me = {'wali':100}\n",
    "# 利用key来访问\n",
    "print(me['wali'])\n",
    "# 增加新元素\n",
    "me['eva'] = 150\n",
    "print(me)"
   ]
  },
  {
   "cell_type": "markdown",
   "metadata": {},
   "source": [
    "#### bool\n",
    "bool 只有两个值：\n",
    "- True \n",
    "- False \n",
    "\n",
    "对于的操作符有：\n",
    " - and 与\n",
    " - or 或\n",
    " - not 非\n"
   ]
  },
  {
   "cell_type": "code",
   "execution_count": 1,
   "metadata": {},
   "outputs": [
    {
     "name": "stdout",
     "output_type": "stream",
     "text": [
      "<class 'bool'>\n",
      "True\n",
      "False\n",
      "True\n"
     ]
    }
   ],
   "source": [
    "wali = True # 真 \n",
    "eva = False # 假\n",
    "\n",
    "print(type(wali)) # 类型 bool\n",
    "print(not eva) # 非 运算\n",
    "print(wali and eva) # 与运算\n",
    "print(wali or eva) # 或运算\n"
   ]
  },
  {
   "cell_type": "markdown",
   "metadata": {},
   "source": [
    "#### if 条件判断语句\n",
    "\n",
    "根据不同的条件选择不同的处理分支时可以使用 if/else 语句\n",
    "\n",
    "- 同缩进来表示在同一作用区域\n",
    "- 利用冒号来结尾：一个判断条件"
   ]
  },
  {
   "cell_type": "code",
   "execution_count": 3,
   "metadata": {},
   "outputs": [
    {
     "name": "stdout",
     "output_type": "stream",
     "text": [
      "I'm not wali\n",
      "I'm eva\n"
     ]
    }
   ],
   "source": [
    "wali = False\n",
    "if wali:\n",
    "    print(\"I'm wali\")\n",
    "else:\n",
    "    print(\"I'm not wali\")\n",
    "    print(\"I'm eva\")\n"
   ]
  },
  {
   "cell_type": "markdown",
   "metadata": {},
   "source": [
    "#### for 循环语句\n",
    "进行循环处理时可以使用 for 语句，通过遍历来获得。\n",
    "- 同缩进来表示在同一作用区域\n",
    "- 利用冒号来结尾：一个判断条件\n"
   ]
  },
  {
   "cell_type": "code",
   "execution_count": 4,
   "metadata": {},
   "outputs": [
    {
     "name": "stdout",
     "output_type": "stream",
     "text": [
      "1\n",
      "2\n",
      "3\n"
     ]
    }
   ],
   "source": [
    "for i in [1,2,3]:\n",
    "    print(i)"
   ]
  },
  {
   "cell_type": "markdown",
   "metadata": {},
   "source": [
    "#### 函数\n",
    "定一个需要经常用到的操作，可以使用函数封装\n",
    "- 同缩进来表示在同一作用区域\n",
    "- 利用冒号来结尾：一个判断条件\n"
   ]
  },
  {
   "cell_type": "code",
   "execution_count": 7,
   "metadata": {},
   "outputs": [
    {
     "name": "stdout",
     "output_type": "stream",
     "text": [
      "Hello Python!\n"
     ]
    }
   ],
   "source": [
    "def hello():\n",
    "    print(\"Hello Python!\")\n",
    "    \n",
    "hello()"
   ]
  },
  {
   "cell_type": "markdown",
   "metadata": {},
   "source": [
    "#### python 脚本文件\n",
    "\n",
    " Python 程序保存为文件，然后（集中地）运行这个文件，这样可以方便调用。\n",
    " \n",
    " #### 类\n",
    " \n",
    "用来定义新的类。如果用户自己定义类的话，就可以自己创建数据类型。此外，也可以定义原创的方法（类的函数）和属性.\n",
    "- class 关键字来定义\n",
    "- init 方法来对类初始化，也称构造函数，只在生成类的实例时被调用一次\n",
    "- 每个方法的第一个参数都是self(有点像C++/C#中this指针)表示自身 "
   ]
  },
  {
   "cell_type": "code",
   "execution_count": 13,
   "metadata": {},
   "outputs": [
    {
     "name": "stdout",
     "output_type": "stream",
     "text": [
      "编号为 1234 创建完成\n",
      "编号为 1234 搬运垃圾\n"
     ]
    }
   ],
   "source": [
    "class wali:\n",
    "    def __init__(self,id):\n",
    "        self.id = id\n",
    "        print(\"编号为 %s 创建完成\" %self.id)\n",
    "        \n",
    "    def carry(self):\n",
    "        print(\"编号为 %s 搬运垃圾\"%self.id)\n",
    "        \n",
    "        \n",
    "wali1 = wali(\"1234\")\n",
    "wali1.carry()\n",
    "        "
   ]
  },
  {
   "cell_type": "code",
   "execution_count": null,
   "metadata": {},
   "outputs": [],
   "source": []
  }
 ],
 "metadata": {
  "kernelspec": {
   "display_name": "Python 3",
   "language": "python",
   "name": "python3"
  },
  "language_info": {
   "codemirror_mode": {
    "name": "ipython",
    "version": 3
   },
   "file_extension": ".py",
   "mimetype": "text/x-python",
   "name": "python",
   "nbconvert_exporter": "python",
   "pygments_lexer": "ipython3",
   "version": "3.6.8"
  },
  "toc": {
   "base_numbering": 1,
   "nav_menu": {},
   "number_sections": true,
   "sideBar": true,
   "skip_h1_title": false,
   "title_cell": "Table of Contents",
   "title_sidebar": "Contents",
   "toc_cell": false,
   "toc_position": {},
   "toc_section_display": true,
   "toc_window_display": false
  }
 },
 "nbformat": 4,
 "nbformat_minor": 2
}
