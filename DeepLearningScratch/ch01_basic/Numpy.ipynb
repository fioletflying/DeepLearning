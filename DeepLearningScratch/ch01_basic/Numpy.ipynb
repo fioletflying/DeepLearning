{
 "cells": [
  {
   "cell_type": "markdown",
   "metadata": {},
   "source": [
    "## Numpy\n",
    "\n",
    "Python一个非常著名的第三方库，用来处理数组和矩阵的操作。\n",
    "\n",
    "### 导入Numpy\n",
    "需要使用import来导入外部的库，这里的外部是指不是python自身内置的类型。 具体的语法如下："
   ]
  },
  {
   "cell_type": "code",
   "execution_count": 1,
   "metadata": {},
   "outputs": [],
   "source": [
    "# import: 导入库\n",
    "# as:将该库简写为np\n",
    "# 以后调用该库的一些方法以np.xxxx\n",
    "import numpy as np\n"
   ]
  },
  {
   "cell_type": "markdown",
   "metadata": {},
   "source": [
    "### 生成Numpy数组\n",
    "\n",
    "函数：`np.array()`  \n",
    "详细的知识见官网[生成Numpy数组](https://www.numpy.org.cn/user/quickstart.html#%E6%95%B0%E7%BB%84%E5%88%9B%E5%BB%BA)\n"
   ]
  },
  {
   "cell_type": "code",
   "execution_count": 3,
   "metadata": {},
   "outputs": [
    {
     "name": "stdout",
     "output_type": "stream",
     "text": [
      "[1 2 3]\n",
      "<class 'numpy.ndarray'>\n",
      "int32\n"
     ]
    }
   ],
   "source": [
    "x = np.array([1,2,3])\n",
    "print(x)\n",
    "print(type(x))\n",
    "print(x.dtype)\n",
    "\n",
    "# 错误的写法\n",
    "#a = np.array(1,2,3,4) "
   ]
  },
  {
   "cell_type": "markdown",
   "metadata": {},
   "source": [
    "### Numpy数组算术运算\n",
    "数组与数组的基础运算,这里需要注意:\n",
    "- 元素个数是相同\n",
    "- 元素个数不同，程序就会报错\n",
    "- 对应元素的乘法:也就是第一元素与第一个元素的操作\n",
    "- 和单一的数值组合起来进行运算,需要在 NumPy 数组的各个元素和标量之间进行运算\n",
    "\n",
    "具体详见官网:[算术运算](https://www.numpy.org.cn/user/quickstart.html#%E5%9F%BA%E6%9C%AC%E6%93%8D%E4%BD%9C)\n"
   ]
  },
  {
   "cell_type": "code",
   "execution_count": 8,
   "metadata": {},
   "outputs": [
    {
     "name": "stdout",
     "output_type": "stream",
     "text": [
      "float64\n",
      "[ 6.  8. 10. 12.]\n",
      "[-4. -4. -4. -4.]\n",
      "[ 5. 12. 21. 32.]\n",
      "[0.2        0.33333333 0.42857143 0.5       ]\n",
      "[ 1.  4.  9. 16.]\n",
      "[0.5 1.  1.5 2. ]\n"
     ]
    }
   ],
   "source": [
    "# 创建指定类型的数的数组:flaot类型\n",
    "x = np.array([1,2,3,4],dtype=float)\n",
    "y = np.array([5,6,7,8],dtype=float)\n",
    "\n",
    "print(x.dtype)\n",
    "\n",
    "print(x+y)\n",
    "print(x-y)\n",
    "print(x*y)\n",
    "print(x/y)\n",
    "# 和单一的数值组合起来进行运算\n",
    "print(x**2)\n",
    "print(x/2)"
   ]
  },
  {
   "cell_type": "markdown",
   "metadata": {},
   "source": [
    "### Numpy的N维数组\n",
    "\n",
    "上面我们看到生成一维数组,这里我们来看看如何生成多维数组,\n",
    "- 例如 二维数组:矩阵\n",
    "- 三维数组,....\n",
    "可以通过一些numpy常见的函数来获得数组的信息:\n",
    "- shape:数组的形状,数组的维度\n",
    "- dtype:类型\n",
    "- ndim:数组的轴（维度）的个数\n",
    "- size:数组元素的总数\n",
    "- itemsize:数组中每个元素的字节大小\n",
    "- data:该缓冲区包含数组的实际元素"
   ]
  },
  {
   "cell_type": "code",
   "execution_count": 10,
   "metadata": {},
   "outputs": [
    {
     "name": "stdout",
     "output_type": "stream",
     "text": [
      "[[1 2 3]\n",
      " [4 5 6]]\n",
      "(2, 3)\n",
      "int32\n"
     ]
    }
   ],
   "source": [
    "x = np.array([[1,2,3],[4,5,6]])\n",
    "print(x)\n",
    "print(x.shape)\n",
    "print(x.dtype)"
   ]
  }
 ],
 "metadata": {
  "kernelspec": {
   "display_name": "Python 3",
   "language": "python",
   "name": "python3"
  },
  "language_info": {
   "codemirror_mode": {
    "name": "ipython",
    "version": 3
   },
   "file_extension": ".py",
   "mimetype": "text/x-python",
   "name": "python",
   "nbconvert_exporter": "python",
   "pygments_lexer": "ipython3",
   "version": "3.5.3"
  },
  "toc": {
   "base_numbering": 1,
   "nav_menu": {},
   "number_sections": true,
   "sideBar": true,
   "skip_h1_title": false,
   "title_cell": "Table of Contents",
   "title_sidebar": "Contents",
   "toc_cell": false,
   "toc_position": {},
   "toc_section_display": true,
   "toc_window_display": false
  }
 },
 "nbformat": 4,
 "nbformat_minor": 2
}
