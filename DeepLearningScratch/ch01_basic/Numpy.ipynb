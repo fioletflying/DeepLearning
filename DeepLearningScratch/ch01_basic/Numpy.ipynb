{
 "cells": [
  {
   "cell_type": "markdown",
   "metadata": {},
   "source": [
    "## Numpy\n",
    "\n",
    "Python一个非常著名的第三方库，用来处理数组和矩阵的操作。\n",
    "\n",
    "### 导入Numpy\n",
    "需要使用import来导入外部的库，这里的外部是指不是python自身内置的类型。 具体的语法如下："
   ]
  },
  {
   "cell_type": "code",
   "execution_count": 1,
   "metadata": {},
   "outputs": [],
   "source": [
    "# import: 导入库\n",
    "# as:将该库简写为np\n",
    "# 以后调用该库的一些方法以np.xxxx\n",
    "import numpy as np\n"
   ]
  },
  {
   "cell_type": "markdown",
   "metadata": {},
   "source": [
    "### 生成Numpy数组\n",
    "\n",
    "函数：`np.array()`  \n",
    "详细的知识见官网[生成Numpy数组](https://www.numpy.org.cn/user/quickstart.html#%E6%95%B0%E7%BB%84%E5%88%9B%E5%BB%BA)\n"
   ]
  },
  {
   "cell_type": "code",
   "execution_count": 3,
   "metadata": {},
   "outputs": [
    {
     "name": "stdout",
     "output_type": "stream",
     "text": [
      "[1 2 3]\n",
      "<class 'numpy.ndarray'>\n",
      "int32\n"
     ]
    }
   ],
   "source": [
    "x = np.array([1,2,3])\n",
    "print(x)\n",
    "print(type(x))\n",
    "print(x.dtype)\n",
    "\n",
    "# 错误的写法\n",
    "#a = np.array(1,2,3,4) "
   ]
  },
  {
   "cell_type": "markdown",
   "metadata": {},
   "source": [
    "### Numpy数组算术运算\n",
    "数组与数组的基础运算,这里需要注意:\n",
    "- 元素个数是相同\n",
    "- 元素个数不同，程序就会报错\n",
    "- 对应元素的乘法:也就是第一元素与第一个元素的操作\n",
    "- 和单一的数值组合起来进行运算,需要在 NumPy 数组的各个元素和标量之间进行运算\n",
    "\n",
    "具体详见官网:[算术运算](https://www.numpy.org.cn/user/quickstart.html#%E5%9F%BA%E6%9C%AC%E6%93%8D%E4%BD%9C)\n"
   ]
  },
  {
   "cell_type": "code",
   "execution_count": 8,
   "metadata": {},
   "outputs": [
    {
     "name": "stdout",
     "output_type": "stream",
     "text": [
      "float64\n",
      "[ 6.  8. 10. 12.]\n",
      "[-4. -4. -4. -4.]\n",
      "[ 5. 12. 21. 32.]\n",
      "[0.2        0.33333333 0.42857143 0.5       ]\n",
      "[ 1.  4.  9. 16.]\n",
      "[0.5 1.  1.5 2. ]\n"
     ]
    }
   ],
   "source": [
    "# 创建指定类型的数的数组:flaot类型\n",
    "x = np.array([1,2,3,4],dtype=float)\n",
    "y = np.array([5,6,7,8],dtype=float)\n",
    "\n",
    "print(x.dtype)\n",
    "\n",
    "print(x+y)\n",
    "print(x-y)\n",
    "print(x*y)\n",
    "print(x/y)\n",
    "# 和单一的数值组合起来进行运算\n",
    "print(x**2)\n",
    "print(x/2)"
   ]
  },
  {
   "cell_type": "markdown",
   "metadata": {},
   "source": [
    "### Numpy的N维数组\n",
    "\n",
    "上面我们看到生成一维数组,这里我们来看看如何生成多维数组,\n",
    "- 例如 二维数组:矩阵\n",
    "- 三维数组,....\n",
    "可以通过一些numpy常见的函数来获得数组的信息:\n",
    "- shape:数组的形状,数组的维度\n",
    "- dtype:类型\n",
    "- ndim:数组的轴（维度）的个数\n",
    "- size:数组元素的总数\n",
    "- itemsize:数组中每个元素的字节大小\n",
    "- data:该缓冲区包含数组的实际元素\n",
    "\n",
    "Numpy数组的维度定义：\n",
    "- 一维数组：向量\n",
    "- 二维数组：矩阵\n",
    "- 三维数组：张量tensor,多维数组\n"
   ]
  },
  {
   "cell_type": "code",
   "execution_count": 3,
   "metadata": {},
   "outputs": [
    {
     "name": "stdout",
     "output_type": "stream",
     "text": [
      "[[1 2 3]\n",
      " [4 5 6]]\n",
      "(2, 3)\n",
      "2\n",
      "int32\n",
      "[[10 20 30]\n",
      " [40 50 60]]\n"
     ]
    }
   ],
   "source": [
    "x = np.array([[1,2,3],[4,5,6]])\n",
    "print(x)\n",
    "# 获得向量的形状\n",
    "print(x.shape)\n",
    "# 获得向量维度：数组的轴（维度）的个数\n",
    "print(x.ndim)\n",
    "# 向量数据的类型\n",
    "print(x.dtype)\n",
    "# 标量（单一数值）对矩阵进行算术运算\n",
    "print(x*10)"
   ]
  },
  {
   "cell_type": "markdown",
   "metadata": {},
   "source": [
    "### 广播\n",
    "\n",
    "描述了 numpy 如何在算术运算期间处理具有不同形状的数组。  \n",
    "比如上面的一个例子，当一个矩阵 与一个标量进行算术运算时。  \n",
    "广播的具体过程如下：\n",
    "![广播的具体过程](imgs/1.jpg)\n",
    "\n",
    "如果是一维数组与矩阵的算术运算的流程：如下\n",
    "![广播的具体过程](imgs/2.jpg)\n",
    "\n",
    "这里我们总结几条可以广播的规则：\n",
    "- 数组维度不同，后缘维度的轴长相符\n",
    "- 数组维度相同，其中有个轴为1\n",
    "\n",
    "更多内容可以参考[广播](https://www.numpy.org.cn/user/basics/broadcasting.html#%E4%B8%80%E8%88%AC%E5%B9%BF%E6%92%AD%E8%A7%84%E5%88%99)\n",
    "\n",
    "```\n",
    "# 数组维度不同，后缘维度的轴长相符\n",
    "Image  (3d array): 256 x 256 x 3\n",
    "Scale  (1d array):             3\n",
    "Result (3d array): 256 x 256 x 3\n",
    "\n",
    "# 数组维度相同，其中有个轴为1\n",
    "A      (4d array):  8 x 1 x 6 x 1\n",
    "B      (3d array):      7 x 1 x 5\n",
    "Result (4d array):  8 x 7 x 6 x 5\n",
    "# 数组维度相同，其中有个轴为1\n",
    "A      (2d array):  5 x 4\n",
    "B      (1d array):      1\n",
    "Result (2d array):  5 x 4\n",
    "\n",
    "A      (2d array):  5 x 4\n",
    "B      (1d array):      4\n",
    "Result (2d array):  5 x 4\n",
    "\n",
    "A      (3d array):  15 x 3 x 5\n",
    "B      (3d array):  15 x 1 x 5\n",
    "Result (3d array):  15 x 3 x 5\n",
    "\n",
    "A      (3d array):  15 x 3 x 5\n",
    "B      (2d array):       3 x 5\n",
    "Result (3d array):  15 x 3 x 5\n",
    "\n",
    "A      (3d array):  15 x 3 x 5\n",
    "B      (2d array):       3 x 1\n",
    "Result (3d array):  15 x 3 x 5\n",
    "\n",
    "### 不可以的例子\n",
    "A      (1d array):  3\n",
    "B      (1d array):  4\n",
    "\n",
    "A      (2d array):      2 x 1\n",
    "B      (3d array):  8 x 4 x 3\n",
    "\n",
    "```\n"
   ]
  },
  {
   "cell_type": "code",
   "execution_count": 5,
   "metadata": {},
   "outputs": [
    {
     "name": "stdout",
     "output_type": "stream",
     "text": [
      "[[10 20]\n",
      " [30 40]]\n",
      "[[10 40]\n",
      " [30 80]]\n"
     ]
    }
   ],
   "source": [
    "# 矩阵与标量相乘\n",
    "x = np.array([[1,2],[3,4]])\n",
    "y = 10\n",
    "print(x*y)\n",
    "\n",
    "# 向量与矩阵相乘\n",
    "x = np.array([[1,2],[3,4]])\n",
    "y = np.array([10,20])\n",
    "print(x*y)\n"
   ]
  },
  {
   "cell_type": "markdown",
   "metadata": {},
   "source": [
    "### Numpy访问元素\n",
    "元素的索引从 0 开始，利用索引访问。\n",
    "\n",
    "更多内容可以参考[Numpy访问元素](https://www.numpy.org.cn/user/quickstart.html#%E7%B4%A2%E5%BC%95%E3%80%81%E5%88%87%E7%89%87%E5%92%8C%E8%BF%AD%E4%BB%A3)\n",
    "\n"
   ]
  },
  {
   "cell_type": "code",
   "execution_count": 9,
   "metadata": {},
   "outputs": [
    {
     "name": "stdout",
     "output_type": "stream",
     "text": [
      "[[51 55]\n",
      " [14 19]\n",
      " [ 0  4]]\n",
      "[51 55]\n",
      "55\n",
      "[51 55]\n",
      "[14 19]\n",
      "[0 4]\n",
      "[51 55 14 19  0  4]\n"
     ]
    }
   ],
   "source": [
    "x = np.array([[51, 55], [14, 19], [0, 4]])\n",
    "print(x)\n",
    "# 访问第0行\n",
    "print(x[0])\n",
    "# 访问第0行第1列\n",
    "print(x[0][1])\n",
    "# 利用迭代访问\n",
    "for row in x:\n",
    "    print(row)\n",
    "   \n",
    "# 拉伸为一维数组\n",
    "x = x.flatten()\n",
    "print(x)\n"
   ]
  },
  {
   "cell_type": "markdown",
   "metadata": {},
   "source": [
    "### 深度学习中常用的Numpy 函数\n",
    "\n",
    "#### np.concatenate\n",
    "\n",
    ">Join a sequence of arrays along an existing axis.\n",
    "Parameters:\t\n",
    "a1, a2, … : sequence of array_like\n",
    "The arrays must have the same shape, except in the dimension corresponding to axis (the first, by default).\n",
    "axis : int, optional\n",
    "The axis along which the arrays will be joined. If axis is None, arrays are flattened before use. Default is 0.\n",
    "out : ndarray, optional\n",
    "If provided, the destination to place the result. The shape must be correct, matching that of what concatenate would have returned if no out argument were specified.\n",
    "Returns:\t\n",
    "res : ndarray\n",
    "The concatenated array.\n",
    "\n",
    "用于数组拼接\n",
    "\n",
    "- 另外需要指定拼接的方向，默认是 axis = 0，也就是说对0轴的数组对象进行纵向的拼接（纵向的拼接沿着axis= 1方向）；\n",
    "_ 拼接的数据维度是一样的"
   ]
  },
  {
   "cell_type": "code",
   "execution_count": 10,
   "metadata": {},
   "outputs": [
    {
     "name": "stdout",
     "output_type": "stream",
     "text": [
      "[[1 2]\n",
      " [3 4]\n",
      " [5 6]]\n",
      "[[1 2 5]\n",
      " [3 4 6]]\n",
      "[1 2 3 4 5 6]\n",
      "1\n"
     ]
    }
   ],
   "source": [
    "import numpy as np\n",
    "\n",
    "a = np.array([[1,2],[3,4]])\n",
    "b = np.array([[5,6]])\n",
    "\n",
    "# axis =0 表示纵向添加\n",
    "c = np.concatenate((a,b),axis=0)\n",
    "print(c)\n",
    "# axis =0 表示横向添加\n",
    "c = np.concatenate((a,b.T),axis=1)\n",
    "print(c)\n",
    "\n",
    "# axis = None 直接拉伸为\n",
    "c = np.concatenate((a,b),axis=None)\n",
    "print(c)\n",
    "print(c.ndim)"
   ]
  }
 ],
 "metadata": {
  "kernelspec": {
   "display_name": "Python 3",
   "language": "python",
   "name": "python3"
  },
  "language_info": {
   "codemirror_mode": {
    "name": "ipython",
    "version": 3
   },
   "file_extension": ".py",
   "mimetype": "text/x-python",
   "name": "python",
   "nbconvert_exporter": "python",
   "pygments_lexer": "ipython3",
   "version": "3.5.3"
  },
  "toc": {
   "base_numbering": 1,
   "nav_menu": {},
   "number_sections": true,
   "sideBar": true,
   "skip_h1_title": false,
   "title_cell": "Table of Contents",
   "title_sidebar": "Contents",
   "toc_cell": false,
   "toc_position": {},
   "toc_section_display": true,
   "toc_window_display": false
  }
 },
 "nbformat": 4,
 "nbformat_minor": 2
}
