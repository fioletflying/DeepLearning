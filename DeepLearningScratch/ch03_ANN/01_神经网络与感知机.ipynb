{
 "cells": [
  {
   "cell_type": "markdown",
   "metadata": {},
   "source": [
    "## 神经网络与感知机\n",
    "\n",
    "在介绍神经网络之前，我们这里需要注意介绍一下，这里所说的感知机就是简单的单层感知机模型，里面的输出值y的激活，就是通过简单的阶跃函数来激活。\n",
    "- 关于阶跃的意思，如果大于某个值则为1，小于某个值则为0\n",
    "\n",
    "### 神经网络的典型实例\n",
    "\n",
    "如下图所示，这是一个典型的2层网络（有的书中说3层，是包括了输入层）：\n",
    "- 0层：输入层\n",
    "- 1层：隐藏层\n",
    "- 2层：输出层\n",
    "\n",
    "![神经网络模型](imgs/1.jpg)\n",
    "\n",
    "该网络看起来跟感知机模型差不多，所以这里我要理解里面的信号传递，就要来看看上几节中，关于感知机的信号是如何传递的。\n",
    "\n",
    "### 感知机信号传递\n",
    "\n",
    "感知机是通过接收输入信号x1和x2，然后与权重w1和w2结合，然后加上偏置值b，然后再与$\\theta$比较而获得y的输出值。\n",
    "如下图：\n",
    "![感知机](imgs/2.jpg)\n",
    "\n",
    "这些参数我们再来看一遍:\n",
    "- x:输入信号\n",
    "- w: 各个信号的权重,表示各个信号的重要程度\n",
    "- b: 偏置值,表示神经元被激活的容易程度\n",
    "![数学表示](imgs/3.jpg)\n",
    "\n",
    "我们可以再详细的表示一上面的公式,因为我们知道,y的输出是需要经过一个判断,我们可以将这个判断也进行数学化表示.  \n",
    "$y=h(b+w1x1+w2x2)$  \n",
    "从上面的公式中,我们看看了$h(x)$这个公式,其实就我们想说的激活函数.具体表示如下:\n",
    "![](imgs/5.jpg)\n",
    "\n",
    "输出值的y就是依赖这个函数.\n",
    "\n",
    "### 激活函数\n",
    "\n",
    "其实这个函数作用就是如何来激活输入信号的总和。\n",
    "下面我们将激活函数和总和函数的表达式再总结一遍：\n",
    "\n",
    "- 计算输入信号加权和偏置值的总和：\n",
    "$a=w1x1+w2x2+b$ \n",
    "- 用h()函数来将a转换为输出y\n",
    "$y=h(a)$   \n",
    "\n",
    "所以上面的过程我们用一张图来表示如下:\n",
    "![激活函数的过程](imgs/6.jpg)\n",
    "\n",
    "我们知道了激活函数的主要流程,他的作用也是非常重要,就是表示该神经元的信号能否通过.那么这个$h()$到底可以用什么来表示呢?\n",
    "- 上面我们提到单层感知机可以使用阶跃函数\n",
    "- 我们这里神经网络可以使用sigmoid函数\n",
    "下一小节我们来看看常见的激活函数."
   ]
  }
 ],
 "metadata": {
  "kernelspec": {
   "display_name": "Python 3",
   "language": "python",
   "name": "python3"
  },
  "language_info": {
   "codemirror_mode": {
    "name": "ipython",
    "version": 3
   },
   "file_extension": ".py",
   "mimetype": "text/x-python",
   "name": "python",
   "nbconvert_exporter": "python",
   "pygments_lexer": "ipython3",
   "version": "3.5.3"
  },
  "toc": {
   "base_numbering": 1,
   "nav_menu": {},
   "number_sections": true,
   "sideBar": true,
   "skip_h1_title": false,
   "title_cell": "Table of Contents",
   "title_sidebar": "Contents",
   "toc_cell": false,
   "toc_position": {},
   "toc_section_display": true,
   "toc_window_display": false
  }
 },
 "nbformat": 4,
 "nbformat_minor": 2
}
