{
 "cells": [
  {
   "cell_type": "markdown",
   "metadata": {},
   "source": [
    "## 3 层神经网络的实现\n",
    "\n",
    "通过前面几节的基础知识的介绍，我们对神经网络的组成有了一定的认识，我们这里就将演示一个完整的3层神经网络的实际演化的过程层。同时我们也将使用上一小节中，Numpy对于矩阵操作的技巧。\n",
    "\n",
    "先看看本节需要实现的神经网络的样子：\n",
    "![3层神经网络](imgs/10.jpg)\n",
    "\n",
    "### 表示符号的约定\n",
    "\n",
    "由于神经网络中符号既要表示出符号处在哪一层，又要表示在该层中的位置，所以这里我们的符号，稍微有点复杂，但是也不是很难。\n",
    "\n",
    "- 输出层的符号：$x1,x2$ 里面的[1,2,3...]表示输入的数组的序列号。\n",
    "- 权重$W_{12}^{(1)}$ \n",
    "    - (1): 表示第1层的权重，第几层的权重\n",
    "    - 12： 该权重连接的后一层和前一层的第几个神经元\n",
    "        - 1：表示后一层的第1一个神经元\n",
    "        - 2：表示前一层的第2一个神经元\n",
    "        \n",
    "![](imgs/11.jpg)\n",
    "\n",
    "- 隐藏层$a_1^{(1)}$\n",
    "    - 下标表示：在该层中的序列位置\n",
    "    - 上标表示：在第几层的位置\n",
    "    \n",
    "    \n",
    "### 信号的传递的过程\n",
    "\n",
    "我们来看一下从输入层到第一层的某一神经元的信号传递过程。\n",
    "\n",
    "![信号传递](imgs/12.jpg)\n",
    "\n",
    "上图显示信号传递的过程，里面在输入层添加了一个1，用来进行偏置的数据输入。这里主要是为了方便将整个过程讲清楚而添加的，实际操作中，我们会直接加上b。\n",
    "\n",
    "其实所谓的信号传递，就是通过我们以前介绍的公式来实现，没有那么复杂。比如我们要计算，传递给该神经元的信号量为多少,具体公式如下：  \n",
    "$a_1^{(1)} = w_11^{(1)}x_1 + w_12^{(1)}x_2 + b_1^{(1)}  $\n",
    "\n",
    "上面第一层具体一个神经元的计算公式，我们如果使用矩阵的形式，就可以将整个的该层计算出来。  \n",
    "$A^{(1)}=XW^{(1)}+B^{(1)}$\n",
    "\n",
    "\n",
    "        \n",
    "        \n",
    "    \n"
   ]
  }
 ],
 "metadata": {
  "kernelspec": {
   "display_name": "Python 3",
   "language": "python",
   "name": "python3"
  },
  "language_info": {
   "codemirror_mode": {
    "name": "ipython",
    "version": 3
   },
   "file_extension": ".py",
   "mimetype": "text/x-python",
   "name": "python",
   "nbconvert_exporter": "python",
   "pygments_lexer": "ipython3",
   "version": "3.5.3"
  },
  "toc": {
   "base_numbering": 1,
   "nav_menu": {},
   "number_sections": true,
   "sideBar": true,
   "skip_h1_title": false,
   "title_cell": "Table of Contents",
   "title_sidebar": "Contents",
   "toc_cell": false,
   "toc_position": {},
   "toc_section_display": true,
   "toc_window_display": false
  }
 },
 "nbformat": 4,
 "nbformat_minor": 2
}
