{
 "cells": [
  {
   "cell_type": "markdown",
   "metadata": {},
   "source": [
    "## 手写数字识别案例\n",
    "\n",
    "### 数据创建\n",
    "\n",
    "MNIST基本上相当于机器学习的“Hello world”，每个进入该领域的人都需要好好学习该数据集的训练和测试。  \n",
    "\n",
    "这是以个手写数字图像的数据集，是由0-9个10个数字构成的图像。里面训练图像有6万状，测试图像有1万张。我们就需要将让机器自己来对这10个数字进行分类：给一个图像，机器来告诉我们这个数字是几。\n",
    "\n",
    "具体数据的导入如下：\n"
   ]
  },
  {
   "cell_type": "code",
   "execution_count": 5,
   "metadata": {},
   "outputs": [
    {
     "name": "stdout",
     "output_type": "stream",
     "text": [
      "..\n",
      "(60000, 784)\n",
      "(60000,)\n",
      "(10000, 784)\n",
      "(10000,)\n"
     ]
    }
   ],
   "source": [
    "import sys,os\n",
    "# 将文件系统的搜索路径扩大到到当前文件的上一层\n",
    "# 比如当前文件夹是：ch03,\n",
    "# 加入了os.pardir,意味着将目录树向上遍历一级（例如，“ ..”）\n",
    "sys.path.append(os.pardir)\n",
    "from dataset.mnist import load_mnist\n",
    "# 导入数据\n",
    "# 第 1 个参数 normalize 设置是否将输入图像正规化为 0.0～1.0 的值\n",
    "# 第 2 个参数 flatten 设置是否展开输入图像（变成一维数组）。\n",
    "# 第 3 个参数one_hot_label 设置是否将标签保存为 one-hot 表示\n",
    "(x_train,y_train),(x_test,y_test) = load_mnist(flatten=True,\n",
    "                                              normalize=False)\n",
    "# 28*28的像素点：784\n",
    "# 60000个训练数据\n",
    "print(x_train.shape)\n",
    "print(y_train.shape)\n",
    "# 10000个测试数据\n",
    "print(x_test.shape)\n",
    "print(y_test.shape)"
   ]
  },
  {
   "cell_type": "markdown",
   "metadata": {},
   "source": [
    "上面我们加载进来MNIST数据集，我们也查看该数据集的一些基本的东西，现在来看看具体加载图像显示。\n",
    "![](imgs/18.jpg)\n",
    "\n"
   ]
  },
  {
   "cell_type": "code",
   "execution_count": 3,
   "metadata": {},
   "outputs": [
    {
     "name": "stdout",
     "output_type": "stream",
     "text": [
      "3\n",
      "(784,)\n",
      "(28, 28)\n"
     ]
    }
   ],
   "source": [
    "import sys,os\n",
    "sys.path.append(os.pardir)\n",
    "import numpy as np\n",
    "from dataset.mnist import load_mnist\n",
    "# 图像的显示使用PIL（Python Image Library）模块\n",
    "from PIL import Image\n",
    "\n",
    "def img_show(img):\n",
    "    #  NumPy 数组的图像数据转换为 PIL 用的数据对象\n",
    "    pil_img = Image.fromarray(np.uint8(img))\n",
    "    pil_img.show()\n",
    "    \n",
    "(x_train, y_train), (x_test, y_test) = load_mnist(flatten=True,\n",
    "normalize=False)\n",
    "img = x_train[10]\n",
    "label = y_train[10]\n",
    "print(label)\n",
    "\n",
    "print(img.shape)\n",
    "# reshape() 方法的参数指定期望的形状，\n",
    "img = img.reshape(28,28)\n",
    "print(img.shape)\n",
    "\n",
    "img_show(img)"
   ]
  },
  {
   "cell_type": "markdown",
   "metadata": {},
   "source": [
    "### 利用神经网络进行推理\n",
    "\n",
    "这里我们利用上面小节介绍的内容来实践这个手写数字识别案例。首先从输入层开始，我们这里设计两个2个隐藏层\n",
    "- 输入层：784个输入，因为每个像素都可以作为一个输入\n",
    "- 第一个隐藏层： 50个神经元\n",
    "- 第二个隐藏层： 100个神经元\n",
    "- 输出层：10个输出，因为我们就需要对0-9个数字进行分类\n",
    "\n",
    "这里作者给出了一组参数的数据，该数据保存在pkl文件中。coding如下\n"
   ]
  },
  {
   "cell_type": "code",
   "execution_count": 2,
   "metadata": {},
   "outputs": [],
   "source": [
    "def sigmoid(x):\n",
    "    return 1.0/(np.exp(-x)+1)\n",
    "\n",
    "def softmax(a):\n",
    "    c= np.max(a)\n",
    "    b = a - c # 防止溢出\n",
    "    exp_a = np.exp(b)\n",
    "    sum_exp_a = np.sum(exp_a)\n",
    "    y = exp_a/sum_exp_a\n",
    "    return y"
   ]
  },
  {
   "cell_type": "code",
   "execution_count": 5,
   "metadata": {},
   "outputs": [],
   "source": [
    "import sys,os\n",
    "sys.path.append(os.pardir)\n",
    "from dataset.mnist import load_mnist\n",
    "import numpy as np\n",
    "import pickle\n",
    "# 获得需要测试的数据\n",
    "def get_data():\n",
    "    (x_train, y_train), (x_test, y_test) = load_mnist(flatten=True,\n",
    "normalize=True, one_hot_label=False)\n",
    "    return x_test,y_test\n",
    "\n",
    "# 获得网络的参数\n",
    "def init_network():\n",
    "    with open(\"sample_weight.pkl\",\"rb\") as f:\n",
    "        network = pickle.load(f)\n",
    "        \n",
    "    return network\n",
    "\n",
    "# 预测输出的函数\n",
    "def predict(network,x):\n",
    "    W1,W2,W3 = network['W1'],network['W2'],network['W3']\n",
    "    b1,b2,b3 = network['b1'],network['b2'],network['b3']\n",
    "    \n",
    "    #第一层推导\n",
    "    A1 = np.dot(x,W1)+b1\n",
    "    Z1 = sigmoid(A1)\n",
    "    #第二层推导\n",
    "    A2 = np.dot(Z1,W2)+b2\n",
    "    Z2 = sigmoid(A2)\n",
    "    #输出层\n",
    "    A3 = np.dot(Z2, W3) + b3\n",
    "    y =softmax(A3)\n",
    "    \n",
    "    return y\n",
    "  \n",
    "    "
   ]
  },
  {
   "cell_type": "markdown",
   "metadata": {},
   "source": [
    "上面有两个地方需要注意的：\n",
    "- normalize=True：这里就是将输入的图片0-255 转换到0-1，这里就是利用了归一化的概念。\n",
    "- pickle 可以导入相关参数，这是一个经常使用的，就是对数据进行序列化\n",
    "\n",
    "下面我们需要利用上面的函数来做最后的精度检测，coding如下："
   ]
  },
  {
   "cell_type": "code",
   "execution_count": 23,
   "metadata": {},
   "outputs": [
    {
     "name": "stdout",
     "output_type": "stream",
     "text": [
      "10000\n",
      "精度为： 0.9352\n"
     ]
    }
   ],
   "source": [
    "x_test,y_test = get_data()\n",
    "network = init_network()\n",
    "acc = 0.\n",
    "\n",
    "print(len(x_test))\n",
    "\n",
    "for i in range(len(x_test)):\n",
    "    y = predict(network,x_test[i])\n",
    "    num = np.argmax(y)\n",
    "    if num==y_test[i]:\n",
    "        acc+=1\n",
    "        \n",
    "print(\"精度为：\",float(acc)/len(x_test))\n",
    "    "
   ]
  },
  {
   "cell_type": "markdown",
   "metadata": {},
   "source": [
    "### 批处理\n",
    "\n",
    "现在我们来会看一下，上面处理测试集的精度的时候，通过一个for循环，一个一个将测试数据放入预测函数中实现预测的。我们这里就看看能否将一组测试数据放入到预测函数中来实现预测。我们来看看我们网络现在各层的shape.\n",
    "\n",
    "最后的各个数据形态变换如下：\n",
    "\n",
    "![](imgs/19.jpg)\n",
    "\n",
    "从图中的结构来看，如果由输入的是一张图片，就会输出的就是一个具有10个元素的一维数组。\n",
    "这里我们扩展一下我们的思路，如果我们输入的是100张图片，这样的网络能不能正常的输出呢？继续看下图：\n",
    "![](imgs/20.jpg)\n",
    "\n",
    "其实该网络还是可以正常的运行的，只不过最后输出的结果会变换成一个[100,10]的输出。也就是y会将100张输入的图片结果都保存起来。\n",
    "\n",
    "上面的过程就是数据的批处理，批处理的好处：\n",
    "- 可以大幅缩短每张图像的处理时间\n",
    "    - 数组运算\n",
    "    - 减少读入数据的时间\n",
    "\n"
   ]
  },
  {
   "cell_type": "code",
   "execution_count": 9,
   "metadata": {},
   "outputs": [
    {
     "name": "stdout",
     "output_type": "stream",
     "text": [
      "(10000, 784)\n",
      "(784,)\n",
      "(784, 50)\n",
      "(50, 100)\n",
      "(100, 10)\n"
     ]
    }
   ],
   "source": [
    "x,_ = get_data()\n",
    "network = init_network()\n",
    "W1,W2,W3 = network['W1'],network['W2'],network['W3']\n",
    "\n",
    "print(x.shape)\n",
    "print(x[0].shape)\n",
    "print(W1.shape)\n",
    "print(W2.shape)\n",
    "print(W3.shape)"
   ]
  },
  {
   "cell_type": "code",
   "execution_count": 12,
   "metadata": {},
   "outputs": [
    {
     "name": "stdout",
     "output_type": "stream",
     "text": [
      "精度为： 0.9352\n"
     ]
    }
   ],
   "source": [
    "# 批处理\n",
    "x,y = get_data()\n",
    "network = init_network()\n",
    "# 设置批处理的数量\n",
    "batch_size = 100\n",
    "acc = 0.\n",
    "# 使用range，获得批处理的数量\n",
    "for i in range(0,len(x),batch_size):\n",
    "    # 获得当前处理的数据\n",
    "    x_batch = x[i:i+batch_size]\n",
    "    y_batch = predict(network,x_batch)\n",
    "    # 获得当前批次预测的结果数据\n",
    "    num = np.argmax(y_batch,axis =1)\n",
    "    # 判断预测值与真实值的是否相等并累加\n",
    "    acc += np.sum(num == y[i:i+batch_size])\n",
    "\n",
    "print(\"精度为：\",float(acc)/len(x_test))        "
   ]
  },
  {
   "cell_type": "markdown",
   "metadata": {},
   "source": [
    "上面函数使用的几个函数说明  \n",
    "**range**\n",
    " range() 函数可创建一个整数列表，一般用在 for 循环中。\n",
    "语法如下：range(start, stop[, step])  \n",
    "\n",
    ">start: 计数从 start 开始。默认是从 0 开始。例如range（5）等价于range（0， 5）;\n",
    "stop: 计数到 stop 结束，但不包括 stop。例如：range（0， 5） 是[0, 1, 2, 3, 4]没有5\n",
    "step：步长，默认为1。例如：range（0， 5） 等价于 range(0, 5, 1)"
   ]
  },
  {
   "cell_type": "code",
   "execution_count": 7,
   "metadata": {},
   "outputs": [
    {
     "name": "stdout",
     "output_type": "stream",
     "text": [
      "[0, 1, 2, 3, 4, 5, 6, 7, 8, 9]\n",
      "[5, 6, 7, 8, 9]\n",
      "[1, 3, 5, 7, 9]\n"
     ]
    }
   ],
   "source": [
    "a = range(10)\n",
    "print(list(a))\n",
    "print(list(range(5,10)))\n",
    "print(list(range(1,10,2)))"
   ]
  },
  {
   "cell_type": "markdown",
   "metadata": {},
   "source": [
    "**np.argmax**\n",
    "argmax返回的是最大数的索引.argmax有一个参数axis,默认是0,表示第几维的最大值\n",
    "\n",
    ">a : array_like 数组\n",
    "axis : int, 可选默认情况下，索引的是平铺的数组，否则沿指定的轴。\n",
    "out : array, 可选如果提供，结果以合适的形状和类型被插入到此数组中。\n",
    "Returns: index_array : ndarray of ints索引数组。\n",
    "它具有与a.shape相同的形状，其中axis被移除。\n",
    "\n"
   ]
  },
  {
   "cell_type": "code",
   "execution_count": 12,
   "metadata": {},
   "outputs": [
    {
     "name": "stdout",
     "output_type": "stream",
     "text": [
      "5\n",
      "[1 1 1]\n",
      "[2 2]\n"
     ]
    }
   ],
   "source": [
    "import numpy as np\n",
    "a = np.array([[0, 1, 2],\n",
    "       [3, 4, 5]])\n",
    "\n",
    "print(np.argmax(a))\n",
    "print(np.argmax(a, axis=0))#0代表列\n",
    "print(np.argmax(a, axis=1))#1代表行"
   ]
  },
  {
   "cell_type": "markdown",
   "metadata": {},
   "source": [
    "**numpy 数组比较运算符**\n",
    "\n",
    "==：比较数组之间的元素是否相等,返回True/False"
   ]
  },
  {
   "cell_type": "code",
   "execution_count": 14,
   "metadata": {},
   "outputs": [
    {
     "name": "stdout",
     "output_type": "stream",
     "text": [
      "[ True False False  True]\n",
      "2\n"
     ]
    }
   ],
   "source": [
    "p = np.array([1,2,3,4])\n",
    "y = np.array([1,3,2,4])\n",
    "print(p==y)\n",
    "print(np.sum(p==y))"
   ]
  }
 ],
 "metadata": {
  "kernelspec": {
   "display_name": "Python 3",
   "language": "python",
   "name": "python3"
  },
  "language_info": {
   "codemirror_mode": {
    "name": "ipython",
    "version": 3
   },
   "file_extension": ".py",
   "mimetype": "text/x-python",
   "name": "python",
   "nbconvert_exporter": "python",
   "pygments_lexer": "ipython3",
   "version": "3.6.8"
  },
  "toc": {
   "base_numbering": 1,
   "nav_menu": {},
   "number_sections": true,
   "sideBar": true,
   "skip_h1_title": false,
   "title_cell": "Table of Contents",
   "title_sidebar": "Contents",
   "toc_cell": false,
   "toc_position": {},
   "toc_section_display": true,
   "toc_window_display": false
  }
 },
 "nbformat": 4,
 "nbformat_minor": 2
}
