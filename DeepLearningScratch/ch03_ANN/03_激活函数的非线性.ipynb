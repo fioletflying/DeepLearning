{
 "cells": [
  {
   "cell_type": "markdown",
   "metadata": {},
   "source": [
    "## 激活函数的非线性\n",
    "\n",
    "### 非线性函数\n",
    "\n",
    "上一小节中我们看到的两个激活函数：\n",
    "- sigmoid 是一个曲线\n",
    "- 阶跃函数是一条折线。\n",
    "都是非线性的函数。\n",
    "\n",
    "可以看出激活函数都是非线性的。\n",
    "为什么要选择这样的函数呢？\n",
    "\n",
    "如果使用线性函数的话，对于所谓的神经网络层就没有意义了。\n",
    "那么为什么就没有意义了呢？\n",
    "我们直观来理解一下，线性函数其实就是一条直线函数，用式子表示如下：\n",
    "h(x) = cx\n",
    "y(x) = h(h(h(x))) 这就对应了3层神经网络的表达式，那么这样的3层网络的表示为：\n",
    "$y(x) = c*(c*(c*x))= c^3 x$\n",
    "这就是一个线性函数，我们的深度层的意义就没有了，直接一个函数不就可以表示了，费那么多劲干嘛呢？所以这样的线性函数能做的事情很有限。\n",
    "所以这里总结，要想发挥多层网络的表征更多信息，激活函数必须是非线性的。\n",
    "\n",
    "### ReLU函数\n",
    "\n",
    "ReLU函数是近些深度学习最常用的一个激活函数。  \n",
    "ReLU(Rectified Linear Unit) 他是输入大于0时，就输出原始值，小于0时，就输出0.\n",
    "其coding如下\n",
    "np.maximun:从输入选择较大的数值输出。\n",
    "\n"
   ]
  },
  {
   "cell_type": "code",
   "execution_count": 1,
   "metadata": {},
   "outputs": [],
   "source": [
    "import numpy as np\n",
    "def relu(x):\n",
    "    return np.maximum(0,x)"
   ]
  },
  {
   "cell_type": "code",
   "execution_count": 11,
   "metadata": {},
   "outputs": [
    {
     "data": {
      "image/png": "[encoded data removed]",
      "text/plain": [
       "<Figure size 432x288 with 1 Axes>"
      ]
     },
     "metadata": {
      "needs_background": "light"
     },
     "output_type": "display_data"
    }
   ],
   "source": [
    "import numpy as np\n",
    "import matplotlib.pylab as plt\n",
    "\n",
    "x=np.arange(-5.0,5.0,0.1)\n",
    "y = relu(x)\n",
    "plt.ylim(-0.5,5.5)\n",
    "plt.plot(x,y)\n",
    "plt.show()"
   ]
  },
  {
   "cell_type": "markdown",
   "metadata": {},
   "source": [
    "所以relu函数的表达式如下：\n",
    "![relu](imgs/7.jpg)\n",
    "\n",
    "关于Numpy maximum函数的使用：\n",
    "- 从输入的数值中选择较大的那个值进行输出\n",
    "- `np.maximum(0,[1,2,-1])`\n",
    "    - 输出就是[1,2,0]\n",
    "    \n",
    "relu激活函数是一个在以后的神经网络最常用的函数。所以我们需要了解其基本的特点。"
   ]
  }
 ],
 "metadata": {
  "kernelspec": {
   "display_name": "Python 3",
   "language": "python",
   "name": "python3"
  },
  "language_info": {
   "codemirror_mode": {
    "name": "ipython",
    "version": 3
   },
   "file_extension": ".py",
   "mimetype": "text/x-python",
   "name": "python",
   "nbconvert_exporter": "python",
   "pygments_lexer": "ipython3",
   "version": "3.5.3"
  },
  "toc": {
   "base_numbering": 1,
   "nav_menu": {},
   "number_sections": true,
   "sideBar": true,
   "skip_h1_title": false,
   "title_cell": "Table of Contents",
   "title_sidebar": "Contents",
   "toc_cell": false,
   "toc_position": {},
   "toc_section_display": true,
   "toc_window_display": false
  }
 },
 "nbformat": 4,
 "nbformat_minor": 2
}
