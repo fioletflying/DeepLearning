{
 "cells": [
  {
   "cell_type": "markdown",
   "metadata": {},
   "source": [
    "## 激活函数\n",
    "\n",
    "上面小节中我们提到激活函数可以使用不同的表示.比如可以使用阶跃函数来作为感知机模型激活函数.在神经网络中我们可以选用sigmoid函数.到底有哪些激活函数呢?这些激活函数到底是长什么样子呢?\n",
    "\n",
    "### sigmoid 函数\n",
    "\n",
    "sigmoid 激活函数是一个比较常见的函数,其数学表达式如下:\n",
    "$h(x)=\\frac {1} {1+exp(-x)}$\n",
    "\n",
    "式子中的x:就我们接收输入信号x1和x2，然后与权重w1和w2结合，然后加上偏置值b.\n",
    "下面我们就来看看如何实现这个函数,先从简单的阶跃函数入手.\n",
    "\n",
    "### 阶跃函数的实现\n",
    "\n",
    "这里我们一步一步来从简单单个数据点到输入数组的函数演变。\n",
    "\n",
    "#### 单个数据点的阶跃函数\n",
    "\n",
    "输入一个浮点数据，返回0和1.\n"
   ]
  },
  {
   "cell_type": "code",
   "execution_count": null,
   "metadata": {},
   "outputs": [],
   "source": [
    "# 单个数据点的阶跃函数\n",
    "def step_function_single(x):\n",
    "    if x>0:\n",
    "        return 1\n",
    "    else:\n",
    "        return 0"
   ]
  },
  {
   "cell_type": "markdown",
   "metadata": {},
   "source": [
    "#### 多个数据点输入的阶跃函数\n",
    "\n",
    "这里我们主要是输入为一个Numpy数组。\n",
    "下面的函数利用很多numpy库中的函数和技巧。\n",
    "- 数组中的不等号运算符\n",
    "    - 就利用各个元素与对象比较\n",
    "    - 返回值为bool类型：False,True\n",
    "- 数据类型转换:astype\n",
    "    - bool 类型转换为int\n",
    "    - Ture : 1\n",
    "    - False: 0\n",
    "    "
   ]
  },
  {
   "cell_type": "code",
   "execution_count": 4,
   "metadata": {},
   "outputs": [
    {
     "name": "stdout",
     "output_type": "stream",
     "text": [
      "[False False False  True]\n",
      "[0 0 0 1]\n"
     ]
    }
   ],
   "source": [
    "# 数组中的不等号运算符\n",
    "a = np.array([1,2,3,4])\n",
    "b = a>3\n",
    "print(b)\n",
    "# 数据类型转换:astype\n",
    "print(b.astype(np.int))"
   ]
  },
  {
   "cell_type": "code",
   "execution_count": 4,
   "metadata": {},
   "outputs": [],
   "source": [
    "import numpy as np\n",
    "def step_function(x):\n",
    "    # 单个元素的比较返回True和False\n",
    "    y=x>0\n",
    "    # 数据类型转换:astype转换为0，1\n",
    "    return y.astype(np.int)"
   ]
  },
  {
   "cell_type": "markdown",
   "metadata": {},
   "source": [
    "#### 阶跃函数的图形表示\n",
    "利用matplotlib库来实现。"
   ]
  },
  {
   "cell_type": "code",
   "execution_count": 5,
   "metadata": {},
   "outputs": [
    {
     "data": {
      "image/png": "[encoded data removed]",
      "text/plain": [
       "<Figure size 432x288 with 1 Axes>"
      ]
     },
     "metadata": {
      "needs_background": "light"
     },
     "output_type": "display_data"
    }
   ],
   "source": [
    "import numpy as np\n",
    "import matplotlib.pylab as plt\n",
    "\n",
    "# 生成一个范围-5.0 到 5.0 的数据\n",
    "# 且间隔点是0.1\n",
    "x = np.arange(-5.0,5.0,0.1)\n",
    "y = step_function(x)\n",
    "plt.plot(x,y)\n",
    "# 指定y轴的显示范围\n",
    "plt.ylim(-0.1,1.1)\n",
    "plt.show()"
   ]
  },
  {
   "cell_type": "markdown",
   "metadata": {},
   "source": [
    "### sigmoid函数的实现\n",
    "\n",
    "根据上面的公式和阶跃函数的写法，这个函数也非常简单。\n",
    "这里我需要调用numpy提供的一个函数\n",
    "- exp(x)\n",
    "- 为什么sigmoid函数自动支持Numpy数组呢？\n",
    "    - 广播的使用\n"
   ]
  },
  {
   "cell_type": "code",
   "execution_count": 6,
   "metadata": {},
   "outputs": [],
   "source": [
    "import numpy as np\n",
    "def sigmoid(x):\n",
    "    return 1/ (1 + np.exp(-x))"
   ]
  },
  {
   "cell_type": "code",
   "execution_count": 7,
   "metadata": {},
   "outputs": [
    {
     "name": "stdout",
     "output_type": "stream",
     "text": [
      "[0.26894142 0.5        0.73105858 0.88079708]\n"
     ]
    }
   ],
   "source": [
    "x = np.array([-1,0,1,2])\n",
    "print(sigmoid(x))"
   ]
  },
  {
   "cell_type": "code",
   "execution_count": 10,
   "metadata": {},
   "outputs": [
    {
     "data": {
      "image/png": "[encoded data removed]",
      "text/plain": [
       "<Figure size 432x288 with 1 Axes>"
      ]
     },
     "metadata": {
      "needs_background": "light"
     },
     "output_type": "display_data"
    }
   ],
   "source": [
    "#绘制sigmoid函数\n",
    "x = np.arange(-5.0,5.0,0.1)\n",
    "y = sigmoid(x)\n",
    "plt.plot(x,y)\n",
    "plt.ylim(-0.1,1.1)\n",
    "plt.xlim(-6.0,6.0)\n",
    "plt.show()"
   ]
  },
  {
   "cell_type": "markdown",
   "metadata": {},
   "source": [
    "### sigmoid 与阶跃函数的对比\n",
    "\n",
    "**相同点**\n",
    "- 总体的形状趋势是一致的：当x值很大或者很小时，多会接近一个值0或1\n",
    "- 输出值的范围在[0,1]\n",
    "- 都是非线性的\n",
    "\n",
    "**不同点**\n",
    "- sigmoid变化时平滑的，阶跃函数时跳跃的\n",
    "- sigmoid返回值是有无穷多的实数，阶跃只有两个\n",
    "\n",
    "所以对于神经网络来说，对于平滑且连续的实数是非常重要的性质。\n"
   ]
  },
  {
   "cell_type": "code",
   "execution_count": 11,
   "metadata": {},
   "outputs": [
    {
     "data": {
      "image/png": "[encoded data removed]",
      "text/plain": [
       "<Figure size 432x288 with 1 Axes>"
      ]
     },
     "metadata": {
      "needs_background": "light"
     },
     "output_type": "display_data"
    }
   ],
   "source": [
    "#同时绘制sigmoid与阶跃函数\n",
    "x = np.arange(-5.0,5.0,0.1)\n",
    "y1 = sigmoid(x)\n",
    "y2 = step_function(x)\n",
    "plt.plot(x,y1)\n",
    "plt.plot(x,y2)\n",
    "plt.ylim(-0.1,1.1)\n",
    "plt.xlim(-6.0,6.0)\n",
    "plt.show()"
   ]
  }
 ],
 "metadata": {
  "kernelspec": {
   "display_name": "Python 3",
   "language": "python",
   "name": "python3"
  },
  "language_info": {
   "codemirror_mode": {
    "name": "ipython",
    "version": 3
   },
   "file_extension": ".py",
   "mimetype": "text/x-python",
   "name": "python",
   "nbconvert_exporter": "python",
   "pygments_lexer": "ipython3",
   "version": "3.5.3"
  },
  "toc": {
   "base_numbering": 1,
   "nav_menu": {},
   "number_sections": true,
   "sideBar": true,
   "skip_h1_title": false,
   "title_cell": "Table of Contents",
   "title_sidebar": "Contents",
   "toc_cell": false,
   "toc_position": {},
   "toc_section_display": true,
   "toc_window_display": false
  }
 },
 "nbformat": 4,
 "nbformat_minor": 2
}
