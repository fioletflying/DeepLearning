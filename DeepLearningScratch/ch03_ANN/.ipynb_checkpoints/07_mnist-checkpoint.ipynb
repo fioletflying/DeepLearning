{
 "cells": [
  {
   "cell_type": "markdown",
   "metadata": {},
   "source": [
    "## 手写数字识别案例\n",
    "\n",
    "### 数据创建\n",
    "\n",
    "MNIST基本上相当于机器学习的“Hello world”，每个进入该领域的人都需要好好学习该数据集的训练和测试。  \n",
    "\n",
    "这是以个手写数字图像的数据集，是由0-9个10个数字构成的图像。里面训练图像有6万状，测试图像有1万张。我们就需要将让机器自己来对这10个数字进行分类：给一个图像，机器来告诉我们这个数字是几。\n",
    "\n",
    "具体数据的导入如下：\n"
   ]
  },
  {
   "cell_type": "code",
   "execution_count": 5,
   "metadata": {},
   "outputs": [
    {
     "name": "stdout",
     "output_type": "stream",
     "text": [
      "..\n",
      "(60000, 784)\n",
      "(60000,)\n",
      "(10000, 784)\n",
      "(10000,)\n"
     ]
    }
   ],
   "source": [
    "import sys,os\n",
    "# 将文件系统的搜索路径扩大到到当前文件的上一层\n",
    "# 比如当前文件夹是：ch03,\n",
    "# 加入了os.pardir,意味着将目录树向上遍历一级（例如，“ ..”）\n",
    "sys.path.append(os.pardir)\n",
    "from dataset.mnist import load_mnist\n",
    "# 导入数据\n",
    "# 第 1 个参数 normalize 设置是否将输入图像正规化为 0.0～1.0 的值\n",
    "# 第 2 个参数 flatten 设置是否展开输入图像（变成一维数组）。\n",
    "# 第 3 个参数one_hot_label 设置是否将标签保存为 one-hot 表示\n",
    "(x_train,y_train),(x_test,y_test) = load_mnist(flatten=True,\n",
    "                                              normalize=False)\n",
    "# 28*28的像素点：784\n",
    "# 60000个训练数据\n",
    "print(x_train.shape)\n",
    "print(y_train.shape)\n",
    "# 10000个测试数据\n",
    "print(x_test.shape)\n",
    "print(y_test.shape)"
   ]
  },
  {
   "cell_type": "markdown",
   "metadata": {},
   "source": [
    "上面我们加载进来MNIST数据集，我们也查看该数据集的一些基本的东西，现在来看看具体加载图像显示。\n",
    "![](imgs/18.jpg)\n",
    "\n"
   ]
  },
  {
   "cell_type": "code",
   "execution_count": 10,
   "metadata": {},
   "outputs": [
    {
     "name": "stdout",
     "output_type": "stream",
     "text": [
      "3\n",
      "(784,)\n",
      "(28, 28)\n"
     ]
    }
   ],
   "source": [
    "import sys,os\n",
    "sys.path.append(os.pardir)\n",
    "import numpy as np\n",
    "from dataset.mnist import load_mnist\n",
    "# 图像的显示使用PIL（Python Image Library）模块\n",
    "from PIL import Image\n",
    "\n",
    "def img_show(img):\n",
    "    #  NumPy 数组的图像数据转换为 PIL 用的数据对象\n",
    "    pil_img = Image.fromarray(np.uint8(img))\n",
    "    pil_img.show()\n",
    "    \n",
    "(x_train, y_train), (x_test, y_test) = load_mnist(flatten=True,\n",
    "normalize=False)\n",
    "img = x_train[10]\n",
    "label = y_train[10]\n",
    "print(label)\n",
    "\n",
    "print(img.shape)\n",
    "# reshape() 方法的参数指定期望的形状，\n",
    "img = img.reshape(28,28)\n",
    "print(img.shape)\n",
    "\n",
    "img_show(img)"
   ]
  },
  {
   "cell_type": "markdown",
   "metadata": {},
   "source": [
    "### 利用神经网络进行推理\n",
    "\n",
    "这里我们利用上面小节介绍的内容来实践这个手写数字识别案例。首先从输入层开始，我们这里设计两个2个隐藏层\n",
    "- 输入层：784个输入，因为每个像素都可以作为一个输入\n",
    "- 第一个隐藏层： 50个神经元\n",
    "- 第二个隐藏层： 100个神经元\n",
    "- 输出层：10个输出，因为我们就需要对0-9个数字进行分类\n"
   ]
  }
 ],
 "metadata": {
  "kernelspec": {
   "display_name": "Python 3",
   "language": "python",
   "name": "python3"
  },
  "language_info": {
   "codemirror_mode": {
    "name": "ipython",
    "version": 3
   },
   "file_extension": ".py",
   "mimetype": "text/x-python",
   "name": "python",
   "nbconvert_exporter": "python",
   "pygments_lexer": "ipython3",
   "version": "3.5.3"
  },
  "toc": {
   "base_numbering": 1,
   "nav_menu": {},
   "number_sections": true,
   "sideBar": true,
   "skip_h1_title": false,
   "title_cell": "Table of Contents",
   "title_sidebar": "Contents",
   "toc_cell": false,
   "toc_position": {},
   "toc_section_display": true,
   "toc_window_display": false
  }
 },
 "nbformat": 4,
 "nbformat_minor": 2
}
