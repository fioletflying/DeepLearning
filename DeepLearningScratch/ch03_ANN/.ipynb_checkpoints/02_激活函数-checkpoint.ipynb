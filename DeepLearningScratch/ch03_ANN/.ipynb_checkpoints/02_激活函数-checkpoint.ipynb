{
 "cells": [
  {
   "cell_type": "markdown",
   "metadata": {},
   "source": [
    "## 激活函数\n",
    "\n",
    "上面小节中我们提到激活函数可以使用不同的表示.比如可以使用阶跃函数来作为感知机模型激活函数.在神经网络中我们可以选用sigmoid函数.到底有哪些激活函数呢?这些激活函数到底是长什么样子呢?\n",
    "\n",
    "### sigmoid 函数\n",
    "\n",
    "sigmoid 激活函数是一个比较常见的函数,其数学表达式如下:\n",
    "$h(x)=\\frac {1} {1+exp(-x)}$\n",
    "\n",
    "式子中的x:就我们接收输入信号x1和x2，然后与权重w1和w2结合，然后加上偏置值b.\n",
    "下面我们就来看看如何实现这个函数,先从简单的阶跃函数入手.\n",
    "\n",
    "### 阶跃函数的实现\n",
    "\n"
   ]
  }
 ],
 "metadata": {
  "kernelspec": {
   "display_name": "Python 3",
   "language": "python",
   "name": "python3"
  },
  "language_info": {
   "codemirror_mode": {
    "name": "ipython",
    "version": 3
   },
   "file_extension": ".py",
   "mimetype": "text/x-python",
   "name": "python",
   "nbconvert_exporter": "python",
   "pygments_lexer": "ipython3",
   "version": "3.5.3"
  },
  "toc": {
   "base_numbering": 1,
   "nav_menu": {},
   "number_sections": true,
   "sideBar": true,
   "skip_h1_title": false,
   "title_cell": "Table of Contents",
   "title_sidebar": "Contents",
   "toc_cell": false,
   "toc_position": {},
   "toc_section_display": true,
   "toc_window_display": false
  }
 },
 "nbformat": 4,
 "nbformat_minor": 2
}
