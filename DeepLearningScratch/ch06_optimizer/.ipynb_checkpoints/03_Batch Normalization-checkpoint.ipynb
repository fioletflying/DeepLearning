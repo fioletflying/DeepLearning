{
 "cells": [
  {
   "cell_type": "markdown",
   "metadata": {},
   "source": [
    "## Batch Normalization\n",
    "\n",
    "在上一节中我使用了各种初始化的方法，主要的目的是保证各层的激活值分布具有适当的广度，那么，如果我们人工调整激活值得分布会出现怎样效果呢？这就是Batch normalization的思想的来源。\n",
    "\n",
    "### Batch Normalization原理\n",
    "\n",
    "Batch Norm 的思路是调整各层的激活值分布使其拥有适当的广度，所以在激活函数之前，要向神经网络中插入对数据分布进行正规化的层。具体 如下图所示：\n",
    "![](imgs/18.jpg)\n",
    "\n",
    "#### 正规化\n",
    "上图中插入得数据batch 正规其实就是使得数据分布得以方差为1，均值为0的正规化。具体函数的如下：\n",
    "![](imgs/19.jpg)\n",
    "\n",
    "上式中：\n",
    "-  m 个输入数据的集合 \n",
    "- 然后计算均值与方差\n",
    "- 再对数据：对输入数据进行均值为 0、方差为 1\n",
    "- $\\epsilon$是一个微小值防止除0的情况\n",
    "\n",
    "#### 平移与缩放\n",
    "Batch Norm 层会对正规化后的数据进行缩放和平移的变换，函数如下;\n",
    "![](imgs/20.jpg)\n",
    "\n",
    "#### 优点总结\n",
    "\n",
    "- 可以使学习快速进行（可以增大学习率）\n",
    "- 不那么依赖初始值（降低初始值的影响）\n",
    "- 抑制过拟合（降低 Dropout 等的必要性）\n",
    "\n",
    "\n",
    "\n",
    "### Batch Normalization的实验评估\n",
    "\n",
    "\n",
    "使用 MNIST 数据集，观察使用Batch Norm 层和不使用 Batch Norm 层时学习的过程会如何变化。\n",
    "如下图所示：\n",
    "![](imgs/22.jpg)\n",
    "\n",
    "权重初始值的标准差为各种不同的值时的学习过程图如下：\n",
    "![](imgs/21.jpg)\n",
    "\n",
    "最终的结论如下：\n",
    "通过使用 Batch Norm，可以推动学习的进行。并且，对权重初始值变得健壮。"
   ]
  },
  {
   "cell_type": "code",
   "execution_count": 2,
   "metadata": {},
   "outputs": [
    {
     "name": "stdout",
     "output_type": "stream",
     "text": [
      "============== 1/16 ==============\n",
      "epoch:0 | 0.094 - 0.101\n"
     ]
    },
    {
     "name": "stderr",
     "output_type": "stream",
     "text": [
      "..\\common\\multi_layer_net_extend.py:101: RuntimeWarning: overflow encountered in square\n",
      "  weight_decay += 0.5 * self.weight_decay_lambda * np.sum(W**2)\n",
      "..\\common\\multi_layer_net_extend.py:101: RuntimeWarning: invalid value encountered in double_scalars\n",
      "  weight_decay += 0.5 * self.weight_decay_lambda * np.sum(W**2)\n",
      "..\\common\\functions.py:34: RuntimeWarning: invalid value encountered in subtract\n",
      "  x = x - np.max(x, axis=0)\n",
      "..\\common\\layers.py:12: RuntimeWarning: invalid value encountered in less_equal\n",
      "  self.mask = (x <= 0)\n",
      "d:\\program files\\python35\\lib\\site-packages\\numpy\\core\\_methods.py:26: RuntimeWarning: invalid value encountered in reduce\n",
      "  return umr_maximum(a, axis, None, out, keepdims)\n"
     ]
    },
    {
     "name": "stdout",
     "output_type": "stream",
     "text": [
      "epoch:1 | 0.097 - 0.11\n",
      "epoch:2 | 0.097 - 0.126\n",
      "epoch:3 | 0.097 - 0.135\n",
      "epoch:4 | 0.097 - 0.144\n",
      "epoch:5 | 0.097 - 0.16\n",
      "epoch:6 | 0.097 - 0.185\n",
      "epoch:7 | 0.097 - 0.216\n",
      "epoch:8 | 0.097 - 0.232\n",
      "epoch:9 | 0.097 - 0.25\n",
      "epoch:10 | 0.097 - 0.271\n",
      "epoch:11 | 0.097 - 0.287\n",
      "epoch:12 | 0.097 - 0.304\n",
      "epoch:13 | 0.097 - 0.325\n",
      "epoch:14 | 0.097 - 0.344\n",
      "epoch:15 | 0.097 - 0.365\n",
      "epoch:16 | 0.097 - 0.38\n",
      "epoch:17 | 0.097 - 0.392\n",
      "epoch:18 | 0.097 - 0.411\n"
     ]
    },
    {
     "name": "stderr",
     "output_type": "stream",
     "text": [
      "No handles with labels found to put in legend.\n"
     ]
    },
    {
     "name": "stdout",
     "output_type": "stream",
     "text": [
      "epoch:19 | 0.097 - 0.417\n",
      "============== 2/16 ==============\n",
      "epoch:0 | 0.087 - 0.061\n",
      "epoch:1 | 0.097 - 0.075\n",
      "epoch:2 | 0.097 - 0.12\n",
      "epoch:3 | 0.097 - 0.146\n",
      "epoch:4 | 0.097 - 0.161\n",
      "epoch:5 | 0.097 - 0.184\n",
      "epoch:6 | 0.097 - 0.201\n",
      "epoch:7 | 0.097 - 0.219\n",
      "epoch:8 | 0.097 - 0.234\n",
      "epoch:9 | 0.097 - 0.259\n",
      "epoch:10 | 0.097 - 0.285\n",
      "epoch:11 | 0.097 - 0.303\n",
      "epoch:12 | 0.097 - 0.333\n",
      "epoch:13 | 0.097 - 0.342\n",
      "epoch:14 | 0.097 - 0.365\n",
      "epoch:15 | 0.097 - 0.382\n",
      "epoch:16 | 0.097 - 0.394\n",
      "epoch:17 | 0.097 - 0.43\n",
      "epoch:18 | 0.097 - 0.444\n"
     ]
    },
    {
     "name": "stderr",
     "output_type": "stream",
     "text": [
      "No handles with labels found to put in legend.\n"
     ]
    },
    {
     "name": "stdout",
     "output_type": "stream",
     "text": [
      "epoch:19 | 0.097 - 0.454\n",
      "============== 3/16 ==============\n",
      "epoch:0 | 0.137 - 0.118\n",
      "epoch:1 | 0.309 - 0.135\n",
      "epoch:2 | 0.403 - 0.155\n",
      "epoch:3 | 0.536 - 0.207\n",
      "epoch:4 | 0.582 - 0.262\n",
      "epoch:5 | 0.624 - 0.302\n",
      "epoch:6 | 0.689 - 0.335\n",
      "epoch:7 | 0.727 - 0.359\n",
      "epoch:8 | 0.757 - 0.402\n",
      "epoch:9 | 0.772 - 0.435\n",
      "epoch:10 | 0.805 - 0.457\n",
      "epoch:11 | 0.828 - 0.484\n",
      "epoch:12 | 0.841 - 0.511\n",
      "epoch:13 | 0.854 - 0.535\n",
      "epoch:14 | 0.875 - 0.552\n",
      "epoch:15 | 0.889 - 0.576\n",
      "epoch:16 | 0.89 - 0.593\n",
      "epoch:17 | 0.913 - 0.606\n",
      "epoch:18 | 0.922 - 0.627\n"
     ]
    },
    {
     "name": "stderr",
     "output_type": "stream",
     "text": [
      "No handles with labels found to put in legend.\n"
     ]
    },
    {
     "name": "stdout",
     "output_type": "stream",
     "text": [
      "epoch:19 | 0.934 - 0.64\n",
      "============== 4/16 ==============\n",
      "epoch:0 | 0.105 - 0.075\n",
      "epoch:1 | 0.231 - 0.097\n",
      "epoch:2 | 0.344 - 0.171\n",
      "epoch:3 | 0.428 - 0.274\n",
      "epoch:4 | 0.504 - 0.357\n",
      "epoch:5 | 0.545 - 0.408\n",
      "epoch:6 | 0.606 - 0.467\n",
      "epoch:7 | 0.635 - 0.518\n",
      "epoch:8 | 0.662 - 0.556\n",
      "epoch:9 | 0.696 - 0.581\n",
      "epoch:10 | 0.721 - 0.618\n",
      "epoch:11 | 0.747 - 0.641\n",
      "epoch:12 | 0.758 - 0.683\n",
      "epoch:13 | 0.774 - 0.706\n",
      "epoch:14 | 0.773 - 0.726\n",
      "epoch:15 | 0.796 - 0.75\n",
      "epoch:16 | 0.812 - 0.771\n",
      "epoch:17 | 0.822 - 0.78\n",
      "epoch:18 | 0.819 - 0.794\n"
     ]
    },
    {
     "name": "stderr",
     "output_type": "stream",
     "text": [
      "No handles with labels found to put in legend.\n"
     ]
    },
    {
     "name": "stdout",
     "output_type": "stream",
     "text": [
      "epoch:19 | 0.843 - 0.8\n",
      "============== 5/16 ==============\n",
      "epoch:0 | 0.098 - 0.091\n",
      "epoch:1 | 0.107 - 0.127\n",
      "epoch:2 | 0.117 - 0.282\n",
      "epoch:3 | 0.123 - 0.433\n",
      "epoch:4 | 0.13 - 0.522\n",
      "epoch:5 | 0.138 - 0.598\n",
      "epoch:6 | 0.148 - 0.646\n",
      "epoch:7 | 0.161 - 0.694\n",
      "epoch:8 | 0.165 - 0.725\n",
      "epoch:9 | 0.185 - 0.741\n",
      "epoch:10 | 0.201 - 0.755\n",
      "epoch:11 | 0.224 - 0.775\n",
      "epoch:12 | 0.236 - 0.794\n",
      "epoch:13 | 0.245 - 0.805\n",
      "epoch:14 | 0.27 - 0.819\n",
      "epoch:15 | 0.282 - 0.834\n",
      "epoch:16 | 0.304 - 0.842\n",
      "epoch:17 | 0.316 - 0.861\n",
      "epoch:18 | 0.327 - 0.866\n"
     ]
    },
    {
     "name": "stderr",
     "output_type": "stream",
     "text": [
      "No handles with labels found to put in legend.\n"
     ]
    },
    {
     "name": "stdout",
     "output_type": "stream",
     "text": [
      "epoch:19 | 0.346 - 0.874\n",
      "============== 6/16 ==============\n",
      "epoch:0 | 0.074 - 0.1\n",
      "epoch:1 | 0.095 - 0.232\n",
      "epoch:2 | 0.116 - 0.466\n",
      "epoch:3 | 0.107 - 0.588\n",
      "epoch:4 | 0.117 - 0.66\n",
      "epoch:5 | 0.117 - 0.708\n",
      "epoch:6 | 0.117 - 0.748\n",
      "epoch:7 | 0.117 - 0.785\n",
      "epoch:8 | 0.117 - 0.806\n",
      "epoch:9 | 0.117 - 0.828\n",
      "epoch:10 | 0.117 - 0.849\n",
      "epoch:11 | 0.117 - 0.865\n",
      "epoch:12 | 0.117 - 0.89\n",
      "epoch:13 | 0.117 - 0.9\n",
      "epoch:14 | 0.117 - 0.909\n",
      "epoch:15 | 0.117 - 0.916\n",
      "epoch:16 | 0.117 - 0.926\n",
      "epoch:17 | 0.117 - 0.933\n"
     ]
    },
    {
     "name": "stderr",
     "output_type": "stream",
     "text": [
      "No handles with labels found to put in legend.\n"
     ]
    },
    {
     "name": "stdout",
     "output_type": "stream",
     "text": [
      "epoch:18 | 0.117 - 0.944\n",
      "epoch:19 | 0.117 - 0.948\n",
      "============== 7/16 ==============\n",
      "epoch:0 | 0.116 - 0.12\n",
      "epoch:1 | 0.117 - 0.317\n",
      "epoch:2 | 0.117 - 0.642\n",
      "epoch:3 | 0.117 - 0.721\n",
      "epoch:4 | 0.117 - 0.75\n",
      "epoch:5 | 0.117 - 0.789\n",
      "epoch:6 | 0.117 - 0.821\n",
      "epoch:7 | 0.117 - 0.873\n",
      "epoch:8 | 0.117 - 0.897\n",
      "epoch:9 | 0.117 - 0.914\n",
      "epoch:10 | 0.117 - 0.933\n",
      "epoch:11 | 0.117 - 0.95\n",
      "epoch:12 | 0.117 - 0.956\n",
      "epoch:13 | 0.117 - 0.967\n",
      "epoch:14 | 0.117 - 0.971\n",
      "epoch:15 | 0.117 - 0.974\n",
      "epoch:16 | 0.117 - 0.977\n",
      "epoch:17 | 0.117 - 0.985\n",
      "epoch:18 | 0.117 - 0.992\n"
     ]
    },
    {
     "name": "stderr",
     "output_type": "stream",
     "text": [
      "No handles with labels found to put in legend.\n"
     ]
    },
    {
     "name": "stdout",
     "output_type": "stream",
     "text": [
      "epoch:19 | 0.117 - 0.99\n",
      "============== 8/16 ==============\n",
      "epoch:0 | 0.105 - 0.11\n",
      "epoch:1 | 0.116 - 0.336\n",
      "epoch:2 | 0.116 - 0.63\n",
      "epoch:3 | 0.117 - 0.739\n",
      "epoch:4 | 0.116 - 0.807\n",
      "epoch:5 | 0.117 - 0.879\n",
      "epoch:6 | 0.117 - 0.912\n",
      "epoch:7 | 0.117 - 0.939\n",
      "epoch:8 | 0.117 - 0.956\n",
      "epoch:9 | 0.117 - 0.969\n",
      "epoch:10 | 0.117 - 0.974\n",
      "epoch:11 | 0.117 - 0.982\n",
      "epoch:12 | 0.117 - 0.991\n",
      "epoch:13 | 0.117 - 0.993\n",
      "epoch:14 | 0.117 - 0.993\n",
      "epoch:15 | 0.117 - 0.996\n",
      "epoch:16 | 0.117 - 0.998\n",
      "epoch:17 | 0.117 - 0.999\n"
     ]
    },
    {
     "name": "stderr",
     "output_type": "stream",
     "text": [
      "No handles with labels found to put in legend.\n"
     ]
    },
    {
     "name": "stdout",
     "output_type": "stream",
     "text": [
      "epoch:18 | 0.117 - 1.0\n",
      "epoch:19 | 0.117 - 1.0\n",
      "============== 9/16 ==============\n",
      "epoch:0 | 0.117 - 0.112\n",
      "epoch:1 | 0.117 - 0.518\n",
      "epoch:2 | 0.117 - 0.701\n",
      "epoch:3 | 0.116 - 0.788\n",
      "epoch:4 | 0.117 - 0.843\n",
      "epoch:5 | 0.117 - 0.891\n",
      "epoch:6 | 0.117 - 0.943\n",
      "epoch:7 | 0.117 - 0.968\n",
      "epoch:8 | 0.117 - 0.972\n",
      "epoch:9 | 0.117 - 0.987\n",
      "epoch:10 | 0.117 - 0.992\n",
      "epoch:11 | 0.116 - 0.995\n",
      "epoch:12 | 0.117 - 0.996\n",
      "epoch:13 | 0.117 - 0.998\n",
      "epoch:14 | 0.117 - 0.998\n",
      "epoch:15 | 0.117 - 0.998\n",
      "epoch:16 | 0.116 - 0.999\n",
      "epoch:17 | 0.117 - 0.999\n",
      "epoch:18 | 0.117 - 1.0\n"
     ]
    },
    {
     "name": "stderr",
     "output_type": "stream",
     "text": [
      "No handles with labels found to put in legend.\n"
     ]
    },
    {
     "name": "stdout",
     "output_type": "stream",
     "text": [
      "epoch:19 | 0.116 - 0.998\n",
      "============== 10/16 ==============\n",
      "epoch:0 | 0.105 - 0.148\n",
      "epoch:1 | 0.105 - 0.538\n",
      "epoch:2 | 0.116 - 0.743\n",
      "epoch:3 | 0.117 - 0.825\n",
      "epoch:4 | 0.117 - 0.914\n",
      "epoch:5 | 0.117 - 0.803\n",
      "epoch:6 | 0.117 - 0.92\n",
      "epoch:7 | 0.117 - 0.978\n",
      "epoch:8 | 0.117 - 0.982\n",
      "epoch:9 | 0.117 - 0.992\n",
      "epoch:10 | 0.117 - 0.893\n",
      "epoch:11 | 0.117 - 0.995\n",
      "epoch:12 | 0.116 - 0.999\n",
      "epoch:13 | 0.117 - 0.999\n",
      "epoch:14 | 0.116 - 1.0\n",
      "epoch:15 | 0.117 - 1.0\n",
      "epoch:16 | 0.117 - 1.0\n",
      "epoch:17 | 0.117 - 1.0\n"
     ]
    },
    {
     "name": "stderr",
     "output_type": "stream",
     "text": [
      "No handles with labels found to put in legend.\n"
     ]
    },
    {
     "name": "stdout",
     "output_type": "stream",
     "text": [
      "epoch:18 | 0.117 - 1.0\n",
      "epoch:19 | 0.117 - 1.0\n",
      "============== 11/16 ==============\n",
      "epoch:0 | 0.094 - 0.167\n",
      "epoch:1 | 0.116 - 0.544\n",
      "epoch:2 | 0.116 - 0.691\n",
      "epoch:3 | 0.116 - 0.728\n",
      "epoch:4 | 0.116 - 0.781\n",
      "epoch:5 | 0.117 - 0.851\n",
      "epoch:6 | 0.117 - 0.784\n",
      "epoch:7 | 0.117 - 0.894\n",
      "epoch:8 | 0.117 - 0.909\n",
      "epoch:9 | 0.117 - 0.932\n",
      "epoch:10 | 0.117 - 0.885\n",
      "epoch:11 | 0.117 - 0.961\n",
      "epoch:12 | 0.117 - 0.957\n",
      "epoch:13 | 0.117 - 0.985\n",
      "epoch:14 | 0.117 - 0.986\n",
      "epoch:15 | 0.117 - 0.987\n",
      "epoch:16 | 0.117 - 0.988\n",
      "epoch:17 | 0.116 - 0.981\n"
     ]
    },
    {
     "name": "stderr",
     "output_type": "stream",
     "text": [
      "No handles with labels found to put in legend.\n"
     ]
    },
    {
     "name": "stdout",
     "output_type": "stream",
     "text": [
      "epoch:18 | 0.116 - 0.978\n",
      "epoch:19 | 0.117 - 0.993\n",
      "============== 12/16 ==============\n",
      "epoch:0 | 0.093 - 0.105\n",
      "epoch:1 | 0.116 - 0.59\n",
      "epoch:2 | 0.116 - 0.48\n",
      "epoch:3 | 0.116 - 0.725\n",
      "epoch:4 | 0.117 - 0.703\n",
      "epoch:5 | 0.117 - 0.768\n",
      "epoch:6 | 0.117 - 0.781\n",
      "epoch:7 | 0.117 - 0.786\n",
      "epoch:8 | 0.117 - 0.793\n",
      "epoch:9 | 0.117 - 0.795\n",
      "epoch:10 | 0.117 - 0.888\n",
      "epoch:11 | 0.117 - 0.891\n",
      "epoch:12 | 0.117 - 0.893\n",
      "epoch:13 | 0.117 - 0.895\n",
      "epoch:14 | 0.117 - 0.896\n",
      "epoch:15 | 0.117 - 0.902\n",
      "epoch:16 | 0.117 - 0.935\n",
      "epoch:17 | 0.117 - 0.784\n"
     ]
    },
    {
     "name": "stderr",
     "output_type": "stream",
     "text": [
      "No handles with labels found to put in legend.\n"
     ]
    },
    {
     "name": "stdout",
     "output_type": "stream",
     "text": [
      "epoch:18 | 0.117 - 0.891\n",
      "epoch:19 | 0.117 - 0.96\n",
      "============== 13/16 ==============\n",
      "epoch:0 | 0.117 - 0.181\n",
      "epoch:1 | 0.116 - 0.444\n",
      "epoch:2 | 0.116 - 0.515\n",
      "epoch:3 | 0.117 - 0.566\n",
      "epoch:4 | 0.117 - 0.723\n",
      "epoch:5 | 0.117 - 0.681\n",
      "epoch:6 | 0.116 - 0.624\n",
      "epoch:7 | 0.116 - 0.702\n",
      "epoch:8 | 0.116 - 0.696\n",
      "epoch:9 | 0.116 - 0.718\n",
      "epoch:10 | 0.116 - 0.718\n",
      "epoch:11 | 0.116 - 0.714\n",
      "epoch:12 | 0.116 - 0.763\n",
      "epoch:13 | 0.116 - 0.79\n",
      "epoch:14 | 0.116 - 0.79\n",
      "epoch:15 | 0.117 - 0.802\n",
      "epoch:16 | 0.117 - 0.807\n",
      "epoch:17 | 0.117 - 0.791\n",
      "epoch:18 | 0.117 - 0.795\n"
     ]
    },
    {
     "name": "stderr",
     "output_type": "stream",
     "text": [
      "No handles with labels found to put in legend.\n"
     ]
    },
    {
     "name": "stdout",
     "output_type": "stream",
     "text": [
      "epoch:19 | 0.117 - 0.801\n",
      "============== 14/16 ==============\n",
      "epoch:0 | 0.1 - 0.168\n",
      "epoch:1 | 0.116 - 0.332\n",
      "epoch:2 | 0.116 - 0.385\n",
      "epoch:3 | 0.116 - 0.436\n",
      "epoch:4 | 0.116 - 0.471\n",
      "epoch:5 | 0.116 - 0.474\n",
      "epoch:6 | 0.116 - 0.508\n",
      "epoch:7 | 0.117 - 0.5\n",
      "epoch:8 | 0.117 - 0.501\n",
      "epoch:9 | 0.117 - 0.505\n",
      "epoch:10 | 0.117 - 0.508\n",
      "epoch:11 | 0.117 - 0.493\n",
      "epoch:12 | 0.117 - 0.505\n",
      "epoch:13 | 0.117 - 0.516\n",
      "epoch:14 | 0.117 - 0.512\n",
      "epoch:15 | 0.117 - 0.617\n",
      "epoch:16 | 0.117 - 0.605\n",
      "epoch:17 | 0.117 - 0.662\n",
      "epoch:18 | 0.117 - 0.647\n"
     ]
    },
    {
     "name": "stderr",
     "output_type": "stream",
     "text": [
      "No handles with labels found to put in legend.\n"
     ]
    },
    {
     "name": "stdout",
     "output_type": "stream",
     "text": [
      "epoch:19 | 0.117 - 0.687\n",
      "============== 15/16 ==============\n",
      "epoch:0 | 0.097 - 0.097\n",
      "epoch:1 | 0.116 - 0.305\n",
      "epoch:2 | 0.116 - 0.468\n",
      "epoch:3 | 0.116 - 0.481\n",
      "epoch:4 | 0.116 - 0.492\n",
      "epoch:5 | 0.116 - 0.479\n",
      "epoch:6 | 0.116 - 0.436\n",
      "epoch:7 | 0.116 - 0.499\n",
      "epoch:8 | 0.116 - 0.501\n",
      "epoch:9 | 0.117 - 0.509\n",
      "epoch:10 | 0.116 - 0.507\n",
      "epoch:11 | 0.116 - 0.507\n",
      "epoch:12 | 0.116 - 0.509\n",
      "epoch:13 | 0.117 - 0.51\n",
      "epoch:14 | 0.117 - 0.508\n",
      "epoch:15 | 0.117 - 0.511\n",
      "epoch:16 | 0.117 - 0.511\n",
      "epoch:17 | 0.116 - 0.606\n",
      "epoch:18 | 0.116 - 0.606\n"
     ]
    },
    {
     "name": "stderr",
     "output_type": "stream",
     "text": [
      "No handles with labels found to put in legend.\n"
     ]
    },
    {
     "name": "stdout",
     "output_type": "stream",
     "text": [
      "epoch:19 | 0.116 - 0.604\n",
      "============== 16/16 ==============\n",
      "epoch:0 | 0.1 - 0.143\n",
      "epoch:1 | 0.117 - 0.253\n",
      "epoch:2 | 0.117 - 0.376\n",
      "epoch:3 | 0.117 - 0.339\n",
      "epoch:4 | 0.116 - 0.504\n",
      "epoch:5 | 0.116 - 0.268\n",
      "epoch:6 | 0.116 - 0.491\n",
      "epoch:7 | 0.116 - 0.508\n",
      "epoch:8 | 0.116 - 0.512\n",
      "epoch:9 | 0.116 - 0.505\n",
      "epoch:10 | 0.116 - 0.521\n",
      "epoch:11 | 0.116 - 0.525\n",
      "epoch:12 | 0.116 - 0.52\n",
      "epoch:13 | 0.116 - 0.522\n",
      "epoch:14 | 0.116 - 0.526\n",
      "epoch:15 | 0.116 - 0.525\n",
      "epoch:16 | 0.116 - 0.526\n",
      "epoch:17 | 0.116 - 0.617\n",
      "epoch:18 | 0.116 - 0.606\n",
      "epoch:19 | 0.116 - 0.618\n"
     ]
    },
    {
     "data": {
      "image/png": "[encoded data removed]",
      "text/plain": [
       "<Figure size 432x288 with 16 Axes>"
      ]
     },
     "metadata": {
      "needs_background": "light"
     },
     "output_type": "display_data"
    }
   ],
   "source": [
    "# coding: utf-8\n",
    "import sys, os\n",
    "sys.path.append(os.pardir)  # 为了导入父目录的文件而进行的设定\n",
    "import numpy as np\n",
    "import matplotlib.pyplot as plt\n",
    "from dataset.mnist import load_mnist\n",
    "from common.multi_layer_net_extend import MultiLayerNetExtend\n",
    "from common.optimizer import SGD, Adam\n",
    "\n",
    "(x_train, t_train), (x_test, t_test) = load_mnist(normalize=True)\n",
    "\n",
    "# 减少学习数据\n",
    "x_train = x_train[:1000]\n",
    "t_train = t_train[:1000]\n",
    "\n",
    "max_epochs = 20\n",
    "train_size = x_train.shape[0]\n",
    "batch_size = 100\n",
    "learning_rate = 0.01\n",
    "\n",
    "\n",
    "def __train(weight_init_std):\n",
    "    bn_network = MultiLayerNetExtend(input_size=784, hidden_size_list=[100, 100, 100, 100, 100], output_size=10, \n",
    "                                    weight_init_std=weight_init_std, use_batchnorm=True)\n",
    "    network = MultiLayerNetExtend(input_size=784, hidden_size_list=[100, 100, 100, 100, 100], output_size=10,\n",
    "                                weight_init_std=weight_init_std)\n",
    "    optimizer = SGD(lr=learning_rate)\n",
    "    \n",
    "    train_acc_list = []\n",
    "    bn_train_acc_list = []\n",
    "    \n",
    "    iter_per_epoch = max(train_size / batch_size, 1)\n",
    "    epoch_cnt = 0\n",
    "    \n",
    "    for i in range(1000000000):\n",
    "        batch_mask = np.random.choice(train_size, batch_size)\n",
    "        x_batch = x_train[batch_mask]\n",
    "        t_batch = t_train[batch_mask]\n",
    "    \n",
    "        for _network in (bn_network, network):\n",
    "            grads = _network.gradient(x_batch, t_batch)\n",
    "            optimizer.update(_network.params, grads)\n",
    "    \n",
    "        if i % iter_per_epoch == 0:\n",
    "            train_acc = network.accuracy(x_train, t_train)\n",
    "            bn_train_acc = bn_network.accuracy(x_train, t_train)\n",
    "            train_acc_list.append(train_acc)\n",
    "            bn_train_acc_list.append(bn_train_acc)\n",
    "    \n",
    "            print(\"epoch:\" + str(epoch_cnt) + \" | \" + str(train_acc) + \" - \" + str(bn_train_acc))\n",
    "    \n",
    "            epoch_cnt += 1\n",
    "            if epoch_cnt >= max_epochs:\n",
    "                break\n",
    "                \n",
    "    return train_acc_list, bn_train_acc_list\n",
    "\n",
    "\n",
    "# 3.绘制图形==========\n",
    "weight_scale_list = np.logspace(0, -4, num=16)\n",
    "x = np.arange(max_epochs)\n",
    "\n",
    "for i, w in enumerate(weight_scale_list):\n",
    "    print( \"============== \" + str(i+1) + \"/16\" + \" ==============\")\n",
    "    train_acc_list, bn_train_acc_list = __train(w)\n",
    "    \n",
    "    plt.subplot(4,4,i+1)\n",
    "    plt.title(\"W:\" + str(w))\n",
    "    if i == 15:\n",
    "        plt.plot(x, bn_train_acc_list, label='Batch Normalization', markevery=2)\n",
    "        plt.plot(x, train_acc_list, linestyle = \"--\", label='Normal(without BatchNorm)', markevery=2)\n",
    "    else:\n",
    "        plt.plot(x, bn_train_acc_list, markevery=2)\n",
    "        plt.plot(x, train_acc_list, linestyle=\"--\", markevery=2)\n",
    "\n",
    "    plt.ylim(0, 1.0)\n",
    "    if i % 4:\n",
    "        plt.yticks([])\n",
    "    else:\n",
    "        plt.ylabel(\"accuracy\")\n",
    "    if i < 12:\n",
    "        plt.xticks([])\n",
    "    else:\n",
    "        plt.xlabel(\"epochs\")\n",
    "    plt.legend(loc='lower right')\n",
    "    \n",
    "plt.show()"
   ]
  }
 ],
 "metadata": {
  "kernelspec": {
   "display_name": "Python 3",
   "language": "python",
   "name": "python3"
  },
  "language_info": {
   "codemirror_mode": {
    "name": "ipython",
    "version": 3
   },
   "file_extension": ".py",
   "mimetype": "text/x-python",
   "name": "python",
   "nbconvert_exporter": "python",
   "pygments_lexer": "ipython3",
   "version": "3.5.3"
  },
  "toc": {
   "base_numbering": 1,
   "nav_menu": {},
   "number_sections": true,
   "sideBar": true,
   "skip_h1_title": false,
   "title_cell": "Table of Contents",
   "title_sidebar": "Contents",
   "toc_cell": false,
   "toc_position": {},
   "toc_section_display": true,
   "toc_window_display": false
  }
 },
 "nbformat": 4,
 "nbformat_minor": 2
}
