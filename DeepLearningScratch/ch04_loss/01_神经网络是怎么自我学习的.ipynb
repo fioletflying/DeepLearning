{
 "cells": [
  {
   "cell_type": "markdown",
   "metadata": {},
   "source": [
    "## 神经网络是怎么自我学习的\n",
    "\n",
    "### 利用数据自我学习\n",
    "\n",
    "其实神经网络的中的特征都是利用我们提过的数据来学习的，从数据中学习，这个有点像我们经常的看到我党的标语“从群众中来”，这个是真的有道理，不是虚头八脑的口号。你看如果我们把数据看着是一个个独立的个体，是不是有点像群众的意思啊。\n",
    "\n",
    "那我们就要问了，“从群众中来”到来什么啊，这个如果大家有点政治理念或者考过马哲理论的话，多少记得一点，就是一些思想和方法都是通过在群众中总结提炼出来的。\n",
    "那我们这里的要学习的神经网络利用数据来学习的，学习什么啊？也是要通过这些数据我们可以自我学习到神经网络中的参数，这些参数不是人工设计的，而是从数据中自动学习到。\n",
    "\n",
    "如果你觉得这个描述有点拗口，那我就从百度百科中，摘一段来看看“从群众中来”的解释，跟我们上面从数据中学习真的极其相识。\n",
    "\n",
    ">“从群众中来，到群众中去”，就是从群众的实践中获得感性认识，经过加工制作功夫，把群众的分散意见集中为领导者和领导部门的指导意见，然后再拿到群众的实践中去检验，并把实践证明的正确意见再集中起来，坚持下去，化为群众改造世界的自觉行动。\n",
    "\n",
    "不知道看到这里大家能否明白为什么我们现在要做深度学习就需要大数据，没有大量的数据，我们所谓的模型真的是空中楼阁。**数据就是机器学习的命根子**，你们不要笑啊，我又想起了一句标语“人民才是国家的根本”。看来真的万事万物都是相通的。\n",
    "\n",
    "### 数据驱动与设计驱动\n",
    "\n",
    "刚刚说了数据的重要性，那我这里来比较一下传统的算法比较一下。现在我们是利用数据来找规律，传统算法是利用人工设计方法来找规律。\n",
    "\n",
    "下面我们来看一个书上的例子，就是手写数字识别中，如何识别5这个数字。\n",
    "\n",
    "![](imgs/1.jpg)\n"
   ]
  }
 ],
 "metadata": {
  "kernelspec": {
   "display_name": "Python 3",
   "language": "python",
   "name": "python3"
  },
  "language_info": {
   "codemirror_mode": {
    "name": "ipython",
    "version": 3
   },
   "file_extension": ".py",
   "mimetype": "text/x-python",
   "name": "python",
   "nbconvert_exporter": "python",
   "pygments_lexer": "ipython3",
   "version": "3.5.3"
  },
  "toc": {
   "base_numbering": 1,
   "nav_menu": {},
   "number_sections": true,
   "sideBar": true,
   "skip_h1_title": false,
   "title_cell": "Table of Contents",
   "title_sidebar": "Contents",
   "toc_cell": false,
   "toc_position": {},
   "toc_section_display": true,
   "toc_window_display": false
  }
 },
 "nbformat": 4,
 "nbformat_minor": 2
}
