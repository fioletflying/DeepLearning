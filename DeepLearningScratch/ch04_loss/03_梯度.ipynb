{
 "cells": [
  {
   "cell_type": "markdown",
   "metadata": {},
   "source": [
    "## 梯度\n",
    "\n",
    "### 梯度的概念\n",
    "\n",
    "对于函数$f(x_0,x_1)=x_0^2+x_1^2$可以分别计算$(x_0,x_1)$的偏导数$(\\frac{df}{dx_0},\\frac{df}{dx_1})$.\n",
    "梯度就是有全部变量的偏导数汇总在一起的向量.\n",
    "其代码如下:"
   ]
  },
  {
   "cell_type": "code",
   "execution_count": 9,
   "metadata": {},
   "outputs": [],
   "source": [
    "# 计算函数的梯度\n",
    "import numpy as np\n",
    "\n",
    "def numerical_gradient(f,x):\n",
    "    \"\"\"\n",
    "    f:表示为函数\n",
    "    x:表示函数的变量,numpy数组\n",
    "    \"\"\"\n",
    "    h = 1e-4 #0.0001\n",
    "    grad = np.zeros_like(x) # 生成于x size一样的数组\n",
    "    \n",
    "    for idx in range(x.size):\n",
    "        tmp_val = x[idx]\n",
    "        # 计算f(x+h)\n",
    "        x[idx] = tmp_val + h\n",
    "        fxh1 = f(x)\n",
    "        # 计算f(x-h)\n",
    "        x[idx] = tmp_val - h\n",
    "        fxh2 = f(x)\n",
    "        \n",
    "        # 利用导数的公式计算\n",
    "        grad[idx] = (fxh1 - fxh2) /(2*h)\n",
    "        x[idx] = tmp_val\n",
    "    \n",
    "    return grad\n",
    "        "
   ]
  },
  {
   "cell_type": "code",
   "execution_count": 10,
   "metadata": {},
   "outputs": [],
   "source": [
    "# 定义函数f(x)=x0^2+x1^2\n",
    "def function_2(x):\n",
    "    return np.sum(x**2)\n"
   ]
  },
  {
   "cell_type": "code",
   "execution_count": 13,
   "metadata": {},
   "outputs": [
    {
     "name": "stdout",
     "output_type": "stream",
     "text": [
      "[4. 2.]\n",
      "[6. 8.]\n",
      "[ 8. 10.]\n"
     ]
    }
   ],
   "source": [
    "#计算梯度\n",
    "print(numerical_gradient(function_2,np.array([2.0,1.0])))\n",
    "\n",
    "print(numerical_gradient(function_2,np.array([3.0,4.0])))\n",
    "\n",
    "print(numerical_gradient(function_2,np.array([4.0,5.0])))"
   ]
  },
  {
   "cell_type": "markdown",
   "metadata": {},
   "source": [
    "上面我们计算不同点的梯度,其实梯度的向量就是指向函数最小值的方向.为了更好的理解梯度的意义,看看下图的表示:\n",
    "![](imgs/3.jpg)\n",
    "\n",
    "**梯度指示的方向是各点处的函数值减少最多的方向**\n",
    "\n",
    "### 梯度法\n",
    "\n",
    "我们在上一小节说到可以通过损失函数来优化参数,至于怎么来优化并没有给出具体的方法.这一小节我们就来说说利用梯度法来优化参数.\n",
    "\n",
    "损失函数就是我们这里需要求解的梯度函数.利用梯度来找到损失函数最小的值.这就是我们所说的梯度法.\n",
    "\n",
    "#### 梯度法的由来\n",
    "梯度表示的是各点处的函数值减小最多的方向。因此，无\n",
    "法保证梯度所指的方向就是函数的最小值或者真正应该前进的方向。实际上，在复杂的函数中，梯度指示的方向基本上都不是函数值最小处。  \n",
    "虽然梯度的方向并不一定指向最小值，但沿着它的方向能够最大限度地减小函数的值。  \n",
    "通过不断地沿梯度方向前进，逐渐减小函数值的过程就是**梯度法（gradient method）**。梯度法是解决机器学习中最优化问题的常用方法，特别是在神经网络的学习中经常被使用。\n",
    "\n",
    "#### 两种梯度法\n",
    "\n",
    "**梯度下降法（gradient descent method）**  \n",
    "就是寻找最小值的梯度法  \n",
    "\n",
    "**梯度上升法（gradient ascent method）**  \n",
    "找最大值的梯度法  \n",
    "\n",
    "神经网络（深度学习）中，梯度法主要是指梯度下降法。\n",
    "\n",
    "\n",
    "\n",
    "\n"
   ]
  }
 ],
 "metadata": {
  "kernelspec": {
   "display_name": "Python 3",
   "language": "python",
   "name": "python3"
  },
  "language_info": {
   "codemirror_mode": {
    "name": "ipython",
    "version": 3
   },
   "file_extension": ".py",
   "mimetype": "text/x-python",
   "name": "python",
   "nbconvert_exporter": "python",
   "pygments_lexer": "ipython3",
   "version": "3.5.3"
  },
  "toc": {
   "base_numbering": 1,
   "nav_menu": {},
   "number_sections": true,
   "sideBar": true,
   "skip_h1_title": false,
   "title_cell": "Table of Contents",
   "title_sidebar": "Contents",
   "toc_cell": false,
   "toc_position": {},
   "toc_section_display": true,
   "toc_window_display": false
  }
 },
 "nbformat": 4,
 "nbformat_minor": 2
}
