{
 "cells": [
  {
   "cell_type": "markdown",
   "metadata": {},
   "source": [
    "## 神经网络的学习算法实践\n",
    "\n",
    "### 神经网络的学习步骤\n",
    "\n",
    "主要有以下4个步骤：\n",
    "\n",
    "- 选取输入数据：mini-batch从数据中随机选取一部分数据进行训练\n",
    "- 计算梯度：计算各个权重参数的梯度\n",
    "- 更新参数：将权重参数沿着梯度方向进行更新\n",
    "- 重复上面的1-3步\n",
    "\n",
    "上面的选择数据的过程是随机的，所以这里的梯度下降法有称为（Stochastic gradient descent）随机梯度下降法（SGD）：对随机选择的数据进行的梯度下降法\n",
    "\n",
    "\n",
    "### 两层神经网络的实践\n",
    "\n",
    "利用前面的学习的方法来实践手写数字识别的案例，前面一个章节中，我们提到利用训练好的数据参数来直接进行预测。下面我们通过这一节讲到的方法来实现参数的训练。\n",
    "\n",
    "实践的类如下coding:\n"
   ]
  },
  {
   "cell_type": "code",
   "execution_count": 2,
   "metadata": {},
   "outputs": [],
   "source": [
    "import sys,os\n",
    "sys.path.append(os.pardir)\n",
    "import numpy as np\n",
    "from common.functions import *\n",
    "from common.gradient import numerical_gradient\n",
    "\n",
    "class TowLayerNet:\n",
    "    \n",
    "    def __init__(self,input_size,hidden_size,output_size,weight_init_std=0.01):\n",
    "        # 初始化权重\n",
    "        self.params = {}\n",
    "        # 符合高斯分布的随机数进行初始化\n",
    "        self.params['W1'] = weight_init_std * np.random.randn(input_size,hidden_size)\n",
    "        self.params['b1'] = np.zeros(hidden_size)\n",
    "        self.params['W2'] = weight_init_std * np.random.randn(hidden_size,output_size)\n",
    "        self.params['b2'] = np.zeros(output_size)\n",
    "        \n",
    "    # 预测和推理函数    \n",
    "    def predict(self,x):\n",
    "        W1,W2 = self.params['W1'],self.params['W2']\n",
    "        b1,b2 = self.params['b1'],self.params['b2']\n",
    "        \n",
    "        Z1 = np.dot(x,W1)+b1\n",
    "        A1 = sigmoid(Z1)\n",
    "        Z2 = np.dot(A1,W2)+b2\n",
    "        y = softmax(Z2)\n",
    "        \n",
    "        return y\n",
    "    \n",
    "    # 损失函数\n",
    "    def loss(self,x,t):\n",
    "        y = self.predict(x)\n",
    "        return cross_entropy_error(y,t)\n",
    "    \n",
    "    # 计算识别精度\n",
    "    def accuracy(self,x,t):\n",
    "        y = self.predict(x)\n",
    "        y = np.argmax(y,axis=1)\n",
    "        t = np.argmax(t,axis=1)\n",
    "        \n",
    "        accuracy = np.sum(y==t)/float(x.shape[0])\n",
    "        return accuracy\n",
    "    \n",
    "    # 计算权重参数的梯度\n",
    "    def numerical_gradient(self,x,t):\n",
    "        # 定义损失函数\n",
    "        loss_W  = lambda w: self.loss(x, t)\n",
    "        \n",
    "        # 计算相关的参数的偏导数\n",
    "        grads = {}\n",
    "        grads['W1'] = numerical_gradient(loss_W, self.params['W1'])\n",
    "        grads['b1'] = numerical_gradient(loss_W, self.params['b1'])\n",
    "        grads['W2'] = numerical_gradient(loss_W, self.params['W2'])\n",
    "        grads['b2'] = numerical_gradient(loss_W, self.params['b2'])\n",
    "        return grads\n",
    "    \n",
    "    # 计算权重参数的梯度，高速版\n",
    "    def gradient(self, x, t):\n",
    "        W1, W2 = self.params['W1'], self.params['W2']\n",
    "        b1, b2 = self.params['b1'], self.params['b2']\n",
    "        grads = {}\n",
    "        \n",
    "        batch_num = x.shape[0]\n",
    "        \n",
    "        # forward\n",
    "        a1 = np.dot(x, W1) + b1\n",
    "        z1 = sigmoid(a1)\n",
    "        a2 = np.dot(z1, W2) + b2\n",
    "        y = softmax(a2)\n",
    "        \n",
    "        # backward\n",
    "        dy = (y - t) / batch_num\n",
    "        grads['W2'] = np.dot(z1.T, dy)\n",
    "        grads['b2'] = np.sum(dy, axis=0)\n",
    "        \n",
    "        dz1 = np.dot(dy, W2.T)\n",
    "        da1 = sigmoid_grad(a1) * dz1\n",
    "        grads['W1'] = np.dot(x.T, da1)\n",
    "        grads['b1'] = np.sum(da1, axis=0)\n",
    "\n",
    "        return grads\n",
    "        \n",
    "        \n",
    "    \n",
    "    \n",
    "        "
   ]
  },
  {
   "cell_type": "code",
   "execution_count": 5,
   "metadata": {},
   "outputs": [
    {
     "name": "stdout",
     "output_type": "stream",
     "text": [
      "(784, 100)\n",
      "(100,)\n",
      "(100, 10)\n",
      "(10,)\n"
     ]
    }
   ],
   "source": [
    "net = TowLayerNet(input_size=784,\n",
    "                  hidden_size=100,\n",
    "                 output_size=10)\n",
    "# 获得参数的基本size\n",
    "print(net.params['W1'].shape)\n",
    "print(net.params['b1'].shape)\n",
    "print(net.params['W2'].shape)\n",
    "print(net.params['b2'].shape)"
   ]
  },
  {
   "cell_type": "code",
   "execution_count": 8,
   "metadata": {},
   "outputs": [],
   "source": [
    "# 定义输入的数据和推理数据y\n",
    "x =np.random.rand(100,784) #定义一个随机的数据\n",
    "y = net.predict(x) \n"
   ]
  },
  {
   "cell_type": "code",
   "execution_count": null,
   "metadata": {},
   "outputs": [],
   "source": [
    "# 定义输入的数据和推理数据y\n",
    "x = np.random.rand(100,784) #定义一个随机的数据\n",
    "t = net.random.rand(100,10) \n",
    "\n",
    "grads = net.numerical_gradient(x,t)\n",
    "\n"
   ]
  },
  {
   "cell_type": "markdown",
   "metadata": {},
   "source": [
    "### mini-batch 的实现\n",
    "\n",
    "mini-batch是一种随机选取训练数据中的一部分，作为梯度下降法的更新的输入数据。下面尝试使用该方法来实践手写数识别的过程。\n"
   ]
  },
  {
   "cell_type": "code",
   "execution_count": 3,
   "metadata": {},
   "outputs": [],
   "source": [
    "import sys,os\n",
    "sys.path.append(os.pardir)\n",
    "import numpy as np\n",
    "from dataset.mnist import load_mnist\n",
    "\n",
    "# 加载数据\n",
    "(x_train,y_train),(x_test,y_test) = load_mnist(\n",
    "                normalize=True,\n",
    "                one_hot_label=True)\n",
    "\n",
    "# 记录每次迭代的loss值\n",
    "train_lost_list = []\n",
    "\n",
    "#设置训练中参数\n",
    "iters_num = 10000 # 训练次数\n",
    "train_size = x_train.shape[0] #样本数量\n",
    "batch_size = 100 #mini-batch的数量\n",
    "learning_rate = 0.1 # 学习率\n",
    "\n",
    "#定义一个两层的网络\n",
    "# 隐藏层为50\n",
    "network = TowLayerNet(input_size=784,\n",
    "                     hidden_size=50,\n",
    "                     output_size=10)\n",
    "\n",
    "# 开始训练\n",
    "for i in range(iters_num):\n",
    "    # 随机选取输入的数据，选取的量为100个\n",
    "    batch_mask = np.random.choice(train_size,batch_size)\n",
    "    x_batch = x_train[batch_mask]\n",
    "    y_batch = y_train[batch_mask]\n",
    "    \n",
    "    # 计算梯度\n",
    "    grad = network.gradient(x_batch,y_batch)\n",
    "    \n",
    "    # 更新参数\n",
    "    for key in ('W1','b1','W2','b2'):\n",
    "        network.params[key] -= learning_rate * grad[key]\n",
    "    \n",
    "    #记录loss值\n",
    "    loss = network.loss(x_batch,y_batch)\n",
    "    train_lost_list.append(loss)"
   ]
  },
  {
   "cell_type": "markdown",
   "metadata": {},
   "source": [
    "根据训练的数据记录loss值的变化情况，这里记录10000次训练的数据更新情况。可以看出随着学习的进行，损失函数的值在不断减小。这是学习正常进行的信号，表示神经网络的权重参数在逐渐拟合数据。"
   ]
  },
  {
   "cell_type": "code",
   "execution_count": 6,
   "metadata": {},
   "outputs": [
    {
     "data": {
      "text/plain": [
       "[<matplotlib.lines.Line2D at 0x2aa6a2477b8>]"
      ]
     },
     "execution_count": 6,
     "metadata": {},
     "output_type": "execute_result"
    },
    {
     "data": {
      "image/png": "[encoded data removed]",
      "text/plain": [
       "<Figure size 432x288 with 1 Axes>"
      ]
     },
     "metadata": {
      "needs_background": "light"
     },
     "output_type": "display_data"
    }
   ],
   "source": [
    "import  matplotlib.pyplot  as plt\n",
    "%matplotlib inline\n",
    "\n",
    "plt.plot(train_lost_list)\n",
    "\n",
    "# plt.show()"
   ]
  },
  {
   "cell_type": "markdown",
   "metadata": {},
   "source": [
    "### 利用测试数据评价模型\n",
    "\n",
    "上面小节中我们利用了损失值来评价模型，可以看到模型的loss值是不断在减少，我得出结论是模型参数渐渐在符合我们预期的方向拟合。但是这里的loss值是针对训练数据来说的。\n",
    "\n",
    "为了检测我们更新的参数是否具有泛化能力，这里泛化就是指能够利用我训练更新的参数用来检测不在训练集中的数据。说的简单点就是能用该模型来识别其他的数据集，也就我们这里说的测试集。\n",
    "\n",
    "为了检测测试集的数据，我们这里需要记录测试的精度，在什么时候记录呢？这里我们需要引入epoch的概念。\n",
    "\n",
    "#### epoch\n",
    "\n",
    "这是本节使用的方法：\n",
    "一个 epoch 表示学习中所有训练数据均被使用过一次时的更新次数。比如，对于 10000 笔训练数据，用大小为 100 笔数据的 mini-batch 进行学习时，重复随机梯度下降法 100 次，所有的训练数据就都被“看过”了  。此时，100 次就是一个 epoch。\n",
    "\n",
    "一般的方法：\n",
    "一般做法是事先将所有训练数据随机打乱，然后按指定的批次大小，按序生成 mini-batch。这样每个 mini-batch 均有一个索引号，比如此例可以是 0, 1, 2, ... , 99，然后用索引号可以遍历所有的 mini-batch。遍历一次所有数据，就称为一个epoch。请注意，本节中的mini-batch 每次都是随机选择的，所以不一定每个数据都会被看到\n",
    "\n",
    "\n",
    "下面我只需要简单的修改上面的code,就可以实现如下："
   ]
  },
  {
   "cell_type": "code",
   "execution_count": 7,
   "metadata": {},
   "outputs": [
    {
     "name": "stdout",
     "output_type": "stream",
     "text": [
      "train acc, test acc | 0.10218333333333333, 0.101\n",
      "train acc, test acc | 0.7896333333333333, 0.7909\n",
      "train acc, test acc | 0.8733166666666666, 0.8755\n",
      "train acc, test acc | 0.8964, 0.8978\n",
      "train acc, test acc | 0.9063166666666667, 0.9093\n",
      "train acc, test acc | 0.9136, 0.9147\n",
      "train acc, test acc | 0.9194, 0.9193\n",
      "train acc, test acc | 0.9224333333333333, 0.9224\n",
      "train acc, test acc | 0.9270666666666667, 0.9275\n",
      "train acc, test acc | 0.9288166666666666, 0.9299\n",
      "train acc, test acc | 0.9326666666666666, 0.9327\n",
      "train acc, test acc | 0.9356333333333333, 0.9343\n",
      "train acc, test acc | 0.9372833333333334, 0.9344\n",
      "train acc, test acc | 0.94065, 0.9385\n",
      "train acc, test acc | 0.9423, 0.9393\n",
      "train acc, test acc | 0.9447333333333333, 0.9418\n",
      "train acc, test acc | 0.9464166666666667, 0.9427\n"
     ]
    }
   ],
   "source": [
    "import sys,os\n",
    "sys.path.append(os.pardir)\n",
    "import numpy as np\n",
    "from dataset.mnist import load_mnist\n",
    "\n",
    "# 加载数据\n",
    "(x_train,y_train),(x_test,y_test) = load_mnist(\n",
    "                normalize=True,\n",
    "                one_hot_label=True)\n",
    "\n",
    "# 记录每次迭代的loss值\n",
    "train_lost_list = []\n",
    "train_acc_list = [] #记录训练精度\n",
    "test_acc_list = [] #记录测试精度\n",
    "# 需要训练多次达到一个epoch\n",
    "iter_per_epoch = max(train_size/batch_size,1)\n",
    "\n",
    "#设置训练中参数\n",
    "iters_num = 10000 # 训练次数\n",
    "train_size = x_train.shape[0] #样本数量\n",
    "batch_size = 100 #mini-batch的数量\n",
    "learning_rate = 0.1 # 学习率\n",
    "\n",
    "#定义一个两层的网络\n",
    "# 隐藏层为50\n",
    "network = TowLayerNet(input_size=784,\n",
    "                     hidden_size=50,\n",
    "                     output_size=10)\n",
    "\n",
    "# 开始训练\n",
    "for i in range(iters_num):\n",
    "    # 随机选取输入的数据，选取的量为100个\n",
    "    batch_mask = np.random.choice(train_size,batch_size)\n",
    "    x_batch = x_train[batch_mask]\n",
    "    y_batch = y_train[batch_mask]\n",
    "    \n",
    "    # 计算梯度\n",
    "    grad = network.gradient(x_batch,y_batch)\n",
    "    \n",
    "    # 更新参数\n",
    "    for key in ('W1','b1','W2','b2'):\n",
    "        network.params[key] -= learning_rate * grad[key]\n",
    "    \n",
    "    #记录loss值\n",
    "    loss = network.loss(x_batch,y_batch)\n",
    "    train_lost_list.append(loss)\n",
    "    \n",
    "    if i%iter_per_epoch == 0:\n",
    "        train_acc = network.accuracy(x_train,y_train)\n",
    "        test_acc = network.accuracy(x_test,y_test)\n",
    "        train_acc_list.append(train_acc)\n",
    "        test_acc_list.append(test_acc)\n",
    "        print(\"train acc, test acc | \" + str(train_acc) + \", \" + str(test_acc))"
   ]
  },
  {
   "cell_type": "code",
   "execution_count": 8,
   "metadata": {},
   "outputs": [
    {
     "name": "stderr",
     "output_type": "stream",
     "text": [
      "No handles with labels found to put in legend.\n"
     ]
    },
    {
     "data": {
      "text/plain": [
       "<matplotlib.legend.Legend at 0x2aa69318da0>"
      ]
     },
     "execution_count": 8,
     "metadata": {},
     "output_type": "execute_result"
    },
    {
     "data": {
      "image/png": "[encoded data removed]",
      "text/plain": [
       "<Figure size 432x288 with 1 Axes>"
      ]
     },
     "metadata": {
      "needs_background": "light"
     },
     "output_type": "display_data"
    }
   ],
   "source": [
    "import  matplotlib.pyplot  as plt\n",
    "%matplotlib inline\n",
    "\n",
    "plt.plot(test_acc_list)\n",
    "plt.plot(train_acc_list,linestyle=\"--\")\n",
    "\n",
    "plt.legend()\n"
   ]
  },
  {
   "cell_type": "markdown",
   "metadata": {},
   "source": [
    "实线表示训练数据的识别精度，虚线表示测试数据的识别精度。\n",
    "如图所示，随着 epoch 的前进（学习的进行），我们发现使用训练数据和测试数据评价的识别精度都提高了，并且，这两个识别精度基本上没有差异（两条线基本重叠在一起）。因此，可以说这次的学习中没有发生过拟合的现象。"
   ]
  }
 ],
 "metadata": {
  "kernelspec": {
   "display_name": "Python 3",
   "language": "python",
   "name": "python3"
  },
  "language_info": {
   "codemirror_mode": {
    "name": "ipython",
    "version": 3
   },
   "file_extension": ".py",
   "mimetype": "text/x-python",
   "name": "python",
   "nbconvert_exporter": "python",
   "pygments_lexer": "ipython3",
   "version": "3.5.3"
  },
  "toc": {
   "base_numbering": 1,
   "nav_menu": {},
   "number_sections": true,
   "sideBar": true,
   "skip_h1_title": false,
   "title_cell": "Table of Contents",
   "title_sidebar": "Contents",
   "toc_cell": false,
   "toc_position": {},
   "toc_section_display": true,
   "toc_window_display": false
  }
 },
 "nbformat": 4,
 "nbformat_minor": 2
}
