{
 "cells": [
  {
   "cell_type": "markdown",
   "metadata": {},
   "source": [
    "## 梯度\n",
    "\n",
    "### 梯度的概念\n",
    "\n",
    "对于函数$f(x_0,x_1)=x_0^2+x_1^2$可以分别计算$(x_0,x_1)$的偏导数$(\\frac{df}{dx_0},\\frac{df}{dx_1})$.\n",
    "梯度就是有全部变量的偏导数汇总在一起的向量.\n",
    "其代码如下:"
   ]
  },
  {
   "cell_type": "code",
   "execution_count": 1,
   "metadata": {},
   "outputs": [],
   "source": [
    "# 计算函数的梯度\n",
    "import numpy as np\n",
    "\n",
    "def numerical_gradient(f,x):\n",
    "    \"\"\"\n",
    "    f:表示为函数\n",
    "    x:表示函数的变量,numpy数组\n",
    "    \"\"\"\n",
    "    h = 1e-4 #0.0001\n",
    "    grad = np.zeros_like(x) # 生成于x size一样的数组\n",
    "    \n",
    "    for idx in range(x.size):\n",
    "        tmp_val = x[idx]\n",
    "        # 计算f(x+h)\n",
    "        x[idx] = tmp_val + h\n",
    "        fxh1 = f(x)\n",
    "        # 计算f(x-h)\n",
    "        x[idx] = tmp_val - h\n",
    "        fxh2 = f(x)\n",
    "        \n",
    "        # 利用导数的公式计算\n",
    "        grad[idx] = (fxh1 - fxh2) /(2*h)\n",
    "        x[idx] = tmp_val\n",
    "    \n",
    "    return grad\n",
    "        "
   ]
  },
  {
   "cell_type": "code",
   "execution_count": 2,
   "metadata": {},
   "outputs": [],
   "source": [
    "# 定义函数f(x)=x0^2+x1^2\n",
    "def function_2(x):\n",
    "    return np.sum(x**2)\n"
   ]
  },
  {
   "cell_type": "code",
   "execution_count": 13,
   "metadata": {},
   "outputs": [
    {
     "name": "stdout",
     "output_type": "stream",
     "text": [
      "[4. 2.]\n",
      "[6. 8.]\n",
      "[ 8. 10.]\n"
     ]
    }
   ],
   "source": [
    "#计算梯度\n",
    "print(numerical_gradient(function_2,np.array([2.0,1.0])))\n",
    "\n",
    "print(numerical_gradient(function_2,np.array([3.0,4.0])))\n",
    "\n",
    "print(numerical_gradient(function_2,np.array([4.0,5.0])))"
   ]
  },
  {
   "cell_type": "markdown",
   "metadata": {},
   "source": [
    "上面我们计算不同点的梯度,其实梯度的向量就是指向函数最小值的方向.为了更好的理解梯度的意义,看看下图的表示:\n",
    "![](imgs/3.jpg)\n",
    "\n",
    "**梯度指示的方向是各点处的函数值减少最多的方向**\n",
    "\n",
    "### 梯度法\n",
    "\n",
    "我们在上一小节说到可以通过损失函数来优化参数,至于怎么来优化并没有给出具体的方法.这一小节我们就来说说利用梯度法来优化参数.\n",
    "\n",
    "损失函数就是我们这里需要求解的梯度函数.利用梯度来找到损失函数最小的值.这就是我们所说的梯度法.\n",
    "\n",
    "#### 梯度法的由来\n",
    "梯度表示的是各点处的函数值减小最多的方向。因此，无\n",
    "法保证梯度所指的方向就是函数的最小值或者真正应该前进的方向。实际上，在复杂的函数中，梯度指示的方向基本上都不是函数值最小处。  \n",
    "虽然梯度的方向并不一定指向最小值，但沿着它的方向能够最大限度地减小函数的值。  \n",
    "通过不断地沿梯度方向前进，逐渐减小函数值的过程就是**梯度法（gradient method）**。梯度法是解决机器学习中最优化问题的常用方法，特别是在神经网络的学习中经常被使用。\n",
    "\n",
    "#### 两种梯度法\n",
    "\n",
    "**梯度下降法（gradient descent method）**  \n",
    "就是寻找最小值的梯度法  \n",
    "\n",
    "**梯度上升法（gradient ascent method）**  \n",
    "找最大值的梯度法  \n",
    "\n",
    "神经网络（深度学习）中，梯度法主要是指梯度下降法。\n",
    "\n",
    "这里我们是需要根据计算的梯度的值来更新参数，根据上面的我们定义的函数：$f(x_0,x_1)=x_0^2+x_1^2$\n",
    "\n",
    "其梯度法的表示如下：\n",
    "\n",
    "$\n",
    "x_0=x_0-\\alpha \\frac{df}{dx_0}\n",
    "$\n",
    "\n",
    "$\n",
    "x_1=x_1-\\alpha \\frac{df}{dx_1}\n",
    "$\n",
    "\n",
    "其中公式中：\n",
    "$\\alpha$称作网络的学习率，它决定了网络每次更新的多少。说的简单点每一步的步长的大小。一般设定为0.01,0.001等值.\n",
    "上面的公式就可以看出数据的不断的变化,直到函数获得一个较少的值.\n",
    "我们利用公式实现如下\n",
    "\n",
    "\n"
   ]
  },
  {
   "cell_type": "code",
   "execution_count": 3,
   "metadata": {},
   "outputs": [],
   "source": [
    "def gradient_descent(f,init_x,lr=0.01,step_num=100):\n",
    "    \"\"\"\n",
    "    f:需要优化的函数\n",
    "    init_x: 参数的初始化\n",
    "    lr:学习率\n",
    "    step_num: 更新的次数\n",
    "    \"\"\"\n",
    "    # 初始化参数\n",
    "    x = init_x\n",
    "    \n",
    "    # 循环执行参数的优化\n",
    "    for i in range(step_num):\n",
    "        # 计算当前的梯度值\n",
    "        grad = numerical_gradient(f,x)\n",
    "        # 利用梯度下降法更新参数\n",
    "        x -= lr*grad\n",
    "        \n",
    "    return x"
   ]
  },
  {
   "cell_type": "markdown",
   "metadata": {},
   "source": [
    "这里我们利用上面梯度的函数寻找该函数的最小值,我们更新100次发现其效果如下,(2.03703598e-10 4.07407195e-10),该值已经非常接近最小值(0,0).更新的过程如下:\n",
    "![](imgs/4.jpg)\n",
    "\n",
    "这里我们再做一个试验,看看不同的学习率,带来不同的效果如下:\n",
    "- 学习率过小,收敛的速度较慢\n",
    "- 学习率过大,数据发散了\n",
    "\n",
    "这里可以看出学习率是一个非常重要的参数,它就是我们这里常说的超参数."
   ]
  },
  {
   "cell_type": "code",
   "execution_count": 5,
   "metadata": {},
   "outputs": [
    {
     "name": "stdout",
     "output_type": "stream",
     "text": [
      "[2.03703598e-10 4.07407195e-10]\n",
      "[0.99800198 1.99600396]\n",
      "[6.38707405e+12 1.61426731e+13]\n"
     ]
    }
   ],
   "source": [
    "# 测试梯度法的优化效果\n",
    "init_x = np.array([1.0,2.0])\n",
    "print(gradient_descent(function_2,init_x,lr=0.1,step_num=100))\n",
    "\n",
    "# 学习率过小\n",
    "init_x = np.array([1.0,2.0])\n",
    "print(gradient_descent(function_2,init_x,lr=0.00001,step_num=100))\n",
    "\n",
    "# 学习率过大\n",
    "init_x = np.array([1.0,2.0])\n",
    "print(gradient_descent(function_2,init_x,lr=10,step_num=100))"
   ]
  },
  {
   "cell_type": "markdown",
   "metadata": {},
   "source": [
    "### 神经网络的梯度\n",
    "\n",
    "上面小节我们介绍关于梯度法来更新参数的过程,以上的函数是我们自己设置的函数.接下来我们看看具体到神经网络中,我们怎么利用梯度法来更新参数.\n",
    "按照梯度的概念,假设我们这这里的权重参数W(2x3),损失函数为L,对于W的梯度我们可以写成如下:\n",
    "![](imgs/5.jpg)\n",
    "\n",
    "上面的公式:\n",
    "- $\\frac{dL}{dW}$ 表示函数L对W的偏导\n",
    "- $\\frac{dL}{dW_11}$ 表示函数L对W11的偏导\n",
    "\n",
    "下面来实现一个简单的神经网络，定一个simpleNet类"
   ]
  },
  {
   "cell_type": "code",
   "execution_count": 4,
   "metadata": {},
   "outputs": [],
   "source": [
    "import sys,os\n",
    "sys.path.append(os.pardir)\n",
    "import numpy as np\n",
    "from common.functions import softmax,cross_entropy_error\n",
    "from common.gradient import numerical_gradient\n",
    "\n",
    "class simpleNet:\n",
    "    #定义的输入为2，隐藏层为3的网络\n",
    "    def __init__(self):\n",
    "        self.W = np.random.randn(2,3)\n",
    "        \n",
    "    # 仅仅计算权重的结果    \n",
    "    def predict(self,x):\n",
    "        return np.dot(x,self.W)\n",
    "    \n",
    "    def loss(self,x,t):\n",
    "        # 计算z\n",
    "        z = self.predict(x)\n",
    "        # 计算a\n",
    "        y = softmax(z)\n",
    "        # 计算cross_entropy的损失值\n",
    "        loss = cross_entropy_error(y,t)\n",
    "        \n",
    "        return loss"
   ]
  },
  {
   "cell_type": "code",
   "execution_count": 10,
   "metadata": {},
   "outputs": [
    {
     "name": "stdout",
     "output_type": "stream",
     "text": [
      "[[-0.90312864  0.73281655 -0.04845894]\n",
      " [-0.41849842  0.51630247  0.42324743]]\n",
      "[-0.91852576  0.90436215  0.35184732]\n",
      "1\n",
      "1.1047081044971634\n",
      "[[ 0.05580413  0.34541126 -0.40121539]\n",
      " [ 0.08370619  0.5181169  -0.60182309]]\n"
     ]
    }
   ],
   "source": [
    "# 定义一个只有一个隐含的神经网络\n",
    "net = simpleNet()\n",
    "print(net.W)\n",
    "# 定义输入为2\n",
    "x = np.array([0.5,0.6])\n",
    "# 计算权重的值\n",
    "p = net.predict(x)\n",
    "print(p)\n",
    "# 计算最大的值的index\n",
    "print(np.argmax(p))\n",
    "# 标签的定义\n",
    "t = np.array([0,0,1])\n",
    "print(net.loss(x,t))\n",
    "\n",
    "# 定义损失函数\n",
    "def f(W):\n",
    "    return net.loss(x,t)\n",
    "# 梯度下降计算dw的值\n",
    "dW = numerical_gradient(f,net.W)\n",
    "print(dW)"
   ]
  },
  {
   "cell_type": "code",
   "execution_count": null,
   "metadata": {},
   "outputs": [],
   "source": []
  }
 ],
 "metadata": {
  "kernelspec": {
   "display_name": "Python 3",
   "language": "python",
   "name": "python3"
  },
  "language_info": {
   "codemirror_mode": {
    "name": "ipython",
    "version": 3
   },
   "file_extension": ".py",
   "mimetype": "text/x-python",
   "name": "python",
   "nbconvert_exporter": "python",
   "pygments_lexer": "ipython3",
   "version": "3.6.8"
  },
  "toc": {
   "base_numbering": 1,
   "nav_menu": {},
   "number_sections": true,
   "sideBar": true,
   "skip_h1_title": false,
   "title_cell": "Table of Contents",
   "title_sidebar": "Contents",
   "toc_cell": false,
   "toc_position": {},
   "toc_section_display": true,
   "toc_window_display": false
  }
 },
 "nbformat": 4,
 "nbformat_minor": 2
}
