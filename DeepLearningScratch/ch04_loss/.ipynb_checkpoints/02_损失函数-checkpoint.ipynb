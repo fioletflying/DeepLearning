{
 "cells": [
  {
   "cell_type": "markdown",
   "metadata": {},
   "source": [
    "## 损失函数\n",
    "\n",
    "在我们利用数据来寻找最优参数的过程中,我们这里就需要思考,什么才叫最优参数呢? 如何来评价我们寻找到个参数是最优参数呢?\n",
    "\n",
    "这个时候我们的损失函数就出现了,通过损失函数计算的这个指标就可以对我们的模型作出一个合理判断,判断目前模型\"性能有多好\",\"误差有多大\". 通过这个指标再反向给该模型的参数调整提供一个方向.\n",
    "\n",
    "目前较为常见的两个损失函数:\n",
    "- 均方误差(mean squared error)\n",
    "- 交叉熵误差(cross entropy error)\n",
    "\n",
    "### 均方误差(mean squared error)\n",
    "\n",
    "均方误差(mean squared error)是我们最为常见的一种方法,具体函数如下:  \n",
    "\n",
    "$E = \\frac12 \\sum_k(y_k - t_k)^2$\n",
    "\n",
    "公式符号表示:\n",
    "- $y_k$ 表示模型的输出\n",
    "- $t_k$ 表示实际数据的值\n",
    "- $k$表示数据的维度,比如手写字符:10个元素,$k=10$\n",
    "\n",
    "所以这里的均方误差计算的是:神经网络的输出和正确解监督数据的各个元素之差的平方，再求总和\n",
    "\n",
    "例如:"
   ]
  },
  {
   "cell_type": "code",
   "execution_count": 1,
   "metadata": {},
   "outputs": [],
   "source": [
    "# 神经网络的输出 y 是 softmax 函数的输出。由于 softmax 函数的输出可以理解为概率\n",
    "y = [0.1, 0.05, 0.6, 0.0, 0.05, 0.1, 0.0, 0.1, 0.0, 0.0]\n",
    "# 将正确解标签设为 1，其他均设为 0\n",
    "# 。将正确解标签表示为 1，其他标签表示为 0 的表示方法称为 one-hot 表示\n",
    "t = [0, 0, 1, 0, 0, 0, 0, 0, 0, 0]"
   ]
  },
  {
   "cell_type": "code",
   "execution_count": null,
   "metadata": {},
   "outputs": [],
   "source": [
    "# 均方误差\n",
    "def mean_squared_error(y,t):\n",
    "    return 0.5 * np.sum((y-t)**2)"
   ]
  }
 ],
 "metadata": {
  "kernelspec": {
   "display_name": "Python 3",
   "language": "python",
   "name": "python3"
  },
  "language_info": {
   "codemirror_mode": {
    "name": "ipython",
    "version": 3
   },
   "file_extension": ".py",
   "mimetype": "text/x-python",
   "name": "python",
   "nbconvert_exporter": "python",
   "pygments_lexer": "ipython3",
   "version": "3.5.3"
  },
  "toc": {
   "base_numbering": 1,
   "nav_menu": {},
   "number_sections": true,
   "sideBar": true,
   "skip_h1_title": false,
   "title_cell": "Table of Contents",
   "title_sidebar": "Contents",
   "toc_cell": false,
   "toc_position": {},
   "toc_section_display": true,
   "toc_window_display": false
  }
 },
 "nbformat": 4,
 "nbformat_minor": 2
}
