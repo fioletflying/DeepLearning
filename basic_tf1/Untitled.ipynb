{
 "cells": [
  {
   "cell_type": "code",
   "execution_count": 4,
   "metadata": {},
   "outputs": [
    {
     "name": "stdout",
     "output_type": "stream",
     "text": [
      "1.12.0\n",
      "b'Hello,TensorFlow1.x'\n"
     ]
    }
   ],
   "source": [
    "import tensorflow as tf\n",
    "\n",
    "print(tf.__version__)\n",
    "\n",
    "hello = tf.constant('Hello,TensorFlow1.x')\n",
    "\n",
    "\n",
    "#启动一个session\n",
    "sess = tf.Session()\n",
    "\n",
    "# 运行一个session\n",
    "#print(sess.run(hello))\n",
    "result = sess.run(hello)\n",
    "print(result)\n",
    "\n",
    "#关闭一个session\n",
    "sess.close()"
   ]
  },
  {
   "cell_type": "markdown",
   "metadata": {},
   "source": [
    "### 关于python中的with语法\n",
    "\n",
    "#### 上下文管理器\n",
    "\n",
    "- 上下文管理协议（Context Management Protocol）：包含方法 __enter__() 和 __exit__()，支持该协议的对象要实现这两个方法。\n",
    "\n",
    "- 运行时上下文（runtime context）：由上下文管理器创建，通过上下文管理器的 __enter__() 和__exit__() 方法实现，__enter__() 方法在语句体执行之前进入运行时上下文，__exit__() 在语句体执行完后从运行时上下文退出\n",
    "\n",
    "- 上下文表达式（Context Expression）：with 语句中跟在关键字 with 之后的表达式，该表达式要返回一个上下文管理器对象。\n",
    "\n",
    "基础语法\n",
    "```python\n",
    "with context_expression [as target(s)]:\n",
    "        with-body\n",
    "```\n",
    "\n",
    "基本案例\n",
    "\n",
    "```python\n",
    "class Sample:\n",
    "    def __enter__(self):\n",
    "        print \"in __enter__\"\n",
    "        return \"Foo\"\n",
    "    def __exit__(self, exc_type, exc_val, exc_tb):\n",
    "        print \"in __exit__\"\n",
    "def get_sample():\n",
    "    return Sample()\n",
    "with get_sample() as sample:\n",
    "    print \"Sample: \", sample\n",
    "\n",
    "```"
   ]
  },
  {
   "cell_type": "code",
   "execution_count": 5,
   "metadata": {},
   "outputs": [
    {
     "name": "stdout",
     "output_type": "stream",
     "text": [
      "b'Hello,TensorFlow1.x'\n"
     ]
    }
   ],
   "source": [
    "# sess 运行的第二种方式\n",
    "# 不需要 close，有点像是c#语言种打开文件夹的语法\n",
    "with tf.Session() as sess:\n",
    "    print(sess.run(hello))"
   ]
  },
  {
   "cell_type": "code",
   "execution_count": 13,
   "metadata": {},
   "outputs": [
    {
     "name": "stdout",
     "output_type": "stream",
     "text": [
      "add: 32\n",
      "multiply:: 60\n"
     ]
    }
   ],
   "source": [
    "import tensorflow as tf\n",
    "\n",
    "a = tf.constant(2)\n",
    "b = tf.constant(30)\n",
    "\n",
    "with tf.Session() as sess:\n",
    "    print(\"add: %i\" % sess.run(a+b))\n",
    "    print(\"multiply:: %i\" % sess.run(a*b))\n",
    "    \n",
    "    \n",
    "\n"
   ]
  },
  {
   "cell_type": "code",
   "execution_count": 12,
   "metadata": {},
   "outputs": [
    {
     "name": "stdout",
     "output_type": "stream",
     "text": [
      "add: %i 5\n",
      "mul: %i 6\n"
     ]
    }
   ],
   "source": [
    "a = tf.placeholder(tf.int16)\n",
    "b = tf.placeholder(tf.int16)\n",
    "\n",
    "add = tf.add(a,b)\n",
    "mul = tf.multiply(a,b)\n",
    "\n",
    "# tf.reset_default_graph() \n",
    "\n",
    "with tf.Session() as sess:\n",
    "    print(\"add: %i\",sess.run(add,feed_dict={a:2,b:3}))\n",
    "    print(\"mul: %i\",sess.run(mul,feed_dict={a:2,b:3}))"
   ]
  }
 ],
 "metadata": {
  "kernelspec": {
   "display_name": "Python 3",
   "language": "python",
   "name": "python3"
  },
  "language_info": {
   "codemirror_mode": {
    "name": "ipython",
    "version": 3
   },
   "file_extension": ".py",
   "mimetype": "text/x-python",
   "name": "python",
   "nbconvert_exporter": "python",
   "pygments_lexer": "ipython3",
   "version": "3.5.3"
  },
  "toc": {
   "base_numbering": 1,
   "nav_menu": {},
   "number_sections": true,
   "sideBar": true,
   "skip_h1_title": false,
   "title_cell": "Table of Contents",
   "title_sidebar": "Contents",
   "toc_cell": false,
   "toc_position": {},
   "toc_section_display": true,
   "toc_window_display": false
  }
 },
 "nbformat": 4,
 "nbformat_minor": 2
}
